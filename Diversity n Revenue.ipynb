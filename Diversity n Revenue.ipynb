{
 "cells": [
  {
   "cell_type": "markdown",
   "metadata": {},
   "source": [
    "# Diversity and Inclusion effect on Revenue"
   ]
  },
  {
   "cell_type": "code",
   "execution_count": 1,
   "metadata": {},
   "outputs": [
    {
     "data": {
      "text/html": [
       "        <script type=\"text/javascript\">\n",
       "        window.PlotlyConfig = {MathJaxConfig: 'local'};\n",
       "        if (window.MathJax) {MathJax.Hub.Config({SVG: {font: \"STIX-Web\"}});}\n",
       "        if (typeof require !== 'undefined') {\n",
       "        require.undef(\"plotly\");\n",
       "        requirejs.config({\n",
       "            paths: {\n",
       "                'plotly': ['https://cdn.plot.ly/plotly-latest.min']\n",
       "            }\n",
       "        });\n",
       "        require(['plotly'], function(Plotly) {\n",
       "            window._Plotly = Plotly;\n",
       "        });\n",
       "        }\n",
       "        </script>\n",
       "        "
      ]
     },
     "metadata": {},
     "output_type": "display_data"
    }
   ],
   "source": [
    "import eikon as ek\n",
    "import plotly.offline as offline\n",
    "from plotly import graph_objs as go\n",
    "from IPython.display import display, Markdown\n",
    "offline.offline.init_notebook_mode(connected=True)"
   ]
  },
  {
   "cell_type": "code",
   "execution_count": 2,
   "metadata": {
    "collapsed": true
   },
   "outputs": [],
   "source": [
    "ek.set_app_key('-- YOUR EIKON KEY HERE --')\n",
    "symbol = '0#.MIWO00000PUS'"
   ]
  },
  {
   "cell_type": "markdown",
   "metadata": {},
   "source": [
    "### Get revenue and ESG measures for all the companies in the MSCI World Index"
   ]
  },
  {
   "cell_type": "code",
   "execution_count": 3,
   "metadata": {
    "scrolled": false
   },
   "outputs": [],
   "source": [
    "df,err = ek.get_data(symbol, fields=['TR.CompanyName', 'TR.RIC', 'TR.RevenueActValue', 'TR.TRESGScore', 'TR.TRDIRScore', 'TR.TRDIRDiversityScore', 'TR.TRDIRPeopleDevelopmentScore', 'TR.TRDIRInclusionScore'])\n",
    "# sort the list by revenue and drop the ones which do not have revenue information\n",
    "df = df.dropna(subset=['Revenue - Actual'])\n",
    "df = df.sort_values(by=['Revenue - Actual'], ascending=False)\n",
    "df = df.reset_index(drop=True)\n",
    "# Insert 0 for those not having propert ESG measure\n",
    "df = df.fillna(0)"
   ]
  },
  {
   "cell_type": "code",
   "execution_count": 4,
   "metadata": {
    "scrolled": false
   },
   "outputs": [
    {
     "data": {
      "text/markdown": [
       "**Top 50 companies in the world index**"
      ],
      "text/plain": [
       "<IPython.core.display.Markdown object>"
      ]
     },
     "metadata": {},
     "output_type": "display_data"
    },
    {
     "data": {
      "text/html": [
       "<div>\n",
       "<style scoped>\n",
       "    .dataframe tbody tr th:only-of-type {\n",
       "        vertical-align: middle;\n",
       "    }\n",
       "\n",
       "    .dataframe tbody tr th {\n",
       "        vertical-align: top;\n",
       "    }\n",
       "\n",
       "    .dataframe thead th {\n",
       "        text-align: right;\n",
       "    }\n",
       "</style>\n",
       "<table border=\"1\" class=\"dataframe\">\n",
       "  <thead>\n",
       "    <tr style=\"text-align: right;\">\n",
       "      <th></th>\n",
       "      <th>Instrument</th>\n",
       "      <th>Company Name</th>\n",
       "      <th>RIC</th>\n",
       "      <th>Revenue - Actual</th>\n",
       "      <th>ESG Score</th>\n",
       "      <th>TRDIR Score</th>\n",
       "      <th>TRDIR Diversity Score</th>\n",
       "      <th>TRDIR People Development Score</th>\n",
       "      <th>TRDIR Inclusion Score</th>\n",
       "    </tr>\n",
       "  </thead>\n",
       "  <tbody>\n",
       "    <tr>\n",
       "      <th>0</th>\n",
       "      <td>7203.T</td>\n",
       "      <td>Toyota Motor Corp</td>\n",
       "      <td>7203.T</td>\n",
       "      <td>3.022568e+13</td>\n",
       "      <td>87.044729</td>\n",
       "      <td>63.75</td>\n",
       "      <td>37.0</td>\n",
       "      <td>48.0</td>\n",
       "      <td>70.0</td>\n",
       "    </tr>\n",
       "    <tr>\n",
       "      <th>1</th>\n",
       "      <td>8058.T</td>\n",
       "      <td>Mitsubishi Corp</td>\n",
       "      <td>8058.T</td>\n",
       "      <td>1.610376e+13</td>\n",
       "      <td>70.527021</td>\n",
       "      <td>63.25</td>\n",
       "      <td>38.0</td>\n",
       "      <td>50.0</td>\n",
       "      <td>65.0</td>\n",
       "    </tr>\n",
       "    <tr>\n",
       "      <th>2</th>\n",
       "      <td>7267.T</td>\n",
       "      <td>Honda Motor Co Ltd</td>\n",
       "      <td>7267.T</td>\n",
       "      <td>1.588862e+13</td>\n",
       "      <td>86.050895</td>\n",
       "      <td>65.75</td>\n",
       "      <td>43.0</td>\n",
       "      <td>63.0</td>\n",
       "      <td>57.0</td>\n",
       "    </tr>\n",
       "    <tr>\n",
       "      <th>3</th>\n",
       "      <td>6178.T</td>\n",
       "      <td>Japan Post Holdings Co Ltd</td>\n",
       "      <td>6178.T</td>\n",
       "      <td>1.277500e+13</td>\n",
       "      <td>51.697995</td>\n",
       "      <td>50.75</td>\n",
       "      <td>39.0</td>\n",
       "      <td>40.0</td>\n",
       "      <td>24.0</td>\n",
       "    </tr>\n",
       "    <tr>\n",
       "      <th>4</th>\n",
       "      <td>9432.T</td>\n",
       "      <td>Nippon Telegraph and Telephone Corp</td>\n",
       "      <td>9432.T</td>\n",
       "      <td>1.187984e+13</td>\n",
       "      <td>65.508726</td>\n",
       "      <td>60.00</td>\n",
       "      <td>30.0</td>\n",
       "      <td>52.0</td>\n",
       "      <td>58.0</td>\n",
       "    </tr>\n",
       "    <tr>\n",
       "      <th>5</th>\n",
       "      <td>8001.T</td>\n",
       "      <td>Itochu Corp</td>\n",
       "      <td>8001.T</td>\n",
       "      <td>1.160048e+13</td>\n",
       "      <td>72.388083</td>\n",
       "      <td>62.00</td>\n",
       "      <td>41.0</td>\n",
       "      <td>50.0</td>\n",
       "      <td>57.0</td>\n",
       "    </tr>\n",
       "    <tr>\n",
       "      <th>6</th>\n",
       "      <td>7201.T</td>\n",
       "      <td>Nissan Motor Co Ltd</td>\n",
       "      <td>7201.T</td>\n",
       "      <td>1.157425e+13</td>\n",
       "      <td>78.822626</td>\n",
       "      <td>64.25</td>\n",
       "      <td>37.0</td>\n",
       "      <td>61.0</td>\n",
       "      <td>59.0</td>\n",
       "    </tr>\n",
       "    <tr>\n",
       "      <th>7</th>\n",
       "      <td>5020.T</td>\n",
       "      <td>JXTG Holdings Inc</td>\n",
       "      <td>5020.T</td>\n",
       "      <td>1.112963e+13</td>\n",
       "      <td>63.740497</td>\n",
       "      <td>49.50</td>\n",
       "      <td>17.0</td>\n",
       "      <td>41.0</td>\n",
       "      <td>40.0</td>\n",
       "    </tr>\n",
       "    <tr>\n",
       "      <th>8</th>\n",
       "      <td>9984.T</td>\n",
       "      <td>SoftBank Group Corp</td>\n",
       "      <td>9984.T</td>\n",
       "      <td>9.602236e+12</td>\n",
       "      <td>60.409230</td>\n",
       "      <td>49.25</td>\n",
       "      <td>20.0</td>\n",
       "      <td>30.0</td>\n",
       "      <td>47.0</td>\n",
       "    </tr>\n",
       "    <tr>\n",
       "      <th>9</th>\n",
       "      <td>6501.T</td>\n",
       "      <td>Hitachi Ltd</td>\n",
       "      <td>6501.T</td>\n",
       "      <td>9.480619e+12</td>\n",
       "      <td>84.951025</td>\n",
       "      <td>59.75</td>\n",
       "      <td>40.0</td>\n",
       "      <td>52.0</td>\n",
       "      <td>47.0</td>\n",
       "    </tr>\n",
       "    <tr>\n",
       "      <th>10</th>\n",
       "      <td>6758.T</td>\n",
       "      <td>Sony Corp</td>\n",
       "      <td>6758.T</td>\n",
       "      <td>8.665687e+12</td>\n",
       "      <td>87.711772</td>\n",
       "      <td>71.75</td>\n",
       "      <td>55.0</td>\n",
       "      <td>63.0</td>\n",
       "      <td>69.0</td>\n",
       "    </tr>\n",
       "    <tr>\n",
       "      <th>11</th>\n",
       "      <td>8267.T</td>\n",
       "      <td>Aeon Co Ltd</td>\n",
       "      <td>8267.T</td>\n",
       "      <td>8.518215e+12</td>\n",
       "      <td>79.047001</td>\n",
       "      <td>65.75</td>\n",
       "      <td>43.0</td>\n",
       "      <td>61.0</td>\n",
       "      <td>59.0</td>\n",
       "    </tr>\n",
       "    <tr>\n",
       "      <th>12</th>\n",
       "      <td>6752.T</td>\n",
       "      <td>Panasonic Corp</td>\n",
       "      <td>6752.T</td>\n",
       "      <td>8.002733e+12</td>\n",
       "      <td>72.322749</td>\n",
       "      <td>63.50</td>\n",
       "      <td>19.0</td>\n",
       "      <td>63.0</td>\n",
       "      <td>72.0</td>\n",
       "    </tr>\n",
       "    <tr>\n",
       "      <th>13</th>\n",
       "      <td>7181.T</td>\n",
       "      <td>Japan Post Insurance Co Ltd</td>\n",
       "      <td>7181.T</td>\n",
       "      <td>7.916655e+12</td>\n",
       "      <td>0.000000</td>\n",
       "      <td>0.00</td>\n",
       "      <td>0.0</td>\n",
       "      <td>0.0</td>\n",
       "      <td>0.0</td>\n",
       "    </tr>\n",
       "    <tr>\n",
       "      <th>14</th>\n",
       "      <td>8002.T</td>\n",
       "      <td>Marubeni Corp</td>\n",
       "      <td>8002.T</td>\n",
       "      <td>7.401256e+12</td>\n",
       "      <td>52.302666</td>\n",
       "      <td>62.00</td>\n",
       "      <td>39.0</td>\n",
       "      <td>50.0</td>\n",
       "      <td>59.0</td>\n",
       "    </tr>\n",
       "    <tr>\n",
       "      <th>15</th>\n",
       "      <td>8750.T</td>\n",
       "      <td>Dai-ichi Life Holdings Inc</td>\n",
       "      <td>8750.T</td>\n",
       "      <td>7.184093e+12</td>\n",
       "      <td>72.309859</td>\n",
       "      <td>65.25</td>\n",
       "      <td>58.0</td>\n",
       "      <td>45.0</td>\n",
       "      <td>58.0</td>\n",
       "    </tr>\n",
       "    <tr>\n",
       "      <th>16</th>\n",
       "      <td>8031.T</td>\n",
       "      <td>Mitsui &amp; Co Ltd</td>\n",
       "      <td>8031.T</td>\n",
       "      <td>6.957524e+12</td>\n",
       "      <td>70.690050</td>\n",
       "      <td>66.50</td>\n",
       "      <td>22.0</td>\n",
       "      <td>79.0</td>\n",
       "      <td>65.0</td>\n",
       "    </tr>\n",
       "    <tr>\n",
       "      <th>17</th>\n",
       "      <td>3382.T</td>\n",
       "      <td>Seven &amp; i Holdings Co Ltd</td>\n",
       "      <td>3382.T</td>\n",
       "      <td>6.791215e+12</td>\n",
       "      <td>77.584291</td>\n",
       "      <td>58.00</td>\n",
       "      <td>46.0</td>\n",
       "      <td>50.0</td>\n",
       "      <td>36.0</td>\n",
       "    </tr>\n",
       "    <tr>\n",
       "      <th>18</th>\n",
       "      <td>8015.T</td>\n",
       "      <td>Toyota Tsusho Corp</td>\n",
       "      <td>8015.T</td>\n",
       "      <td>6.762702e+12</td>\n",
       "      <td>51.699987</td>\n",
       "      <td>53.00</td>\n",
       "      <td>21.0</td>\n",
       "      <td>67.0</td>\n",
       "      <td>24.0</td>\n",
       "    </tr>\n",
       "    <tr>\n",
       "      <th>19</th>\n",
       "      <td>8306.T</td>\n",
       "      <td>Mitsubishi UFJ Financial Group Inc</td>\n",
       "      <td>8306.T</td>\n",
       "      <td>6.697402e+12</td>\n",
       "      <td>81.098065</td>\n",
       "      <td>42.00</td>\n",
       "      <td>28.0</td>\n",
       "      <td>33.0</td>\n",
       "      <td>19.0</td>\n",
       "    </tr>\n",
       "    <tr>\n",
       "      <th>20</th>\n",
       "      <td>9501.T</td>\n",
       "      <td>Tokyo Electric Power Company Holdings Inc</td>\n",
       "      <td>9501.T</td>\n",
       "      <td>6.338490e+12</td>\n",
       "      <td>53.807241</td>\n",
       "      <td>45.75</td>\n",
       "      <td>29.0</td>\n",
       "      <td>30.0</td>\n",
       "      <td>24.0</td>\n",
       "    </tr>\n",
       "    <tr>\n",
       "      <th>21</th>\n",
       "      <td>5401.T</td>\n",
       "      <td>Nippon Steel Corp</td>\n",
       "      <td>5401.T</td>\n",
       "      <td>6.177947e+12</td>\n",
       "      <td>62.578728</td>\n",
       "      <td>36.25</td>\n",
       "      <td>8.0</td>\n",
       "      <td>20.0</td>\n",
       "      <td>29.0</td>\n",
       "    </tr>\n",
       "    <tr>\n",
       "      <th>22</th>\n",
       "      <td>8316.T</td>\n",
       "      <td>Sumitomo Mitsui Financial Group Inc</td>\n",
       "      <td>8316.T</td>\n",
       "      <td>5.735312e+12</td>\n",
       "      <td>75.841183</td>\n",
       "      <td>54.25</td>\n",
       "      <td>18.0</td>\n",
       "      <td>43.0</td>\n",
       "      <td>56.0</td>\n",
       "    </tr>\n",
       "    <tr>\n",
       "      <th>23</th>\n",
       "      <td>8725.T</td>\n",
       "      <td>MS&amp;AD Insurance Group Holdings Inc</td>\n",
       "      <td>8725.T</td>\n",
       "      <td>5.500438e+12</td>\n",
       "      <td>75.221563</td>\n",
       "      <td>56.25</td>\n",
       "      <td>50.0</td>\n",
       "      <td>40.0</td>\n",
       "      <td>35.0</td>\n",
       "    </tr>\n",
       "    <tr>\n",
       "      <th>24</th>\n",
       "      <td>8766.T</td>\n",
       "      <td>Tokio Marine Holdings Inc</td>\n",
       "      <td>8766.T</td>\n",
       "      <td>5.476720e+12</td>\n",
       "      <td>69.741737</td>\n",
       "      <td>60.50</td>\n",
       "      <td>28.0</td>\n",
       "      <td>56.0</td>\n",
       "      <td>58.0</td>\n",
       "    </tr>\n",
       "    <tr>\n",
       "      <th>25</th>\n",
       "      <td>6902.T</td>\n",
       "      <td>Denso Corp</td>\n",
       "      <td>6902.T</td>\n",
       "      <td>5.362772e+12</td>\n",
       "      <td>73.027850</td>\n",
       "      <td>62.00</td>\n",
       "      <td>31.0</td>\n",
       "      <td>61.0</td>\n",
       "      <td>56.0</td>\n",
       "    </tr>\n",
       "    <tr>\n",
       "      <th>26</th>\n",
       "      <td>8053.T</td>\n",
       "      <td>Sumitomo Corp</td>\n",
       "      <td>8053.T</td>\n",
       "      <td>5.339238e+12</td>\n",
       "      <td>60.988504</td>\n",
       "      <td>51.50</td>\n",
       "      <td>4.0</td>\n",
       "      <td>67.0</td>\n",
       "      <td>47.0</td>\n",
       "    </tr>\n",
       "    <tr>\n",
       "      <th>27</th>\n",
       "      <td>9433.T</td>\n",
       "      <td>KDDI Corp</td>\n",
       "      <td>9433.T</td>\n",
       "      <td>5.080353e+12</td>\n",
       "      <td>71.486276</td>\n",
       "      <td>53.25</td>\n",
       "      <td>27.0</td>\n",
       "      <td>62.0</td>\n",
       "      <td>24.0</td>\n",
       "    </tr>\n",
       "    <tr>\n",
       "      <th>28</th>\n",
       "      <td>9437.T</td>\n",
       "      <td>NTT Docomo Inc</td>\n",
       "      <td>9437.T</td>\n",
       "      <td>4.840849e+12</td>\n",
       "      <td>80.560979</td>\n",
       "      <td>70.75</td>\n",
       "      <td>40.0</td>\n",
       "      <td>67.0</td>\n",
       "      <td>76.0</td>\n",
       "    </tr>\n",
       "    <tr>\n",
       "      <th>29</th>\n",
       "      <td>6503.T</td>\n",
       "      <td>Mitsubishi Electric Corp</td>\n",
       "      <td>6503.T</td>\n",
       "      <td>4.519921e+12</td>\n",
       "      <td>77.876798</td>\n",
       "      <td>59.75</td>\n",
       "      <td>29.0</td>\n",
       "      <td>52.0</td>\n",
       "      <td>58.0</td>\n",
       "    </tr>\n",
       "    <tr>\n",
       "      <th>30</th>\n",
       "      <td>5019.T</td>\n",
       "      <td>Idemitsu Kosan Co Ltd</td>\n",
       "      <td>5019.T</td>\n",
       "      <td>4.425144e+12</td>\n",
       "      <td>60.855167</td>\n",
       "      <td>48.25</td>\n",
       "      <td>35.0</td>\n",
       "      <td>33.0</td>\n",
       "      <td>25.0</td>\n",
       "    </tr>\n",
       "    <tr>\n",
       "      <th>31</th>\n",
       "      <td>1925.T</td>\n",
       "      <td>Daiwa House Industry Co Ltd</td>\n",
       "      <td>1925.T</td>\n",
       "      <td>4.143505e+12</td>\n",
       "      <td>77.958634</td>\n",
       "      <td>54.25</td>\n",
       "      <td>38.0</td>\n",
       "      <td>53.0</td>\n",
       "      <td>26.0</td>\n",
       "    </tr>\n",
       "    <tr>\n",
       "      <th>32</th>\n",
       "      <td>7011.T</td>\n",
       "      <td>Mitsubishi Heavy Industries Ltd</td>\n",
       "      <td>7011.T</td>\n",
       "      <td>4.078344e+12</td>\n",
       "      <td>74.971244</td>\n",
       "      <td>57.00</td>\n",
       "      <td>29.0</td>\n",
       "      <td>52.0</td>\n",
       "      <td>47.0</td>\n",
       "    </tr>\n",
       "    <tr>\n",
       "      <th>33</th>\n",
       "      <td>7259.T</td>\n",
       "      <td>Aisin Seiki Co Ltd</td>\n",
       "      <td>7259.T</td>\n",
       "      <td>4.043110e+12</td>\n",
       "      <td>53.298574</td>\n",
       "      <td>60.00</td>\n",
       "      <td>34.0</td>\n",
       "      <td>48.0</td>\n",
       "      <td>58.0</td>\n",
       "    </tr>\n",
       "    <tr>\n",
       "      <th>34</th>\n",
       "      <td>6702.T</td>\n",
       "      <td>Fujitsu Ltd</td>\n",
       "      <td>6702.T</td>\n",
       "      <td>3.952437e+12</td>\n",
       "      <td>78.740134</td>\n",
       "      <td>69.25</td>\n",
       "      <td>47.0</td>\n",
       "      <td>57.0</td>\n",
       "      <td>73.0</td>\n",
       "    </tr>\n",
       "    <tr>\n",
       "      <th>35</th>\n",
       "      <td>8411.T</td>\n",
       "      <td>Mizuho Financial Group Inc</td>\n",
       "      <td>8411.T</td>\n",
       "      <td>3.925649e+12</td>\n",
       "      <td>73.541297</td>\n",
       "      <td>54.25</td>\n",
       "      <td>33.0</td>\n",
       "      <td>29.0</td>\n",
       "      <td>55.0</td>\n",
       "    </tr>\n",
       "    <tr>\n",
       "      <th>36</th>\n",
       "      <td>4188.T</td>\n",
       "      <td>Mitsubishi Chemical Holdings Corp</td>\n",
       "      <td>4188.T</td>\n",
       "      <td>3.923444e+12</td>\n",
       "      <td>60.632776</td>\n",
       "      <td>39.00</td>\n",
       "      <td>18.0</td>\n",
       "      <td>19.0</td>\n",
       "      <td>19.0</td>\n",
       "    </tr>\n",
       "    <tr>\n",
       "      <th>37</th>\n",
       "      <td>5411.T</td>\n",
       "      <td>JFE Holdings Inc</td>\n",
       "      <td>5411.T</td>\n",
       "      <td>3.873662e+12</td>\n",
       "      <td>72.372272</td>\n",
       "      <td>57.75</td>\n",
       "      <td>29.0</td>\n",
       "      <td>53.0</td>\n",
       "      <td>49.0</td>\n",
       "    </tr>\n",
       "    <tr>\n",
       "      <th>38</th>\n",
       "      <td>7269.T</td>\n",
       "      <td>Suzuki Motor Corp</td>\n",
       "      <td>7269.T</td>\n",
       "      <td>3.871496e+12</td>\n",
       "      <td>63.003261</td>\n",
       "      <td>53.25</td>\n",
       "      <td>32.0</td>\n",
       "      <td>48.0</td>\n",
       "      <td>33.0</td>\n",
       "    </tr>\n",
       "    <tr>\n",
       "      <th>39</th>\n",
       "      <td>9434.T</td>\n",
       "      <td>SoftBank Corp</td>\n",
       "      <td>9434.T</td>\n",
       "      <td>3.746305e+12</td>\n",
       "      <td>0.000000</td>\n",
       "      <td>0.00</td>\n",
       "      <td>0.0</td>\n",
       "      <td>0.0</td>\n",
       "      <td>0.0</td>\n",
       "    </tr>\n",
       "    <tr>\n",
       "      <th>40</th>\n",
       "      <td>6502.T</td>\n",
       "      <td>Toshiba Corp</td>\n",
       "      <td>6502.T</td>\n",
       "      <td>3.693539e+12</td>\n",
       "      <td>83.641053</td>\n",
       "      <td>65.25</td>\n",
       "      <td>33.0</td>\n",
       "      <td>52.0</td>\n",
       "      <td>76.0</td>\n",
       "    </tr>\n",
       "    <tr>\n",
       "      <th>41</th>\n",
       "      <td>5108.T</td>\n",
       "      <td>Bridgestone Corp</td>\n",
       "      <td>5108.T</td>\n",
       "      <td>3.650111e+12</td>\n",
       "      <td>75.884270</td>\n",
       "      <td>61.50</td>\n",
       "      <td>38.0</td>\n",
       "      <td>61.0</td>\n",
       "      <td>47.0</td>\n",
       "    </tr>\n",
       "    <tr>\n",
       "      <th>42</th>\n",
       "      <td>8630.T</td>\n",
       "      <td>Sompo Holdings Inc</td>\n",
       "      <td>8630.T</td>\n",
       "      <td>3.643040e+12</td>\n",
       "      <td>70.894926</td>\n",
       "      <td>63.25</td>\n",
       "      <td>44.0</td>\n",
       "      <td>52.0</td>\n",
       "      <td>57.0</td>\n",
       "    </tr>\n",
       "    <tr>\n",
       "      <th>43</th>\n",
       "      <td>7751.T</td>\n",
       "      <td>Canon Inc</td>\n",
       "      <td>7751.T</td>\n",
       "      <td>3.593299e+12</td>\n",
       "      <td>76.123886</td>\n",
       "      <td>0.00</td>\n",
       "      <td>0.0</td>\n",
       "      <td>58.0</td>\n",
       "      <td>47.0</td>\n",
       "    </tr>\n",
       "    <tr>\n",
       "      <th>44</th>\n",
       "      <td>7261.T</td>\n",
       "      <td>Mazda Motor Corp</td>\n",
       "      <td>7261.T</td>\n",
       "      <td>3.564696e+12</td>\n",
       "      <td>73.839460</td>\n",
       "      <td>61.00</td>\n",
       "      <td>31.0</td>\n",
       "      <td>48.0</td>\n",
       "      <td>65.0</td>\n",
       "    </tr>\n",
       "    <tr>\n",
       "      <th>45</th>\n",
       "      <td>9503.T</td>\n",
       "      <td>Kansai Electric Power Co Inc</td>\n",
       "      <td>9503.T</td>\n",
       "      <td>3.307661e+12</td>\n",
       "      <td>52.574398</td>\n",
       "      <td>53.00</td>\n",
       "      <td>33.0</td>\n",
       "      <td>44.0</td>\n",
       "      <td>35.0</td>\n",
       "    </tr>\n",
       "    <tr>\n",
       "      <th>46</th>\n",
       "      <td>7459.T</td>\n",
       "      <td>Medipal Holdings Corp</td>\n",
       "      <td>7459.T</td>\n",
       "      <td>3.181928e+12</td>\n",
       "      <td>41.155797</td>\n",
       "      <td>51.00</td>\n",
       "      <td>37.0</td>\n",
       "      <td>43.0</td>\n",
       "      <td>24.0</td>\n",
       "    </tr>\n",
       "    <tr>\n",
       "      <th>47</th>\n",
       "      <td>5802.T</td>\n",
       "      <td>Sumitomo Electric Industries Ltd</td>\n",
       "      <td>5802.T</td>\n",
       "      <td>3.177985e+12</td>\n",
       "      <td>60.197018</td>\n",
       "      <td>65.25</td>\n",
       "      <td>42.0</td>\n",
       "      <td>61.0</td>\n",
       "      <td>58.0</td>\n",
       "    </tr>\n",
       "    <tr>\n",
       "      <th>48</th>\n",
       "      <td>7270.T</td>\n",
       "      <td>Subaru Corp</td>\n",
       "      <td>7270.T</td>\n",
       "      <td>3.160514e+12</td>\n",
       "      <td>56.190110</td>\n",
       "      <td>51.00</td>\n",
       "      <td>32.0</td>\n",
       "      <td>48.0</td>\n",
       "      <td>24.0</td>\n",
       "    </tr>\n",
       "    <tr>\n",
       "      <th>49</th>\n",
       "      <td>9502.T</td>\n",
       "      <td>Chubu Electric Power Co Inc</td>\n",
       "      <td>9502.T</td>\n",
       "      <td>3.035082e+12</td>\n",
       "      <td>42.428084</td>\n",
       "      <td>55.50</td>\n",
       "      <td>19.0</td>\n",
       "      <td>44.0</td>\n",
       "      <td>59.0</td>\n",
       "    </tr>\n",
       "  </tbody>\n",
       "</table>\n",
       "</div>"
      ],
      "text/plain": [
       "   Instrument                               Company Name     RIC  \\\n",
       "0      7203.T                          Toyota Motor Corp  7203.T   \n",
       "1      8058.T                            Mitsubishi Corp  8058.T   \n",
       "2      7267.T                         Honda Motor Co Ltd  7267.T   \n",
       "3      6178.T                 Japan Post Holdings Co Ltd  6178.T   \n",
       "4      9432.T        Nippon Telegraph and Telephone Corp  9432.T   \n",
       "5      8001.T                                Itochu Corp  8001.T   \n",
       "6      7201.T                        Nissan Motor Co Ltd  7201.T   \n",
       "7      5020.T                          JXTG Holdings Inc  5020.T   \n",
       "8      9984.T                        SoftBank Group Corp  9984.T   \n",
       "9      6501.T                                Hitachi Ltd  6501.T   \n",
       "10     6758.T                                  Sony Corp  6758.T   \n",
       "11     8267.T                                Aeon Co Ltd  8267.T   \n",
       "12     6752.T                             Panasonic Corp  6752.T   \n",
       "13     7181.T                Japan Post Insurance Co Ltd  7181.T   \n",
       "14     8002.T                              Marubeni Corp  8002.T   \n",
       "15     8750.T                 Dai-ichi Life Holdings Inc  8750.T   \n",
       "16     8031.T                            Mitsui & Co Ltd  8031.T   \n",
       "17     3382.T                  Seven & i Holdings Co Ltd  3382.T   \n",
       "18     8015.T                         Toyota Tsusho Corp  8015.T   \n",
       "19     8306.T         Mitsubishi UFJ Financial Group Inc  8306.T   \n",
       "20     9501.T  Tokyo Electric Power Company Holdings Inc  9501.T   \n",
       "21     5401.T                          Nippon Steel Corp  5401.T   \n",
       "22     8316.T        Sumitomo Mitsui Financial Group Inc  8316.T   \n",
       "23     8725.T         MS&AD Insurance Group Holdings Inc  8725.T   \n",
       "24     8766.T                  Tokio Marine Holdings Inc  8766.T   \n",
       "25     6902.T                                 Denso Corp  6902.T   \n",
       "26     8053.T                              Sumitomo Corp  8053.T   \n",
       "27     9433.T                                  KDDI Corp  9433.T   \n",
       "28     9437.T                             NTT Docomo Inc  9437.T   \n",
       "29     6503.T                   Mitsubishi Electric Corp  6503.T   \n",
       "30     5019.T                      Idemitsu Kosan Co Ltd  5019.T   \n",
       "31     1925.T                Daiwa House Industry Co Ltd  1925.T   \n",
       "32     7011.T            Mitsubishi Heavy Industries Ltd  7011.T   \n",
       "33     7259.T                         Aisin Seiki Co Ltd  7259.T   \n",
       "34     6702.T                                Fujitsu Ltd  6702.T   \n",
       "35     8411.T                 Mizuho Financial Group Inc  8411.T   \n",
       "36     4188.T          Mitsubishi Chemical Holdings Corp  4188.T   \n",
       "37     5411.T                           JFE Holdings Inc  5411.T   \n",
       "38     7269.T                          Suzuki Motor Corp  7269.T   \n",
       "39     9434.T                              SoftBank Corp  9434.T   \n",
       "40     6502.T                               Toshiba Corp  6502.T   \n",
       "41     5108.T                           Bridgestone Corp  5108.T   \n",
       "42     8630.T                         Sompo Holdings Inc  8630.T   \n",
       "43     7751.T                                  Canon Inc  7751.T   \n",
       "44     7261.T                           Mazda Motor Corp  7261.T   \n",
       "45     9503.T               Kansai Electric Power Co Inc  9503.T   \n",
       "46     7459.T                      Medipal Holdings Corp  7459.T   \n",
       "47     5802.T           Sumitomo Electric Industries Ltd  5802.T   \n",
       "48     7270.T                                Subaru Corp  7270.T   \n",
       "49     9502.T                Chubu Electric Power Co Inc  9502.T   \n",
       "\n",
       "    Revenue - Actual  ESG Score  TRDIR Score  TRDIR Diversity Score  \\\n",
       "0       3.022568e+13  87.044729        63.75                   37.0   \n",
       "1       1.610376e+13  70.527021        63.25                   38.0   \n",
       "2       1.588862e+13  86.050895        65.75                   43.0   \n",
       "3       1.277500e+13  51.697995        50.75                   39.0   \n",
       "4       1.187984e+13  65.508726        60.00                   30.0   \n",
       "5       1.160048e+13  72.388083        62.00                   41.0   \n",
       "6       1.157425e+13  78.822626        64.25                   37.0   \n",
       "7       1.112963e+13  63.740497        49.50                   17.0   \n",
       "8       9.602236e+12  60.409230        49.25                   20.0   \n",
       "9       9.480619e+12  84.951025        59.75                   40.0   \n",
       "10      8.665687e+12  87.711772        71.75                   55.0   \n",
       "11      8.518215e+12  79.047001        65.75                   43.0   \n",
       "12      8.002733e+12  72.322749        63.50                   19.0   \n",
       "13      7.916655e+12   0.000000         0.00                    0.0   \n",
       "14      7.401256e+12  52.302666        62.00                   39.0   \n",
       "15      7.184093e+12  72.309859        65.25                   58.0   \n",
       "16      6.957524e+12  70.690050        66.50                   22.0   \n",
       "17      6.791215e+12  77.584291        58.00                   46.0   \n",
       "18      6.762702e+12  51.699987        53.00                   21.0   \n",
       "19      6.697402e+12  81.098065        42.00                   28.0   \n",
       "20      6.338490e+12  53.807241        45.75                   29.0   \n",
       "21      6.177947e+12  62.578728        36.25                    8.0   \n",
       "22      5.735312e+12  75.841183        54.25                   18.0   \n",
       "23      5.500438e+12  75.221563        56.25                   50.0   \n",
       "24      5.476720e+12  69.741737        60.50                   28.0   \n",
       "25      5.362772e+12  73.027850        62.00                   31.0   \n",
       "26      5.339238e+12  60.988504        51.50                    4.0   \n",
       "27      5.080353e+12  71.486276        53.25                   27.0   \n",
       "28      4.840849e+12  80.560979        70.75                   40.0   \n",
       "29      4.519921e+12  77.876798        59.75                   29.0   \n",
       "30      4.425144e+12  60.855167        48.25                   35.0   \n",
       "31      4.143505e+12  77.958634        54.25                   38.0   \n",
       "32      4.078344e+12  74.971244        57.00                   29.0   \n",
       "33      4.043110e+12  53.298574        60.00                   34.0   \n",
       "34      3.952437e+12  78.740134        69.25                   47.0   \n",
       "35      3.925649e+12  73.541297        54.25                   33.0   \n",
       "36      3.923444e+12  60.632776        39.00                   18.0   \n",
       "37      3.873662e+12  72.372272        57.75                   29.0   \n",
       "38      3.871496e+12  63.003261        53.25                   32.0   \n",
       "39      3.746305e+12   0.000000         0.00                    0.0   \n",
       "40      3.693539e+12  83.641053        65.25                   33.0   \n",
       "41      3.650111e+12  75.884270        61.50                   38.0   \n",
       "42      3.643040e+12  70.894926        63.25                   44.0   \n",
       "43      3.593299e+12  76.123886         0.00                    0.0   \n",
       "44      3.564696e+12  73.839460        61.00                   31.0   \n",
       "45      3.307661e+12  52.574398        53.00                   33.0   \n",
       "46      3.181928e+12  41.155797        51.00                   37.0   \n",
       "47      3.177985e+12  60.197018        65.25                   42.0   \n",
       "48      3.160514e+12  56.190110        51.00                   32.0   \n",
       "49      3.035082e+12  42.428084        55.50                   19.0   \n",
       "\n",
       "    TRDIR People Development Score  TRDIR Inclusion Score  \n",
       "0                             48.0                   70.0  \n",
       "1                             50.0                   65.0  \n",
       "2                             63.0                   57.0  \n",
       "3                             40.0                   24.0  \n",
       "4                             52.0                   58.0  \n",
       "5                             50.0                   57.0  \n",
       "6                             61.0                   59.0  \n",
       "7                             41.0                   40.0  \n",
       "8                             30.0                   47.0  \n",
       "9                             52.0                   47.0  \n",
       "10                            63.0                   69.0  \n",
       "11                            61.0                   59.0  \n",
       "12                            63.0                   72.0  \n",
       "13                             0.0                    0.0  \n",
       "14                            50.0                   59.0  \n",
       "15                            45.0                   58.0  \n",
       "16                            79.0                   65.0  \n",
       "17                            50.0                   36.0  \n",
       "18                            67.0                   24.0  \n",
       "19                            33.0                   19.0  \n",
       "20                            30.0                   24.0  \n",
       "21                            20.0                   29.0  \n",
       "22                            43.0                   56.0  \n",
       "23                            40.0                   35.0  \n",
       "24                            56.0                   58.0  \n",
       "25                            61.0                   56.0  \n",
       "26                            67.0                   47.0  \n",
       "27                            62.0                   24.0  \n",
       "28                            67.0                   76.0  \n",
       "29                            52.0                   58.0  \n",
       "30                            33.0                   25.0  \n",
       "31                            53.0                   26.0  \n",
       "32                            52.0                   47.0  \n",
       "33                            48.0                   58.0  \n",
       "34                            57.0                   73.0  \n",
       "35                            29.0                   55.0  \n",
       "36                            19.0                   19.0  \n",
       "37                            53.0                   49.0  \n",
       "38                            48.0                   33.0  \n",
       "39                             0.0                    0.0  \n",
       "40                            52.0                   76.0  \n",
       "41                            61.0                   47.0  \n",
       "42                            52.0                   57.0  \n",
       "43                            58.0                   47.0  \n",
       "44                            48.0                   65.0  \n",
       "45                            44.0                   35.0  \n",
       "46                            43.0                   24.0  \n",
       "47                            61.0                   58.0  \n",
       "48                            48.0                   24.0  \n",
       "49                            44.0                   59.0  "
      ]
     },
     "metadata": {},
     "output_type": "display_data"
    },
    {
     "data": {
      "text/markdown": [
       "**Lower 50 companies in the world index**"
      ],
      "text/plain": [
       "<IPython.core.display.Markdown object>"
      ]
     },
     "metadata": {},
     "output_type": "display_data"
    },
    {
     "data": {
      "text/html": [
       "<div>\n",
       "<style scoped>\n",
       "    .dataframe tbody tr th:only-of-type {\n",
       "        vertical-align: middle;\n",
       "    }\n",
       "\n",
       "    .dataframe tbody tr th {\n",
       "        vertical-align: top;\n",
       "    }\n",
       "\n",
       "    .dataframe thead th {\n",
       "        text-align: right;\n",
       "    }\n",
       "</style>\n",
       "<table border=\"1\" class=\"dataframe\">\n",
       "  <thead>\n",
       "    <tr style=\"text-align: right;\">\n",
       "      <th></th>\n",
       "      <th>Instrument</th>\n",
       "      <th>Company Name</th>\n",
       "      <th>RIC</th>\n",
       "      <th>Revenue - Actual</th>\n",
       "      <th>ESG Score</th>\n",
       "      <th>TRDIR Score</th>\n",
       "      <th>TRDIR Diversity Score</th>\n",
       "      <th>TRDIR People Development Score</th>\n",
       "      <th>TRDIR Inclusion Score</th>\n",
       "    </tr>\n",
       "  </thead>\n",
       "  <tbody>\n",
       "    <tr>\n",
       "      <th>1571</th>\n",
       "      <td>FCR_u.TO</td>\n",
       "      <td>First Capital Realty Inc</td>\n",
       "      <td>FCR_u.TO</td>\n",
       "      <td>746773000.0</td>\n",
       "      <td>59.356636</td>\n",
       "      <td>0.00</td>\n",
       "      <td>50.0</td>\n",
       "      <td>51.0</td>\n",
       "      <td>0.0</td>\n",
       "    </tr>\n",
       "    <tr>\n",
       "      <th>1572</th>\n",
       "      <td>AIA.NZ</td>\n",
       "      <td>Auckland International Airport Ltd</td>\n",
       "      <td>AIA.NZ</td>\n",
       "      <td>743400000.0</td>\n",
       "      <td>69.173869</td>\n",
       "      <td>0.00</td>\n",
       "      <td>23.0</td>\n",
       "      <td>32.0</td>\n",
       "      <td>0.0</td>\n",
       "    </tr>\n",
       "    <tr>\n",
       "      <th>1573</th>\n",
       "      <td>ROKU.OQ</td>\n",
       "      <td>Roku Inc</td>\n",
       "      <td>ROKU.OQ</td>\n",
       "      <td>742506000.0</td>\n",
       "      <td>24.738170</td>\n",
       "      <td>0.00</td>\n",
       "      <td>4.0</td>\n",
       "      <td>0.0</td>\n",
       "      <td>0.0</td>\n",
       "    </tr>\n",
       "    <tr>\n",
       "      <th>1574</th>\n",
       "      <td>PAYC.N</td>\n",
       "      <td>Paycom Software Inc</td>\n",
       "      <td>PAYC.N</td>\n",
       "      <td>737670000.0</td>\n",
       "      <td>37.885196</td>\n",
       "      <td>0.00</td>\n",
       "      <td>19.0</td>\n",
       "      <td>57.0</td>\n",
       "      <td>0.0</td>\n",
       "    </tr>\n",
       "    <tr>\n",
       "      <th>1575</th>\n",
       "      <td>SUI.N</td>\n",
       "      <td>Sun Communities Inc</td>\n",
       "      <td>SUI.N</td>\n",
       "      <td>719763000.0</td>\n",
       "      <td>39.597117</td>\n",
       "      <td>0.00</td>\n",
       "      <td>13.0</td>\n",
       "      <td>0.0</td>\n",
       "      <td>0.0</td>\n",
       "    </tr>\n",
       "    <tr>\n",
       "      <th>1576</th>\n",
       "      <td>GWRE.N</td>\n",
       "      <td>Guidewire Software Inc</td>\n",
       "      <td>GWRE.N</td>\n",
       "      <td>719514000.0</td>\n",
       "      <td>30.708824</td>\n",
       "      <td>0.00</td>\n",
       "      <td>20.0</td>\n",
       "      <td>29.0</td>\n",
       "      <td>0.0</td>\n",
       "    </tr>\n",
       "    <tr>\n",
       "      <th>1577</th>\n",
       "      <td>DOCU.OQ</td>\n",
       "      <td>DocuSign Inc</td>\n",
       "      <td>DOCU.OQ</td>\n",
       "      <td>700969000.0</td>\n",
       "      <td>36.246210</td>\n",
       "      <td>0.00</td>\n",
       "      <td>21.0</td>\n",
       "      <td>0.0</td>\n",
       "      <td>0.0</td>\n",
       "    </tr>\n",
       "    <tr>\n",
       "      <th>1578</th>\n",
       "      <td>AEMN.SI</td>\n",
       "      <td>Ascendas Real Estate Investment Trust</td>\n",
       "      <td>AEMN.SI</td>\n",
       "      <td>699057000.0</td>\n",
       "      <td>55.120941</td>\n",
       "      <td>46.75</td>\n",
       "      <td>32.0</td>\n",
       "      <td>41.0</td>\n",
       "      <td>14.0</td>\n",
       "    </tr>\n",
       "    <tr>\n",
       "      <th>1579</th>\n",
       "      <td>AGNC.OQ</td>\n",
       "      <td>AGNC Investment Corp</td>\n",
       "      <td>AGNC.OQ</td>\n",
       "      <td>693000000.0</td>\n",
       "      <td>49.876586</td>\n",
       "      <td>0.00</td>\n",
       "      <td>15.0</td>\n",
       "      <td>0.0</td>\n",
       "      <td>0.0</td>\n",
       "    </tr>\n",
       "    <tr>\n",
       "      <th>1580</th>\n",
       "      <td>CAR_u.TO</td>\n",
       "      <td>Canadian Apartment Properties Real Estate Inve...</td>\n",
       "      <td>CAR_u.TO</td>\n",
       "      <td>688585000.0</td>\n",
       "      <td>55.228790</td>\n",
       "      <td>0.00</td>\n",
       "      <td>26.0</td>\n",
       "      <td>38.0</td>\n",
       "      <td>0.0</td>\n",
       "    </tr>\n",
       "    <tr>\n",
       "      <th>1581</th>\n",
       "      <td>ADML.L</td>\n",
       "      <td>Admiral Group PLC</td>\n",
       "      <td>ADML.L</td>\n",
       "      <td>671800000.0</td>\n",
       "      <td>57.907417</td>\n",
       "      <td>0.00</td>\n",
       "      <td>28.0</td>\n",
       "      <td>36.0</td>\n",
       "      <td>0.0</td>\n",
       "    </tr>\n",
       "    <tr>\n",
       "      <th>1582</th>\n",
       "      <td>NNN.N</td>\n",
       "      <td>National Retail Properties Inc</td>\n",
       "      <td>NNN.N</td>\n",
       "      <td>670487000.0</td>\n",
       "      <td>43.537135</td>\n",
       "      <td>0.00</td>\n",
       "      <td>7.0</td>\n",
       "      <td>25.0</td>\n",
       "      <td>0.0</td>\n",
       "    </tr>\n",
       "    <tr>\n",
       "      <th>1583</th>\n",
       "      <td>DHER.DE</td>\n",
       "      <td>Delivery Hero SE</td>\n",
       "      <td>DHER.DE</td>\n",
       "      <td>665100000.0</td>\n",
       "      <td>59.460437</td>\n",
       "      <td>41.00</td>\n",
       "      <td>18.0</td>\n",
       "      <td>29.0</td>\n",
       "      <td>17.0</td>\n",
       "    </tr>\n",
       "    <tr>\n",
       "      <th>1584</th>\n",
       "      <td>GFCP.PA</td>\n",
       "      <td>Gecina SA</td>\n",
       "      <td>GFCP.PA</td>\n",
       "      <td>661700000.0</td>\n",
       "      <td>82.607789</td>\n",
       "      <td>61.25</td>\n",
       "      <td>61.0</td>\n",
       "      <td>55.0</td>\n",
       "      <td>29.0</td>\n",
       "    </tr>\n",
       "    <tr>\n",
       "      <th>1585</th>\n",
       "      <td>FBK.MI</td>\n",
       "      <td>FinecoBank Banca Fineco SpA</td>\n",
       "      <td>FBK.MI</td>\n",
       "      <td>657800000.0</td>\n",
       "      <td>78.527323</td>\n",
       "      <td>48.75</td>\n",
       "      <td>30.0</td>\n",
       "      <td>45.0</td>\n",
       "      <td>20.0</td>\n",
       "    </tr>\n",
       "    <tr>\n",
       "      <th>1586</th>\n",
       "      <td>FNV.TO</td>\n",
       "      <td>Franco-Nevada Corp</td>\n",
       "      <td>FNV.TO</td>\n",
       "      <td>653200000.0</td>\n",
       "      <td>51.018382</td>\n",
       "      <td>0.00</td>\n",
       "      <td>22.0</td>\n",
       "      <td>0.0</td>\n",
       "      <td>0.0</td>\n",
       "    </tr>\n",
       "    <tr>\n",
       "      <th>1587</th>\n",
       "      <td>ICAD.PA</td>\n",
       "      <td>Icade SA</td>\n",
       "      <td>ICAD.PA</td>\n",
       "      <td>643400000.0</td>\n",
       "      <td>69.651382</td>\n",
       "      <td>63.00</td>\n",
       "      <td>54.0</td>\n",
       "      <td>61.0</td>\n",
       "      <td>37.0</td>\n",
       "    </tr>\n",
       "    <tr>\n",
       "      <th>1588</th>\n",
       "      <td>WIX.OQ</td>\n",
       "      <td>Wix.Com Ltd</td>\n",
       "      <td>WIX.OQ</td>\n",
       "      <td>603704000.0</td>\n",
       "      <td>41.943380</td>\n",
       "      <td>0.00</td>\n",
       "      <td>0.0</td>\n",
       "      <td>0.0</td>\n",
       "      <td>0.0</td>\n",
       "    </tr>\n",
       "    <tr>\n",
       "      <th>1589</th>\n",
       "      <td>IONS.OQ</td>\n",
       "      <td>Ionis Pharmaceuticals Inc</td>\n",
       "      <td>IONS.OQ</td>\n",
       "      <td>599674000.0</td>\n",
       "      <td>58.948438</td>\n",
       "      <td>0.00</td>\n",
       "      <td>14.0</td>\n",
       "      <td>0.0</td>\n",
       "      <td>8.0</td>\n",
       "    </tr>\n",
       "    <tr>\n",
       "      <th>1590</th>\n",
       "      <td>MFG.AX</td>\n",
       "      <td>Magellan Financial Group Ltd</td>\n",
       "      <td>MFG.AX</td>\n",
       "      <td>577251000.0</td>\n",
       "      <td>47.574993</td>\n",
       "      <td>44.75</td>\n",
       "      <td>41.0</td>\n",
       "      <td>13.0</td>\n",
       "      <td>25.0</td>\n",
       "    </tr>\n",
       "    <tr>\n",
       "      <th>1591</th>\n",
       "      <td>BLND.L</td>\n",
       "      <td>British Land Company PLC</td>\n",
       "      <td>BLND.L</td>\n",
       "      <td>576000000.0</td>\n",
       "      <td>63.527630</td>\n",
       "      <td>44.50</td>\n",
       "      <td>32.0</td>\n",
       "      <td>39.0</td>\n",
       "      <td>7.0</td>\n",
       "    </tr>\n",
       "    <tr>\n",
       "      <th>1592</th>\n",
       "      <td>PODD.OQ</td>\n",
       "      <td>Insulet Corp</td>\n",
       "      <td>PODD.OQ</td>\n",
       "      <td>563823000.0</td>\n",
       "      <td>39.007064</td>\n",
       "      <td>0.00</td>\n",
       "      <td>24.0</td>\n",
       "      <td>0.0</td>\n",
       "      <td>0.0</td>\n",
       "    </tr>\n",
       "    <tr>\n",
       "      <th>1593</th>\n",
       "      <td>ELS.N</td>\n",
       "      <td>Equity LifeStyle Properties Inc</td>\n",
       "      <td>ELS.N</td>\n",
       "      <td>547600000.0</td>\n",
       "      <td>55.393625</td>\n",
       "      <td>0.00</td>\n",
       "      <td>18.0</td>\n",
       "      <td>25.0</td>\n",
       "      <td>0.0</td>\n",
       "    </tr>\n",
       "    <tr>\n",
       "      <th>1594</th>\n",
       "      <td>CVO.PA</td>\n",
       "      <td>Covivio SA</td>\n",
       "      <td>CVO.PA</td>\n",
       "      <td>539000000.0</td>\n",
       "      <td>68.709448</td>\n",
       "      <td>52.00</td>\n",
       "      <td>27.0</td>\n",
       "      <td>52.0</td>\n",
       "      <td>29.0</td>\n",
       "    </tr>\n",
       "    <tr>\n",
       "      <th>1595</th>\n",
       "      <td>MKTX.OQ</td>\n",
       "      <td>Marketaxess Holdings Inc</td>\n",
       "      <td>MKTX.OQ</td>\n",
       "      <td>511352000.0</td>\n",
       "      <td>44.789176</td>\n",
       "      <td>0.00</td>\n",
       "      <td>9.0</td>\n",
       "      <td>0.0</td>\n",
       "      <td>21.0</td>\n",
       "    </tr>\n",
       "    <tr>\n",
       "      <th>1596</th>\n",
       "      <td>HRGV.L</td>\n",
       "      <td>Hargreaves Lansdown PLC</td>\n",
       "      <td>HRGV.L</td>\n",
       "      <td>480500000.0</td>\n",
       "      <td>61.475113</td>\n",
       "      <td>49.50</td>\n",
       "      <td>24.0</td>\n",
       "      <td>53.0</td>\n",
       "      <td>21.0</td>\n",
       "    </tr>\n",
       "    <tr>\n",
       "      <th>1597</th>\n",
       "      <td>MACT.SI</td>\n",
       "      <td>Mapletree Commercial Trust</td>\n",
       "      <td>MACT.SI</td>\n",
       "      <td>443893000.0</td>\n",
       "      <td>0.000000</td>\n",
       "      <td>0.00</td>\n",
       "      <td>0.0</td>\n",
       "      <td>0.0</td>\n",
       "      <td>0.0</td>\n",
       "    </tr>\n",
       "    <tr>\n",
       "      <th>1598</th>\n",
       "      <td>CYBR.OQ</td>\n",
       "      <td>Cyberark Software Ltd</td>\n",
       "      <td>CYBR.OQ</td>\n",
       "      <td>433895000.0</td>\n",
       "      <td>36.147160</td>\n",
       "      <td>0.00</td>\n",
       "      <td>18.0</td>\n",
       "      <td>0.0</td>\n",
       "      <td>0.0</td>\n",
       "    </tr>\n",
       "    <tr>\n",
       "      <th>1599</th>\n",
       "      <td>CACT.SI</td>\n",
       "      <td>CapitaLand Commercial Trust</td>\n",
       "      <td>CACT.SI</td>\n",
       "      <td>412348000.0</td>\n",
       "      <td>73.976897</td>\n",
       "      <td>46.50</td>\n",
       "      <td>43.0</td>\n",
       "      <td>29.0</td>\n",
       "      <td>14.0</td>\n",
       "    </tr>\n",
       "    <tr>\n",
       "      <th>1600</th>\n",
       "      <td>OKTA.OQ</td>\n",
       "      <td>Okta Inc</td>\n",
       "      <td>OKTA.OQ</td>\n",
       "      <td>399254000.0</td>\n",
       "      <td>30.486673</td>\n",
       "      <td>0.00</td>\n",
       "      <td>19.0</td>\n",
       "      <td>0.0</td>\n",
       "      <td>0.0</td>\n",
       "    </tr>\n",
       "    <tr>\n",
       "      <th>1601</th>\n",
       "      <td>RYM.NZ</td>\n",
       "      <td>Ryman Healthcare Ltd</td>\n",
       "      <td>RYM.NZ</td>\n",
       "      <td>382334000.0</td>\n",
       "      <td>54.139302</td>\n",
       "      <td>0.00</td>\n",
       "      <td>36.0</td>\n",
       "      <td>31.0</td>\n",
       "      <td>0.0</td>\n",
       "    </tr>\n",
       "    <tr>\n",
       "      <th>1602</th>\n",
       "      <td>SGRO.L</td>\n",
       "      <td>SEGRO PLC</td>\n",
       "      <td>SGRO.L</td>\n",
       "      <td>369000000.0</td>\n",
       "      <td>79.943546</td>\n",
       "      <td>52.00</td>\n",
       "      <td>40.0</td>\n",
       "      <td>61.0</td>\n",
       "      <td>7.0</td>\n",
       "    </tr>\n",
       "    <tr>\n",
       "      <th>1603</th>\n",
       "      <td>SUNT.SI</td>\n",
       "      <td>Suntec Real Estate Investment Trust</td>\n",
       "      <td>SUNT.SI</td>\n",
       "      <td>366730000.0</td>\n",
       "      <td>38.089321</td>\n",
       "      <td>0.00</td>\n",
       "      <td>28.0</td>\n",
       "      <td>0.0</td>\n",
       "      <td>0.0</td>\n",
       "    </tr>\n",
       "    <tr>\n",
       "      <th>1604</th>\n",
       "      <td>AUTOA.L</td>\n",
       "      <td>Auto Trader Group PLC</td>\n",
       "      <td>AUTOA.L</td>\n",
       "      <td>355100000.0</td>\n",
       "      <td>60.848388</td>\n",
       "      <td>50.75</td>\n",
       "      <td>36.0</td>\n",
       "      <td>43.0</td>\n",
       "      <td>24.0</td>\n",
       "    </tr>\n",
       "    <tr>\n",
       "      <th>1605</th>\n",
       "      <td>ADYEN.AS</td>\n",
       "      <td>Adyen NV</td>\n",
       "      <td>ADYEN.AS</td>\n",
       "      <td>348913000.0</td>\n",
       "      <td>25.130511</td>\n",
       "      <td>0.00</td>\n",
       "      <td>4.0</td>\n",
       "      <td>0.0</td>\n",
       "      <td>0.0</td>\n",
       "    </tr>\n",
       "    <tr>\n",
       "      <th>1606</th>\n",
       "      <td>WTC.AX</td>\n",
       "      <td>WiseTech Global Ltd</td>\n",
       "      <td>WTC.AX</td>\n",
       "      <td>348266000.0</td>\n",
       "      <td>61.928232</td>\n",
       "      <td>46.50</td>\n",
       "      <td>32.0</td>\n",
       "      <td>29.0</td>\n",
       "      <td>25.0</td>\n",
       "    </tr>\n",
       "    <tr>\n",
       "      <th>1607</th>\n",
       "      <td>GLPG.AS</td>\n",
       "      <td>Galapagos NV</td>\n",
       "      <td>GLPG.AS</td>\n",
       "      <td>317845000.0</td>\n",
       "      <td>80.415020</td>\n",
       "      <td>49.25</td>\n",
       "      <td>42.0</td>\n",
       "      <td>43.0</td>\n",
       "      <td>12.0</td>\n",
       "    </tr>\n",
       "    <tr>\n",
       "      <th>1608</th>\n",
       "      <td>PARG.S</td>\n",
       "      <td>Pargesa Holding SA</td>\n",
       "      <td>PARG.S</td>\n",
       "      <td>317200000.0</td>\n",
       "      <td>33.026190</td>\n",
       "      <td>0.00</td>\n",
       "      <td>28.0</td>\n",
       "      <td>0.0</td>\n",
       "      <td>0.0</td>\n",
       "    </tr>\n",
       "    <tr>\n",
       "      <th>1609</th>\n",
       "      <td>SRPT.OQ</td>\n",
       "      <td>Sarepta Therapeutics Inc</td>\n",
       "      <td>SRPT.OQ</td>\n",
       "      <td>301034000.0</td>\n",
       "      <td>49.548043</td>\n",
       "      <td>0.00</td>\n",
       "      <td>12.0</td>\n",
       "      <td>0.0</td>\n",
       "      <td>0.0</td>\n",
       "    </tr>\n",
       "    <tr>\n",
       "      <th>1610</th>\n",
       "      <td>PSK.TO</td>\n",
       "      <td>Prairiesky Royalty Ltd</td>\n",
       "      <td>PSK.TO</td>\n",
       "      <td>268400000.0</td>\n",
       "      <td>51.778978</td>\n",
       "      <td>45.75</td>\n",
       "      <td>41.0</td>\n",
       "      <td>27.0</td>\n",
       "      <td>15.0</td>\n",
       "    </tr>\n",
       "    <tr>\n",
       "      <th>1611</th>\n",
       "      <td>MDB.OQ</td>\n",
       "      <td>MongoDB Inc</td>\n",
       "      <td>MDB.OQ</td>\n",
       "      <td>253805000.0</td>\n",
       "      <td>29.490161</td>\n",
       "      <td>0.00</td>\n",
       "      <td>6.0</td>\n",
       "      <td>0.0</td>\n",
       "      <td>0.0</td>\n",
       "    </tr>\n",
       "    <tr>\n",
       "      <th>1612</th>\n",
       "      <td>ACB.TO</td>\n",
       "      <td>Aurora Cannabis Inc</td>\n",
       "      <td>ACB.TO</td>\n",
       "      <td>247939000.0</td>\n",
       "      <td>27.567609</td>\n",
       "      <td>0.00</td>\n",
       "      <td>18.0</td>\n",
       "      <td>0.0</td>\n",
       "      <td>0.0</td>\n",
       "    </tr>\n",
       "    <tr>\n",
       "      <th>1613</th>\n",
       "      <td>TKWY.AS</td>\n",
       "      <td>Just Eat Takeaway.com NV</td>\n",
       "      <td>TKWY.AS</td>\n",
       "      <td>232314000.0</td>\n",
       "      <td>44.987592</td>\n",
       "      <td>0.00</td>\n",
       "      <td>30.0</td>\n",
       "      <td>0.0</td>\n",
       "      <td>0.0</td>\n",
       "    </tr>\n",
       "    <tr>\n",
       "      <th>1614</th>\n",
       "      <td>WEED.TO</td>\n",
       "      <td>Canopy Growth Corp</td>\n",
       "      <td>WEED.TO</td>\n",
       "      <td>226341000.0</td>\n",
       "      <td>35.952166</td>\n",
       "      <td>0.00</td>\n",
       "      <td>26.0</td>\n",
       "      <td>0.0</td>\n",
       "      <td>0.0</td>\n",
       "    </tr>\n",
       "    <tr>\n",
       "      <th>1615</th>\n",
       "      <td>ALNY.OQ</td>\n",
       "      <td>Alnylam Pharmaceuticals Inc</td>\n",
       "      <td>ALNY.OQ</td>\n",
       "      <td>219750000.0</td>\n",
       "      <td>73.909282</td>\n",
       "      <td>0.00</td>\n",
       "      <td>20.0</td>\n",
       "      <td>14.0</td>\n",
       "      <td>0.0</td>\n",
       "    </tr>\n",
       "    <tr>\n",
       "      <th>1616</th>\n",
       "      <td>BGNE.OQ</td>\n",
       "      <td>Beigene Ltd</td>\n",
       "      <td>BGNE.OQ</td>\n",
       "      <td>198220000.0</td>\n",
       "      <td>0.000000</td>\n",
       "      <td>0.00</td>\n",
       "      <td>0.0</td>\n",
       "      <td>0.0</td>\n",
       "      <td>0.0</td>\n",
       "    </tr>\n",
       "    <tr>\n",
       "      <th>1617</th>\n",
       "      <td>PSHG_p.DE</td>\n",
       "      <td>Porsche Automobil Holding SE</td>\n",
       "      <td>PSHG_p.DE</td>\n",
       "      <td>103000000.0</td>\n",
       "      <td>12.608208</td>\n",
       "      <td>0.00</td>\n",
       "      <td>27.0</td>\n",
       "      <td>0.0</td>\n",
       "      <td>0.0</td>\n",
       "    </tr>\n",
       "    <tr>\n",
       "      <th>1618</th>\n",
       "      <td>CRON.TO</td>\n",
       "      <td>Cronos Group Inc</td>\n",
       "      <td>CRON.TO</td>\n",
       "      <td>15703000.0</td>\n",
       "      <td>30.822290</td>\n",
       "      <td>0.00</td>\n",
       "      <td>14.0</td>\n",
       "      <td>0.0</td>\n",
       "      <td>0.0</td>\n",
       "    </tr>\n",
       "    <tr>\n",
       "      <th>1619</th>\n",
       "      <td>LBRDK.OQ</td>\n",
       "      <td>Liberty Broadband Corp</td>\n",
       "      <td>LBRDK.OQ</td>\n",
       "      <td>14859000.0</td>\n",
       "      <td>22.940123</td>\n",
       "      <td>0.00</td>\n",
       "      <td>0.0</td>\n",
       "      <td>0.0</td>\n",
       "      <td>0.0</td>\n",
       "    </tr>\n",
       "    <tr>\n",
       "      <th>1620</th>\n",
       "      <td>AWC.AX</td>\n",
       "      <td>Alumina Ltd</td>\n",
       "      <td>AWC.AX</td>\n",
       "      <td>1600000.0</td>\n",
       "      <td>48.832852</td>\n",
       "      <td>0.00</td>\n",
       "      <td>27.0</td>\n",
       "      <td>0.0</td>\n",
       "      <td>10.0</td>\n",
       "    </tr>\n",
       "  </tbody>\n",
       "</table>\n",
       "</div>"
      ],
      "text/plain": [
       "     Instrument                                       Company Name        RIC  \\\n",
       "1571   FCR_u.TO                           First Capital Realty Inc   FCR_u.TO   \n",
       "1572     AIA.NZ                 Auckland International Airport Ltd     AIA.NZ   \n",
       "1573    ROKU.OQ                                           Roku Inc    ROKU.OQ   \n",
       "1574     PAYC.N                                Paycom Software Inc     PAYC.N   \n",
       "1575      SUI.N                                Sun Communities Inc      SUI.N   \n",
       "1576     GWRE.N                             Guidewire Software Inc     GWRE.N   \n",
       "1577    DOCU.OQ                                       DocuSign Inc    DOCU.OQ   \n",
       "1578    AEMN.SI              Ascendas Real Estate Investment Trust    AEMN.SI   \n",
       "1579    AGNC.OQ                               AGNC Investment Corp    AGNC.OQ   \n",
       "1580   CAR_u.TO  Canadian Apartment Properties Real Estate Inve...   CAR_u.TO   \n",
       "1581     ADML.L                                  Admiral Group PLC     ADML.L   \n",
       "1582      NNN.N                     National Retail Properties Inc      NNN.N   \n",
       "1583    DHER.DE                                   Delivery Hero SE    DHER.DE   \n",
       "1584    GFCP.PA                                          Gecina SA    GFCP.PA   \n",
       "1585     FBK.MI                        FinecoBank Banca Fineco SpA     FBK.MI   \n",
       "1586     FNV.TO                                 Franco-Nevada Corp     FNV.TO   \n",
       "1587    ICAD.PA                                           Icade SA    ICAD.PA   \n",
       "1588     WIX.OQ                                        Wix.Com Ltd     WIX.OQ   \n",
       "1589    IONS.OQ                          Ionis Pharmaceuticals Inc    IONS.OQ   \n",
       "1590     MFG.AX                       Magellan Financial Group Ltd     MFG.AX   \n",
       "1591     BLND.L                           British Land Company PLC     BLND.L   \n",
       "1592    PODD.OQ                                       Insulet Corp    PODD.OQ   \n",
       "1593      ELS.N                    Equity LifeStyle Properties Inc      ELS.N   \n",
       "1594     CVO.PA                                         Covivio SA     CVO.PA   \n",
       "1595    MKTX.OQ                           Marketaxess Holdings Inc    MKTX.OQ   \n",
       "1596     HRGV.L                            Hargreaves Lansdown PLC     HRGV.L   \n",
       "1597    MACT.SI                         Mapletree Commercial Trust    MACT.SI   \n",
       "1598    CYBR.OQ                              Cyberark Software Ltd    CYBR.OQ   \n",
       "1599    CACT.SI                        CapitaLand Commercial Trust    CACT.SI   \n",
       "1600    OKTA.OQ                                           Okta Inc    OKTA.OQ   \n",
       "1601     RYM.NZ                               Ryman Healthcare Ltd     RYM.NZ   \n",
       "1602     SGRO.L                                          SEGRO PLC     SGRO.L   \n",
       "1603    SUNT.SI                Suntec Real Estate Investment Trust    SUNT.SI   \n",
       "1604    AUTOA.L                              Auto Trader Group PLC    AUTOA.L   \n",
       "1605   ADYEN.AS                                           Adyen NV   ADYEN.AS   \n",
       "1606     WTC.AX                                WiseTech Global Ltd     WTC.AX   \n",
       "1607    GLPG.AS                                       Galapagos NV    GLPG.AS   \n",
       "1608     PARG.S                                 Pargesa Holding SA     PARG.S   \n",
       "1609    SRPT.OQ                           Sarepta Therapeutics Inc    SRPT.OQ   \n",
       "1610     PSK.TO                             Prairiesky Royalty Ltd     PSK.TO   \n",
       "1611     MDB.OQ                                        MongoDB Inc     MDB.OQ   \n",
       "1612     ACB.TO                                Aurora Cannabis Inc     ACB.TO   \n",
       "1613    TKWY.AS                           Just Eat Takeaway.com NV    TKWY.AS   \n",
       "1614    WEED.TO                                 Canopy Growth Corp    WEED.TO   \n",
       "1615    ALNY.OQ                        Alnylam Pharmaceuticals Inc    ALNY.OQ   \n",
       "1616    BGNE.OQ                                        Beigene Ltd    BGNE.OQ   \n",
       "1617  PSHG_p.DE                       Porsche Automobil Holding SE  PSHG_p.DE   \n",
       "1618    CRON.TO                                   Cronos Group Inc    CRON.TO   \n",
       "1619   LBRDK.OQ                             Liberty Broadband Corp   LBRDK.OQ   \n",
       "1620     AWC.AX                                        Alumina Ltd     AWC.AX   \n",
       "\n",
       "      Revenue - Actual  ESG Score  TRDIR Score  TRDIR Diversity Score  \\\n",
       "1571       746773000.0  59.356636         0.00                   50.0   \n",
       "1572       743400000.0  69.173869         0.00                   23.0   \n",
       "1573       742506000.0  24.738170         0.00                    4.0   \n",
       "1574       737670000.0  37.885196         0.00                   19.0   \n",
       "1575       719763000.0  39.597117         0.00                   13.0   \n",
       "1576       719514000.0  30.708824         0.00                   20.0   \n",
       "1577       700969000.0  36.246210         0.00                   21.0   \n",
       "1578       699057000.0  55.120941        46.75                   32.0   \n",
       "1579       693000000.0  49.876586         0.00                   15.0   \n",
       "1580       688585000.0  55.228790         0.00                   26.0   \n",
       "1581       671800000.0  57.907417         0.00                   28.0   \n",
       "1582       670487000.0  43.537135         0.00                    7.0   \n",
       "1583       665100000.0  59.460437        41.00                   18.0   \n",
       "1584       661700000.0  82.607789        61.25                   61.0   \n",
       "1585       657800000.0  78.527323        48.75                   30.0   \n",
       "1586       653200000.0  51.018382         0.00                   22.0   \n",
       "1587       643400000.0  69.651382        63.00                   54.0   \n",
       "1588       603704000.0  41.943380         0.00                    0.0   \n",
       "1589       599674000.0  58.948438         0.00                   14.0   \n",
       "1590       577251000.0  47.574993        44.75                   41.0   \n",
       "1591       576000000.0  63.527630        44.50                   32.0   \n",
       "1592       563823000.0  39.007064         0.00                   24.0   \n",
       "1593       547600000.0  55.393625         0.00                   18.0   \n",
       "1594       539000000.0  68.709448        52.00                   27.0   \n",
       "1595       511352000.0  44.789176         0.00                    9.0   \n",
       "1596       480500000.0  61.475113        49.50                   24.0   \n",
       "1597       443893000.0   0.000000         0.00                    0.0   \n",
       "1598       433895000.0  36.147160         0.00                   18.0   \n",
       "1599       412348000.0  73.976897        46.50                   43.0   \n",
       "1600       399254000.0  30.486673         0.00                   19.0   \n",
       "1601       382334000.0  54.139302         0.00                   36.0   \n",
       "1602       369000000.0  79.943546        52.00                   40.0   \n",
       "1603       366730000.0  38.089321         0.00                   28.0   \n",
       "1604       355100000.0  60.848388        50.75                   36.0   \n",
       "1605       348913000.0  25.130511         0.00                    4.0   \n",
       "1606       348266000.0  61.928232        46.50                   32.0   \n",
       "1607       317845000.0  80.415020        49.25                   42.0   \n",
       "1608       317200000.0  33.026190         0.00                   28.0   \n",
       "1609       301034000.0  49.548043         0.00                   12.0   \n",
       "1610       268400000.0  51.778978        45.75                   41.0   \n",
       "1611       253805000.0  29.490161         0.00                    6.0   \n",
       "1612       247939000.0  27.567609         0.00                   18.0   \n",
       "1613       232314000.0  44.987592         0.00                   30.0   \n",
       "1614       226341000.0  35.952166         0.00                   26.0   \n",
       "1615       219750000.0  73.909282         0.00                   20.0   \n",
       "1616       198220000.0   0.000000         0.00                    0.0   \n",
       "1617       103000000.0  12.608208         0.00                   27.0   \n",
       "1618        15703000.0  30.822290         0.00                   14.0   \n",
       "1619        14859000.0  22.940123         0.00                    0.0   \n",
       "1620         1600000.0  48.832852         0.00                   27.0   \n",
       "\n",
       "      TRDIR People Development Score  TRDIR Inclusion Score  \n",
       "1571                            51.0                    0.0  \n",
       "1572                            32.0                    0.0  \n",
       "1573                             0.0                    0.0  \n",
       "1574                            57.0                    0.0  \n",
       "1575                             0.0                    0.0  \n",
       "1576                            29.0                    0.0  \n",
       "1577                             0.0                    0.0  \n",
       "1578                            41.0                   14.0  \n",
       "1579                             0.0                    0.0  \n",
       "1580                            38.0                    0.0  \n",
       "1581                            36.0                    0.0  \n",
       "1582                            25.0                    0.0  \n",
       "1583                            29.0                   17.0  \n",
       "1584                            55.0                   29.0  \n",
       "1585                            45.0                   20.0  \n",
       "1586                             0.0                    0.0  \n",
       "1587                            61.0                   37.0  \n",
       "1588                             0.0                    0.0  \n",
       "1589                             0.0                    8.0  \n",
       "1590                            13.0                   25.0  \n",
       "1591                            39.0                    7.0  \n",
       "1592                             0.0                    0.0  \n",
       "1593                            25.0                    0.0  \n",
       "1594                            52.0                   29.0  \n",
       "1595                             0.0                   21.0  \n",
       "1596                            53.0                   21.0  \n",
       "1597                             0.0                    0.0  \n",
       "1598                             0.0                    0.0  \n",
       "1599                            29.0                   14.0  \n",
       "1600                             0.0                    0.0  \n",
       "1601                            31.0                    0.0  \n",
       "1602                            61.0                    7.0  \n",
       "1603                             0.0                    0.0  \n",
       "1604                            43.0                   24.0  \n",
       "1605                             0.0                    0.0  \n",
       "1606                            29.0                   25.0  \n",
       "1607                            43.0                   12.0  \n",
       "1608                             0.0                    0.0  \n",
       "1609                             0.0                    0.0  \n",
       "1610                            27.0                   15.0  \n",
       "1611                             0.0                    0.0  \n",
       "1612                             0.0                    0.0  \n",
       "1613                             0.0                    0.0  \n",
       "1614                             0.0                    0.0  \n",
       "1615                            14.0                    0.0  \n",
       "1616                             0.0                    0.0  \n",
       "1617                             0.0                    0.0  \n",
       "1618                             0.0                    0.0  \n",
       "1619                             0.0                    0.0  \n",
       "1620                             0.0                   10.0  "
      ]
     },
     "metadata": {},
     "output_type": "display_data"
    }
   ],
   "source": [
    "# get the top and bottom 50 by revenue\n",
    "top50 = df.iloc[:50]\n",
    "bot50 = df.iloc[-50:]\n",
    "display(Markdown('**Top 50 companies in the world index**'))\n",
    "display(top50)\n",
    "display(Markdown('**Lower 50 companies in the world index**'))\n",
    "display(bot50)"
   ]
  },
  {
   "cell_type": "markdown",
   "metadata": {},
   "source": [
    "### Plot compare the ESG metrices for these companies"
   ]
  },
  {
   "cell_type": "code",
   "execution_count": 5,
   "metadata": {},
   "outputs": [
    {
     "data": {
      "application/vnd.plotly.v1+json": {
       "config": {
        "plotlyServerURL": "https://plot.ly"
       },
       "data": [
        {
         "mode": "markers",
         "name": "Top 50",
         "type": "scatter",
         "x": [
          "7203.T",
          "8058.T",
          "7267.T",
          "6178.T",
          "9432.T",
          "8001.T",
          "7201.T",
          "5020.T",
          "9984.T",
          "6501.T",
          "6758.T",
          "8267.T",
          "6752.T",
          "7181.T",
          "8002.T",
          "8750.T",
          "8031.T",
          "3382.T",
          "8015.T",
          "8306.T",
          "9501.T",
          "5401.T",
          "8316.T",
          "8725.T",
          "8766.T",
          "6902.T",
          "8053.T",
          "9433.T",
          "9437.T",
          "6503.T",
          "5019.T",
          "1925.T",
          "7011.T",
          "7259.T",
          "6702.T",
          "8411.T",
          "4188.T",
          "5411.T",
          "7269.T",
          "9434.T",
          "6502.T",
          "5108.T",
          "8630.T",
          "7751.T",
          "7261.T",
          "9503.T",
          "7459.T",
          "5802.T",
          "7270.T",
          "9502.T"
         ],
         "y": [
          87.04472918039991,
          70.5270208306039,
          86.05089540760271,
          51.6979945286837,
          65.5087264025877,
          72.3880829358771,
          78.822626461998,
          63.7404968434449,
          60.4092295047194,
          84.9510250045964,
          87.7117719742502,
          79.0470013443287,
          72.32274918387891,
          0,
          52.30266605528621,
          72.3098590475028,
          70.6900503444621,
          77.58429141836709,
          51.699986898991206,
          81.0980648133327,
          53.807241056403,
          62.5787276797755,
          75.84118259421791,
          75.221562884543,
          69.7417370920666,
          73.0278496459197,
          60.9885038647976,
          71.4862757185279,
          80.56097876232892,
          77.8767979769859,
          60.8551668704054,
          77.9586339980757,
          74.9712439680772,
          53.2985743435178,
          78.7401337905069,
          73.54129671886241,
          60.632775763568404,
          72.37227234719751,
          63.0032607391008,
          0,
          83.6410530428387,
          75.8842704346318,
          70.8949263202855,
          76.1238864142539,
          73.83946027766291,
          52.5743981686604,
          41.1557966652621,
          60.1970179907445,
          56.1901097582118,
          42.4280843943165
         ]
        },
        {
         "mode": "markers",
         "name": "Bottom 50",
         "type": "scatter",
         "x": [
          "FCR_u.TO",
          "AIA.NZ",
          "ROKU.OQ",
          "PAYC.N",
          "SUI.N",
          "GWRE.N",
          "DOCU.OQ",
          "AEMN.SI",
          "AGNC.OQ",
          "CAR_u.TO",
          "ADML.L",
          "NNN.N",
          "DHER.DE",
          "GFCP.PA",
          "FBK.MI",
          "FNV.TO",
          "ICAD.PA",
          "WIX.OQ",
          "IONS.OQ",
          "MFG.AX",
          "BLND.L",
          "PODD.OQ",
          "ELS.N",
          "CVO.PA",
          "MKTX.OQ",
          "HRGV.L",
          "MACT.SI",
          "CYBR.OQ",
          "CACT.SI",
          "OKTA.OQ",
          "RYM.NZ",
          "SGRO.L",
          "SUNT.SI",
          "AUTOA.L",
          "ADYEN.AS",
          "WTC.AX",
          "GLPG.AS",
          "PARG.S",
          "SRPT.OQ",
          "PSK.TO",
          "MDB.OQ",
          "ACB.TO",
          "TKWY.AS",
          "WEED.TO",
          "ALNY.OQ",
          "BGNE.OQ",
          "PSHG_p.DE",
          "CRON.TO",
          "LBRDK.OQ",
          "AWC.AX"
         ],
         "y": [
          59.3566359800537,
          69.1738685604236,
          24.7381699459237,
          37.8851962988151,
          39.5971167216019,
          30.7088237126407,
          36.2462103316944,
          55.120940708149995,
          49.8765863156474,
          55.2287897098718,
          57.9074169135549,
          43.53713494955971,
          59.4604365111672,
          82.6077891791044,
          78.52732301385991,
          51.0183823529411,
          69.6513821477324,
          41.943380281690104,
          58.9484375639923,
          47.5749934536518,
          63.5276296251906,
          39.0070638871517,
          55.3936253666039,
          68.7094482942431,
          44.7891761811367,
          61.475112573911,
          0,
          36.1471596244131,
          73.97689721421709,
          30.4866727324689,
          54.1393020111543,
          79.94354639646029,
          38.0893211655459,
          60.8483879723738,
          25.1305114638447,
          61.928232019514105,
          80.4150202634245,
          33.0261904761904,
          49.5480432251534,
          51.7789782373823,
          29.4901605687856,
          27.567608966981602,
          44.987592219986496,
          35.952166372197794,
          73.9092815895248,
          0,
          12.6082084386141,
          30.822290444770196,
          22.940123036295,
          48.8328515889114
         ]
        }
       ],
       "layout": {
        "template": {
         "data": {
          "bar": [
           {
            "error_x": {
             "color": "#2a3f5f"
            },
            "error_y": {
             "color": "#2a3f5f"
            },
            "marker": {
             "line": {
              "color": "#E5ECF6",
              "width": 0.5
             }
            },
            "type": "bar"
           }
          ],
          "barpolar": [
           {
            "marker": {
             "line": {
              "color": "#E5ECF6",
              "width": 0.5
             }
            },
            "type": "barpolar"
           }
          ],
          "carpet": [
           {
            "aaxis": {
             "endlinecolor": "#2a3f5f",
             "gridcolor": "white",
             "linecolor": "white",
             "minorgridcolor": "white",
             "startlinecolor": "#2a3f5f"
            },
            "baxis": {
             "endlinecolor": "#2a3f5f",
             "gridcolor": "white",
             "linecolor": "white",
             "minorgridcolor": "white",
             "startlinecolor": "#2a3f5f"
            },
            "type": "carpet"
           }
          ],
          "choropleth": [
           {
            "colorbar": {
             "outlinewidth": 0,
             "ticks": ""
            },
            "type": "choropleth"
           }
          ],
          "contour": [
           {
            "colorbar": {
             "outlinewidth": 0,
             "ticks": ""
            },
            "colorscale": [
             [
              0,
              "#0d0887"
             ],
             [
              0.1111111111111111,
              "#46039f"
             ],
             [
              0.2222222222222222,
              "#7201a8"
             ],
             [
              0.3333333333333333,
              "#9c179e"
             ],
             [
              0.4444444444444444,
              "#bd3786"
             ],
             [
              0.5555555555555556,
              "#d8576b"
             ],
             [
              0.6666666666666666,
              "#ed7953"
             ],
             [
              0.7777777777777778,
              "#fb9f3a"
             ],
             [
              0.8888888888888888,
              "#fdca26"
             ],
             [
              1,
              "#f0f921"
             ]
            ],
            "type": "contour"
           }
          ],
          "contourcarpet": [
           {
            "colorbar": {
             "outlinewidth": 0,
             "ticks": ""
            },
            "type": "contourcarpet"
           }
          ],
          "heatmap": [
           {
            "colorbar": {
             "outlinewidth": 0,
             "ticks": ""
            },
            "colorscale": [
             [
              0,
              "#0d0887"
             ],
             [
              0.1111111111111111,
              "#46039f"
             ],
             [
              0.2222222222222222,
              "#7201a8"
             ],
             [
              0.3333333333333333,
              "#9c179e"
             ],
             [
              0.4444444444444444,
              "#bd3786"
             ],
             [
              0.5555555555555556,
              "#d8576b"
             ],
             [
              0.6666666666666666,
              "#ed7953"
             ],
             [
              0.7777777777777778,
              "#fb9f3a"
             ],
             [
              0.8888888888888888,
              "#fdca26"
             ],
             [
              1,
              "#f0f921"
             ]
            ],
            "type": "heatmap"
           }
          ],
          "heatmapgl": [
           {
            "colorbar": {
             "outlinewidth": 0,
             "ticks": ""
            },
            "colorscale": [
             [
              0,
              "#0d0887"
             ],
             [
              0.1111111111111111,
              "#46039f"
             ],
             [
              0.2222222222222222,
              "#7201a8"
             ],
             [
              0.3333333333333333,
              "#9c179e"
             ],
             [
              0.4444444444444444,
              "#bd3786"
             ],
             [
              0.5555555555555556,
              "#d8576b"
             ],
             [
              0.6666666666666666,
              "#ed7953"
             ],
             [
              0.7777777777777778,
              "#fb9f3a"
             ],
             [
              0.8888888888888888,
              "#fdca26"
             ],
             [
              1,
              "#f0f921"
             ]
            ],
            "type": "heatmapgl"
           }
          ],
          "histogram": [
           {
            "marker": {
             "colorbar": {
              "outlinewidth": 0,
              "ticks": ""
             }
            },
            "type": "histogram"
           }
          ],
          "histogram2d": [
           {
            "colorbar": {
             "outlinewidth": 0,
             "ticks": ""
            },
            "colorscale": [
             [
              0,
              "#0d0887"
             ],
             [
              0.1111111111111111,
              "#46039f"
             ],
             [
              0.2222222222222222,
              "#7201a8"
             ],
             [
              0.3333333333333333,
              "#9c179e"
             ],
             [
              0.4444444444444444,
              "#bd3786"
             ],
             [
              0.5555555555555556,
              "#d8576b"
             ],
             [
              0.6666666666666666,
              "#ed7953"
             ],
             [
              0.7777777777777778,
              "#fb9f3a"
             ],
             [
              0.8888888888888888,
              "#fdca26"
             ],
             [
              1,
              "#f0f921"
             ]
            ],
            "type": "histogram2d"
           }
          ],
          "histogram2dcontour": [
           {
            "colorbar": {
             "outlinewidth": 0,
             "ticks": ""
            },
            "colorscale": [
             [
              0,
              "#0d0887"
             ],
             [
              0.1111111111111111,
              "#46039f"
             ],
             [
              0.2222222222222222,
              "#7201a8"
             ],
             [
              0.3333333333333333,
              "#9c179e"
             ],
             [
              0.4444444444444444,
              "#bd3786"
             ],
             [
              0.5555555555555556,
              "#d8576b"
             ],
             [
              0.6666666666666666,
              "#ed7953"
             ],
             [
              0.7777777777777778,
              "#fb9f3a"
             ],
             [
              0.8888888888888888,
              "#fdca26"
             ],
             [
              1,
              "#f0f921"
             ]
            ],
            "type": "histogram2dcontour"
           }
          ],
          "mesh3d": [
           {
            "colorbar": {
             "outlinewidth": 0,
             "ticks": ""
            },
            "type": "mesh3d"
           }
          ],
          "parcoords": [
           {
            "line": {
             "colorbar": {
              "outlinewidth": 0,
              "ticks": ""
             }
            },
            "type": "parcoords"
           }
          ],
          "pie": [
           {
            "automargin": true,
            "type": "pie"
           }
          ],
          "scatter": [
           {
            "marker": {
             "colorbar": {
              "outlinewidth": 0,
              "ticks": ""
             }
            },
            "type": "scatter"
           }
          ],
          "scatter3d": [
           {
            "line": {
             "colorbar": {
              "outlinewidth": 0,
              "ticks": ""
             }
            },
            "marker": {
             "colorbar": {
              "outlinewidth": 0,
              "ticks": ""
             }
            },
            "type": "scatter3d"
           }
          ],
          "scattercarpet": [
           {
            "marker": {
             "colorbar": {
              "outlinewidth": 0,
              "ticks": ""
             }
            },
            "type": "scattercarpet"
           }
          ],
          "scattergeo": [
           {
            "marker": {
             "colorbar": {
              "outlinewidth": 0,
              "ticks": ""
             }
            },
            "type": "scattergeo"
           }
          ],
          "scattergl": [
           {
            "marker": {
             "colorbar": {
              "outlinewidth": 0,
              "ticks": ""
             }
            },
            "type": "scattergl"
           }
          ],
          "scattermapbox": [
           {
            "marker": {
             "colorbar": {
              "outlinewidth": 0,
              "ticks": ""
             }
            },
            "type": "scattermapbox"
           }
          ],
          "scatterpolar": [
           {
            "marker": {
             "colorbar": {
              "outlinewidth": 0,
              "ticks": ""
             }
            },
            "type": "scatterpolar"
           }
          ],
          "scatterpolargl": [
           {
            "marker": {
             "colorbar": {
              "outlinewidth": 0,
              "ticks": ""
             }
            },
            "type": "scatterpolargl"
           }
          ],
          "scatterternary": [
           {
            "marker": {
             "colorbar": {
              "outlinewidth": 0,
              "ticks": ""
             }
            },
            "type": "scatterternary"
           }
          ],
          "surface": [
           {
            "colorbar": {
             "outlinewidth": 0,
             "ticks": ""
            },
            "colorscale": [
             [
              0,
              "#0d0887"
             ],
             [
              0.1111111111111111,
              "#46039f"
             ],
             [
              0.2222222222222222,
              "#7201a8"
             ],
             [
              0.3333333333333333,
              "#9c179e"
             ],
             [
              0.4444444444444444,
              "#bd3786"
             ],
             [
              0.5555555555555556,
              "#d8576b"
             ],
             [
              0.6666666666666666,
              "#ed7953"
             ],
             [
              0.7777777777777778,
              "#fb9f3a"
             ],
             [
              0.8888888888888888,
              "#fdca26"
             ],
             [
              1,
              "#f0f921"
             ]
            ],
            "type": "surface"
           }
          ],
          "table": [
           {
            "cells": {
             "fill": {
              "color": "#EBF0F8"
             },
             "line": {
              "color": "white"
             }
            },
            "header": {
             "fill": {
              "color": "#C8D4E3"
             },
             "line": {
              "color": "white"
             }
            },
            "type": "table"
           }
          ]
         },
         "layout": {
          "annotationdefaults": {
           "arrowcolor": "#2a3f5f",
           "arrowhead": 0,
           "arrowwidth": 1
          },
          "coloraxis": {
           "colorbar": {
            "outlinewidth": 0,
            "ticks": ""
           }
          },
          "colorscale": {
           "diverging": [
            [
             0,
             "#8e0152"
            ],
            [
             0.1,
             "#c51b7d"
            ],
            [
             0.2,
             "#de77ae"
            ],
            [
             0.3,
             "#f1b6da"
            ],
            [
             0.4,
             "#fde0ef"
            ],
            [
             0.5,
             "#f7f7f7"
            ],
            [
             0.6,
             "#e6f5d0"
            ],
            [
             0.7,
             "#b8e186"
            ],
            [
             0.8,
             "#7fbc41"
            ],
            [
             0.9,
             "#4d9221"
            ],
            [
             1,
             "#276419"
            ]
           ],
           "sequential": [
            [
             0,
             "#0d0887"
            ],
            [
             0.1111111111111111,
             "#46039f"
            ],
            [
             0.2222222222222222,
             "#7201a8"
            ],
            [
             0.3333333333333333,
             "#9c179e"
            ],
            [
             0.4444444444444444,
             "#bd3786"
            ],
            [
             0.5555555555555556,
             "#d8576b"
            ],
            [
             0.6666666666666666,
             "#ed7953"
            ],
            [
             0.7777777777777778,
             "#fb9f3a"
            ],
            [
             0.8888888888888888,
             "#fdca26"
            ],
            [
             1,
             "#f0f921"
            ]
           ],
           "sequentialminus": [
            [
             0,
             "#0d0887"
            ],
            [
             0.1111111111111111,
             "#46039f"
            ],
            [
             0.2222222222222222,
             "#7201a8"
            ],
            [
             0.3333333333333333,
             "#9c179e"
            ],
            [
             0.4444444444444444,
             "#bd3786"
            ],
            [
             0.5555555555555556,
             "#d8576b"
            ],
            [
             0.6666666666666666,
             "#ed7953"
            ],
            [
             0.7777777777777778,
             "#fb9f3a"
            ],
            [
             0.8888888888888888,
             "#fdca26"
            ],
            [
             1,
             "#f0f921"
            ]
           ]
          },
          "colorway": [
           "#636efa",
           "#EF553B",
           "#00cc96",
           "#ab63fa",
           "#FFA15A",
           "#19d3f3",
           "#FF6692",
           "#B6E880",
           "#FF97FF",
           "#FECB52"
          ],
          "font": {
           "color": "#2a3f5f"
          },
          "geo": {
           "bgcolor": "white",
           "lakecolor": "white",
           "landcolor": "#E5ECF6",
           "showlakes": true,
           "showland": true,
           "subunitcolor": "white"
          },
          "hoverlabel": {
           "align": "left"
          },
          "hovermode": "closest",
          "mapbox": {
           "style": "light"
          },
          "paper_bgcolor": "white",
          "plot_bgcolor": "#E5ECF6",
          "polar": {
           "angularaxis": {
            "gridcolor": "white",
            "linecolor": "white",
            "ticks": ""
           },
           "bgcolor": "#E5ECF6",
           "radialaxis": {
            "gridcolor": "white",
            "linecolor": "white",
            "ticks": ""
           }
          },
          "scene": {
           "xaxis": {
            "backgroundcolor": "#E5ECF6",
            "gridcolor": "white",
            "gridwidth": 2,
            "linecolor": "white",
            "showbackground": true,
            "ticks": "",
            "zerolinecolor": "white"
           },
           "yaxis": {
            "backgroundcolor": "#E5ECF6",
            "gridcolor": "white",
            "gridwidth": 2,
            "linecolor": "white",
            "showbackground": true,
            "ticks": "",
            "zerolinecolor": "white"
           },
           "zaxis": {
            "backgroundcolor": "#E5ECF6",
            "gridcolor": "white",
            "gridwidth": 2,
            "linecolor": "white",
            "showbackground": true,
            "ticks": "",
            "zerolinecolor": "white"
           }
          },
          "shapedefaults": {
           "line": {
            "color": "#2a3f5f"
           }
          },
          "ternary": {
           "aaxis": {
            "gridcolor": "white",
            "linecolor": "white",
            "ticks": ""
           },
           "baxis": {
            "gridcolor": "white",
            "linecolor": "white",
            "ticks": ""
           },
           "bgcolor": "#E5ECF6",
           "caxis": {
            "gridcolor": "white",
            "linecolor": "white",
            "ticks": ""
           }
          },
          "title": {
           "x": 0.05
          },
          "xaxis": {
           "automargin": true,
           "gridcolor": "white",
           "linecolor": "white",
           "ticks": "",
           "title": {
            "standoff": 15
           },
           "zerolinecolor": "white",
           "zerolinewidth": 2
          },
          "yaxis": {
           "automargin": true,
           "gridcolor": "white",
           "linecolor": "white",
           "ticks": "",
           "title": {
            "standoff": 15
           },
           "zerolinecolor": "white",
           "zerolinewidth": 2
          }
         }
        },
        "title": {
         "text": "Top companies tend to be environmentally and socially responsible"
        }
       }
      },
      "text/html": [
       "<div>\n",
       "        \n",
       "        \n",
       "            <div id=\"af6913d4-60b6-4f53-9f94-4ec4390b16fd\" class=\"plotly-graph-div\" style=\"height:525px; width:100%;\"></div>\n",
       "            <script type=\"text/javascript\">\n",
       "                require([\"plotly\"], function(Plotly) {\n",
       "                    window.PLOTLYENV=window.PLOTLYENV || {};\n",
       "                    \n",
       "                if (document.getElementById(\"af6913d4-60b6-4f53-9f94-4ec4390b16fd\")) {\n",
       "                    Plotly.newPlot(\n",
       "                        'af6913d4-60b6-4f53-9f94-4ec4390b16fd',\n",
       "                        [{\"mode\": \"markers\", \"name\": \"Top 50\", \"type\": \"scatter\", \"x\": [\"7203.T\", \"8058.T\", \"7267.T\", \"6178.T\", \"9432.T\", \"8001.T\", \"7201.T\", \"5020.T\", \"9984.T\", \"6501.T\", \"6758.T\", \"8267.T\", \"6752.T\", \"7181.T\", \"8002.T\", \"8750.T\", \"8031.T\", \"3382.T\", \"8015.T\", \"8306.T\", \"9501.T\", \"5401.T\", \"8316.T\", \"8725.T\", \"8766.T\", \"6902.T\", \"8053.T\", \"9433.T\", \"9437.T\", \"6503.T\", \"5019.T\", \"1925.T\", \"7011.T\", \"7259.T\", \"6702.T\", \"8411.T\", \"4188.T\", \"5411.T\", \"7269.T\", \"9434.T\", \"6502.T\", \"5108.T\", \"8630.T\", \"7751.T\", \"7261.T\", \"9503.T\", \"7459.T\", \"5802.T\", \"7270.T\", \"9502.T\"], \"y\": [87.04472918039991, 70.5270208306039, 86.05089540760271, 51.6979945286837, 65.5087264025877, 72.3880829358771, 78.822626461998, 63.7404968434449, 60.4092295047194, 84.9510250045964, 87.7117719742502, 79.0470013443287, 72.32274918387891, 0.0, 52.30266605528621, 72.3098590475028, 70.6900503444621, 77.58429141836709, 51.699986898991206, 81.0980648133327, 53.807241056403, 62.5787276797755, 75.84118259421791, 75.221562884543, 69.7417370920666, 73.0278496459197, 60.9885038647976, 71.4862757185279, 80.56097876232892, 77.8767979769859, 60.8551668704054, 77.9586339980757, 74.9712439680772, 53.2985743435178, 78.7401337905069, 73.54129671886241, 60.632775763568404, 72.37227234719751, 63.0032607391008, 0.0, 83.6410530428387, 75.8842704346318, 70.8949263202855, 76.1238864142539, 73.83946027766291, 52.5743981686604, 41.1557966652621, 60.1970179907445, 56.1901097582118, 42.4280843943165]}, {\"mode\": \"markers\", \"name\": \"Bottom 50\", \"type\": \"scatter\", \"x\": [\"FCR_u.TO\", \"AIA.NZ\", \"ROKU.OQ\", \"PAYC.N\", \"SUI.N\", \"GWRE.N\", \"DOCU.OQ\", \"AEMN.SI\", \"AGNC.OQ\", \"CAR_u.TO\", \"ADML.L\", \"NNN.N\", \"DHER.DE\", \"GFCP.PA\", \"FBK.MI\", \"FNV.TO\", \"ICAD.PA\", \"WIX.OQ\", \"IONS.OQ\", \"MFG.AX\", \"BLND.L\", \"PODD.OQ\", \"ELS.N\", \"CVO.PA\", \"MKTX.OQ\", \"HRGV.L\", \"MACT.SI\", \"CYBR.OQ\", \"CACT.SI\", \"OKTA.OQ\", \"RYM.NZ\", \"SGRO.L\", \"SUNT.SI\", \"AUTOA.L\", \"ADYEN.AS\", \"WTC.AX\", \"GLPG.AS\", \"PARG.S\", \"SRPT.OQ\", \"PSK.TO\", \"MDB.OQ\", \"ACB.TO\", \"TKWY.AS\", \"WEED.TO\", \"ALNY.OQ\", \"BGNE.OQ\", \"PSHG_p.DE\", \"CRON.TO\", \"LBRDK.OQ\", \"AWC.AX\"], \"y\": [59.3566359800537, 69.1738685604236, 24.7381699459237, 37.8851962988151, 39.5971167216019, 30.7088237126407, 36.2462103316944, 55.120940708149995, 49.8765863156474, 55.2287897098718, 57.9074169135549, 43.53713494955971, 59.4604365111672, 82.6077891791044, 78.52732301385991, 51.0183823529411, 69.6513821477324, 41.943380281690104, 58.9484375639923, 47.5749934536518, 63.5276296251906, 39.0070638871517, 55.3936253666039, 68.7094482942431, 44.7891761811367, 61.475112573911, 0.0, 36.1471596244131, 73.97689721421709, 30.4866727324689, 54.1393020111543, 79.94354639646029, 38.0893211655459, 60.8483879723738, 25.1305114638447, 61.928232019514105, 80.4150202634245, 33.0261904761904, 49.5480432251534, 51.7789782373823, 29.4901605687856, 27.567608966981602, 44.987592219986496, 35.952166372197794, 73.9092815895248, 0.0, 12.6082084386141, 30.822290444770196, 22.940123036295, 48.8328515889114]}],\n",
       "                        {\"template\": {\"data\": {\"bar\": [{\"error_x\": {\"color\": \"#2a3f5f\"}, \"error_y\": {\"color\": \"#2a3f5f\"}, \"marker\": {\"line\": {\"color\": \"#E5ECF6\", \"width\": 0.5}}, \"type\": \"bar\"}], \"barpolar\": [{\"marker\": {\"line\": {\"color\": \"#E5ECF6\", \"width\": 0.5}}, \"type\": \"barpolar\"}], \"carpet\": [{\"aaxis\": {\"endlinecolor\": \"#2a3f5f\", \"gridcolor\": \"white\", \"linecolor\": \"white\", \"minorgridcolor\": \"white\", \"startlinecolor\": \"#2a3f5f\"}, \"baxis\": {\"endlinecolor\": \"#2a3f5f\", \"gridcolor\": \"white\", \"linecolor\": \"white\", \"minorgridcolor\": \"white\", \"startlinecolor\": \"#2a3f5f\"}, \"type\": \"carpet\"}], \"choropleth\": [{\"colorbar\": {\"outlinewidth\": 0, \"ticks\": \"\"}, \"type\": \"choropleth\"}], \"contour\": [{\"colorbar\": {\"outlinewidth\": 0, \"ticks\": \"\"}, \"colorscale\": [[0.0, \"#0d0887\"], [0.1111111111111111, \"#46039f\"], [0.2222222222222222, \"#7201a8\"], [0.3333333333333333, \"#9c179e\"], [0.4444444444444444, \"#bd3786\"], [0.5555555555555556, \"#d8576b\"], [0.6666666666666666, \"#ed7953\"], [0.7777777777777778, \"#fb9f3a\"], [0.8888888888888888, \"#fdca26\"], [1.0, \"#f0f921\"]], \"type\": \"contour\"}], \"contourcarpet\": [{\"colorbar\": {\"outlinewidth\": 0, \"ticks\": \"\"}, \"type\": \"contourcarpet\"}], \"heatmap\": [{\"colorbar\": {\"outlinewidth\": 0, \"ticks\": \"\"}, \"colorscale\": [[0.0, \"#0d0887\"], [0.1111111111111111, \"#46039f\"], [0.2222222222222222, \"#7201a8\"], [0.3333333333333333, \"#9c179e\"], [0.4444444444444444, \"#bd3786\"], [0.5555555555555556, \"#d8576b\"], [0.6666666666666666, \"#ed7953\"], [0.7777777777777778, \"#fb9f3a\"], [0.8888888888888888, \"#fdca26\"], [1.0, \"#f0f921\"]], \"type\": \"heatmap\"}], \"heatmapgl\": [{\"colorbar\": {\"outlinewidth\": 0, \"ticks\": \"\"}, \"colorscale\": [[0.0, \"#0d0887\"], [0.1111111111111111, \"#46039f\"], [0.2222222222222222, \"#7201a8\"], [0.3333333333333333, \"#9c179e\"], [0.4444444444444444, \"#bd3786\"], [0.5555555555555556, \"#d8576b\"], [0.6666666666666666, \"#ed7953\"], [0.7777777777777778, \"#fb9f3a\"], [0.8888888888888888, \"#fdca26\"], [1.0, \"#f0f921\"]], \"type\": \"heatmapgl\"}], \"histogram\": [{\"marker\": {\"colorbar\": {\"outlinewidth\": 0, \"ticks\": \"\"}}, \"type\": \"histogram\"}], \"histogram2d\": [{\"colorbar\": {\"outlinewidth\": 0, \"ticks\": \"\"}, \"colorscale\": [[0.0, \"#0d0887\"], [0.1111111111111111, \"#46039f\"], [0.2222222222222222, \"#7201a8\"], [0.3333333333333333, \"#9c179e\"], [0.4444444444444444, \"#bd3786\"], [0.5555555555555556, \"#d8576b\"], [0.6666666666666666, \"#ed7953\"], [0.7777777777777778, \"#fb9f3a\"], [0.8888888888888888, \"#fdca26\"], [1.0, \"#f0f921\"]], \"type\": \"histogram2d\"}], \"histogram2dcontour\": [{\"colorbar\": {\"outlinewidth\": 0, \"ticks\": \"\"}, \"colorscale\": [[0.0, \"#0d0887\"], [0.1111111111111111, \"#46039f\"], [0.2222222222222222, \"#7201a8\"], [0.3333333333333333, \"#9c179e\"], [0.4444444444444444, \"#bd3786\"], [0.5555555555555556, \"#d8576b\"], [0.6666666666666666, \"#ed7953\"], [0.7777777777777778, \"#fb9f3a\"], [0.8888888888888888, \"#fdca26\"], [1.0, \"#f0f921\"]], \"type\": \"histogram2dcontour\"}], \"mesh3d\": [{\"colorbar\": {\"outlinewidth\": 0, \"ticks\": \"\"}, \"type\": \"mesh3d\"}], \"parcoords\": [{\"line\": {\"colorbar\": {\"outlinewidth\": 0, \"ticks\": \"\"}}, \"type\": \"parcoords\"}], \"pie\": [{\"automargin\": true, \"type\": \"pie\"}], \"scatter\": [{\"marker\": {\"colorbar\": {\"outlinewidth\": 0, \"ticks\": \"\"}}, \"type\": \"scatter\"}], \"scatter3d\": [{\"line\": {\"colorbar\": {\"outlinewidth\": 0, \"ticks\": \"\"}}, \"marker\": {\"colorbar\": {\"outlinewidth\": 0, \"ticks\": \"\"}}, \"type\": \"scatter3d\"}], \"scattercarpet\": [{\"marker\": {\"colorbar\": {\"outlinewidth\": 0, \"ticks\": \"\"}}, \"type\": \"scattercarpet\"}], \"scattergeo\": [{\"marker\": {\"colorbar\": {\"outlinewidth\": 0, \"ticks\": \"\"}}, \"type\": \"scattergeo\"}], \"scattergl\": [{\"marker\": {\"colorbar\": {\"outlinewidth\": 0, \"ticks\": \"\"}}, \"type\": \"scattergl\"}], \"scattermapbox\": [{\"marker\": {\"colorbar\": {\"outlinewidth\": 0, \"ticks\": \"\"}}, \"type\": \"scattermapbox\"}], \"scatterpolar\": [{\"marker\": {\"colorbar\": {\"outlinewidth\": 0, \"ticks\": \"\"}}, \"type\": \"scatterpolar\"}], \"scatterpolargl\": [{\"marker\": {\"colorbar\": {\"outlinewidth\": 0, \"ticks\": \"\"}}, \"type\": \"scatterpolargl\"}], \"scatterternary\": [{\"marker\": {\"colorbar\": {\"outlinewidth\": 0, \"ticks\": \"\"}}, \"type\": \"scatterternary\"}], \"surface\": [{\"colorbar\": {\"outlinewidth\": 0, \"ticks\": \"\"}, \"colorscale\": [[0.0, \"#0d0887\"], [0.1111111111111111, \"#46039f\"], [0.2222222222222222, \"#7201a8\"], [0.3333333333333333, \"#9c179e\"], [0.4444444444444444, \"#bd3786\"], [0.5555555555555556, \"#d8576b\"], [0.6666666666666666, \"#ed7953\"], [0.7777777777777778, \"#fb9f3a\"], [0.8888888888888888, \"#fdca26\"], [1.0, \"#f0f921\"]], \"type\": \"surface\"}], \"table\": [{\"cells\": {\"fill\": {\"color\": \"#EBF0F8\"}, \"line\": {\"color\": \"white\"}}, \"header\": {\"fill\": {\"color\": \"#C8D4E3\"}, \"line\": {\"color\": \"white\"}}, \"type\": \"table\"}]}, \"layout\": {\"annotationdefaults\": {\"arrowcolor\": \"#2a3f5f\", \"arrowhead\": 0, \"arrowwidth\": 1}, \"coloraxis\": {\"colorbar\": {\"outlinewidth\": 0, \"ticks\": \"\"}}, \"colorscale\": {\"diverging\": [[0, \"#8e0152\"], [0.1, \"#c51b7d\"], [0.2, \"#de77ae\"], [0.3, \"#f1b6da\"], [0.4, \"#fde0ef\"], [0.5, \"#f7f7f7\"], [0.6, \"#e6f5d0\"], [0.7, \"#b8e186\"], [0.8, \"#7fbc41\"], [0.9, \"#4d9221\"], [1, \"#276419\"]], \"sequential\": [[0.0, \"#0d0887\"], [0.1111111111111111, \"#46039f\"], [0.2222222222222222, \"#7201a8\"], [0.3333333333333333, \"#9c179e\"], [0.4444444444444444, \"#bd3786\"], [0.5555555555555556, \"#d8576b\"], [0.6666666666666666, \"#ed7953\"], [0.7777777777777778, \"#fb9f3a\"], [0.8888888888888888, \"#fdca26\"], [1.0, \"#f0f921\"]], \"sequentialminus\": [[0.0, \"#0d0887\"], [0.1111111111111111, \"#46039f\"], [0.2222222222222222, \"#7201a8\"], [0.3333333333333333, \"#9c179e\"], [0.4444444444444444, \"#bd3786\"], [0.5555555555555556, \"#d8576b\"], [0.6666666666666666, \"#ed7953\"], [0.7777777777777778, \"#fb9f3a\"], [0.8888888888888888, \"#fdca26\"], [1.0, \"#f0f921\"]]}, \"colorway\": [\"#636efa\", \"#EF553B\", \"#00cc96\", \"#ab63fa\", \"#FFA15A\", \"#19d3f3\", \"#FF6692\", \"#B6E880\", \"#FF97FF\", \"#FECB52\"], \"font\": {\"color\": \"#2a3f5f\"}, \"geo\": {\"bgcolor\": \"white\", \"lakecolor\": \"white\", \"landcolor\": \"#E5ECF6\", \"showlakes\": true, \"showland\": true, \"subunitcolor\": \"white\"}, \"hoverlabel\": {\"align\": \"left\"}, \"hovermode\": \"closest\", \"mapbox\": {\"style\": \"light\"}, \"paper_bgcolor\": \"white\", \"plot_bgcolor\": \"#E5ECF6\", \"polar\": {\"angularaxis\": {\"gridcolor\": \"white\", \"linecolor\": \"white\", \"ticks\": \"\"}, \"bgcolor\": \"#E5ECF6\", \"radialaxis\": {\"gridcolor\": \"white\", \"linecolor\": \"white\", \"ticks\": \"\"}}, \"scene\": {\"xaxis\": {\"backgroundcolor\": \"#E5ECF6\", \"gridcolor\": \"white\", \"gridwidth\": 2, \"linecolor\": \"white\", \"showbackground\": true, \"ticks\": \"\", \"zerolinecolor\": \"white\"}, \"yaxis\": {\"backgroundcolor\": \"#E5ECF6\", \"gridcolor\": \"white\", \"gridwidth\": 2, \"linecolor\": \"white\", \"showbackground\": true, \"ticks\": \"\", \"zerolinecolor\": \"white\"}, \"zaxis\": {\"backgroundcolor\": \"#E5ECF6\", \"gridcolor\": \"white\", \"gridwidth\": 2, \"linecolor\": \"white\", \"showbackground\": true, \"ticks\": \"\", \"zerolinecolor\": \"white\"}}, \"shapedefaults\": {\"line\": {\"color\": \"#2a3f5f\"}}, \"ternary\": {\"aaxis\": {\"gridcolor\": \"white\", \"linecolor\": \"white\", \"ticks\": \"\"}, \"baxis\": {\"gridcolor\": \"white\", \"linecolor\": \"white\", \"ticks\": \"\"}, \"bgcolor\": \"#E5ECF6\", \"caxis\": {\"gridcolor\": \"white\", \"linecolor\": \"white\", \"ticks\": \"\"}}, \"title\": {\"x\": 0.05}, \"xaxis\": {\"automargin\": true, \"gridcolor\": \"white\", \"linecolor\": \"white\", \"ticks\": \"\", \"title\": {\"standoff\": 15}, \"zerolinecolor\": \"white\", \"zerolinewidth\": 2}, \"yaxis\": {\"automargin\": true, \"gridcolor\": \"white\", \"linecolor\": \"white\", \"ticks\": \"\", \"title\": {\"standoff\": 15}, \"zerolinecolor\": \"white\", \"zerolinewidth\": 2}}}, \"title\": {\"text\": \"Top companies tend to be environmentally and socially responsible\"}},\n",
       "                        {\"responsive\": true}\n",
       "                    ).then(function(){\n",
       "                            \n",
       "var gd = document.getElementById('af6913d4-60b6-4f53-9f94-4ec4390b16fd');\n",
       "var x = new MutationObserver(function (mutations, observer) {{\n",
       "        var display = window.getComputedStyle(gd).display;\n",
       "        if (!display || display === 'none') {{\n",
       "            console.log([gd, 'removed!']);\n",
       "            Plotly.purge(gd);\n",
       "            observer.disconnect();\n",
       "        }}\n",
       "}});\n",
       "\n",
       "// Listen for the removal of the full notebook cells\n",
       "var notebookContainer = gd.closest('#notebook-container');\n",
       "if (notebookContainer) {{\n",
       "    x.observe(notebookContainer, {childList: true});\n",
       "}}\n",
       "\n",
       "// Listen for the clearing of the current output cell\n",
       "var outputEl = gd.closest('.output');\n",
       "if (outputEl) {{\n",
       "    x.observe(outputEl, {childList: true});\n",
       "}}\n",
       "\n",
       "                        })\n",
       "                };\n",
       "                });\n",
       "            </script>\n",
       "        </div>"
      ]
     },
     "metadata": {},
     "output_type": "display_data"
    }
   ],
   "source": [
    "plots = [go.Scatter(x=top50['RIC'], y=top50['ESG Score'], mode='markers', name='Top 50'), \n",
    "         go.Scatter(x=bot50['RIC'], y=bot50['ESG Score'], mode='markers', name='Bottom 50')]\n",
    "fig = go.Figure(data=plots)\n",
    "fig.update_layout(title='Top companies tend to be environmentally and socially responsible')\n",
    "fig.show()"
   ]
  },
  {
   "cell_type": "code",
   "execution_count": 6,
   "metadata": {},
   "outputs": [
    {
     "data": {
      "application/vnd.plotly.v1+json": {
       "config": {
        "plotlyServerURL": "https://plot.ly"
       },
       "data": [
        {
         "mode": "markers",
         "name": "Top 50",
         "type": "scatter",
         "x": [
          "7203.T",
          "8058.T",
          "7267.T",
          "6178.T",
          "9432.T",
          "8001.T",
          "7201.T",
          "5020.T",
          "9984.T",
          "6501.T",
          "6758.T",
          "8267.T",
          "6752.T",
          "7181.T",
          "8002.T",
          "8750.T",
          "8031.T",
          "3382.T",
          "8015.T",
          "8306.T",
          "9501.T",
          "5401.T",
          "8316.T",
          "8725.T",
          "8766.T",
          "6902.T",
          "8053.T",
          "9433.T",
          "9437.T",
          "6503.T",
          "5019.T",
          "1925.T",
          "7011.T",
          "7259.T",
          "6702.T",
          "8411.T",
          "4188.T",
          "5411.T",
          "7269.T",
          "9434.T",
          "6502.T",
          "5108.T",
          "8630.T",
          "7751.T",
          "7261.T",
          "9503.T",
          "7459.T",
          "5802.T",
          "7270.T",
          "9502.T"
         ],
         "y": [
          63.75,
          63.25,
          65.75,
          50.75,
          60,
          62,
          64.25,
          49.5,
          49.25,
          59.75,
          71.75,
          65.75,
          63.5,
          0,
          62,
          65.25,
          66.5,
          58,
          53,
          42,
          45.75,
          36.25,
          54.25,
          56.25,
          60.5,
          62,
          51.5,
          53.25,
          70.75,
          59.75,
          48.25,
          54.25,
          57,
          60,
          69.25,
          54.25,
          39,
          57.75,
          53.25,
          0,
          65.25,
          61.5,
          63.25,
          0,
          61,
          53,
          51,
          65.25,
          51,
          55.5
         ]
        },
        {
         "mode": "markers",
         "name": "Bottom 50",
         "type": "scatter",
         "x": [
          "FCR_u.TO",
          "AIA.NZ",
          "ROKU.OQ",
          "PAYC.N",
          "SUI.N",
          "GWRE.N",
          "DOCU.OQ",
          "AEMN.SI",
          "AGNC.OQ",
          "CAR_u.TO",
          "ADML.L",
          "NNN.N",
          "DHER.DE",
          "GFCP.PA",
          "FBK.MI",
          "FNV.TO",
          "ICAD.PA",
          "WIX.OQ",
          "IONS.OQ",
          "MFG.AX",
          "BLND.L",
          "PODD.OQ",
          "ELS.N",
          "CVO.PA",
          "MKTX.OQ",
          "HRGV.L",
          "MACT.SI",
          "CYBR.OQ",
          "CACT.SI",
          "OKTA.OQ",
          "RYM.NZ",
          "SGRO.L",
          "SUNT.SI",
          "AUTOA.L",
          "ADYEN.AS",
          "WTC.AX",
          "GLPG.AS",
          "PARG.S",
          "SRPT.OQ",
          "PSK.TO",
          "MDB.OQ",
          "ACB.TO",
          "TKWY.AS",
          "WEED.TO",
          "ALNY.OQ",
          "BGNE.OQ",
          "PSHG_p.DE",
          "CRON.TO",
          "LBRDK.OQ",
          "AWC.AX"
         ],
         "y": [
          0,
          0,
          0,
          0,
          0,
          0,
          0,
          46.75,
          0,
          0,
          0,
          0,
          41,
          61.25,
          48.75,
          0,
          63,
          0,
          0,
          44.75,
          44.5,
          0,
          0,
          52,
          0,
          49.5,
          0,
          0,
          46.5,
          0,
          0,
          52,
          0,
          50.75,
          0,
          46.5,
          49.25,
          0,
          0,
          45.75,
          0,
          0,
          0,
          0,
          0,
          0,
          0,
          0,
          0,
          0
         ]
        }
       ],
       "layout": {
        "template": {
         "data": {
          "bar": [
           {
            "error_x": {
             "color": "#2a3f5f"
            },
            "error_y": {
             "color": "#2a3f5f"
            },
            "marker": {
             "line": {
              "color": "#E5ECF6",
              "width": 0.5
             }
            },
            "type": "bar"
           }
          ],
          "barpolar": [
           {
            "marker": {
             "line": {
              "color": "#E5ECF6",
              "width": 0.5
             }
            },
            "type": "barpolar"
           }
          ],
          "carpet": [
           {
            "aaxis": {
             "endlinecolor": "#2a3f5f",
             "gridcolor": "white",
             "linecolor": "white",
             "minorgridcolor": "white",
             "startlinecolor": "#2a3f5f"
            },
            "baxis": {
             "endlinecolor": "#2a3f5f",
             "gridcolor": "white",
             "linecolor": "white",
             "minorgridcolor": "white",
             "startlinecolor": "#2a3f5f"
            },
            "type": "carpet"
           }
          ],
          "choropleth": [
           {
            "colorbar": {
             "outlinewidth": 0,
             "ticks": ""
            },
            "type": "choropleth"
           }
          ],
          "contour": [
           {
            "colorbar": {
             "outlinewidth": 0,
             "ticks": ""
            },
            "colorscale": [
             [
              0,
              "#0d0887"
             ],
             [
              0.1111111111111111,
              "#46039f"
             ],
             [
              0.2222222222222222,
              "#7201a8"
             ],
             [
              0.3333333333333333,
              "#9c179e"
             ],
             [
              0.4444444444444444,
              "#bd3786"
             ],
             [
              0.5555555555555556,
              "#d8576b"
             ],
             [
              0.6666666666666666,
              "#ed7953"
             ],
             [
              0.7777777777777778,
              "#fb9f3a"
             ],
             [
              0.8888888888888888,
              "#fdca26"
             ],
             [
              1,
              "#f0f921"
             ]
            ],
            "type": "contour"
           }
          ],
          "contourcarpet": [
           {
            "colorbar": {
             "outlinewidth": 0,
             "ticks": ""
            },
            "type": "contourcarpet"
           }
          ],
          "heatmap": [
           {
            "colorbar": {
             "outlinewidth": 0,
             "ticks": ""
            },
            "colorscale": [
             [
              0,
              "#0d0887"
             ],
             [
              0.1111111111111111,
              "#46039f"
             ],
             [
              0.2222222222222222,
              "#7201a8"
             ],
             [
              0.3333333333333333,
              "#9c179e"
             ],
             [
              0.4444444444444444,
              "#bd3786"
             ],
             [
              0.5555555555555556,
              "#d8576b"
             ],
             [
              0.6666666666666666,
              "#ed7953"
             ],
             [
              0.7777777777777778,
              "#fb9f3a"
             ],
             [
              0.8888888888888888,
              "#fdca26"
             ],
             [
              1,
              "#f0f921"
             ]
            ],
            "type": "heatmap"
           }
          ],
          "heatmapgl": [
           {
            "colorbar": {
             "outlinewidth": 0,
             "ticks": ""
            },
            "colorscale": [
             [
              0,
              "#0d0887"
             ],
             [
              0.1111111111111111,
              "#46039f"
             ],
             [
              0.2222222222222222,
              "#7201a8"
             ],
             [
              0.3333333333333333,
              "#9c179e"
             ],
             [
              0.4444444444444444,
              "#bd3786"
             ],
             [
              0.5555555555555556,
              "#d8576b"
             ],
             [
              0.6666666666666666,
              "#ed7953"
             ],
             [
              0.7777777777777778,
              "#fb9f3a"
             ],
             [
              0.8888888888888888,
              "#fdca26"
             ],
             [
              1,
              "#f0f921"
             ]
            ],
            "type": "heatmapgl"
           }
          ],
          "histogram": [
           {
            "marker": {
             "colorbar": {
              "outlinewidth": 0,
              "ticks": ""
             }
            },
            "type": "histogram"
           }
          ],
          "histogram2d": [
           {
            "colorbar": {
             "outlinewidth": 0,
             "ticks": ""
            },
            "colorscale": [
             [
              0,
              "#0d0887"
             ],
             [
              0.1111111111111111,
              "#46039f"
             ],
             [
              0.2222222222222222,
              "#7201a8"
             ],
             [
              0.3333333333333333,
              "#9c179e"
             ],
             [
              0.4444444444444444,
              "#bd3786"
             ],
             [
              0.5555555555555556,
              "#d8576b"
             ],
             [
              0.6666666666666666,
              "#ed7953"
             ],
             [
              0.7777777777777778,
              "#fb9f3a"
             ],
             [
              0.8888888888888888,
              "#fdca26"
             ],
             [
              1,
              "#f0f921"
             ]
            ],
            "type": "histogram2d"
           }
          ],
          "histogram2dcontour": [
           {
            "colorbar": {
             "outlinewidth": 0,
             "ticks": ""
            },
            "colorscale": [
             [
              0,
              "#0d0887"
             ],
             [
              0.1111111111111111,
              "#46039f"
             ],
             [
              0.2222222222222222,
              "#7201a8"
             ],
             [
              0.3333333333333333,
              "#9c179e"
             ],
             [
              0.4444444444444444,
              "#bd3786"
             ],
             [
              0.5555555555555556,
              "#d8576b"
             ],
             [
              0.6666666666666666,
              "#ed7953"
             ],
             [
              0.7777777777777778,
              "#fb9f3a"
             ],
             [
              0.8888888888888888,
              "#fdca26"
             ],
             [
              1,
              "#f0f921"
             ]
            ],
            "type": "histogram2dcontour"
           }
          ],
          "mesh3d": [
           {
            "colorbar": {
             "outlinewidth": 0,
             "ticks": ""
            },
            "type": "mesh3d"
           }
          ],
          "parcoords": [
           {
            "line": {
             "colorbar": {
              "outlinewidth": 0,
              "ticks": ""
             }
            },
            "type": "parcoords"
           }
          ],
          "pie": [
           {
            "automargin": true,
            "type": "pie"
           }
          ],
          "scatter": [
           {
            "marker": {
             "colorbar": {
              "outlinewidth": 0,
              "ticks": ""
             }
            },
            "type": "scatter"
           }
          ],
          "scatter3d": [
           {
            "line": {
             "colorbar": {
              "outlinewidth": 0,
              "ticks": ""
             }
            },
            "marker": {
             "colorbar": {
              "outlinewidth": 0,
              "ticks": ""
             }
            },
            "type": "scatter3d"
           }
          ],
          "scattercarpet": [
           {
            "marker": {
             "colorbar": {
              "outlinewidth": 0,
              "ticks": ""
             }
            },
            "type": "scattercarpet"
           }
          ],
          "scattergeo": [
           {
            "marker": {
             "colorbar": {
              "outlinewidth": 0,
              "ticks": ""
             }
            },
            "type": "scattergeo"
           }
          ],
          "scattergl": [
           {
            "marker": {
             "colorbar": {
              "outlinewidth": 0,
              "ticks": ""
             }
            },
            "type": "scattergl"
           }
          ],
          "scattermapbox": [
           {
            "marker": {
             "colorbar": {
              "outlinewidth": 0,
              "ticks": ""
             }
            },
            "type": "scattermapbox"
           }
          ],
          "scatterpolar": [
           {
            "marker": {
             "colorbar": {
              "outlinewidth": 0,
              "ticks": ""
             }
            },
            "type": "scatterpolar"
           }
          ],
          "scatterpolargl": [
           {
            "marker": {
             "colorbar": {
              "outlinewidth": 0,
              "ticks": ""
             }
            },
            "type": "scatterpolargl"
           }
          ],
          "scatterternary": [
           {
            "marker": {
             "colorbar": {
              "outlinewidth": 0,
              "ticks": ""
             }
            },
            "type": "scatterternary"
           }
          ],
          "surface": [
           {
            "colorbar": {
             "outlinewidth": 0,
             "ticks": ""
            },
            "colorscale": [
             [
              0,
              "#0d0887"
             ],
             [
              0.1111111111111111,
              "#46039f"
             ],
             [
              0.2222222222222222,
              "#7201a8"
             ],
             [
              0.3333333333333333,
              "#9c179e"
             ],
             [
              0.4444444444444444,
              "#bd3786"
             ],
             [
              0.5555555555555556,
              "#d8576b"
             ],
             [
              0.6666666666666666,
              "#ed7953"
             ],
             [
              0.7777777777777778,
              "#fb9f3a"
             ],
             [
              0.8888888888888888,
              "#fdca26"
             ],
             [
              1,
              "#f0f921"
             ]
            ],
            "type": "surface"
           }
          ],
          "table": [
           {
            "cells": {
             "fill": {
              "color": "#EBF0F8"
             },
             "line": {
              "color": "white"
             }
            },
            "header": {
             "fill": {
              "color": "#C8D4E3"
             },
             "line": {
              "color": "white"
             }
            },
            "type": "table"
           }
          ]
         },
         "layout": {
          "annotationdefaults": {
           "arrowcolor": "#2a3f5f",
           "arrowhead": 0,
           "arrowwidth": 1
          },
          "coloraxis": {
           "colorbar": {
            "outlinewidth": 0,
            "ticks": ""
           }
          },
          "colorscale": {
           "diverging": [
            [
             0,
             "#8e0152"
            ],
            [
             0.1,
             "#c51b7d"
            ],
            [
             0.2,
             "#de77ae"
            ],
            [
             0.3,
             "#f1b6da"
            ],
            [
             0.4,
             "#fde0ef"
            ],
            [
             0.5,
             "#f7f7f7"
            ],
            [
             0.6,
             "#e6f5d0"
            ],
            [
             0.7,
             "#b8e186"
            ],
            [
             0.8,
             "#7fbc41"
            ],
            [
             0.9,
             "#4d9221"
            ],
            [
             1,
             "#276419"
            ]
           ],
           "sequential": [
            [
             0,
             "#0d0887"
            ],
            [
             0.1111111111111111,
             "#46039f"
            ],
            [
             0.2222222222222222,
             "#7201a8"
            ],
            [
             0.3333333333333333,
             "#9c179e"
            ],
            [
             0.4444444444444444,
             "#bd3786"
            ],
            [
             0.5555555555555556,
             "#d8576b"
            ],
            [
             0.6666666666666666,
             "#ed7953"
            ],
            [
             0.7777777777777778,
             "#fb9f3a"
            ],
            [
             0.8888888888888888,
             "#fdca26"
            ],
            [
             1,
             "#f0f921"
            ]
           ],
           "sequentialminus": [
            [
             0,
             "#0d0887"
            ],
            [
             0.1111111111111111,
             "#46039f"
            ],
            [
             0.2222222222222222,
             "#7201a8"
            ],
            [
             0.3333333333333333,
             "#9c179e"
            ],
            [
             0.4444444444444444,
             "#bd3786"
            ],
            [
             0.5555555555555556,
             "#d8576b"
            ],
            [
             0.6666666666666666,
             "#ed7953"
            ],
            [
             0.7777777777777778,
             "#fb9f3a"
            ],
            [
             0.8888888888888888,
             "#fdca26"
            ],
            [
             1,
             "#f0f921"
            ]
           ]
          },
          "colorway": [
           "#636efa",
           "#EF553B",
           "#00cc96",
           "#ab63fa",
           "#FFA15A",
           "#19d3f3",
           "#FF6692",
           "#B6E880",
           "#FF97FF",
           "#FECB52"
          ],
          "font": {
           "color": "#2a3f5f"
          },
          "geo": {
           "bgcolor": "white",
           "lakecolor": "white",
           "landcolor": "#E5ECF6",
           "showlakes": true,
           "showland": true,
           "subunitcolor": "white"
          },
          "hoverlabel": {
           "align": "left"
          },
          "hovermode": "closest",
          "mapbox": {
           "style": "light"
          },
          "paper_bgcolor": "white",
          "plot_bgcolor": "#E5ECF6",
          "polar": {
           "angularaxis": {
            "gridcolor": "white",
            "linecolor": "white",
            "ticks": ""
           },
           "bgcolor": "#E5ECF6",
           "radialaxis": {
            "gridcolor": "white",
            "linecolor": "white",
            "ticks": ""
           }
          },
          "scene": {
           "xaxis": {
            "backgroundcolor": "#E5ECF6",
            "gridcolor": "white",
            "gridwidth": 2,
            "linecolor": "white",
            "showbackground": true,
            "ticks": "",
            "zerolinecolor": "white"
           },
           "yaxis": {
            "backgroundcolor": "#E5ECF6",
            "gridcolor": "white",
            "gridwidth": 2,
            "linecolor": "white",
            "showbackground": true,
            "ticks": "",
            "zerolinecolor": "white"
           },
           "zaxis": {
            "backgroundcolor": "#E5ECF6",
            "gridcolor": "white",
            "gridwidth": 2,
            "linecolor": "white",
            "showbackground": true,
            "ticks": "",
            "zerolinecolor": "white"
           }
          },
          "shapedefaults": {
           "line": {
            "color": "#2a3f5f"
           }
          },
          "ternary": {
           "aaxis": {
            "gridcolor": "white",
            "linecolor": "white",
            "ticks": ""
           },
           "baxis": {
            "gridcolor": "white",
            "linecolor": "white",
            "ticks": ""
           },
           "bgcolor": "#E5ECF6",
           "caxis": {
            "gridcolor": "white",
            "linecolor": "white",
            "ticks": ""
           }
          },
          "title": {
           "x": 0.05
          },
          "xaxis": {
           "automargin": true,
           "gridcolor": "white",
           "linecolor": "white",
           "ticks": "",
           "title": {
            "standoff": 15
           },
           "zerolinecolor": "white",
           "zerolinewidth": 2
          },
          "yaxis": {
           "automargin": true,
           "gridcolor": "white",
           "linecolor": "white",
           "ticks": "",
           "title": {
            "standoff": 15
           },
           "zerolinecolor": "white",
           "zerolinewidth": 2
          }
         }
        },
        "title": {
         "text": "They are very focussed on diversity and inclusion"
        }
       }
      },
      "text/html": [
       "<div>\n",
       "        \n",
       "        \n",
       "            <div id=\"fa00169a-c2b8-409c-82bd-c37f2dd6e5e6\" class=\"plotly-graph-div\" style=\"height:525px; width:100%;\"></div>\n",
       "            <script type=\"text/javascript\">\n",
       "                require([\"plotly\"], function(Plotly) {\n",
       "                    window.PLOTLYENV=window.PLOTLYENV || {};\n",
       "                    \n",
       "                if (document.getElementById(\"fa00169a-c2b8-409c-82bd-c37f2dd6e5e6\")) {\n",
       "                    Plotly.newPlot(\n",
       "                        'fa00169a-c2b8-409c-82bd-c37f2dd6e5e6',\n",
       "                        [{\"mode\": \"markers\", \"name\": \"Top 50\", \"type\": \"scatter\", \"x\": [\"7203.T\", \"8058.T\", \"7267.T\", \"6178.T\", \"9432.T\", \"8001.T\", \"7201.T\", \"5020.T\", \"9984.T\", \"6501.T\", \"6758.T\", \"8267.T\", \"6752.T\", \"7181.T\", \"8002.T\", \"8750.T\", \"8031.T\", \"3382.T\", \"8015.T\", \"8306.T\", \"9501.T\", \"5401.T\", \"8316.T\", \"8725.T\", \"8766.T\", \"6902.T\", \"8053.T\", \"9433.T\", \"9437.T\", \"6503.T\", \"5019.T\", \"1925.T\", \"7011.T\", \"7259.T\", \"6702.T\", \"8411.T\", \"4188.T\", \"5411.T\", \"7269.T\", \"9434.T\", \"6502.T\", \"5108.T\", \"8630.T\", \"7751.T\", \"7261.T\", \"9503.T\", \"7459.T\", \"5802.T\", \"7270.T\", \"9502.T\"], \"y\": [63.75, 63.25, 65.75, 50.75, 60.0, 62.0, 64.25, 49.5, 49.25, 59.75, 71.75, 65.75, 63.5, 0.0, 62.0, 65.25, 66.5, 58.0, 53.0, 42.0, 45.75, 36.25, 54.25, 56.25, 60.5, 62.0, 51.5, 53.25, 70.75, 59.75, 48.25, 54.25, 57.0, 60.0, 69.25, 54.25, 39.0, 57.75, 53.25, 0.0, 65.25, 61.5, 63.25, 0.0, 61.0, 53.0, 51.0, 65.25, 51.0, 55.5]}, {\"mode\": \"markers\", \"name\": \"Bottom 50\", \"type\": \"scatter\", \"x\": [\"FCR_u.TO\", \"AIA.NZ\", \"ROKU.OQ\", \"PAYC.N\", \"SUI.N\", \"GWRE.N\", \"DOCU.OQ\", \"AEMN.SI\", \"AGNC.OQ\", \"CAR_u.TO\", \"ADML.L\", \"NNN.N\", \"DHER.DE\", \"GFCP.PA\", \"FBK.MI\", \"FNV.TO\", \"ICAD.PA\", \"WIX.OQ\", \"IONS.OQ\", \"MFG.AX\", \"BLND.L\", \"PODD.OQ\", \"ELS.N\", \"CVO.PA\", \"MKTX.OQ\", \"HRGV.L\", \"MACT.SI\", \"CYBR.OQ\", \"CACT.SI\", \"OKTA.OQ\", \"RYM.NZ\", \"SGRO.L\", \"SUNT.SI\", \"AUTOA.L\", \"ADYEN.AS\", \"WTC.AX\", \"GLPG.AS\", \"PARG.S\", \"SRPT.OQ\", \"PSK.TO\", \"MDB.OQ\", \"ACB.TO\", \"TKWY.AS\", \"WEED.TO\", \"ALNY.OQ\", \"BGNE.OQ\", \"PSHG_p.DE\", \"CRON.TO\", \"LBRDK.OQ\", \"AWC.AX\"], \"y\": [0.0, 0.0, 0.0, 0.0, 0.0, 0.0, 0.0, 46.75, 0.0, 0.0, 0.0, 0.0, 41.0, 61.25, 48.75, 0.0, 63.0, 0.0, 0.0, 44.75, 44.5, 0.0, 0.0, 52.0, 0.0, 49.5, 0.0, 0.0, 46.5, 0.0, 0.0, 52.0, 0.0, 50.75, 0.0, 46.5, 49.25, 0.0, 0.0, 45.75, 0.0, 0.0, 0.0, 0.0, 0.0, 0.0, 0.0, 0.0, 0.0, 0.0]}],\n",
       "                        {\"template\": {\"data\": {\"bar\": [{\"error_x\": {\"color\": \"#2a3f5f\"}, \"error_y\": {\"color\": \"#2a3f5f\"}, \"marker\": {\"line\": {\"color\": \"#E5ECF6\", \"width\": 0.5}}, \"type\": \"bar\"}], \"barpolar\": [{\"marker\": {\"line\": {\"color\": \"#E5ECF6\", \"width\": 0.5}}, \"type\": \"barpolar\"}], \"carpet\": [{\"aaxis\": {\"endlinecolor\": \"#2a3f5f\", \"gridcolor\": \"white\", \"linecolor\": \"white\", \"minorgridcolor\": \"white\", \"startlinecolor\": \"#2a3f5f\"}, \"baxis\": {\"endlinecolor\": \"#2a3f5f\", \"gridcolor\": \"white\", \"linecolor\": \"white\", \"minorgridcolor\": \"white\", \"startlinecolor\": \"#2a3f5f\"}, \"type\": \"carpet\"}], \"choropleth\": [{\"colorbar\": {\"outlinewidth\": 0, \"ticks\": \"\"}, \"type\": \"choropleth\"}], \"contour\": [{\"colorbar\": {\"outlinewidth\": 0, \"ticks\": \"\"}, \"colorscale\": [[0.0, \"#0d0887\"], [0.1111111111111111, \"#46039f\"], [0.2222222222222222, \"#7201a8\"], [0.3333333333333333, \"#9c179e\"], [0.4444444444444444, \"#bd3786\"], [0.5555555555555556, \"#d8576b\"], [0.6666666666666666, \"#ed7953\"], [0.7777777777777778, \"#fb9f3a\"], [0.8888888888888888, \"#fdca26\"], [1.0, \"#f0f921\"]], \"type\": \"contour\"}], \"contourcarpet\": [{\"colorbar\": {\"outlinewidth\": 0, \"ticks\": \"\"}, \"type\": \"contourcarpet\"}], \"heatmap\": [{\"colorbar\": {\"outlinewidth\": 0, \"ticks\": \"\"}, \"colorscale\": [[0.0, \"#0d0887\"], [0.1111111111111111, \"#46039f\"], [0.2222222222222222, \"#7201a8\"], [0.3333333333333333, \"#9c179e\"], [0.4444444444444444, \"#bd3786\"], [0.5555555555555556, \"#d8576b\"], [0.6666666666666666, \"#ed7953\"], [0.7777777777777778, \"#fb9f3a\"], [0.8888888888888888, \"#fdca26\"], [1.0, \"#f0f921\"]], \"type\": \"heatmap\"}], \"heatmapgl\": [{\"colorbar\": {\"outlinewidth\": 0, \"ticks\": \"\"}, \"colorscale\": [[0.0, \"#0d0887\"], [0.1111111111111111, \"#46039f\"], [0.2222222222222222, \"#7201a8\"], [0.3333333333333333, \"#9c179e\"], [0.4444444444444444, \"#bd3786\"], [0.5555555555555556, \"#d8576b\"], [0.6666666666666666, \"#ed7953\"], [0.7777777777777778, \"#fb9f3a\"], [0.8888888888888888, \"#fdca26\"], [1.0, \"#f0f921\"]], \"type\": \"heatmapgl\"}], \"histogram\": [{\"marker\": {\"colorbar\": {\"outlinewidth\": 0, \"ticks\": \"\"}}, \"type\": \"histogram\"}], \"histogram2d\": [{\"colorbar\": {\"outlinewidth\": 0, \"ticks\": \"\"}, \"colorscale\": [[0.0, \"#0d0887\"], [0.1111111111111111, \"#46039f\"], [0.2222222222222222, \"#7201a8\"], [0.3333333333333333, \"#9c179e\"], [0.4444444444444444, \"#bd3786\"], [0.5555555555555556, \"#d8576b\"], [0.6666666666666666, \"#ed7953\"], [0.7777777777777778, \"#fb9f3a\"], [0.8888888888888888, \"#fdca26\"], [1.0, \"#f0f921\"]], \"type\": \"histogram2d\"}], \"histogram2dcontour\": [{\"colorbar\": {\"outlinewidth\": 0, \"ticks\": \"\"}, \"colorscale\": [[0.0, \"#0d0887\"], [0.1111111111111111, \"#46039f\"], [0.2222222222222222, \"#7201a8\"], [0.3333333333333333, \"#9c179e\"], [0.4444444444444444, \"#bd3786\"], [0.5555555555555556, \"#d8576b\"], [0.6666666666666666, \"#ed7953\"], [0.7777777777777778, \"#fb9f3a\"], [0.8888888888888888, \"#fdca26\"], [1.0, \"#f0f921\"]], \"type\": \"histogram2dcontour\"}], \"mesh3d\": [{\"colorbar\": {\"outlinewidth\": 0, \"ticks\": \"\"}, \"type\": \"mesh3d\"}], \"parcoords\": [{\"line\": {\"colorbar\": {\"outlinewidth\": 0, \"ticks\": \"\"}}, \"type\": \"parcoords\"}], \"pie\": [{\"automargin\": true, \"type\": \"pie\"}], \"scatter\": [{\"marker\": {\"colorbar\": {\"outlinewidth\": 0, \"ticks\": \"\"}}, \"type\": \"scatter\"}], \"scatter3d\": [{\"line\": {\"colorbar\": {\"outlinewidth\": 0, \"ticks\": \"\"}}, \"marker\": {\"colorbar\": {\"outlinewidth\": 0, \"ticks\": \"\"}}, \"type\": \"scatter3d\"}], \"scattercarpet\": [{\"marker\": {\"colorbar\": {\"outlinewidth\": 0, \"ticks\": \"\"}}, \"type\": \"scattercarpet\"}], \"scattergeo\": [{\"marker\": {\"colorbar\": {\"outlinewidth\": 0, \"ticks\": \"\"}}, \"type\": \"scattergeo\"}], \"scattergl\": [{\"marker\": {\"colorbar\": {\"outlinewidth\": 0, \"ticks\": \"\"}}, \"type\": \"scattergl\"}], \"scattermapbox\": [{\"marker\": {\"colorbar\": {\"outlinewidth\": 0, \"ticks\": \"\"}}, \"type\": \"scattermapbox\"}], \"scatterpolar\": [{\"marker\": {\"colorbar\": {\"outlinewidth\": 0, \"ticks\": \"\"}}, \"type\": \"scatterpolar\"}], \"scatterpolargl\": [{\"marker\": {\"colorbar\": {\"outlinewidth\": 0, \"ticks\": \"\"}}, \"type\": \"scatterpolargl\"}], \"scatterternary\": [{\"marker\": {\"colorbar\": {\"outlinewidth\": 0, \"ticks\": \"\"}}, \"type\": \"scatterternary\"}], \"surface\": [{\"colorbar\": {\"outlinewidth\": 0, \"ticks\": \"\"}, \"colorscale\": [[0.0, \"#0d0887\"], [0.1111111111111111, \"#46039f\"], [0.2222222222222222, \"#7201a8\"], [0.3333333333333333, \"#9c179e\"], [0.4444444444444444, \"#bd3786\"], [0.5555555555555556, \"#d8576b\"], [0.6666666666666666, \"#ed7953\"], [0.7777777777777778, \"#fb9f3a\"], [0.8888888888888888, \"#fdca26\"], [1.0, \"#f0f921\"]], \"type\": \"surface\"}], \"table\": [{\"cells\": {\"fill\": {\"color\": \"#EBF0F8\"}, \"line\": {\"color\": \"white\"}}, \"header\": {\"fill\": {\"color\": \"#C8D4E3\"}, \"line\": {\"color\": \"white\"}}, \"type\": \"table\"}]}, \"layout\": {\"annotationdefaults\": {\"arrowcolor\": \"#2a3f5f\", \"arrowhead\": 0, \"arrowwidth\": 1}, \"coloraxis\": {\"colorbar\": {\"outlinewidth\": 0, \"ticks\": \"\"}}, \"colorscale\": {\"diverging\": [[0, \"#8e0152\"], [0.1, \"#c51b7d\"], [0.2, \"#de77ae\"], [0.3, \"#f1b6da\"], [0.4, \"#fde0ef\"], [0.5, \"#f7f7f7\"], [0.6, \"#e6f5d0\"], [0.7, \"#b8e186\"], [0.8, \"#7fbc41\"], [0.9, \"#4d9221\"], [1, \"#276419\"]], \"sequential\": [[0.0, \"#0d0887\"], [0.1111111111111111, \"#46039f\"], [0.2222222222222222, \"#7201a8\"], [0.3333333333333333, \"#9c179e\"], [0.4444444444444444, \"#bd3786\"], [0.5555555555555556, \"#d8576b\"], [0.6666666666666666, \"#ed7953\"], [0.7777777777777778, \"#fb9f3a\"], [0.8888888888888888, \"#fdca26\"], [1.0, \"#f0f921\"]], \"sequentialminus\": [[0.0, \"#0d0887\"], [0.1111111111111111, \"#46039f\"], [0.2222222222222222, \"#7201a8\"], [0.3333333333333333, \"#9c179e\"], [0.4444444444444444, \"#bd3786\"], [0.5555555555555556, \"#d8576b\"], [0.6666666666666666, \"#ed7953\"], [0.7777777777777778, \"#fb9f3a\"], [0.8888888888888888, \"#fdca26\"], [1.0, \"#f0f921\"]]}, \"colorway\": [\"#636efa\", \"#EF553B\", \"#00cc96\", \"#ab63fa\", \"#FFA15A\", \"#19d3f3\", \"#FF6692\", \"#B6E880\", \"#FF97FF\", \"#FECB52\"], \"font\": {\"color\": \"#2a3f5f\"}, \"geo\": {\"bgcolor\": \"white\", \"lakecolor\": \"white\", \"landcolor\": \"#E5ECF6\", \"showlakes\": true, \"showland\": true, \"subunitcolor\": \"white\"}, \"hoverlabel\": {\"align\": \"left\"}, \"hovermode\": \"closest\", \"mapbox\": {\"style\": \"light\"}, \"paper_bgcolor\": \"white\", \"plot_bgcolor\": \"#E5ECF6\", \"polar\": {\"angularaxis\": {\"gridcolor\": \"white\", \"linecolor\": \"white\", \"ticks\": \"\"}, \"bgcolor\": \"#E5ECF6\", \"radialaxis\": {\"gridcolor\": \"white\", \"linecolor\": \"white\", \"ticks\": \"\"}}, \"scene\": {\"xaxis\": {\"backgroundcolor\": \"#E5ECF6\", \"gridcolor\": \"white\", \"gridwidth\": 2, \"linecolor\": \"white\", \"showbackground\": true, \"ticks\": \"\", \"zerolinecolor\": \"white\"}, \"yaxis\": {\"backgroundcolor\": \"#E5ECF6\", \"gridcolor\": \"white\", \"gridwidth\": 2, \"linecolor\": \"white\", \"showbackground\": true, \"ticks\": \"\", \"zerolinecolor\": \"white\"}, \"zaxis\": {\"backgroundcolor\": \"#E5ECF6\", \"gridcolor\": \"white\", \"gridwidth\": 2, \"linecolor\": \"white\", \"showbackground\": true, \"ticks\": \"\", \"zerolinecolor\": \"white\"}}, \"shapedefaults\": {\"line\": {\"color\": \"#2a3f5f\"}}, \"ternary\": {\"aaxis\": {\"gridcolor\": \"white\", \"linecolor\": \"white\", \"ticks\": \"\"}, \"baxis\": {\"gridcolor\": \"white\", \"linecolor\": \"white\", \"ticks\": \"\"}, \"bgcolor\": \"#E5ECF6\", \"caxis\": {\"gridcolor\": \"white\", \"linecolor\": \"white\", \"ticks\": \"\"}}, \"title\": {\"x\": 0.05}, \"xaxis\": {\"automargin\": true, \"gridcolor\": \"white\", \"linecolor\": \"white\", \"ticks\": \"\", \"title\": {\"standoff\": 15}, \"zerolinecolor\": \"white\", \"zerolinewidth\": 2}, \"yaxis\": {\"automargin\": true, \"gridcolor\": \"white\", \"linecolor\": \"white\", \"ticks\": \"\", \"title\": {\"standoff\": 15}, \"zerolinecolor\": \"white\", \"zerolinewidth\": 2}}}, \"title\": {\"text\": \"They are very focussed on diversity and inclusion\"}},\n",
       "                        {\"responsive\": true}\n",
       "                    ).then(function(){\n",
       "                            \n",
       "var gd = document.getElementById('fa00169a-c2b8-409c-82bd-c37f2dd6e5e6');\n",
       "var x = new MutationObserver(function (mutations, observer) {{\n",
       "        var display = window.getComputedStyle(gd).display;\n",
       "        if (!display || display === 'none') {{\n",
       "            console.log([gd, 'removed!']);\n",
       "            Plotly.purge(gd);\n",
       "            observer.disconnect();\n",
       "        }}\n",
       "}});\n",
       "\n",
       "// Listen for the removal of the full notebook cells\n",
       "var notebookContainer = gd.closest('#notebook-container');\n",
       "if (notebookContainer) {{\n",
       "    x.observe(notebookContainer, {childList: true});\n",
       "}}\n",
       "\n",
       "// Listen for the clearing of the current output cell\n",
       "var outputEl = gd.closest('.output');\n",
       "if (outputEl) {{\n",
       "    x.observe(outputEl, {childList: true});\n",
       "}}\n",
       "\n",
       "                        })\n",
       "                };\n",
       "                });\n",
       "            </script>\n",
       "        </div>"
      ]
     },
     "metadata": {},
     "output_type": "display_data"
    }
   ],
   "source": [
    "plots = [go.Scatter(x=top50['RIC'], y=top50['TRDIR Score'], mode='markers', name='Top 50'), \n",
    "         go.Scatter(x=bot50['RIC'], y=bot50['TRDIR Score'], mode='markers', name='Bottom 50')]\n",
    "fig = go.Figure(data=plots)\n",
    "fig.update_layout(title='They are very focussed on diversity and inclusion')\n",
    "fig.show()"
   ]
  },
  {
   "cell_type": "code",
   "execution_count": 7,
   "metadata": {},
   "outputs": [
    {
     "data": {
      "application/vnd.plotly.v1+json": {
       "config": {
        "plotlyServerURL": "https://plot.ly"
       },
       "data": [
        {
         "mode": "markers",
         "name": "Top 50",
         "type": "scatter",
         "x": [
          "7203.T",
          "8058.T",
          "7267.T",
          "6178.T",
          "9432.T",
          "8001.T",
          "7201.T",
          "5020.T",
          "9984.T",
          "6501.T",
          "6758.T",
          "8267.T",
          "6752.T",
          "7181.T",
          "8002.T",
          "8750.T",
          "8031.T",
          "3382.T",
          "8015.T",
          "8306.T",
          "9501.T",
          "5401.T",
          "8316.T",
          "8725.T",
          "8766.T",
          "6902.T",
          "8053.T",
          "9433.T",
          "9437.T",
          "6503.T",
          "5019.T",
          "1925.T",
          "7011.T",
          "7259.T",
          "6702.T",
          "8411.T",
          "4188.T",
          "5411.T",
          "7269.T",
          "9434.T",
          "6502.T",
          "5108.T",
          "8630.T",
          "7751.T",
          "7261.T",
          "9503.T",
          "7459.T",
          "5802.T",
          "7270.T",
          "9502.T"
         ],
         "y": [
          70,
          65,
          57,
          24,
          58,
          57,
          59,
          40,
          47,
          47,
          69,
          59,
          72,
          0,
          59,
          58,
          65,
          36,
          24,
          19,
          24,
          29,
          56,
          35,
          58,
          56,
          47,
          24,
          76,
          58,
          25,
          26,
          47,
          58,
          73,
          55,
          19,
          49,
          33,
          0,
          76,
          47,
          57,
          47,
          65,
          35,
          24,
          58,
          24,
          59
         ]
        },
        {
         "mode": "markers",
         "name": "Bottom 50",
         "type": "scatter",
         "x": [
          "FCR_u.TO",
          "AIA.NZ",
          "ROKU.OQ",
          "PAYC.N",
          "SUI.N",
          "GWRE.N",
          "DOCU.OQ",
          "AEMN.SI",
          "AGNC.OQ",
          "CAR_u.TO",
          "ADML.L",
          "NNN.N",
          "DHER.DE",
          "GFCP.PA",
          "FBK.MI",
          "FNV.TO",
          "ICAD.PA",
          "WIX.OQ",
          "IONS.OQ",
          "MFG.AX",
          "BLND.L",
          "PODD.OQ",
          "ELS.N",
          "CVO.PA",
          "MKTX.OQ",
          "HRGV.L",
          "MACT.SI",
          "CYBR.OQ",
          "CACT.SI",
          "OKTA.OQ",
          "RYM.NZ",
          "SGRO.L",
          "SUNT.SI",
          "AUTOA.L",
          "ADYEN.AS",
          "WTC.AX",
          "GLPG.AS",
          "PARG.S",
          "SRPT.OQ",
          "PSK.TO",
          "MDB.OQ",
          "ACB.TO",
          "TKWY.AS",
          "WEED.TO",
          "ALNY.OQ",
          "BGNE.OQ",
          "PSHG_p.DE",
          "CRON.TO",
          "LBRDK.OQ",
          "AWC.AX"
         ],
         "y": [
          0,
          0,
          0,
          0,
          0,
          0,
          0,
          14,
          0,
          0,
          0,
          0,
          17,
          29,
          20,
          0,
          37,
          0,
          8,
          25,
          7,
          0,
          0,
          29,
          21,
          21,
          0,
          0,
          14,
          0,
          0,
          7,
          0,
          24,
          0,
          25,
          12,
          0,
          0,
          15,
          0,
          0,
          0,
          0,
          0,
          0,
          0,
          0,
          0,
          10
         ]
        }
       ],
       "layout": {
        "template": {
         "data": {
          "bar": [
           {
            "error_x": {
             "color": "#2a3f5f"
            },
            "error_y": {
             "color": "#2a3f5f"
            },
            "marker": {
             "line": {
              "color": "#E5ECF6",
              "width": 0.5
             }
            },
            "type": "bar"
           }
          ],
          "barpolar": [
           {
            "marker": {
             "line": {
              "color": "#E5ECF6",
              "width": 0.5
             }
            },
            "type": "barpolar"
           }
          ],
          "carpet": [
           {
            "aaxis": {
             "endlinecolor": "#2a3f5f",
             "gridcolor": "white",
             "linecolor": "white",
             "minorgridcolor": "white",
             "startlinecolor": "#2a3f5f"
            },
            "baxis": {
             "endlinecolor": "#2a3f5f",
             "gridcolor": "white",
             "linecolor": "white",
             "minorgridcolor": "white",
             "startlinecolor": "#2a3f5f"
            },
            "type": "carpet"
           }
          ],
          "choropleth": [
           {
            "colorbar": {
             "outlinewidth": 0,
             "ticks": ""
            },
            "type": "choropleth"
           }
          ],
          "contour": [
           {
            "colorbar": {
             "outlinewidth": 0,
             "ticks": ""
            },
            "colorscale": [
             [
              0,
              "#0d0887"
             ],
             [
              0.1111111111111111,
              "#46039f"
             ],
             [
              0.2222222222222222,
              "#7201a8"
             ],
             [
              0.3333333333333333,
              "#9c179e"
             ],
             [
              0.4444444444444444,
              "#bd3786"
             ],
             [
              0.5555555555555556,
              "#d8576b"
             ],
             [
              0.6666666666666666,
              "#ed7953"
             ],
             [
              0.7777777777777778,
              "#fb9f3a"
             ],
             [
              0.8888888888888888,
              "#fdca26"
             ],
             [
              1,
              "#f0f921"
             ]
            ],
            "type": "contour"
           }
          ],
          "contourcarpet": [
           {
            "colorbar": {
             "outlinewidth": 0,
             "ticks": ""
            },
            "type": "contourcarpet"
           }
          ],
          "heatmap": [
           {
            "colorbar": {
             "outlinewidth": 0,
             "ticks": ""
            },
            "colorscale": [
             [
              0,
              "#0d0887"
             ],
             [
              0.1111111111111111,
              "#46039f"
             ],
             [
              0.2222222222222222,
              "#7201a8"
             ],
             [
              0.3333333333333333,
              "#9c179e"
             ],
             [
              0.4444444444444444,
              "#bd3786"
             ],
             [
              0.5555555555555556,
              "#d8576b"
             ],
             [
              0.6666666666666666,
              "#ed7953"
             ],
             [
              0.7777777777777778,
              "#fb9f3a"
             ],
             [
              0.8888888888888888,
              "#fdca26"
             ],
             [
              1,
              "#f0f921"
             ]
            ],
            "type": "heatmap"
           }
          ],
          "heatmapgl": [
           {
            "colorbar": {
             "outlinewidth": 0,
             "ticks": ""
            },
            "colorscale": [
             [
              0,
              "#0d0887"
             ],
             [
              0.1111111111111111,
              "#46039f"
             ],
             [
              0.2222222222222222,
              "#7201a8"
             ],
             [
              0.3333333333333333,
              "#9c179e"
             ],
             [
              0.4444444444444444,
              "#bd3786"
             ],
             [
              0.5555555555555556,
              "#d8576b"
             ],
             [
              0.6666666666666666,
              "#ed7953"
             ],
             [
              0.7777777777777778,
              "#fb9f3a"
             ],
             [
              0.8888888888888888,
              "#fdca26"
             ],
             [
              1,
              "#f0f921"
             ]
            ],
            "type": "heatmapgl"
           }
          ],
          "histogram": [
           {
            "marker": {
             "colorbar": {
              "outlinewidth": 0,
              "ticks": ""
             }
            },
            "type": "histogram"
           }
          ],
          "histogram2d": [
           {
            "colorbar": {
             "outlinewidth": 0,
             "ticks": ""
            },
            "colorscale": [
             [
              0,
              "#0d0887"
             ],
             [
              0.1111111111111111,
              "#46039f"
             ],
             [
              0.2222222222222222,
              "#7201a8"
             ],
             [
              0.3333333333333333,
              "#9c179e"
             ],
             [
              0.4444444444444444,
              "#bd3786"
             ],
             [
              0.5555555555555556,
              "#d8576b"
             ],
             [
              0.6666666666666666,
              "#ed7953"
             ],
             [
              0.7777777777777778,
              "#fb9f3a"
             ],
             [
              0.8888888888888888,
              "#fdca26"
             ],
             [
              1,
              "#f0f921"
             ]
            ],
            "type": "histogram2d"
           }
          ],
          "histogram2dcontour": [
           {
            "colorbar": {
             "outlinewidth": 0,
             "ticks": ""
            },
            "colorscale": [
             [
              0,
              "#0d0887"
             ],
             [
              0.1111111111111111,
              "#46039f"
             ],
             [
              0.2222222222222222,
              "#7201a8"
             ],
             [
              0.3333333333333333,
              "#9c179e"
             ],
             [
              0.4444444444444444,
              "#bd3786"
             ],
             [
              0.5555555555555556,
              "#d8576b"
             ],
             [
              0.6666666666666666,
              "#ed7953"
             ],
             [
              0.7777777777777778,
              "#fb9f3a"
             ],
             [
              0.8888888888888888,
              "#fdca26"
             ],
             [
              1,
              "#f0f921"
             ]
            ],
            "type": "histogram2dcontour"
           }
          ],
          "mesh3d": [
           {
            "colorbar": {
             "outlinewidth": 0,
             "ticks": ""
            },
            "type": "mesh3d"
           }
          ],
          "parcoords": [
           {
            "line": {
             "colorbar": {
              "outlinewidth": 0,
              "ticks": ""
             }
            },
            "type": "parcoords"
           }
          ],
          "pie": [
           {
            "automargin": true,
            "type": "pie"
           }
          ],
          "scatter": [
           {
            "marker": {
             "colorbar": {
              "outlinewidth": 0,
              "ticks": ""
             }
            },
            "type": "scatter"
           }
          ],
          "scatter3d": [
           {
            "line": {
             "colorbar": {
              "outlinewidth": 0,
              "ticks": ""
             }
            },
            "marker": {
             "colorbar": {
              "outlinewidth": 0,
              "ticks": ""
             }
            },
            "type": "scatter3d"
           }
          ],
          "scattercarpet": [
           {
            "marker": {
             "colorbar": {
              "outlinewidth": 0,
              "ticks": ""
             }
            },
            "type": "scattercarpet"
           }
          ],
          "scattergeo": [
           {
            "marker": {
             "colorbar": {
              "outlinewidth": 0,
              "ticks": ""
             }
            },
            "type": "scattergeo"
           }
          ],
          "scattergl": [
           {
            "marker": {
             "colorbar": {
              "outlinewidth": 0,
              "ticks": ""
             }
            },
            "type": "scattergl"
           }
          ],
          "scattermapbox": [
           {
            "marker": {
             "colorbar": {
              "outlinewidth": 0,
              "ticks": ""
             }
            },
            "type": "scattermapbox"
           }
          ],
          "scatterpolar": [
           {
            "marker": {
             "colorbar": {
              "outlinewidth": 0,
              "ticks": ""
             }
            },
            "type": "scatterpolar"
           }
          ],
          "scatterpolargl": [
           {
            "marker": {
             "colorbar": {
              "outlinewidth": 0,
              "ticks": ""
             }
            },
            "type": "scatterpolargl"
           }
          ],
          "scatterternary": [
           {
            "marker": {
             "colorbar": {
              "outlinewidth": 0,
              "ticks": ""
             }
            },
            "type": "scatterternary"
           }
          ],
          "surface": [
           {
            "colorbar": {
             "outlinewidth": 0,
             "ticks": ""
            },
            "colorscale": [
             [
              0,
              "#0d0887"
             ],
             [
              0.1111111111111111,
              "#46039f"
             ],
             [
              0.2222222222222222,
              "#7201a8"
             ],
             [
              0.3333333333333333,
              "#9c179e"
             ],
             [
              0.4444444444444444,
              "#bd3786"
             ],
             [
              0.5555555555555556,
              "#d8576b"
             ],
             [
              0.6666666666666666,
              "#ed7953"
             ],
             [
              0.7777777777777778,
              "#fb9f3a"
             ],
             [
              0.8888888888888888,
              "#fdca26"
             ],
             [
              1,
              "#f0f921"
             ]
            ],
            "type": "surface"
           }
          ],
          "table": [
           {
            "cells": {
             "fill": {
              "color": "#EBF0F8"
             },
             "line": {
              "color": "white"
             }
            },
            "header": {
             "fill": {
              "color": "#C8D4E3"
             },
             "line": {
              "color": "white"
             }
            },
            "type": "table"
           }
          ]
         },
         "layout": {
          "annotationdefaults": {
           "arrowcolor": "#2a3f5f",
           "arrowhead": 0,
           "arrowwidth": 1
          },
          "coloraxis": {
           "colorbar": {
            "outlinewidth": 0,
            "ticks": ""
           }
          },
          "colorscale": {
           "diverging": [
            [
             0,
             "#8e0152"
            ],
            [
             0.1,
             "#c51b7d"
            ],
            [
             0.2,
             "#de77ae"
            ],
            [
             0.3,
             "#f1b6da"
            ],
            [
             0.4,
             "#fde0ef"
            ],
            [
             0.5,
             "#f7f7f7"
            ],
            [
             0.6,
             "#e6f5d0"
            ],
            [
             0.7,
             "#b8e186"
            ],
            [
             0.8,
             "#7fbc41"
            ],
            [
             0.9,
             "#4d9221"
            ],
            [
             1,
             "#276419"
            ]
           ],
           "sequential": [
            [
             0,
             "#0d0887"
            ],
            [
             0.1111111111111111,
             "#46039f"
            ],
            [
             0.2222222222222222,
             "#7201a8"
            ],
            [
             0.3333333333333333,
             "#9c179e"
            ],
            [
             0.4444444444444444,
             "#bd3786"
            ],
            [
             0.5555555555555556,
             "#d8576b"
            ],
            [
             0.6666666666666666,
             "#ed7953"
            ],
            [
             0.7777777777777778,
             "#fb9f3a"
            ],
            [
             0.8888888888888888,
             "#fdca26"
            ],
            [
             1,
             "#f0f921"
            ]
           ],
           "sequentialminus": [
            [
             0,
             "#0d0887"
            ],
            [
             0.1111111111111111,
             "#46039f"
            ],
            [
             0.2222222222222222,
             "#7201a8"
            ],
            [
             0.3333333333333333,
             "#9c179e"
            ],
            [
             0.4444444444444444,
             "#bd3786"
            ],
            [
             0.5555555555555556,
             "#d8576b"
            ],
            [
             0.6666666666666666,
             "#ed7953"
            ],
            [
             0.7777777777777778,
             "#fb9f3a"
            ],
            [
             0.8888888888888888,
             "#fdca26"
            ],
            [
             1,
             "#f0f921"
            ]
           ]
          },
          "colorway": [
           "#636efa",
           "#EF553B",
           "#00cc96",
           "#ab63fa",
           "#FFA15A",
           "#19d3f3",
           "#FF6692",
           "#B6E880",
           "#FF97FF",
           "#FECB52"
          ],
          "font": {
           "color": "#2a3f5f"
          },
          "geo": {
           "bgcolor": "white",
           "lakecolor": "white",
           "landcolor": "#E5ECF6",
           "showlakes": true,
           "showland": true,
           "subunitcolor": "white"
          },
          "hoverlabel": {
           "align": "left"
          },
          "hovermode": "closest",
          "mapbox": {
           "style": "light"
          },
          "paper_bgcolor": "white",
          "plot_bgcolor": "#E5ECF6",
          "polar": {
           "angularaxis": {
            "gridcolor": "white",
            "linecolor": "white",
            "ticks": ""
           },
           "bgcolor": "#E5ECF6",
           "radialaxis": {
            "gridcolor": "white",
            "linecolor": "white",
            "ticks": ""
           }
          },
          "scene": {
           "xaxis": {
            "backgroundcolor": "#E5ECF6",
            "gridcolor": "white",
            "gridwidth": 2,
            "linecolor": "white",
            "showbackground": true,
            "ticks": "",
            "zerolinecolor": "white"
           },
           "yaxis": {
            "backgroundcolor": "#E5ECF6",
            "gridcolor": "white",
            "gridwidth": 2,
            "linecolor": "white",
            "showbackground": true,
            "ticks": "",
            "zerolinecolor": "white"
           },
           "zaxis": {
            "backgroundcolor": "#E5ECF6",
            "gridcolor": "white",
            "gridwidth": 2,
            "linecolor": "white",
            "showbackground": true,
            "ticks": "",
            "zerolinecolor": "white"
           }
          },
          "shapedefaults": {
           "line": {
            "color": "#2a3f5f"
           }
          },
          "ternary": {
           "aaxis": {
            "gridcolor": "white",
            "linecolor": "white",
            "ticks": ""
           },
           "baxis": {
            "gridcolor": "white",
            "linecolor": "white",
            "ticks": ""
           },
           "bgcolor": "#E5ECF6",
           "caxis": {
            "gridcolor": "white",
            "linecolor": "white",
            "ticks": ""
           }
          },
          "title": {
           "x": 0.05
          },
          "xaxis": {
           "automargin": true,
           "gridcolor": "white",
           "linecolor": "white",
           "ticks": "",
           "title": {
            "standoff": 15
           },
           "zerolinecolor": "white",
           "zerolinewidth": 2
          },
          "yaxis": {
           "automargin": true,
           "gridcolor": "white",
           "linecolor": "white",
           "ticks": "",
           "title": {
            "standoff": 15
           },
           "zerolinecolor": "white",
           "zerolinewidth": 2
          }
         }
        },
        "title": {
         "text": "They are commited to effective disablity inclusion"
        }
       }
      },
      "text/html": [
       "<div>\n",
       "        \n",
       "        \n",
       "            <div id=\"0bd6dc14-1ee2-4b58-957c-4f16741cb9c5\" class=\"plotly-graph-div\" style=\"height:525px; width:100%;\"></div>\n",
       "            <script type=\"text/javascript\">\n",
       "                require([\"plotly\"], function(Plotly) {\n",
       "                    window.PLOTLYENV=window.PLOTLYENV || {};\n",
       "                    \n",
       "                if (document.getElementById(\"0bd6dc14-1ee2-4b58-957c-4f16741cb9c5\")) {\n",
       "                    Plotly.newPlot(\n",
       "                        '0bd6dc14-1ee2-4b58-957c-4f16741cb9c5',\n",
       "                        [{\"mode\": \"markers\", \"name\": \"Top 50\", \"type\": \"scatter\", \"x\": [\"7203.T\", \"8058.T\", \"7267.T\", \"6178.T\", \"9432.T\", \"8001.T\", \"7201.T\", \"5020.T\", \"9984.T\", \"6501.T\", \"6758.T\", \"8267.T\", \"6752.T\", \"7181.T\", \"8002.T\", \"8750.T\", \"8031.T\", \"3382.T\", \"8015.T\", \"8306.T\", \"9501.T\", \"5401.T\", \"8316.T\", \"8725.T\", \"8766.T\", \"6902.T\", \"8053.T\", \"9433.T\", \"9437.T\", \"6503.T\", \"5019.T\", \"1925.T\", \"7011.T\", \"7259.T\", \"6702.T\", \"8411.T\", \"4188.T\", \"5411.T\", \"7269.T\", \"9434.T\", \"6502.T\", \"5108.T\", \"8630.T\", \"7751.T\", \"7261.T\", \"9503.T\", \"7459.T\", \"5802.T\", \"7270.T\", \"9502.T\"], \"y\": [70.0, 65.0, 57.0, 24.0, 58.0, 57.0, 59.0, 40.0, 47.0, 47.0, 69.0, 59.0, 72.0, 0.0, 59.0, 58.0, 65.0, 36.0, 24.0, 19.0, 24.0, 29.0, 56.0, 35.0, 58.0, 56.0, 47.0, 24.0, 76.0, 58.0, 25.0, 26.0, 47.0, 58.0, 73.0, 55.0, 19.0, 49.0, 33.0, 0.0, 76.0, 47.0, 57.0, 47.0, 65.0, 35.0, 24.0, 58.0, 24.0, 59.0]}, {\"mode\": \"markers\", \"name\": \"Bottom 50\", \"type\": \"scatter\", \"x\": [\"FCR_u.TO\", \"AIA.NZ\", \"ROKU.OQ\", \"PAYC.N\", \"SUI.N\", \"GWRE.N\", \"DOCU.OQ\", \"AEMN.SI\", \"AGNC.OQ\", \"CAR_u.TO\", \"ADML.L\", \"NNN.N\", \"DHER.DE\", \"GFCP.PA\", \"FBK.MI\", \"FNV.TO\", \"ICAD.PA\", \"WIX.OQ\", \"IONS.OQ\", \"MFG.AX\", \"BLND.L\", \"PODD.OQ\", \"ELS.N\", \"CVO.PA\", \"MKTX.OQ\", \"HRGV.L\", \"MACT.SI\", \"CYBR.OQ\", \"CACT.SI\", \"OKTA.OQ\", \"RYM.NZ\", \"SGRO.L\", \"SUNT.SI\", \"AUTOA.L\", \"ADYEN.AS\", \"WTC.AX\", \"GLPG.AS\", \"PARG.S\", \"SRPT.OQ\", \"PSK.TO\", \"MDB.OQ\", \"ACB.TO\", \"TKWY.AS\", \"WEED.TO\", \"ALNY.OQ\", \"BGNE.OQ\", \"PSHG_p.DE\", \"CRON.TO\", \"LBRDK.OQ\", \"AWC.AX\"], \"y\": [0.0, 0.0, 0.0, 0.0, 0.0, 0.0, 0.0, 14.0, 0.0, 0.0, 0.0, 0.0, 17.0, 29.0, 20.0, 0.0, 37.0, 0.0, 8.0, 25.0, 7.0, 0.0, 0.0, 29.0, 21.0, 21.0, 0.0, 0.0, 14.0, 0.0, 0.0, 7.0, 0.0, 24.0, 0.0, 25.0, 12.0, 0.0, 0.0, 15.0, 0.0, 0.0, 0.0, 0.0, 0.0, 0.0, 0.0, 0.0, 0.0, 10.0]}],\n",
       "                        {\"template\": {\"data\": {\"bar\": [{\"error_x\": {\"color\": \"#2a3f5f\"}, \"error_y\": {\"color\": \"#2a3f5f\"}, \"marker\": {\"line\": {\"color\": \"#E5ECF6\", \"width\": 0.5}}, \"type\": \"bar\"}], \"barpolar\": [{\"marker\": {\"line\": {\"color\": \"#E5ECF6\", \"width\": 0.5}}, \"type\": \"barpolar\"}], \"carpet\": [{\"aaxis\": {\"endlinecolor\": \"#2a3f5f\", \"gridcolor\": \"white\", \"linecolor\": \"white\", \"minorgridcolor\": \"white\", \"startlinecolor\": \"#2a3f5f\"}, \"baxis\": {\"endlinecolor\": \"#2a3f5f\", \"gridcolor\": \"white\", \"linecolor\": \"white\", \"minorgridcolor\": \"white\", \"startlinecolor\": \"#2a3f5f\"}, \"type\": \"carpet\"}], \"choropleth\": [{\"colorbar\": {\"outlinewidth\": 0, \"ticks\": \"\"}, \"type\": \"choropleth\"}], \"contour\": [{\"colorbar\": {\"outlinewidth\": 0, \"ticks\": \"\"}, \"colorscale\": [[0.0, \"#0d0887\"], [0.1111111111111111, \"#46039f\"], [0.2222222222222222, \"#7201a8\"], [0.3333333333333333, \"#9c179e\"], [0.4444444444444444, \"#bd3786\"], [0.5555555555555556, \"#d8576b\"], [0.6666666666666666, \"#ed7953\"], [0.7777777777777778, \"#fb9f3a\"], [0.8888888888888888, \"#fdca26\"], [1.0, \"#f0f921\"]], \"type\": \"contour\"}], \"contourcarpet\": [{\"colorbar\": {\"outlinewidth\": 0, \"ticks\": \"\"}, \"type\": \"contourcarpet\"}], \"heatmap\": [{\"colorbar\": {\"outlinewidth\": 0, \"ticks\": \"\"}, \"colorscale\": [[0.0, \"#0d0887\"], [0.1111111111111111, \"#46039f\"], [0.2222222222222222, \"#7201a8\"], [0.3333333333333333, \"#9c179e\"], [0.4444444444444444, \"#bd3786\"], [0.5555555555555556, \"#d8576b\"], [0.6666666666666666, \"#ed7953\"], [0.7777777777777778, \"#fb9f3a\"], [0.8888888888888888, \"#fdca26\"], [1.0, \"#f0f921\"]], \"type\": \"heatmap\"}], \"heatmapgl\": [{\"colorbar\": {\"outlinewidth\": 0, \"ticks\": \"\"}, \"colorscale\": [[0.0, \"#0d0887\"], [0.1111111111111111, \"#46039f\"], [0.2222222222222222, \"#7201a8\"], [0.3333333333333333, \"#9c179e\"], [0.4444444444444444, \"#bd3786\"], [0.5555555555555556, \"#d8576b\"], [0.6666666666666666, \"#ed7953\"], [0.7777777777777778, \"#fb9f3a\"], [0.8888888888888888, \"#fdca26\"], [1.0, \"#f0f921\"]], \"type\": \"heatmapgl\"}], \"histogram\": [{\"marker\": {\"colorbar\": {\"outlinewidth\": 0, \"ticks\": \"\"}}, \"type\": \"histogram\"}], \"histogram2d\": [{\"colorbar\": {\"outlinewidth\": 0, \"ticks\": \"\"}, \"colorscale\": [[0.0, \"#0d0887\"], [0.1111111111111111, \"#46039f\"], [0.2222222222222222, \"#7201a8\"], [0.3333333333333333, \"#9c179e\"], [0.4444444444444444, \"#bd3786\"], [0.5555555555555556, \"#d8576b\"], [0.6666666666666666, \"#ed7953\"], [0.7777777777777778, \"#fb9f3a\"], [0.8888888888888888, \"#fdca26\"], [1.0, \"#f0f921\"]], \"type\": \"histogram2d\"}], \"histogram2dcontour\": [{\"colorbar\": {\"outlinewidth\": 0, \"ticks\": \"\"}, \"colorscale\": [[0.0, \"#0d0887\"], [0.1111111111111111, \"#46039f\"], [0.2222222222222222, \"#7201a8\"], [0.3333333333333333, \"#9c179e\"], [0.4444444444444444, \"#bd3786\"], [0.5555555555555556, \"#d8576b\"], [0.6666666666666666, \"#ed7953\"], [0.7777777777777778, \"#fb9f3a\"], [0.8888888888888888, \"#fdca26\"], [1.0, \"#f0f921\"]], \"type\": \"histogram2dcontour\"}], \"mesh3d\": [{\"colorbar\": {\"outlinewidth\": 0, \"ticks\": \"\"}, \"type\": \"mesh3d\"}], \"parcoords\": [{\"line\": {\"colorbar\": {\"outlinewidth\": 0, \"ticks\": \"\"}}, \"type\": \"parcoords\"}], \"pie\": [{\"automargin\": true, \"type\": \"pie\"}], \"scatter\": [{\"marker\": {\"colorbar\": {\"outlinewidth\": 0, \"ticks\": \"\"}}, \"type\": \"scatter\"}], \"scatter3d\": [{\"line\": {\"colorbar\": {\"outlinewidth\": 0, \"ticks\": \"\"}}, \"marker\": {\"colorbar\": {\"outlinewidth\": 0, \"ticks\": \"\"}}, \"type\": \"scatter3d\"}], \"scattercarpet\": [{\"marker\": {\"colorbar\": {\"outlinewidth\": 0, \"ticks\": \"\"}}, \"type\": \"scattercarpet\"}], \"scattergeo\": [{\"marker\": {\"colorbar\": {\"outlinewidth\": 0, \"ticks\": \"\"}}, \"type\": \"scattergeo\"}], \"scattergl\": [{\"marker\": {\"colorbar\": {\"outlinewidth\": 0, \"ticks\": \"\"}}, \"type\": \"scattergl\"}], \"scattermapbox\": [{\"marker\": {\"colorbar\": {\"outlinewidth\": 0, \"ticks\": \"\"}}, \"type\": \"scattermapbox\"}], \"scatterpolar\": [{\"marker\": {\"colorbar\": {\"outlinewidth\": 0, \"ticks\": \"\"}}, \"type\": \"scatterpolar\"}], \"scatterpolargl\": [{\"marker\": {\"colorbar\": {\"outlinewidth\": 0, \"ticks\": \"\"}}, \"type\": \"scatterpolargl\"}], \"scatterternary\": [{\"marker\": {\"colorbar\": {\"outlinewidth\": 0, \"ticks\": \"\"}}, \"type\": \"scatterternary\"}], \"surface\": [{\"colorbar\": {\"outlinewidth\": 0, \"ticks\": \"\"}, \"colorscale\": [[0.0, \"#0d0887\"], [0.1111111111111111, \"#46039f\"], [0.2222222222222222, \"#7201a8\"], [0.3333333333333333, \"#9c179e\"], [0.4444444444444444, \"#bd3786\"], [0.5555555555555556, \"#d8576b\"], [0.6666666666666666, \"#ed7953\"], [0.7777777777777778, \"#fb9f3a\"], [0.8888888888888888, \"#fdca26\"], [1.0, \"#f0f921\"]], \"type\": \"surface\"}], \"table\": [{\"cells\": {\"fill\": {\"color\": \"#EBF0F8\"}, \"line\": {\"color\": \"white\"}}, \"header\": {\"fill\": {\"color\": \"#C8D4E3\"}, \"line\": {\"color\": \"white\"}}, \"type\": \"table\"}]}, \"layout\": {\"annotationdefaults\": {\"arrowcolor\": \"#2a3f5f\", \"arrowhead\": 0, \"arrowwidth\": 1}, \"coloraxis\": {\"colorbar\": {\"outlinewidth\": 0, \"ticks\": \"\"}}, \"colorscale\": {\"diverging\": [[0, \"#8e0152\"], [0.1, \"#c51b7d\"], [0.2, \"#de77ae\"], [0.3, \"#f1b6da\"], [0.4, \"#fde0ef\"], [0.5, \"#f7f7f7\"], [0.6, \"#e6f5d0\"], [0.7, \"#b8e186\"], [0.8, \"#7fbc41\"], [0.9, \"#4d9221\"], [1, \"#276419\"]], \"sequential\": [[0.0, \"#0d0887\"], [0.1111111111111111, \"#46039f\"], [0.2222222222222222, \"#7201a8\"], [0.3333333333333333, \"#9c179e\"], [0.4444444444444444, \"#bd3786\"], [0.5555555555555556, \"#d8576b\"], [0.6666666666666666, \"#ed7953\"], [0.7777777777777778, \"#fb9f3a\"], [0.8888888888888888, \"#fdca26\"], [1.0, \"#f0f921\"]], \"sequentialminus\": [[0.0, \"#0d0887\"], [0.1111111111111111, \"#46039f\"], [0.2222222222222222, \"#7201a8\"], [0.3333333333333333, \"#9c179e\"], [0.4444444444444444, \"#bd3786\"], [0.5555555555555556, \"#d8576b\"], [0.6666666666666666, \"#ed7953\"], [0.7777777777777778, \"#fb9f3a\"], [0.8888888888888888, \"#fdca26\"], [1.0, \"#f0f921\"]]}, \"colorway\": [\"#636efa\", \"#EF553B\", \"#00cc96\", \"#ab63fa\", \"#FFA15A\", \"#19d3f3\", \"#FF6692\", \"#B6E880\", \"#FF97FF\", \"#FECB52\"], \"font\": {\"color\": \"#2a3f5f\"}, \"geo\": {\"bgcolor\": \"white\", \"lakecolor\": \"white\", \"landcolor\": \"#E5ECF6\", \"showlakes\": true, \"showland\": true, \"subunitcolor\": \"white\"}, \"hoverlabel\": {\"align\": \"left\"}, \"hovermode\": \"closest\", \"mapbox\": {\"style\": \"light\"}, \"paper_bgcolor\": \"white\", \"plot_bgcolor\": \"#E5ECF6\", \"polar\": {\"angularaxis\": {\"gridcolor\": \"white\", \"linecolor\": \"white\", \"ticks\": \"\"}, \"bgcolor\": \"#E5ECF6\", \"radialaxis\": {\"gridcolor\": \"white\", \"linecolor\": \"white\", \"ticks\": \"\"}}, \"scene\": {\"xaxis\": {\"backgroundcolor\": \"#E5ECF6\", \"gridcolor\": \"white\", \"gridwidth\": 2, \"linecolor\": \"white\", \"showbackground\": true, \"ticks\": \"\", \"zerolinecolor\": \"white\"}, \"yaxis\": {\"backgroundcolor\": \"#E5ECF6\", \"gridcolor\": \"white\", \"gridwidth\": 2, \"linecolor\": \"white\", \"showbackground\": true, \"ticks\": \"\", \"zerolinecolor\": \"white\"}, \"zaxis\": {\"backgroundcolor\": \"#E5ECF6\", \"gridcolor\": \"white\", \"gridwidth\": 2, \"linecolor\": \"white\", \"showbackground\": true, \"ticks\": \"\", \"zerolinecolor\": \"white\"}}, \"shapedefaults\": {\"line\": {\"color\": \"#2a3f5f\"}}, \"ternary\": {\"aaxis\": {\"gridcolor\": \"white\", \"linecolor\": \"white\", \"ticks\": \"\"}, \"baxis\": {\"gridcolor\": \"white\", \"linecolor\": \"white\", \"ticks\": \"\"}, \"bgcolor\": \"#E5ECF6\", \"caxis\": {\"gridcolor\": \"white\", \"linecolor\": \"white\", \"ticks\": \"\"}}, \"title\": {\"x\": 0.05}, \"xaxis\": {\"automargin\": true, \"gridcolor\": \"white\", \"linecolor\": \"white\", \"ticks\": \"\", \"title\": {\"standoff\": 15}, \"zerolinecolor\": \"white\", \"zerolinewidth\": 2}, \"yaxis\": {\"automargin\": true, \"gridcolor\": \"white\", \"linecolor\": \"white\", \"ticks\": \"\", \"title\": {\"standoff\": 15}, \"zerolinecolor\": \"white\", \"zerolinewidth\": 2}}}, \"title\": {\"text\": \"They are commited to effective disablity inclusion\"}},\n",
       "                        {\"responsive\": true}\n",
       "                    ).then(function(){\n",
       "                            \n",
       "var gd = document.getElementById('0bd6dc14-1ee2-4b58-957c-4f16741cb9c5');\n",
       "var x = new MutationObserver(function (mutations, observer) {{\n",
       "        var display = window.getComputedStyle(gd).display;\n",
       "        if (!display || display === 'none') {{\n",
       "            console.log([gd, 'removed!']);\n",
       "            Plotly.purge(gd);\n",
       "            observer.disconnect();\n",
       "        }}\n",
       "}});\n",
       "\n",
       "// Listen for the removal of the full notebook cells\n",
       "var notebookContainer = gd.closest('#notebook-container');\n",
       "if (notebookContainer) {{\n",
       "    x.observe(notebookContainer, {childList: true});\n",
       "}}\n",
       "\n",
       "// Listen for the clearing of the current output cell\n",
       "var outputEl = gd.closest('.output');\n",
       "if (outputEl) {{\n",
       "    x.observe(outputEl, {childList: true});\n",
       "}}\n",
       "\n",
       "                        })\n",
       "                };\n",
       "                });\n",
       "            </script>\n",
       "        </div>"
      ]
     },
     "metadata": {},
     "output_type": "display_data"
    }
   ],
   "source": [
    "plots = [go.Scatter(x=top50['RIC'], y=top50['TRDIR Inclusion Score'], mode='markers', name='Top 50'), \n",
    "         go.Scatter(x=bot50['RIC'], y=bot50['TRDIR Inclusion Score'], mode='markers', name='Bottom 50')]\n",
    "fig = go.Figure(data=plots)\n",
    "fig.update_layout(title='They are commited to effective disablity inclusion')\n",
    "fig.show()"
   ]
  },
  {
   "cell_type": "code",
   "execution_count": 8,
   "metadata": {},
   "outputs": [
    {
     "data": {
      "application/vnd.plotly.v1+json": {
       "config": {
        "plotlyServerURL": "https://plot.ly"
       },
       "data": [
        {
         "mode": "markers",
         "name": "Top 50",
         "type": "scatter",
         "x": [
          "7203.T",
          "8058.T",
          "7267.T",
          "6178.T",
          "9432.T",
          "8001.T",
          "7201.T",
          "5020.T",
          "9984.T",
          "6501.T",
          "6758.T",
          "8267.T",
          "6752.T",
          "7181.T",
          "8002.T",
          "8750.T",
          "8031.T",
          "3382.T",
          "8015.T",
          "8306.T",
          "9501.T",
          "5401.T",
          "8316.T",
          "8725.T",
          "8766.T",
          "6902.T",
          "8053.T",
          "9433.T",
          "9437.T",
          "6503.T",
          "5019.T",
          "1925.T",
          "7011.T",
          "7259.T",
          "6702.T",
          "8411.T",
          "4188.T",
          "5411.T",
          "7269.T",
          "9434.T",
          "6502.T",
          "5108.T",
          "8630.T",
          "7751.T",
          "7261.T",
          "9503.T",
          "7459.T",
          "5802.T",
          "7270.T",
          "9502.T"
         ],
         "y": [
          48,
          50,
          63,
          40,
          52,
          50,
          61,
          41,
          30,
          52,
          63,
          61,
          63,
          0,
          50,
          45,
          79,
          50,
          67,
          33,
          30,
          20,
          43,
          40,
          56,
          61,
          67,
          62,
          67,
          52,
          33,
          53,
          52,
          48,
          57,
          29,
          19,
          53,
          48,
          0,
          52,
          61,
          52,
          58,
          48,
          44,
          43,
          61,
          48,
          44
         ]
        },
        {
         "mode": "markers",
         "name": "Bottom 50",
         "type": "scatter",
         "x": [
          "FCR_u.TO",
          "AIA.NZ",
          "ROKU.OQ",
          "PAYC.N",
          "SUI.N",
          "GWRE.N",
          "DOCU.OQ",
          "AEMN.SI",
          "AGNC.OQ",
          "CAR_u.TO",
          "ADML.L",
          "NNN.N",
          "DHER.DE",
          "GFCP.PA",
          "FBK.MI",
          "FNV.TO",
          "ICAD.PA",
          "WIX.OQ",
          "IONS.OQ",
          "MFG.AX",
          "BLND.L",
          "PODD.OQ",
          "ELS.N",
          "CVO.PA",
          "MKTX.OQ",
          "HRGV.L",
          "MACT.SI",
          "CYBR.OQ",
          "CACT.SI",
          "OKTA.OQ",
          "RYM.NZ",
          "SGRO.L",
          "SUNT.SI",
          "AUTOA.L",
          "ADYEN.AS",
          "WTC.AX",
          "GLPG.AS",
          "PARG.S",
          "SRPT.OQ",
          "PSK.TO",
          "MDB.OQ",
          "ACB.TO",
          "TKWY.AS",
          "WEED.TO",
          "ALNY.OQ",
          "BGNE.OQ",
          "PSHG_p.DE",
          "CRON.TO",
          "LBRDK.OQ",
          "AWC.AX"
         ],
         "y": [
          51,
          32,
          0,
          57,
          0,
          29,
          0,
          41,
          0,
          38,
          36,
          25,
          29,
          55,
          45,
          0,
          61,
          0,
          0,
          13,
          39,
          0,
          25,
          52,
          0,
          53,
          0,
          0,
          29,
          0,
          31,
          61,
          0,
          43,
          0,
          29,
          43,
          0,
          0,
          27,
          0,
          0,
          0,
          0,
          14,
          0,
          0,
          0,
          0,
          0
         ]
        }
       ],
       "layout": {
        "template": {
         "data": {
          "bar": [
           {
            "error_x": {
             "color": "#2a3f5f"
            },
            "error_y": {
             "color": "#2a3f5f"
            },
            "marker": {
             "line": {
              "color": "#E5ECF6",
              "width": 0.5
             }
            },
            "type": "bar"
           }
          ],
          "barpolar": [
           {
            "marker": {
             "line": {
              "color": "#E5ECF6",
              "width": 0.5
             }
            },
            "type": "barpolar"
           }
          ],
          "carpet": [
           {
            "aaxis": {
             "endlinecolor": "#2a3f5f",
             "gridcolor": "white",
             "linecolor": "white",
             "minorgridcolor": "white",
             "startlinecolor": "#2a3f5f"
            },
            "baxis": {
             "endlinecolor": "#2a3f5f",
             "gridcolor": "white",
             "linecolor": "white",
             "minorgridcolor": "white",
             "startlinecolor": "#2a3f5f"
            },
            "type": "carpet"
           }
          ],
          "choropleth": [
           {
            "colorbar": {
             "outlinewidth": 0,
             "ticks": ""
            },
            "type": "choropleth"
           }
          ],
          "contour": [
           {
            "colorbar": {
             "outlinewidth": 0,
             "ticks": ""
            },
            "colorscale": [
             [
              0,
              "#0d0887"
             ],
             [
              0.1111111111111111,
              "#46039f"
             ],
             [
              0.2222222222222222,
              "#7201a8"
             ],
             [
              0.3333333333333333,
              "#9c179e"
             ],
             [
              0.4444444444444444,
              "#bd3786"
             ],
             [
              0.5555555555555556,
              "#d8576b"
             ],
             [
              0.6666666666666666,
              "#ed7953"
             ],
             [
              0.7777777777777778,
              "#fb9f3a"
             ],
             [
              0.8888888888888888,
              "#fdca26"
             ],
             [
              1,
              "#f0f921"
             ]
            ],
            "type": "contour"
           }
          ],
          "contourcarpet": [
           {
            "colorbar": {
             "outlinewidth": 0,
             "ticks": ""
            },
            "type": "contourcarpet"
           }
          ],
          "heatmap": [
           {
            "colorbar": {
             "outlinewidth": 0,
             "ticks": ""
            },
            "colorscale": [
             [
              0,
              "#0d0887"
             ],
             [
              0.1111111111111111,
              "#46039f"
             ],
             [
              0.2222222222222222,
              "#7201a8"
             ],
             [
              0.3333333333333333,
              "#9c179e"
             ],
             [
              0.4444444444444444,
              "#bd3786"
             ],
             [
              0.5555555555555556,
              "#d8576b"
             ],
             [
              0.6666666666666666,
              "#ed7953"
             ],
             [
              0.7777777777777778,
              "#fb9f3a"
             ],
             [
              0.8888888888888888,
              "#fdca26"
             ],
             [
              1,
              "#f0f921"
             ]
            ],
            "type": "heatmap"
           }
          ],
          "heatmapgl": [
           {
            "colorbar": {
             "outlinewidth": 0,
             "ticks": ""
            },
            "colorscale": [
             [
              0,
              "#0d0887"
             ],
             [
              0.1111111111111111,
              "#46039f"
             ],
             [
              0.2222222222222222,
              "#7201a8"
             ],
             [
              0.3333333333333333,
              "#9c179e"
             ],
             [
              0.4444444444444444,
              "#bd3786"
             ],
             [
              0.5555555555555556,
              "#d8576b"
             ],
             [
              0.6666666666666666,
              "#ed7953"
             ],
             [
              0.7777777777777778,
              "#fb9f3a"
             ],
             [
              0.8888888888888888,
              "#fdca26"
             ],
             [
              1,
              "#f0f921"
             ]
            ],
            "type": "heatmapgl"
           }
          ],
          "histogram": [
           {
            "marker": {
             "colorbar": {
              "outlinewidth": 0,
              "ticks": ""
             }
            },
            "type": "histogram"
           }
          ],
          "histogram2d": [
           {
            "colorbar": {
             "outlinewidth": 0,
             "ticks": ""
            },
            "colorscale": [
             [
              0,
              "#0d0887"
             ],
             [
              0.1111111111111111,
              "#46039f"
             ],
             [
              0.2222222222222222,
              "#7201a8"
             ],
             [
              0.3333333333333333,
              "#9c179e"
             ],
             [
              0.4444444444444444,
              "#bd3786"
             ],
             [
              0.5555555555555556,
              "#d8576b"
             ],
             [
              0.6666666666666666,
              "#ed7953"
             ],
             [
              0.7777777777777778,
              "#fb9f3a"
             ],
             [
              0.8888888888888888,
              "#fdca26"
             ],
             [
              1,
              "#f0f921"
             ]
            ],
            "type": "histogram2d"
           }
          ],
          "histogram2dcontour": [
           {
            "colorbar": {
             "outlinewidth": 0,
             "ticks": ""
            },
            "colorscale": [
             [
              0,
              "#0d0887"
             ],
             [
              0.1111111111111111,
              "#46039f"
             ],
             [
              0.2222222222222222,
              "#7201a8"
             ],
             [
              0.3333333333333333,
              "#9c179e"
             ],
             [
              0.4444444444444444,
              "#bd3786"
             ],
             [
              0.5555555555555556,
              "#d8576b"
             ],
             [
              0.6666666666666666,
              "#ed7953"
             ],
             [
              0.7777777777777778,
              "#fb9f3a"
             ],
             [
              0.8888888888888888,
              "#fdca26"
             ],
             [
              1,
              "#f0f921"
             ]
            ],
            "type": "histogram2dcontour"
           }
          ],
          "mesh3d": [
           {
            "colorbar": {
             "outlinewidth": 0,
             "ticks": ""
            },
            "type": "mesh3d"
           }
          ],
          "parcoords": [
           {
            "line": {
             "colorbar": {
              "outlinewidth": 0,
              "ticks": ""
             }
            },
            "type": "parcoords"
           }
          ],
          "pie": [
           {
            "automargin": true,
            "type": "pie"
           }
          ],
          "scatter": [
           {
            "marker": {
             "colorbar": {
              "outlinewidth": 0,
              "ticks": ""
             }
            },
            "type": "scatter"
           }
          ],
          "scatter3d": [
           {
            "line": {
             "colorbar": {
              "outlinewidth": 0,
              "ticks": ""
             }
            },
            "marker": {
             "colorbar": {
              "outlinewidth": 0,
              "ticks": ""
             }
            },
            "type": "scatter3d"
           }
          ],
          "scattercarpet": [
           {
            "marker": {
             "colorbar": {
              "outlinewidth": 0,
              "ticks": ""
             }
            },
            "type": "scattercarpet"
           }
          ],
          "scattergeo": [
           {
            "marker": {
             "colorbar": {
              "outlinewidth": 0,
              "ticks": ""
             }
            },
            "type": "scattergeo"
           }
          ],
          "scattergl": [
           {
            "marker": {
             "colorbar": {
              "outlinewidth": 0,
              "ticks": ""
             }
            },
            "type": "scattergl"
           }
          ],
          "scattermapbox": [
           {
            "marker": {
             "colorbar": {
              "outlinewidth": 0,
              "ticks": ""
             }
            },
            "type": "scattermapbox"
           }
          ],
          "scatterpolar": [
           {
            "marker": {
             "colorbar": {
              "outlinewidth": 0,
              "ticks": ""
             }
            },
            "type": "scatterpolar"
           }
          ],
          "scatterpolargl": [
           {
            "marker": {
             "colorbar": {
              "outlinewidth": 0,
              "ticks": ""
             }
            },
            "type": "scatterpolargl"
           }
          ],
          "scatterternary": [
           {
            "marker": {
             "colorbar": {
              "outlinewidth": 0,
              "ticks": ""
             }
            },
            "type": "scatterternary"
           }
          ],
          "surface": [
           {
            "colorbar": {
             "outlinewidth": 0,
             "ticks": ""
            },
            "colorscale": [
             [
              0,
              "#0d0887"
             ],
             [
              0.1111111111111111,
              "#46039f"
             ],
             [
              0.2222222222222222,
              "#7201a8"
             ],
             [
              0.3333333333333333,
              "#9c179e"
             ],
             [
              0.4444444444444444,
              "#bd3786"
             ],
             [
              0.5555555555555556,
              "#d8576b"
             ],
             [
              0.6666666666666666,
              "#ed7953"
             ],
             [
              0.7777777777777778,
              "#fb9f3a"
             ],
             [
              0.8888888888888888,
              "#fdca26"
             ],
             [
              1,
              "#f0f921"
             ]
            ],
            "type": "surface"
           }
          ],
          "table": [
           {
            "cells": {
             "fill": {
              "color": "#EBF0F8"
             },
             "line": {
              "color": "white"
             }
            },
            "header": {
             "fill": {
              "color": "#C8D4E3"
             },
             "line": {
              "color": "white"
             }
            },
            "type": "table"
           }
          ]
         },
         "layout": {
          "annotationdefaults": {
           "arrowcolor": "#2a3f5f",
           "arrowhead": 0,
           "arrowwidth": 1
          },
          "coloraxis": {
           "colorbar": {
            "outlinewidth": 0,
            "ticks": ""
           }
          },
          "colorscale": {
           "diverging": [
            [
             0,
             "#8e0152"
            ],
            [
             0.1,
             "#c51b7d"
            ],
            [
             0.2,
             "#de77ae"
            ],
            [
             0.3,
             "#f1b6da"
            ],
            [
             0.4,
             "#fde0ef"
            ],
            [
             0.5,
             "#f7f7f7"
            ],
            [
             0.6,
             "#e6f5d0"
            ],
            [
             0.7,
             "#b8e186"
            ],
            [
             0.8,
             "#7fbc41"
            ],
            [
             0.9,
             "#4d9221"
            ],
            [
             1,
             "#276419"
            ]
           ],
           "sequential": [
            [
             0,
             "#0d0887"
            ],
            [
             0.1111111111111111,
             "#46039f"
            ],
            [
             0.2222222222222222,
             "#7201a8"
            ],
            [
             0.3333333333333333,
             "#9c179e"
            ],
            [
             0.4444444444444444,
             "#bd3786"
            ],
            [
             0.5555555555555556,
             "#d8576b"
            ],
            [
             0.6666666666666666,
             "#ed7953"
            ],
            [
             0.7777777777777778,
             "#fb9f3a"
            ],
            [
             0.8888888888888888,
             "#fdca26"
            ],
            [
             1,
             "#f0f921"
            ]
           ],
           "sequentialminus": [
            [
             0,
             "#0d0887"
            ],
            [
             0.1111111111111111,
             "#46039f"
            ],
            [
             0.2222222222222222,
             "#7201a8"
            ],
            [
             0.3333333333333333,
             "#9c179e"
            ],
            [
             0.4444444444444444,
             "#bd3786"
            ],
            [
             0.5555555555555556,
             "#d8576b"
            ],
            [
             0.6666666666666666,
             "#ed7953"
            ],
            [
             0.7777777777777778,
             "#fb9f3a"
            ],
            [
             0.8888888888888888,
             "#fdca26"
            ],
            [
             1,
             "#f0f921"
            ]
           ]
          },
          "colorway": [
           "#636efa",
           "#EF553B",
           "#00cc96",
           "#ab63fa",
           "#FFA15A",
           "#19d3f3",
           "#FF6692",
           "#B6E880",
           "#FF97FF",
           "#FECB52"
          ],
          "font": {
           "color": "#2a3f5f"
          },
          "geo": {
           "bgcolor": "white",
           "lakecolor": "white",
           "landcolor": "#E5ECF6",
           "showlakes": true,
           "showland": true,
           "subunitcolor": "white"
          },
          "hoverlabel": {
           "align": "left"
          },
          "hovermode": "closest",
          "mapbox": {
           "style": "light"
          },
          "paper_bgcolor": "white",
          "plot_bgcolor": "#E5ECF6",
          "polar": {
           "angularaxis": {
            "gridcolor": "white",
            "linecolor": "white",
            "ticks": ""
           },
           "bgcolor": "#E5ECF6",
           "radialaxis": {
            "gridcolor": "white",
            "linecolor": "white",
            "ticks": ""
           }
          },
          "scene": {
           "xaxis": {
            "backgroundcolor": "#E5ECF6",
            "gridcolor": "white",
            "gridwidth": 2,
            "linecolor": "white",
            "showbackground": true,
            "ticks": "",
            "zerolinecolor": "white"
           },
           "yaxis": {
            "backgroundcolor": "#E5ECF6",
            "gridcolor": "white",
            "gridwidth": 2,
            "linecolor": "white",
            "showbackground": true,
            "ticks": "",
            "zerolinecolor": "white"
           },
           "zaxis": {
            "backgroundcolor": "#E5ECF6",
            "gridcolor": "white",
            "gridwidth": 2,
            "linecolor": "white",
            "showbackground": true,
            "ticks": "",
            "zerolinecolor": "white"
           }
          },
          "shapedefaults": {
           "line": {
            "color": "#2a3f5f"
           }
          },
          "ternary": {
           "aaxis": {
            "gridcolor": "white",
            "linecolor": "white",
            "ticks": ""
           },
           "baxis": {
            "gridcolor": "white",
            "linecolor": "white",
            "ticks": ""
           },
           "bgcolor": "#E5ECF6",
           "caxis": {
            "gridcolor": "white",
            "linecolor": "white",
            "ticks": ""
           }
          },
          "title": {
           "x": 0.05
          },
          "xaxis": {
           "automargin": true,
           "gridcolor": "white",
           "linecolor": "white",
           "ticks": "",
           "title": {
            "standoff": 15
           },
           "zerolinecolor": "white",
           "zerolinewidth": 2
          },
          "yaxis": {
           "automargin": true,
           "gridcolor": "white",
           "linecolor": "white",
           "ticks": "",
           "title": {
            "standoff": 15
           },
           "zerolinecolor": "white",
           "zerolinewidth": 2
          }
         }
        },
        "title": {
         "text": "With a focus on People Development"
        }
       }
      },
      "text/html": [
       "<div>\n",
       "        \n",
       "        \n",
       "            <div id=\"f487e315-e4a3-4796-9110-9c5247e71918\" class=\"plotly-graph-div\" style=\"height:525px; width:100%;\"></div>\n",
       "            <script type=\"text/javascript\">\n",
       "                require([\"plotly\"], function(Plotly) {\n",
       "                    window.PLOTLYENV=window.PLOTLYENV || {};\n",
       "                    \n",
       "                if (document.getElementById(\"f487e315-e4a3-4796-9110-9c5247e71918\")) {\n",
       "                    Plotly.newPlot(\n",
       "                        'f487e315-e4a3-4796-9110-9c5247e71918',\n",
       "                        [{\"mode\": \"markers\", \"name\": \"Top 50\", \"type\": \"scatter\", \"x\": [\"7203.T\", \"8058.T\", \"7267.T\", \"6178.T\", \"9432.T\", \"8001.T\", \"7201.T\", \"5020.T\", \"9984.T\", \"6501.T\", \"6758.T\", \"8267.T\", \"6752.T\", \"7181.T\", \"8002.T\", \"8750.T\", \"8031.T\", \"3382.T\", \"8015.T\", \"8306.T\", \"9501.T\", \"5401.T\", \"8316.T\", \"8725.T\", \"8766.T\", \"6902.T\", \"8053.T\", \"9433.T\", \"9437.T\", \"6503.T\", \"5019.T\", \"1925.T\", \"7011.T\", \"7259.T\", \"6702.T\", \"8411.T\", \"4188.T\", \"5411.T\", \"7269.T\", \"9434.T\", \"6502.T\", \"5108.T\", \"8630.T\", \"7751.T\", \"7261.T\", \"9503.T\", \"7459.T\", \"5802.T\", \"7270.T\", \"9502.T\"], \"y\": [48.0, 50.0, 63.0, 40.0, 52.0, 50.0, 61.0, 41.0, 30.0, 52.0, 63.0, 61.0, 63.0, 0.0, 50.0, 45.0, 79.0, 50.0, 67.0, 33.0, 30.0, 20.0, 43.0, 40.0, 56.0, 61.0, 67.0, 62.0, 67.0, 52.0, 33.0, 53.0, 52.0, 48.0, 57.0, 29.0, 19.0, 53.0, 48.0, 0.0, 52.0, 61.0, 52.0, 58.0, 48.0, 44.0, 43.0, 61.0, 48.0, 44.0]}, {\"mode\": \"markers\", \"name\": \"Bottom 50\", \"type\": \"scatter\", \"x\": [\"FCR_u.TO\", \"AIA.NZ\", \"ROKU.OQ\", \"PAYC.N\", \"SUI.N\", \"GWRE.N\", \"DOCU.OQ\", \"AEMN.SI\", \"AGNC.OQ\", \"CAR_u.TO\", \"ADML.L\", \"NNN.N\", \"DHER.DE\", \"GFCP.PA\", \"FBK.MI\", \"FNV.TO\", \"ICAD.PA\", \"WIX.OQ\", \"IONS.OQ\", \"MFG.AX\", \"BLND.L\", \"PODD.OQ\", \"ELS.N\", \"CVO.PA\", \"MKTX.OQ\", \"HRGV.L\", \"MACT.SI\", \"CYBR.OQ\", \"CACT.SI\", \"OKTA.OQ\", \"RYM.NZ\", \"SGRO.L\", \"SUNT.SI\", \"AUTOA.L\", \"ADYEN.AS\", \"WTC.AX\", \"GLPG.AS\", \"PARG.S\", \"SRPT.OQ\", \"PSK.TO\", \"MDB.OQ\", \"ACB.TO\", \"TKWY.AS\", \"WEED.TO\", \"ALNY.OQ\", \"BGNE.OQ\", \"PSHG_p.DE\", \"CRON.TO\", \"LBRDK.OQ\", \"AWC.AX\"], \"y\": [51.0, 32.0, 0.0, 57.0, 0.0, 29.0, 0.0, 41.0, 0.0, 38.0, 36.0, 25.0, 29.0, 55.0, 45.0, 0.0, 61.0, 0.0, 0.0, 13.0, 39.0, 0.0, 25.0, 52.0, 0.0, 53.0, 0.0, 0.0, 29.0, 0.0, 31.0, 61.0, 0.0, 43.0, 0.0, 29.0, 43.0, 0.0, 0.0, 27.0, 0.0, 0.0, 0.0, 0.0, 14.0, 0.0, 0.0, 0.0, 0.0, 0.0]}],\n",
       "                        {\"template\": {\"data\": {\"bar\": [{\"error_x\": {\"color\": \"#2a3f5f\"}, \"error_y\": {\"color\": \"#2a3f5f\"}, \"marker\": {\"line\": {\"color\": \"#E5ECF6\", \"width\": 0.5}}, \"type\": \"bar\"}], \"barpolar\": [{\"marker\": {\"line\": {\"color\": \"#E5ECF6\", \"width\": 0.5}}, \"type\": \"barpolar\"}], \"carpet\": [{\"aaxis\": {\"endlinecolor\": \"#2a3f5f\", \"gridcolor\": \"white\", \"linecolor\": \"white\", \"minorgridcolor\": \"white\", \"startlinecolor\": \"#2a3f5f\"}, \"baxis\": {\"endlinecolor\": \"#2a3f5f\", \"gridcolor\": \"white\", \"linecolor\": \"white\", \"minorgridcolor\": \"white\", \"startlinecolor\": \"#2a3f5f\"}, \"type\": \"carpet\"}], \"choropleth\": [{\"colorbar\": {\"outlinewidth\": 0, \"ticks\": \"\"}, \"type\": \"choropleth\"}], \"contour\": [{\"colorbar\": {\"outlinewidth\": 0, \"ticks\": \"\"}, \"colorscale\": [[0.0, \"#0d0887\"], [0.1111111111111111, \"#46039f\"], [0.2222222222222222, \"#7201a8\"], [0.3333333333333333, \"#9c179e\"], [0.4444444444444444, \"#bd3786\"], [0.5555555555555556, \"#d8576b\"], [0.6666666666666666, \"#ed7953\"], [0.7777777777777778, \"#fb9f3a\"], [0.8888888888888888, \"#fdca26\"], [1.0, \"#f0f921\"]], \"type\": \"contour\"}], \"contourcarpet\": [{\"colorbar\": {\"outlinewidth\": 0, \"ticks\": \"\"}, \"type\": \"contourcarpet\"}], \"heatmap\": [{\"colorbar\": {\"outlinewidth\": 0, \"ticks\": \"\"}, \"colorscale\": [[0.0, \"#0d0887\"], [0.1111111111111111, \"#46039f\"], [0.2222222222222222, \"#7201a8\"], [0.3333333333333333, \"#9c179e\"], [0.4444444444444444, \"#bd3786\"], [0.5555555555555556, \"#d8576b\"], [0.6666666666666666, \"#ed7953\"], [0.7777777777777778, \"#fb9f3a\"], [0.8888888888888888, \"#fdca26\"], [1.0, \"#f0f921\"]], \"type\": \"heatmap\"}], \"heatmapgl\": [{\"colorbar\": {\"outlinewidth\": 0, \"ticks\": \"\"}, \"colorscale\": [[0.0, \"#0d0887\"], [0.1111111111111111, \"#46039f\"], [0.2222222222222222, \"#7201a8\"], [0.3333333333333333, \"#9c179e\"], [0.4444444444444444, \"#bd3786\"], [0.5555555555555556, \"#d8576b\"], [0.6666666666666666, \"#ed7953\"], [0.7777777777777778, \"#fb9f3a\"], [0.8888888888888888, \"#fdca26\"], [1.0, \"#f0f921\"]], \"type\": \"heatmapgl\"}], \"histogram\": [{\"marker\": {\"colorbar\": {\"outlinewidth\": 0, \"ticks\": \"\"}}, \"type\": \"histogram\"}], \"histogram2d\": [{\"colorbar\": {\"outlinewidth\": 0, \"ticks\": \"\"}, \"colorscale\": [[0.0, \"#0d0887\"], [0.1111111111111111, \"#46039f\"], [0.2222222222222222, \"#7201a8\"], [0.3333333333333333, \"#9c179e\"], [0.4444444444444444, \"#bd3786\"], [0.5555555555555556, \"#d8576b\"], [0.6666666666666666, \"#ed7953\"], [0.7777777777777778, \"#fb9f3a\"], [0.8888888888888888, \"#fdca26\"], [1.0, \"#f0f921\"]], \"type\": \"histogram2d\"}], \"histogram2dcontour\": [{\"colorbar\": {\"outlinewidth\": 0, \"ticks\": \"\"}, \"colorscale\": [[0.0, \"#0d0887\"], [0.1111111111111111, \"#46039f\"], [0.2222222222222222, \"#7201a8\"], [0.3333333333333333, \"#9c179e\"], [0.4444444444444444, \"#bd3786\"], [0.5555555555555556, \"#d8576b\"], [0.6666666666666666, \"#ed7953\"], [0.7777777777777778, \"#fb9f3a\"], [0.8888888888888888, \"#fdca26\"], [1.0, \"#f0f921\"]], \"type\": \"histogram2dcontour\"}], \"mesh3d\": [{\"colorbar\": {\"outlinewidth\": 0, \"ticks\": \"\"}, \"type\": \"mesh3d\"}], \"parcoords\": [{\"line\": {\"colorbar\": {\"outlinewidth\": 0, \"ticks\": \"\"}}, \"type\": \"parcoords\"}], \"pie\": [{\"automargin\": true, \"type\": \"pie\"}], \"scatter\": [{\"marker\": {\"colorbar\": {\"outlinewidth\": 0, \"ticks\": \"\"}}, \"type\": \"scatter\"}], \"scatter3d\": [{\"line\": {\"colorbar\": {\"outlinewidth\": 0, \"ticks\": \"\"}}, \"marker\": {\"colorbar\": {\"outlinewidth\": 0, \"ticks\": \"\"}}, \"type\": \"scatter3d\"}], \"scattercarpet\": [{\"marker\": {\"colorbar\": {\"outlinewidth\": 0, \"ticks\": \"\"}}, \"type\": \"scattercarpet\"}], \"scattergeo\": [{\"marker\": {\"colorbar\": {\"outlinewidth\": 0, \"ticks\": \"\"}}, \"type\": \"scattergeo\"}], \"scattergl\": [{\"marker\": {\"colorbar\": {\"outlinewidth\": 0, \"ticks\": \"\"}}, \"type\": \"scattergl\"}], \"scattermapbox\": [{\"marker\": {\"colorbar\": {\"outlinewidth\": 0, \"ticks\": \"\"}}, \"type\": \"scattermapbox\"}], \"scatterpolar\": [{\"marker\": {\"colorbar\": {\"outlinewidth\": 0, \"ticks\": \"\"}}, \"type\": \"scatterpolar\"}], \"scatterpolargl\": [{\"marker\": {\"colorbar\": {\"outlinewidth\": 0, \"ticks\": \"\"}}, \"type\": \"scatterpolargl\"}], \"scatterternary\": [{\"marker\": {\"colorbar\": {\"outlinewidth\": 0, \"ticks\": \"\"}}, \"type\": \"scatterternary\"}], \"surface\": [{\"colorbar\": {\"outlinewidth\": 0, \"ticks\": \"\"}, \"colorscale\": [[0.0, \"#0d0887\"], [0.1111111111111111, \"#46039f\"], [0.2222222222222222, \"#7201a8\"], [0.3333333333333333, \"#9c179e\"], [0.4444444444444444, \"#bd3786\"], [0.5555555555555556, \"#d8576b\"], [0.6666666666666666, \"#ed7953\"], [0.7777777777777778, \"#fb9f3a\"], [0.8888888888888888, \"#fdca26\"], [1.0, \"#f0f921\"]], \"type\": \"surface\"}], \"table\": [{\"cells\": {\"fill\": {\"color\": \"#EBF0F8\"}, \"line\": {\"color\": \"white\"}}, \"header\": {\"fill\": {\"color\": \"#C8D4E3\"}, \"line\": {\"color\": \"white\"}}, \"type\": \"table\"}]}, \"layout\": {\"annotationdefaults\": {\"arrowcolor\": \"#2a3f5f\", \"arrowhead\": 0, \"arrowwidth\": 1}, \"coloraxis\": {\"colorbar\": {\"outlinewidth\": 0, \"ticks\": \"\"}}, \"colorscale\": {\"diverging\": [[0, \"#8e0152\"], [0.1, \"#c51b7d\"], [0.2, \"#de77ae\"], [0.3, \"#f1b6da\"], [0.4, \"#fde0ef\"], [0.5, \"#f7f7f7\"], [0.6, \"#e6f5d0\"], [0.7, \"#b8e186\"], [0.8, \"#7fbc41\"], [0.9, \"#4d9221\"], [1, \"#276419\"]], \"sequential\": [[0.0, \"#0d0887\"], [0.1111111111111111, \"#46039f\"], [0.2222222222222222, \"#7201a8\"], [0.3333333333333333, \"#9c179e\"], [0.4444444444444444, \"#bd3786\"], [0.5555555555555556, \"#d8576b\"], [0.6666666666666666, \"#ed7953\"], [0.7777777777777778, \"#fb9f3a\"], [0.8888888888888888, \"#fdca26\"], [1.0, \"#f0f921\"]], \"sequentialminus\": [[0.0, \"#0d0887\"], [0.1111111111111111, \"#46039f\"], [0.2222222222222222, \"#7201a8\"], [0.3333333333333333, \"#9c179e\"], [0.4444444444444444, \"#bd3786\"], [0.5555555555555556, \"#d8576b\"], [0.6666666666666666, \"#ed7953\"], [0.7777777777777778, \"#fb9f3a\"], [0.8888888888888888, \"#fdca26\"], [1.0, \"#f0f921\"]]}, \"colorway\": [\"#636efa\", \"#EF553B\", \"#00cc96\", \"#ab63fa\", \"#FFA15A\", \"#19d3f3\", \"#FF6692\", \"#B6E880\", \"#FF97FF\", \"#FECB52\"], \"font\": {\"color\": \"#2a3f5f\"}, \"geo\": {\"bgcolor\": \"white\", \"lakecolor\": \"white\", \"landcolor\": \"#E5ECF6\", \"showlakes\": true, \"showland\": true, \"subunitcolor\": \"white\"}, \"hoverlabel\": {\"align\": \"left\"}, \"hovermode\": \"closest\", \"mapbox\": {\"style\": \"light\"}, \"paper_bgcolor\": \"white\", \"plot_bgcolor\": \"#E5ECF6\", \"polar\": {\"angularaxis\": {\"gridcolor\": \"white\", \"linecolor\": \"white\", \"ticks\": \"\"}, \"bgcolor\": \"#E5ECF6\", \"radialaxis\": {\"gridcolor\": \"white\", \"linecolor\": \"white\", \"ticks\": \"\"}}, \"scene\": {\"xaxis\": {\"backgroundcolor\": \"#E5ECF6\", \"gridcolor\": \"white\", \"gridwidth\": 2, \"linecolor\": \"white\", \"showbackground\": true, \"ticks\": \"\", \"zerolinecolor\": \"white\"}, \"yaxis\": {\"backgroundcolor\": \"#E5ECF6\", \"gridcolor\": \"white\", \"gridwidth\": 2, \"linecolor\": \"white\", \"showbackground\": true, \"ticks\": \"\", \"zerolinecolor\": \"white\"}, \"zaxis\": {\"backgroundcolor\": \"#E5ECF6\", \"gridcolor\": \"white\", \"gridwidth\": 2, \"linecolor\": \"white\", \"showbackground\": true, \"ticks\": \"\", \"zerolinecolor\": \"white\"}}, \"shapedefaults\": {\"line\": {\"color\": \"#2a3f5f\"}}, \"ternary\": {\"aaxis\": {\"gridcolor\": \"white\", \"linecolor\": \"white\", \"ticks\": \"\"}, \"baxis\": {\"gridcolor\": \"white\", \"linecolor\": \"white\", \"ticks\": \"\"}, \"bgcolor\": \"#E5ECF6\", \"caxis\": {\"gridcolor\": \"white\", \"linecolor\": \"white\", \"ticks\": \"\"}}, \"title\": {\"x\": 0.05}, \"xaxis\": {\"automargin\": true, \"gridcolor\": \"white\", \"linecolor\": \"white\", \"ticks\": \"\", \"title\": {\"standoff\": 15}, \"zerolinecolor\": \"white\", \"zerolinewidth\": 2}, \"yaxis\": {\"automargin\": true, \"gridcolor\": \"white\", \"linecolor\": \"white\", \"ticks\": \"\", \"title\": {\"standoff\": 15}, \"zerolinecolor\": \"white\", \"zerolinewidth\": 2}}}, \"title\": {\"text\": \"With a focus on People Development\"}},\n",
       "                        {\"responsive\": true}\n",
       "                    ).then(function(){\n",
       "                            \n",
       "var gd = document.getElementById('f487e315-e4a3-4796-9110-9c5247e71918');\n",
       "var x = new MutationObserver(function (mutations, observer) {{\n",
       "        var display = window.getComputedStyle(gd).display;\n",
       "        if (!display || display === 'none') {{\n",
       "            console.log([gd, 'removed!']);\n",
       "            Plotly.purge(gd);\n",
       "            observer.disconnect();\n",
       "        }}\n",
       "}});\n",
       "\n",
       "// Listen for the removal of the full notebook cells\n",
       "var notebookContainer = gd.closest('#notebook-container');\n",
       "if (notebookContainer) {{\n",
       "    x.observe(notebookContainer, {childList: true});\n",
       "}}\n",
       "\n",
       "// Listen for the clearing of the current output cell\n",
       "var outputEl = gd.closest('.output');\n",
       "if (outputEl) {{\n",
       "    x.observe(outputEl, {childList: true});\n",
       "}}\n",
       "\n",
       "                        })\n",
       "                };\n",
       "                });\n",
       "            </script>\n",
       "        </div>"
      ]
     },
     "metadata": {},
     "output_type": "display_data"
    }
   ],
   "source": [
    "plots = [go.Scatter(x=top50['RIC'], y=top50['TRDIR People Development Score'], mode='markers', name='Top 50'), \n",
    "         go.Scatter(x=bot50['RIC'], y=bot50['TRDIR People Development Score'], mode='markers', name='Bottom 50')]\n",
    "fig = go.Figure(data=plots)\n",
    "fig.update_layout(title='With a focus on People Development')\n",
    "fig.show()"
   ]
  },
  {
   "cell_type": "code",
   "execution_count": null,
   "metadata": {
    "collapsed": true
   },
   "outputs": [],
   "source": []
  }
 ],
 "metadata": {
  "kernelspec": {
   "display_name": "Python 3",
   "language": "python",
   "name": "python3"
  },
  "language_info": {
   "codemirror_mode": {
    "name": "ipython",
    "version": 3
   },
   "file_extension": ".py",
   "mimetype": "text/x-python",
   "name": "python",
   "nbconvert_exporter": "python",
   "pygments_lexer": "ipython3",
   "version": "3.6.2"
  }
 },
 "nbformat": 4,
 "nbformat_minor": 2
}
