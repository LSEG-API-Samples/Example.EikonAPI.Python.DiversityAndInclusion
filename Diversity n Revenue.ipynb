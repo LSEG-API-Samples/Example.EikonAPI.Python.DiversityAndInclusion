{
 "cells": [
  {
   "cell_type": "markdown",
   "metadata": {},
   "source": [
    "# Diversity and Inclusion effect on Revenue"
   ]
  },
  {
   "cell_type": "code",
   "execution_count": 1,
   "metadata": {},
   "outputs": [
    {
     "data": {
      "text/html": [
       "        <script type=\"text/javascript\">\n",
       "        window.PlotlyConfig = {MathJaxConfig: 'local'};\n",
       "        if (window.MathJax && window.MathJax.Hub && window.MathJax.Hub.Config) {window.MathJax.Hub.Config({SVG: {font: \"STIX-Web\"}});}\n",
       "        </script>\n",
       "        <script type=\"module\">import \"https://cdn.plot.ly/plotly-3.0.1.min\"</script>\n",
       "        "
      ]
     },
     "metadata": {},
     "output_type": "display_data"
    }
   ],
   "source": [
    "import lseg.data as ld\n",
    "import plotly.offline as offline\n",
    "from plotly import graph_objs as go\n",
    "from IPython.display import display\n",
    "offline.offline.init_notebook_mode(connected=True)"
   ]
  },
  {
   "cell_type": "code",
   "execution_count": 2,
   "metadata": {},
   "outputs": [
    {
     "data": {
      "text/plain": [
       "<lseg.data.session.Definition object at 0x1eefaef7fd0 {name='workspace'}>"
      ]
     },
     "execution_count": 2,
     "metadata": {},
     "output_type": "execute_result"
    }
   ],
   "source": [
    "ld.open_session()"
   ]
  },
  {
   "cell_type": "code",
   "execution_count": 3,
   "metadata": {
    "collapsed": true
   },
   "outputs": [],
   "source": [
    "symbol = '0#.MIWO00000PUS'"
   ]
  },
  {
   "cell_type": "markdown",
   "metadata": {},
   "source": [
    "### Get revenue and ESG measures for all the companies in the MSCI World Index"
   ]
  },
  {
   "cell_type": "code",
   "execution_count": 4,
   "metadata": {
    "scrolled": false
   },
   "outputs": [
    {
     "name": "stderr",
     "output_type": "stream",
     "text": [
      "c:\\Users\\gsbal\\envs\\rdlib\\lib\\site-packages\\lseg\\data\\_tools\\_dataframe.py:192: FutureWarning:\n",
      "\n",
      "Downcasting behavior in `replace` is deprecated and will be removed in a future version. To retain the old behavior, explicitly call `result.infer_objects(copy=False)`. To opt-in to the future behavior, set `pd.set_option('future.no_silent_downcasting', True)`\n",
      "\n",
      "c:\\Users\\gsbal\\envs\\rdlib\\lib\\site-packages\\pandas\\core\\dtypes\\cast.py:1056: RuntimeWarning:\n",
      "\n",
      "invalid value encountered in cast\n",
      "\n",
      "c:\\Users\\gsbal\\envs\\rdlib\\lib\\site-packages\\pandas\\core\\dtypes\\cast.py:1080: RuntimeWarning:\n",
      "\n",
      "invalid value encountered in cast\n",
      "\n",
      "c:\\Users\\gsbal\\envs\\rdlib\\lib\\site-packages\\lseg\\data\\_tools\\_dataframe.py:192: FutureWarning:\n",
      "\n",
      "Downcasting behavior in `replace` is deprecated and will be removed in a future version. To retain the old behavior, explicitly call `result.infer_objects(copy=False)`. To opt-in to the future behavior, set `pd.set_option('future.no_silent_downcasting', True)`\n",
      "\n",
      "c:\\Users\\gsbal\\envs\\rdlib\\lib\\site-packages\\lseg\\data\\_tools\\_dataframe.py:192: FutureWarning:\n",
      "\n",
      "Downcasting behavior in `replace` is deprecated and will be removed in a future version. To retain the old behavior, explicitly call `result.infer_objects(copy=False)`. To opt-in to the future behavior, set `pd.set_option('future.no_silent_downcasting', True)`\n",
      "\n",
      "c:\\Users\\gsbal\\envs\\rdlib\\lib\\site-packages\\lseg\\data\\_tools\\_dataframe.py:192: FutureWarning:\n",
      "\n",
      "Downcasting behavior in `replace` is deprecated and will be removed in a future version. To retain the old behavior, explicitly call `result.infer_objects(copy=False)`. To opt-in to the future behavior, set `pd.set_option('future.no_silent_downcasting', True)`\n",
      "\n",
      "c:\\Users\\gsbal\\envs\\rdlib\\lib\\site-packages\\lseg\\data\\_tools\\_dataframe.py:192: FutureWarning:\n",
      "\n",
      "Downcasting behavior in `replace` is deprecated and will be removed in a future version. To retain the old behavior, explicitly call `result.infer_objects(copy=False)`. To opt-in to the future behavior, set `pd.set_option('future.no_silent_downcasting', True)`\n",
      "\n",
      "c:\\Users\\gsbal\\envs\\rdlib\\lib\\site-packages\\lseg\\data\\_tools\\_dataframe.py:192: FutureWarning:\n",
      "\n",
      "Downcasting behavior in `replace` is deprecated and will be removed in a future version. To retain the old behavior, explicitly call `result.infer_objects(copy=False)`. To opt-in to the future behavior, set `pd.set_option('future.no_silent_downcasting', True)`\n",
      "\n"
     ]
    }
   ],
   "source": [
    "df = ld.get_data(symbol, fields=['TR.CompanyName', 'TR.RIC', 'TR.RevenueActValue', 'TR.TRESGScore', 'TR.TRDIRScore', 'TR.TRDIRDiversityScore', 'TR.TRDIRPeopleDevelopmentScore', 'TR.TRDIRInclusionScore'])\n",
    "# sort the list by revenue and drop the ones which do not have revenue information\n",
    "df = df.dropna(subset=['Revenue - Actual'])\n",
    "df = df.sort_values(by=['Revenue - Actual'], ascending=False)\n",
    "df = df.reset_index(drop=True)\n",
    "# Insert 0 for those not having propert ESG measure\n",
    "df = df.fillna(0)"
   ]
  },
  {
   "cell_type": "code",
   "execution_count": 6,
   "metadata": {
    "scrolled": false
   },
   "outputs": [
    {
     "data": {
      "text/plain": [
       "'Top 50 companies in the world index'"
      ]
     },
     "metadata": {},
     "output_type": "display_data"
    },
    {
     "data": {
      "text/html": [
       "<div>\n",
       "<style scoped>\n",
       "    .dataframe tbody tr th:only-of-type {\n",
       "        vertical-align: middle;\n",
       "    }\n",
       "\n",
       "    .dataframe tbody tr th {\n",
       "        vertical-align: top;\n",
       "    }\n",
       "\n",
       "    .dataframe thead th {\n",
       "        text-align: right;\n",
       "    }\n",
       "</style>\n",
       "<table border=\"1\" class=\"dataframe\">\n",
       "  <thead>\n",
       "    <tr style=\"text-align: right;\">\n",
       "      <th></th>\n",
       "      <th>Instrument</th>\n",
       "      <th>Company Name</th>\n",
       "      <th>RIC</th>\n",
       "      <th>Revenue - Actual</th>\n",
       "      <th>ESG Score</th>\n",
       "      <th>DIR Score</th>\n",
       "      <th>DIR Diversity Score</th>\n",
       "      <th>DIR People Development Score</th>\n",
       "      <th>DIR Inclusion Score</th>\n",
       "    </tr>\n",
       "  </thead>\n",
       "  <tbody>\n",
       "    <tr>\n",
       "      <th>0</th>\n",
       "      <td>7203.T</td>\n",
       "      <td>Toyota Motor Corp</td>\n",
       "      <td>7203.T</td>\n",
       "      <td>48036704000000</td>\n",
       "      <td>78.941076</td>\n",
       "      <td>68.25</td>\n",
       "      <td>44</td>\n",
       "      <td>67</td>\n",
       "      <td>74</td>\n",
       "    </tr>\n",
       "    <tr>\n",
       "      <th>1</th>\n",
       "      <td>7267.T</td>\n",
       "      <td>Honda Motor Co Ltd</td>\n",
       "      <td>7267.T</td>\n",
       "      <td>19830708000000</td>\n",
       "      <td>72.632481</td>\n",
       "      <td>59.75</td>\n",
       "      <td>44</td>\n",
       "      <td>68</td>\n",
       "      <td>39</td>\n",
       "    </tr>\n",
       "    <tr>\n",
       "      <th>2</th>\n",
       "      <td>8058.T</td>\n",
       "      <td>Mitsubishi Corp</td>\n",
       "      <td>8058.T</td>\n",
       "      <td>18617601000000</td>\n",
       "      <td>69.085424</td>\n",
       "      <td>55.25</td>\n",
       "      <td>27</td>\n",
       "      <td>31</td>\n",
       "      <td>63</td>\n",
       "    </tr>\n",
       "    <tr>\n",
       "      <th>3</th>\n",
       "      <td>8001.T</td>\n",
       "      <td>Itochu Corp</td>\n",
       "      <td>8001.T</td>\n",
       "      <td>14724234000000</td>\n",
       "      <td>70.249873</td>\n",
       "      <td>59.75</td>\n",
       "      <td>26</td>\n",
       "      <td>46</td>\n",
       "      <td>67</td>\n",
       "    </tr>\n",
       "    <tr>\n",
       "      <th>4</th>\n",
       "      <td>8031.T</td>\n",
       "      <td>Mitsui &amp; Co Ltd</td>\n",
       "      <td>8031.T</td>\n",
       "      <td>14662620000000</td>\n",
       "      <td>64.93012</td>\n",
       "      <td>62.0</td>\n",
       "      <td>34</td>\n",
       "      <td>51</td>\n",
       "      <td>63</td>\n",
       "    </tr>\n",
       "    <tr>\n",
       "      <th>5</th>\n",
       "      <td>9432.T</td>\n",
       "      <td>NTT Inc</td>\n",
       "      <td>9432.T</td>\n",
       "      <td>13704727000000</td>\n",
       "      <td>63.468075</td>\n",
       "      <td>60.25</td>\n",
       "      <td>39</td>\n",
       "      <td>56</td>\n",
       "      <td>46</td>\n",
       "    </tr>\n",
       "    <tr>\n",
       "      <th>6</th>\n",
       "      <td>8306.T</td>\n",
       "      <td>Mitsubishi UFJ Financial Group Inc</td>\n",
       "      <td>8306.T</td>\n",
       "      <td>13629997000000</td>\n",
       "      <td>74.048764</td>\n",
       "      <td>53.25</td>\n",
       "      <td>26</td>\n",
       "      <td>45</td>\n",
       "      <td>42</td>\n",
       "    </tr>\n",
       "    <tr>\n",
       "      <th>7</th>\n",
       "      <td>6758.T</td>\n",
       "      <td>Sony Group Corp</td>\n",
       "      <td>6758.T</td>\n",
       "      <td>12957064000000</td>\n",
       "      <td>86.954228</td>\n",
       "      <td>78.75</td>\n",
       "      <td>66</td>\n",
       "      <td>71</td>\n",
       "      <td>78</td>\n",
       "    </tr>\n",
       "    <tr>\n",
       "      <th>8</th>\n",
       "      <td>7201.T</td>\n",
       "      <td>Nissan Motor Co Ltd</td>\n",
       "      <td>7201.T</td>\n",
       "      <td>12633214000000</td>\n",
       "      <td>77.208559</td>\n",
       "      <td>59.5</td>\n",
       "      <td>28</td>\n",
       "      <td>71</td>\n",
       "      <td>39</td>\n",
       "    </tr>\n",
       "    <tr>\n",
       "      <th>9</th>\n",
       "      <td>5020.T</td>\n",
       "      <td>ENEOS Holdings Inc</td>\n",
       "      <td>5020.T</td>\n",
       "      <td>12322494000000</td>\n",
       "      <td>71.130372</td>\n",
       "      <td>47.0</td>\n",
       "      <td>27</td>\n",
       "      <td>31</td>\n",
       "      <td>42</td>\n",
       "    </tr>\n",
       "    <tr>\n",
       "      <th>10</th>\n",
       "      <td>3382.T</td>\n",
       "      <td>Seven &amp; i Holdings Co Ltd</td>\n",
       "      <td>3382.T</td>\n",
       "      <td>11972762000000</td>\n",
       "      <td>81.18453</td>\n",
       "      <td>64.0</td>\n",
       "      <td>53</td>\n",
       "      <td>67</td>\n",
       "      <td>48</td>\n",
       "    </tr>\n",
       "    <tr>\n",
       "      <th>11</th>\n",
       "      <td>6178.T</td>\n",
       "      <td>Japan Post Holdings Co Ltd</td>\n",
       "      <td>6178.T</td>\n",
       "      <td>11468366000000</td>\n",
       "      <td>66.521867</td>\n",
       "      <td>58.25</td>\n",
       "      <td>44</td>\n",
       "      <td>43</td>\n",
       "      <td>46</td>\n",
       "    </tr>\n",
       "    <tr>\n",
       "      <th>12</th>\n",
       "      <td>8015.T</td>\n",
       "      <td>Toyota Tsusho Corp</td>\n",
       "      <td>8015.T</td>\n",
       "      <td>10309550000000</td>\n",
       "      <td>77.098221</td>\n",
       "      <td>60.0</td>\n",
       "      <td>31</td>\n",
       "      <td>46</td>\n",
       "      <td>63</td>\n",
       "    </tr>\n",
       "    <tr>\n",
       "      <th>13</th>\n",
       "      <td>8316.T</td>\n",
       "      <td>Sumitomo Mitsui Financial Group Inc</td>\n",
       "      <td>8316.T</td>\n",
       "      <td>10174894000000</td>\n",
       "      <td>70.815833</td>\n",
       "      <td>62.25</td>\n",
       "      <td>43</td>\n",
       "      <td>46</td>\n",
       "      <td>60</td>\n",
       "    </tr>\n",
       "    <tr>\n",
       "      <th>14</th>\n",
       "      <td>8267.T</td>\n",
       "      <td>Aeon Co Ltd</td>\n",
       "      <td>8267.T</td>\n",
       "      <td>10134877000000</td>\n",
       "      <td>71.50461</td>\n",
       "      <td>64.0</td>\n",
       "      <td>53</td>\n",
       "      <td>56</td>\n",
       "      <td>47</td>\n",
       "    </tr>\n",
       "    <tr>\n",
       "      <th>15</th>\n",
       "      <td>6501.T</td>\n",
       "      <td>Hitachi Ltd</td>\n",
       "      <td>6501.T</td>\n",
       "      <td>9783370000000</td>\n",
       "      <td>83.885082</td>\n",
       "      <td>62.75</td>\n",
       "      <td>48</td>\n",
       "      <td>64</td>\n",
       "      <td>39</td>\n",
       "    </tr>\n",
       "    <tr>\n",
       "      <th>16</th>\n",
       "      <td>5019.T</td>\n",
       "      <td>Idemitsu Kosan Co Ltd</td>\n",
       "      <td>5019.T</td>\n",
       "      <td>9190225000000</td>\n",
       "      <td>74.704808</td>\n",
       "      <td>53.0</td>\n",
       "      <td>26</td>\n",
       "      <td>44</td>\n",
       "      <td>42</td>\n",
       "    </tr>\n",
       "    <tr>\n",
       "      <th>17</th>\n",
       "      <td>8750.T</td>\n",
       "      <td>Dai-ichi Life Holdings Inc</td>\n",
       "      <td>8750.T</td>\n",
       "      <td>9122045000000</td>\n",
       "      <td>67.906948</td>\n",
       "      <td>61.5</td>\n",
       "      <td>59</td>\n",
       "      <td>41</td>\n",
       "      <td>46</td>\n",
       "    </tr>\n",
       "    <tr>\n",
       "      <th>18</th>\n",
       "      <td>5401.T</td>\n",
       "      <td>Nippon Steel Corp</td>\n",
       "      <td>5401.T</td>\n",
       "      <td>8695526000000</td>\n",
       "      <td>60.21025</td>\n",
       "      <td>49.25</td>\n",
       "      <td>39</td>\n",
       "      <td>34</td>\n",
       "      <td>62</td>\n",
       "    </tr>\n",
       "    <tr>\n",
       "      <th>19</th>\n",
       "      <td>6752.T</td>\n",
       "      <td>Panasonic Holdings Corp</td>\n",
       "      <td>6752.T</td>\n",
       "      <td>8458185000000</td>\n",
       "      <td>68.318291</td>\n",
       "      <td>52.25</td>\n",
       "      <td>33</td>\n",
       "      <td>49</td>\n",
       "      <td>39</td>\n",
       "    </tr>\n",
       "    <tr>\n",
       "      <th>20</th>\n",
       "      <td>8766.T</td>\n",
       "      <td>Tokio Marine Holdings Inc</td>\n",
       "      <td>8766.T</td>\n",
       "      <td>8440114000000</td>\n",
       "      <td>68.541846</td>\n",
       "      <td>51.75</td>\n",
       "      <td>41</td>\n",
       "      <td>41</td>\n",
       "      <td>25</td>\n",
       "    </tr>\n",
       "    <tr>\n",
       "      <th>21</th>\n",
       "      <td>8002.T</td>\n",
       "      <td>Marubeni Corp</td>\n",
       "      <td>8002.T</td>\n",
       "      <td>7790168000000</td>\n",
       "      <td>76.500872</td>\n",
       "      <td>56.5</td>\n",
       "      <td>25</td>\n",
       "      <td>38</td>\n",
       "      <td>63</td>\n",
       "    </tr>\n",
       "    <tr>\n",
       "      <th>22</th>\n",
       "      <td>8053.T</td>\n",
       "      <td>Sumitomo Corp</td>\n",
       "      <td>8053.T</td>\n",
       "      <td>7292084000000</td>\n",
       "      <td>54.017451</td>\n",
       "      <td>58.5</td>\n",
       "      <td>25</td>\n",
       "      <td>46</td>\n",
       "      <td>63</td>\n",
       "    </tr>\n",
       "    <tr>\n",
       "      <th>23</th>\n",
       "      <td>9984.T</td>\n",
       "      <td>SoftBank Group Corp</td>\n",
       "      <td>9984.T</td>\n",
       "      <td>7243752000000</td>\n",
       "      <td>56.536225</td>\n",
       "      <td>62.25</td>\n",
       "      <td>50</td>\n",
       "      <td>53</td>\n",
       "      <td>46</td>\n",
       "    </tr>\n",
       "    <tr>\n",
       "      <th>24</th>\n",
       "      <td>6902.T</td>\n",
       "      <td>Denso Corp</td>\n",
       "      <td>6902.T</td>\n",
       "      <td>7161777000000</td>\n",
       "      <td>63.632123</td>\n",
       "      <td>66.75</td>\n",
       "      <td>34</td>\n",
       "      <td>72</td>\n",
       "      <td>61</td>\n",
       "    </tr>\n",
       "    <tr>\n",
       "      <th>25</th>\n",
       "      <td>9434.T</td>\n",
       "      <td>SoftBank Corp</td>\n",
       "      <td>9434.T</td>\n",
       "      <td>6544349000000</td>\n",
       "      <td>75.160161</td>\n",
       "      <td>59.75</td>\n",
       "      <td>39</td>\n",
       "      <td>53</td>\n",
       "      <td>47</td>\n",
       "    </tr>\n",
       "    <tr>\n",
       "      <th>26</th>\n",
       "      <td>8725.T</td>\n",
       "      <td>MS&amp;AD Insurance Group Holdings Inc</td>\n",
       "      <td>8725.T</td>\n",
       "      <td>6348352000000</td>\n",
       "      <td>69.28392</td>\n",
       "      <td>57.5</td>\n",
       "      <td>50</td>\n",
       "      <td>55</td>\n",
       "      <td>25</td>\n",
       "    </tr>\n",
       "    <tr>\n",
       "      <th>27</th>\n",
       "      <td>9433.T</td>\n",
       "      <td>KDDI Corp</td>\n",
       "      <td>9433.T</td>\n",
       "      <td>5917953000000</td>\n",
       "      <td>53.875494</td>\n",
       "      <td>54.0</td>\n",
       "      <td>57</td>\n",
       "      <td>38</td>\n",
       "      <td>21</td>\n",
       "    </tr>\n",
       "    <tr>\n",
       "      <th>28</th>\n",
       "      <td>7181.T</td>\n",
       "      <td>Japan Post Insurance Co Ltd</td>\n",
       "      <td>7181.T</td>\n",
       "      <td>5899895000000</td>\n",
       "      <td>61.97466</td>\n",
       "      <td>57.5</td>\n",
       "      <td>43</td>\n",
       "      <td>41</td>\n",
       "      <td>46</td>\n",
       "    </tr>\n",
       "    <tr>\n",
       "      <th>29</th>\n",
       "      <td>7269.T</td>\n",
       "      <td>Suzuki Motor Corp</td>\n",
       "      <td>7269.T</td>\n",
       "      <td>5825161000000</td>\n",
       "      <td>59.587611</td>\n",
       "      <td>62.25</td>\n",
       "      <td>38</td>\n",
       "      <td>50</td>\n",
       "      <td>61</td>\n",
       "    </tr>\n",
       "    <tr>\n",
       "      <th>30</th>\n",
       "      <td>6503.T</td>\n",
       "      <td>Mitsubishi Electric Corp</td>\n",
       "      <td>6503.T</td>\n",
       "      <td>5521711000000</td>\n",
       "      <td>83.552742</td>\n",
       "      <td>63.0</td>\n",
       "      <td>35</td>\n",
       "      <td>56</td>\n",
       "      <td>61</td>\n",
       "    </tr>\n",
       "    <tr>\n",
       "      <th>31</th>\n",
       "      <td>1925.T</td>\n",
       "      <td>Daiwa House Industry Co Ltd</td>\n",
       "      <td>1925.T</td>\n",
       "      <td>5434819000000</td>\n",
       "      <td>74.937276</td>\n",
       "      <td>59.25</td>\n",
       "      <td>24</td>\n",
       "      <td>47</td>\n",
       "      <td>66</td>\n",
       "    </tr>\n",
       "    <tr>\n",
       "      <th>32</th>\n",
       "      <td>8630.T</td>\n",
       "      <td>Sompo Holdings Inc</td>\n",
       "      <td>8630.T</td>\n",
       "      <td>5303749000000</td>\n",
       "      <td>72.399482</td>\n",
       "      <td>67.25</td>\n",
       "      <td>57</td>\n",
       "      <td>66</td>\n",
       "      <td>46</td>\n",
       "    </tr>\n",
       "    <tr>\n",
       "      <th>33</th>\n",
       "      <td>7011.T</td>\n",
       "      <td>Mitsubishi Heavy Industries Ltd</td>\n",
       "      <td>7011.T</td>\n",
       "      <td>5027176000000</td>\n",
       "      <td>79.386061</td>\n",
       "      <td>65.0</td>\n",
       "      <td>37</td>\n",
       "      <td>62</td>\n",
       "      <td>61</td>\n",
       "    </tr>\n",
       "    <tr>\n",
       "      <th>34</th>\n",
       "      <td>7259.T</td>\n",
       "      <td>Aisin Corp</td>\n",
       "      <td>7259.T</td>\n",
       "      <td>4896104000000</td>\n",
       "      <td>64.043899</td>\n",
       "      <td>56.5</td>\n",
       "      <td>37</td>\n",
       "      <td>50</td>\n",
       "      <td>39</td>\n",
       "    </tr>\n",
       "    <tr>\n",
       "      <th>35</th>\n",
       "      <td>5411.T</td>\n",
       "      <td>JFE Holdings Inc</td>\n",
       "      <td>5411.T</td>\n",
       "      <td>4859647000000</td>\n",
       "      <td>70.911477</td>\n",
       "      <td>58.75</td>\n",
       "      <td>40</td>\n",
       "      <td>34</td>\n",
       "      <td>61</td>\n",
       "    </tr>\n",
       "    <tr>\n",
       "      <th>36</th>\n",
       "      <td>6367.T</td>\n",
       "      <td>Daikin Industries Ltd</td>\n",
       "      <td>6367.T</td>\n",
       "      <td>4752335000000</td>\n",
       "      <td>70.034696</td>\n",
       "      <td>58.75</td>\n",
       "      <td>40</td>\n",
       "      <td>60</td>\n",
       "      <td>35</td>\n",
       "    </tr>\n",
       "    <tr>\n",
       "      <th>37</th>\n",
       "      <td>8604.T</td>\n",
       "      <td>Nomura Holdings Inc</td>\n",
       "      <td>8604.T</td>\n",
       "      <td>4736743000000</td>\n",
       "      <td>88.92231</td>\n",
       "      <td>66.25</td>\n",
       "      <td>46</td>\n",
       "      <td>59</td>\n",
       "      <td>60</td>\n",
       "    </tr>\n",
       "    <tr>\n",
       "      <th>38</th>\n",
       "      <td>7270.T</td>\n",
       "      <td>Subaru Corp</td>\n",
       "      <td>7270.T</td>\n",
       "      <td>4685763000000</td>\n",
       "      <td>70.184763</td>\n",
       "      <td>59.25</td>\n",
       "      <td>34</td>\n",
       "      <td>51</td>\n",
       "      <td>52</td>\n",
       "    </tr>\n",
       "    <tr>\n",
       "      <th>39</th>\n",
       "      <td>5802.T</td>\n",
       "      <td>Sumitomo Electric Industries Ltd</td>\n",
       "      <td>5802.T</td>\n",
       "      <td>4679789000000</td>\n",
       "      <td>65.004668</td>\n",
       "      <td>65.0</td>\n",
       "      <td>44</td>\n",
       "      <td>72</td>\n",
       "      <td>44</td>\n",
       "    </tr>\n",
       "    <tr>\n",
       "      <th>40</th>\n",
       "      <td>9613.T</td>\n",
       "      <td>NTT Data Group Corp</td>\n",
       "      <td>9613.T</td>\n",
       "      <td>4638721000000</td>\n",
       "      <td>73.756017</td>\n",
       "      <td>62.25</td>\n",
       "      <td>49</td>\n",
       "      <td>58</td>\n",
       "      <td>42</td>\n",
       "    </tr>\n",
       "    <tr>\n",
       "      <th>41</th>\n",
       "      <td>4502.T</td>\n",
       "      <td>Takeda Pharmaceutical Co Ltd</td>\n",
       "      <td>4502.T</td>\n",
       "      <td>4581551000000</td>\n",
       "      <td>79.697361</td>\n",
       "      <td>0.0</td>\n",
       "      <td>0</td>\n",
       "      <td>0</td>\n",
       "      <td>0</td>\n",
       "    </tr>\n",
       "    <tr>\n",
       "      <th>42</th>\n",
       "      <td>7751.T</td>\n",
       "      <td>Canon Inc</td>\n",
       "      <td>7751.T</td>\n",
       "      <td>4509821000000</td>\n",
       "      <td>72.238936</td>\n",
       "      <td>0.0</td>\n",
       "      <td>0</td>\n",
       "      <td>0</td>\n",
       "      <td>0</td>\n",
       "    </tr>\n",
       "    <tr>\n",
       "      <th>43</th>\n",
       "      <td>5108.T</td>\n",
       "      <td>Bridgestone Corp</td>\n",
       "      <td>5108.T</td>\n",
       "      <td>4430096000000</td>\n",
       "      <td>80.586395</td>\n",
       "      <td>60.5</td>\n",
       "      <td>46</td>\n",
       "      <td>51</td>\n",
       "      <td>45</td>\n",
       "    </tr>\n",
       "    <tr>\n",
       "      <th>44</th>\n",
       "      <td>4188.T</td>\n",
       "      <td>Mitsubishi Chemical Group Corp</td>\n",
       "      <td>4188.T</td>\n",
       "      <td>4407405000000</td>\n",
       "      <td>53.731014</td>\n",
       "      <td>0.0</td>\n",
       "      <td>0</td>\n",
       "      <td>0</td>\n",
       "      <td>0</td>\n",
       "    </tr>\n",
       "    <tr>\n",
       "      <th>45</th>\n",
       "      <td>9503.T</td>\n",
       "      <td>Kansai Electric Power Co Inc</td>\n",
       "      <td>9503.T</td>\n",
       "      <td>4337111000000</td>\n",
       "      <td>74.29867</td>\n",
       "      <td>57.5</td>\n",
       "      <td>43</td>\n",
       "      <td>62</td>\n",
       "      <td>25</td>\n",
       "    </tr>\n",
       "    <tr>\n",
       "      <th>46</th>\n",
       "      <td>6301.T</td>\n",
       "      <td>Komatsu Ltd</td>\n",
       "      <td>6301.T</td>\n",
       "      <td>4104395000000</td>\n",
       "      <td>86.432257</td>\n",
       "      <td>57.75</td>\n",
       "      <td>46</td>\n",
       "      <td>50</td>\n",
       "      <td>35</td>\n",
       "    </tr>\n",
       "    <tr>\n",
       "      <th>47</th>\n",
       "      <td>6201.T</td>\n",
       "      <td>Toyota Industries Corp</td>\n",
       "      <td>6201.T</td>\n",
       "      <td>4084984000000</td>\n",
       "      <td>69.874344</td>\n",
       "      <td>56.75</td>\n",
       "      <td>32</td>\n",
       "      <td>60</td>\n",
       "      <td>35</td>\n",
       "    </tr>\n",
       "    <tr>\n",
       "      <th>48</th>\n",
       "      <td>1928.T</td>\n",
       "      <td>Sekisui House Ltd</td>\n",
       "      <td>1928.T</td>\n",
       "      <td>4058583000000</td>\n",
       "      <td>72.850272</td>\n",
       "      <td>60.25</td>\n",
       "      <td>47</td>\n",
       "      <td>50</td>\n",
       "      <td>44</td>\n",
       "    </tr>\n",
       "    <tr>\n",
       "      <th>49</th>\n",
       "      <td>9502.T</td>\n",
       "      <td>Chubu Electric Power Co Inc</td>\n",
       "      <td>9502.T</td>\n",
       "      <td>3669234000000</td>\n",
       "      <td>57.015569</td>\n",
       "      <td>50.75</td>\n",
       "      <td>34</td>\n",
       "      <td>43</td>\n",
       "      <td>26</td>\n",
       "    </tr>\n",
       "  </tbody>\n",
       "</table>\n",
       "</div>"
      ],
      "text/plain": [
       "   Instrument                         Company Name     RIC  Revenue - Actual  \\\n",
       "0      7203.T                    Toyota Motor Corp  7203.T    48036704000000   \n",
       "1      7267.T                   Honda Motor Co Ltd  7267.T    19830708000000   \n",
       "2      8058.T                      Mitsubishi Corp  8058.T    18617601000000   \n",
       "3      8001.T                          Itochu Corp  8001.T    14724234000000   \n",
       "4      8031.T                      Mitsui & Co Ltd  8031.T    14662620000000   \n",
       "5      9432.T                              NTT Inc  9432.T    13704727000000   \n",
       "6      8306.T   Mitsubishi UFJ Financial Group Inc  8306.T    13629997000000   \n",
       "7      6758.T                      Sony Group Corp  6758.T    12957064000000   \n",
       "8      7201.T                  Nissan Motor Co Ltd  7201.T    12633214000000   \n",
       "9      5020.T                   ENEOS Holdings Inc  5020.T    12322494000000   \n",
       "10     3382.T            Seven & i Holdings Co Ltd  3382.T    11972762000000   \n",
       "11     6178.T           Japan Post Holdings Co Ltd  6178.T    11468366000000   \n",
       "12     8015.T                   Toyota Tsusho Corp  8015.T    10309550000000   \n",
       "13     8316.T  Sumitomo Mitsui Financial Group Inc  8316.T    10174894000000   \n",
       "14     8267.T                          Aeon Co Ltd  8267.T    10134877000000   \n",
       "15     6501.T                          Hitachi Ltd  6501.T     9783370000000   \n",
       "16     5019.T                Idemitsu Kosan Co Ltd  5019.T     9190225000000   \n",
       "17     8750.T           Dai-ichi Life Holdings Inc  8750.T     9122045000000   \n",
       "18     5401.T                    Nippon Steel Corp  5401.T     8695526000000   \n",
       "19     6752.T              Panasonic Holdings Corp  6752.T     8458185000000   \n",
       "20     8766.T            Tokio Marine Holdings Inc  8766.T     8440114000000   \n",
       "21     8002.T                        Marubeni Corp  8002.T     7790168000000   \n",
       "22     8053.T                        Sumitomo Corp  8053.T     7292084000000   \n",
       "23     9984.T                  SoftBank Group Corp  9984.T     7243752000000   \n",
       "24     6902.T                           Denso Corp  6902.T     7161777000000   \n",
       "25     9434.T                        SoftBank Corp  9434.T     6544349000000   \n",
       "26     8725.T   MS&AD Insurance Group Holdings Inc  8725.T     6348352000000   \n",
       "27     9433.T                            KDDI Corp  9433.T     5917953000000   \n",
       "28     7181.T          Japan Post Insurance Co Ltd  7181.T     5899895000000   \n",
       "29     7269.T                    Suzuki Motor Corp  7269.T     5825161000000   \n",
       "30     6503.T             Mitsubishi Electric Corp  6503.T     5521711000000   \n",
       "31     1925.T          Daiwa House Industry Co Ltd  1925.T     5434819000000   \n",
       "32     8630.T                   Sompo Holdings Inc  8630.T     5303749000000   \n",
       "33     7011.T      Mitsubishi Heavy Industries Ltd  7011.T     5027176000000   \n",
       "34     7259.T                           Aisin Corp  7259.T     4896104000000   \n",
       "35     5411.T                     JFE Holdings Inc  5411.T     4859647000000   \n",
       "36     6367.T                Daikin Industries Ltd  6367.T     4752335000000   \n",
       "37     8604.T                  Nomura Holdings Inc  8604.T     4736743000000   \n",
       "38     7270.T                          Subaru Corp  7270.T     4685763000000   \n",
       "39     5802.T     Sumitomo Electric Industries Ltd  5802.T     4679789000000   \n",
       "40     9613.T                  NTT Data Group Corp  9613.T     4638721000000   \n",
       "41     4502.T         Takeda Pharmaceutical Co Ltd  4502.T     4581551000000   \n",
       "42     7751.T                            Canon Inc  7751.T     4509821000000   \n",
       "43     5108.T                     Bridgestone Corp  5108.T     4430096000000   \n",
       "44     4188.T       Mitsubishi Chemical Group Corp  4188.T     4407405000000   \n",
       "45     9503.T         Kansai Electric Power Co Inc  9503.T     4337111000000   \n",
       "46     6301.T                          Komatsu Ltd  6301.T     4104395000000   \n",
       "47     6201.T               Toyota Industries Corp  6201.T     4084984000000   \n",
       "48     1928.T                    Sekisui House Ltd  1928.T     4058583000000   \n",
       "49     9502.T          Chubu Electric Power Co Inc  9502.T     3669234000000   \n",
       "\n",
       "    ESG Score  DIR Score  DIR Diversity Score  DIR People Development Score  \\\n",
       "0   78.941076      68.25                   44                            67   \n",
       "1   72.632481      59.75                   44                            68   \n",
       "2   69.085424      55.25                   27                            31   \n",
       "3   70.249873      59.75                   26                            46   \n",
       "4    64.93012       62.0                   34                            51   \n",
       "5   63.468075      60.25                   39                            56   \n",
       "6   74.048764      53.25                   26                            45   \n",
       "7   86.954228      78.75                   66                            71   \n",
       "8   77.208559       59.5                   28                            71   \n",
       "9   71.130372       47.0                   27                            31   \n",
       "10   81.18453       64.0                   53                            67   \n",
       "11  66.521867      58.25                   44                            43   \n",
       "12  77.098221       60.0                   31                            46   \n",
       "13  70.815833      62.25                   43                            46   \n",
       "14   71.50461       64.0                   53                            56   \n",
       "15  83.885082      62.75                   48                            64   \n",
       "16  74.704808       53.0                   26                            44   \n",
       "17  67.906948       61.5                   59                            41   \n",
       "18   60.21025      49.25                   39                            34   \n",
       "19  68.318291      52.25                   33                            49   \n",
       "20  68.541846      51.75                   41                            41   \n",
       "21  76.500872       56.5                   25                            38   \n",
       "22  54.017451       58.5                   25                            46   \n",
       "23  56.536225      62.25                   50                            53   \n",
       "24  63.632123      66.75                   34                            72   \n",
       "25  75.160161      59.75                   39                            53   \n",
       "26   69.28392       57.5                   50                            55   \n",
       "27  53.875494       54.0                   57                            38   \n",
       "28   61.97466       57.5                   43                            41   \n",
       "29  59.587611      62.25                   38                            50   \n",
       "30  83.552742       63.0                   35                            56   \n",
       "31  74.937276      59.25                   24                            47   \n",
       "32  72.399482      67.25                   57                            66   \n",
       "33  79.386061       65.0                   37                            62   \n",
       "34  64.043899       56.5                   37                            50   \n",
       "35  70.911477      58.75                   40                            34   \n",
       "36  70.034696      58.75                   40                            60   \n",
       "37   88.92231      66.25                   46                            59   \n",
       "38  70.184763      59.25                   34                            51   \n",
       "39  65.004668       65.0                   44                            72   \n",
       "40  73.756017      62.25                   49                            58   \n",
       "41  79.697361        0.0                    0                             0   \n",
       "42  72.238936        0.0                    0                             0   \n",
       "43  80.586395       60.5                   46                            51   \n",
       "44  53.731014        0.0                    0                             0   \n",
       "45   74.29867       57.5                   43                            62   \n",
       "46  86.432257      57.75                   46                            50   \n",
       "47  69.874344      56.75                   32                            60   \n",
       "48  72.850272      60.25                   47                            50   \n",
       "49  57.015569      50.75                   34                            43   \n",
       "\n",
       "    DIR Inclusion Score  \n",
       "0                    74  \n",
       "1                    39  \n",
       "2                    63  \n",
       "3                    67  \n",
       "4                    63  \n",
       "5                    46  \n",
       "6                    42  \n",
       "7                    78  \n",
       "8                    39  \n",
       "9                    42  \n",
       "10                   48  \n",
       "11                   46  \n",
       "12                   63  \n",
       "13                   60  \n",
       "14                   47  \n",
       "15                   39  \n",
       "16                   42  \n",
       "17                   46  \n",
       "18                   62  \n",
       "19                   39  \n",
       "20                   25  \n",
       "21                   63  \n",
       "22                   63  \n",
       "23                   46  \n",
       "24                   61  \n",
       "25                   47  \n",
       "26                   25  \n",
       "27                   21  \n",
       "28                   46  \n",
       "29                   61  \n",
       "30                   61  \n",
       "31                   66  \n",
       "32                   46  \n",
       "33                   61  \n",
       "34                   39  \n",
       "35                   61  \n",
       "36                   35  \n",
       "37                   60  \n",
       "38                   52  \n",
       "39                   44  \n",
       "40                   42  \n",
       "41                    0  \n",
       "42                    0  \n",
       "43                   45  \n",
       "44                    0  \n",
       "45                   25  \n",
       "46                   35  \n",
       "47                   35  \n",
       "48                   44  \n",
       "49                   26  "
      ]
     },
     "metadata": {},
     "output_type": "display_data"
    },
    {
     "data": {
      "text/plain": [
       "'Lower 50 companies in the world index'"
      ]
     },
     "metadata": {},
     "output_type": "display_data"
    },
    {
     "data": {
      "text/html": [
       "<div>\n",
       "<style scoped>\n",
       "    .dataframe tbody tr th:only-of-type {\n",
       "        vertical-align: middle;\n",
       "    }\n",
       "\n",
       "    .dataframe tbody tr th {\n",
       "        vertical-align: top;\n",
       "    }\n",
       "\n",
       "    .dataframe thead th {\n",
       "        text-align: right;\n",
       "    }\n",
       "</style>\n",
       "<table border=\"1\" class=\"dataframe\">\n",
       "  <thead>\n",
       "    <tr style=\"text-align: right;\">\n",
       "      <th></th>\n",
       "      <th>Instrument</th>\n",
       "      <th>Company Name</th>\n",
       "      <th>RIC</th>\n",
       "      <th>Revenue - Actual</th>\n",
       "      <th>ESG Score</th>\n",
       "      <th>DIR Score</th>\n",
       "      <th>DIR Diversity Score</th>\n",
       "      <th>DIR People Development Score</th>\n",
       "      <th>DIR Inclusion Score</th>\n",
       "    </tr>\n",
       "  </thead>\n",
       "  <tbody>\n",
       "    <tr>\n",
       "      <th>1263</th>\n",
       "      <td>CAPD.SI</td>\n",
       "      <td>CapitaLand Ascendas REIT</td>\n",
       "      <td>CAPD.SI</td>\n",
       "      <td>1523046000</td>\n",
       "      <td>67.365038</td>\n",
       "      <td>52.0</td>\n",
       "      <td>45</td>\n",
       "      <td>30</td>\n",
       "      <td>33</td>\n",
       "    </tr>\n",
       "    <tr>\n",
       "      <th>1264</th>\n",
       "      <td>X.TO</td>\n",
       "      <td>TMX Group Ltd</td>\n",
       "      <td>X.TO</td>\n",
       "      <td>1460100000</td>\n",
       "      <td>51.313119</td>\n",
       "      <td>55.0</td>\n",
       "      <td>37</td>\n",
       "      <td>63</td>\n",
       "      <td>20</td>\n",
       "    </tr>\n",
       "    <tr>\n",
       "      <th>1265</th>\n",
       "      <td>REG.OQ</td>\n",
       "      <td>Regency Centers Corp</td>\n",
       "      <td>REG.OQ</td>\n",
       "      <td>1453904000</td>\n",
       "      <td>77.600588</td>\n",
       "      <td>54.75</td>\n",
       "      <td>34</td>\n",
       "      <td>58</td>\n",
       "      <td>27</td>\n",
       "    </tr>\n",
       "    <tr>\n",
       "      <th>1266</th>\n",
       "      <td>REA.AX</td>\n",
       "      <td>REA Group Ltd</td>\n",
       "      <td>REA.AX</td>\n",
       "      <td>1452800000</td>\n",
       "      <td>41.107297</td>\n",
       "      <td>60.25</td>\n",
       "      <td>38</td>\n",
       "      <td>72</td>\n",
       "      <td>31</td>\n",
       "    </tr>\n",
       "    <tr>\n",
       "      <th>1267</th>\n",
       "      <td>BSY.OQ</td>\n",
       "      <td>Bentley Systems Inc</td>\n",
       "      <td>BSY.OQ</td>\n",
       "      <td>1353095000</td>\n",
       "      <td>37.025133</td>\n",
       "      <td>51.0</td>\n",
       "      <td>24</td>\n",
       "      <td>53</td>\n",
       "      <td>27</td>\n",
       "    </tr>\n",
       "    <tr>\n",
       "      <th>1268</th>\n",
       "      <td>AGI.TO</td>\n",
       "      <td>Alamos Gold Inc</td>\n",
       "      <td>AGI.TO</td>\n",
       "      <td>1346900000</td>\n",
       "      <td>73.706931</td>\n",
       "      <td>44.25</td>\n",
       "      <td>28</td>\n",
       "      <td>35</td>\n",
       "      <td>14</td>\n",
       "    </tr>\n",
       "    <tr>\n",
       "      <th>1269</th>\n",
       "      <td>VCX.AX</td>\n",
       "      <td>Vicinity Centres</td>\n",
       "      <td>VCX.AX</td>\n",
       "      <td>1326300000</td>\n",
       "      <td>67.577796</td>\n",
       "      <td>56.25</td>\n",
       "      <td>46</td>\n",
       "      <td>48</td>\n",
       "      <td>31</td>\n",
       "    </tr>\n",
       "    <tr>\n",
       "      <th>1270</th>\n",
       "      <td>FBK.MI</td>\n",
       "      <td>FinecoBank Banca Fineco SpA</td>\n",
       "      <td>FBK.MI</td>\n",
       "      <td>1316475000</td>\n",
       "      <td>76.011837</td>\n",
       "      <td>53.25</td>\n",
       "      <td>38</td>\n",
       "      <td>48</td>\n",
       "      <td>27</td>\n",
       "    </tr>\n",
       "    <tr>\n",
       "      <th>1271</th>\n",
       "      <td>RDDT.N</td>\n",
       "      <td>Reddit Inc</td>\n",
       "      <td>RDDT.N</td>\n",
       "      <td>1300205000</td>\n",
       "      <td>0.0</td>\n",
       "      <td>0.0</td>\n",
       "      <td>0</td>\n",
       "      <td>0</td>\n",
       "      <td>0</td>\n",
       "    </tr>\n",
       "    <tr>\n",
       "      <th>1272</th>\n",
       "      <td>WPM.TO</td>\n",
       "      <td>Wheaton Precious Metals Corp</td>\n",
       "      <td>WPM.TO</td>\n",
       "      <td>1284639000</td>\n",
       "      <td>64.61038</td>\n",
       "      <td>47.0</td>\n",
       "      <td>55</td>\n",
       "      <td>25</td>\n",
       "      <td>8</td>\n",
       "    </tr>\n",
       "    <tr>\n",
       "      <th>1273</th>\n",
       "      <td>IOT.N</td>\n",
       "      <td>Samsara Inc</td>\n",
       "      <td>IOT.N</td>\n",
       "      <td>1249199000</td>\n",
       "      <td>0.0</td>\n",
       "      <td>0.0</td>\n",
       "      <td>0</td>\n",
       "      <td>0</td>\n",
       "      <td>0</td>\n",
       "    </tr>\n",
       "    <tr>\n",
       "      <th>1274</th>\n",
       "      <td>LOIM.PA</td>\n",
       "      <td>Klepierre SA</td>\n",
       "      <td>LOIM.PA</td>\n",
       "      <td>1233100000</td>\n",
       "      <td>74.454535</td>\n",
       "      <td>52.25</td>\n",
       "      <td>52</td>\n",
       "      <td>37</td>\n",
       "      <td>20</td>\n",
       "    </tr>\n",
       "    <tr>\n",
       "      <th>1275</th>\n",
       "      <td>LOTB.BR</td>\n",
       "      <td>Lotus Bakeries NV</td>\n",
       "      <td>LOTB.BR</td>\n",
       "      <td>1231914000</td>\n",
       "      <td>57.571432</td>\n",
       "      <td>47.5</td>\n",
       "      <td>25</td>\n",
       "      <td>45</td>\n",
       "      <td>20</td>\n",
       "    </tr>\n",
       "    <tr>\n",
       "      <th>1276</th>\n",
       "      <td>SGXL.SI</td>\n",
       "      <td>Singapore Exchange Ltd</td>\n",
       "      <td>SGXL.SI</td>\n",
       "      <td>1231675000</td>\n",
       "      <td>72.3088</td>\n",
       "      <td>58.25</td>\n",
       "      <td>49</td>\n",
       "      <td>57</td>\n",
       "      <td>27</td>\n",
       "    </tr>\n",
       "    <tr>\n",
       "      <th>1277</th>\n",
       "      <td>RAAG.DE</td>\n",
       "      <td>Rational AG</td>\n",
       "      <td>RAAG.DE</td>\n",
       "      <td>1193529000</td>\n",
       "      <td>49.75726</td>\n",
       "      <td>49.75</td>\n",
       "      <td>25</td>\n",
       "      <td>62</td>\n",
       "      <td>12</td>\n",
       "    </tr>\n",
       "    <tr>\n",
       "      <th>1278</th>\n",
       "      <td>LUG.TO</td>\n",
       "      <td>Lundin Gold Inc</td>\n",
       "      <td>LUG.TO</td>\n",
       "      <td>1193050000</td>\n",
       "      <td>64.683912</td>\n",
       "      <td>55.5</td>\n",
       "      <td>53</td>\n",
       "      <td>13</td>\n",
       "      <td>56</td>\n",
       "    </tr>\n",
       "    <tr>\n",
       "      <th>1279</th>\n",
       "      <td>DIAS.MI</td>\n",
       "      <td>DiaSorin SpA</td>\n",
       "      <td>DIAS.MI</td>\n",
       "      <td>1185000000</td>\n",
       "      <td>48.02305</td>\n",
       "      <td>0.0</td>\n",
       "      <td>0</td>\n",
       "      <td>0</td>\n",
       "      <td>0</td>\n",
       "    </tr>\n",
       "    <tr>\n",
       "      <th>1280</th>\n",
       "      <td>BCVN.S</td>\n",
       "      <td>Banque Cantonale Vaudoise</td>\n",
       "      <td>BCVN.S</td>\n",
       "      <td>1155000000</td>\n",
       "      <td>66.672373</td>\n",
       "      <td>59.25</td>\n",
       "      <td>42</td>\n",
       "      <td>45</td>\n",
       "      <td>50</td>\n",
       "    </tr>\n",
       "    <tr>\n",
       "      <th>1281</th>\n",
       "      <td>FNV.TO</td>\n",
       "      <td>Franco-Nevada Corp</td>\n",
       "      <td>FNV.TO</td>\n",
       "      <td>1113600000</td>\n",
       "      <td>68.837984</td>\n",
       "      <td>43.25</td>\n",
       "      <td>45</td>\n",
       "      <td>20</td>\n",
       "      <td>8</td>\n",
       "    </tr>\n",
       "    <tr>\n",
       "      <th>1282</th>\n",
       "      <td>CAR.AX</td>\n",
       "      <td>CAR Group Ltd</td>\n",
       "      <td>CAR.AX</td>\n",
       "      <td>1098724000</td>\n",
       "      <td>58.171425</td>\n",
       "      <td>66.25</td>\n",
       "      <td>51</td>\n",
       "      <td>52</td>\n",
       "      <td>62</td>\n",
       "    </tr>\n",
       "    <tr>\n",
       "      <th>1283</th>\n",
       "      <td>MNG.L</td>\n",
       "      <td>M&amp;G PLC</td>\n",
       "      <td>MNG.L</td>\n",
       "      <td>1096000000</td>\n",
       "      <td>77.82153</td>\n",
       "      <td>57.75</td>\n",
       "      <td>54</td>\n",
       "      <td>50</td>\n",
       "      <td>27</td>\n",
       "    </tr>\n",
       "    <tr>\n",
       "      <th>1284</th>\n",
       "      <td>EFN.TO</td>\n",
       "      <td>Element Fleet Management Corp</td>\n",
       "      <td>EFN.TO</td>\n",
       "      <td>1087560000</td>\n",
       "      <td>50.124294</td>\n",
       "      <td>63.5</td>\n",
       "      <td>46</td>\n",
       "      <td>64</td>\n",
       "      <td>44</td>\n",
       "    </tr>\n",
       "    <tr>\n",
       "      <th>1285</th>\n",
       "      <td>TEMN.S</td>\n",
       "      <td>Temenos AG</td>\n",
       "      <td>TEMN.S</td>\n",
       "      <td>1044105000</td>\n",
       "      <td>73.205168</td>\n",
       "      <td>67.5</td>\n",
       "      <td>70</td>\n",
       "      <td>71</td>\n",
       "      <td>29</td>\n",
       "    </tr>\n",
       "    <tr>\n",
       "      <th>1286</th>\n",
       "      <td>IAG.TO</td>\n",
       "      <td>iA Financial Corporation Inc</td>\n",
       "      <td>IAG.TO</td>\n",
       "      <td>1040000000</td>\n",
       "      <td>68.078755</td>\n",
       "      <td>62.5</td>\n",
       "      <td>55</td>\n",
       "      <td>70</td>\n",
       "      <td>25</td>\n",
       "    </tr>\n",
       "    <tr>\n",
       "      <th>1287</th>\n",
       "      <td>INWT.MI</td>\n",
       "      <td>Infrastrutture Wireless Italiane SpA</td>\n",
       "      <td>INWT.MI</td>\n",
       "      <td>1036036000</td>\n",
       "      <td>64.624234</td>\n",
       "      <td>71.5</td>\n",
       "      <td>62</td>\n",
       "      <td>58</td>\n",
       "      <td>66</td>\n",
       "    </tr>\n",
       "    <tr>\n",
       "      <th>1288</th>\n",
       "      <td>ASX.AX</td>\n",
       "      <td>ASX Ltd</td>\n",
       "      <td>ASX.AX</td>\n",
       "      <td>1034300000</td>\n",
       "      <td>56.417462</td>\n",
       "      <td>66.0</td>\n",
       "      <td>48</td>\n",
       "      <td>58</td>\n",
       "      <td>58</td>\n",
       "    </tr>\n",
       "    <tr>\n",
       "      <th>1289</th>\n",
       "      <td>CYBR.OQ</td>\n",
       "      <td>Cyberark Software Ltd</td>\n",
       "      <td>CYBR.OQ</td>\n",
       "      <td>1000742000</td>\n",
       "      <td>63.548767</td>\n",
       "      <td>58.75</td>\n",
       "      <td>29</td>\n",
       "      <td>56</td>\n",
       "      <td>50</td>\n",
       "    </tr>\n",
       "    <tr>\n",
       "      <th>1290</th>\n",
       "      <td>NEKG.DE</td>\n",
       "      <td>Nemetschek SE</td>\n",
       "      <td>NEKG.DE</td>\n",
       "      <td>995565000</td>\n",
       "      <td>59.708129</td>\n",
       "      <td>51.25</td>\n",
       "      <td>46</td>\n",
       "      <td>38</td>\n",
       "      <td>21</td>\n",
       "    </tr>\n",
       "    <tr>\n",
       "      <th>1291</th>\n",
       "      <td>MNDY.OQ</td>\n",
       "      <td>monday.com Ltd</td>\n",
       "      <td>MNDY.OQ</td>\n",
       "      <td>971995000</td>\n",
       "      <td>0.0</td>\n",
       "      <td>0.0</td>\n",
       "      <td>0</td>\n",
       "      <td>0</td>\n",
       "      <td>0</td>\n",
       "    </tr>\n",
       "    <tr>\n",
       "      <th>1292</th>\n",
       "      <td>VACN.S</td>\n",
       "      <td>VAT Group AG</td>\n",
       "      <td>VACN.S</td>\n",
       "      <td>942200000</td>\n",
       "      <td>48.810234</td>\n",
       "      <td>0.0</td>\n",
       "      <td>0</td>\n",
       "      <td>0</td>\n",
       "      <td>0</td>\n",
       "    </tr>\n",
       "    <tr>\n",
       "      <th>1293</th>\n",
       "      <td>0006.HK</td>\n",
       "      <td>Power Assets Holdings Ltd</td>\n",
       "      <td>0006.HK</td>\n",
       "      <td>919000000</td>\n",
       "      <td>49.765826</td>\n",
       "      <td>51.75</td>\n",
       "      <td>25</td>\n",
       "      <td>46</td>\n",
       "      <td>36</td>\n",
       "    </tr>\n",
       "    <tr>\n",
       "      <th>1294</th>\n",
       "      <td>AIA.NZ</td>\n",
       "      <td>Auckland International Airport Ltd</td>\n",
       "      <td>AIA.NZ</td>\n",
       "      <td>895500000</td>\n",
       "      <td>64.414757</td>\n",
       "      <td>0.0</td>\n",
       "      <td>0</td>\n",
       "      <td>0</td>\n",
       "      <td>0</td>\n",
       "    </tr>\n",
       "    <tr>\n",
       "      <th>1295</th>\n",
       "      <td>LEGn.DE</td>\n",
       "      <td>LEG Immobilien SE</td>\n",
       "      <td>LEGn.DE</td>\n",
       "      <td>859400000</td>\n",
       "      <td>68.463403</td>\n",
       "      <td>56.25</td>\n",
       "      <td>50</td>\n",
       "      <td>40</td>\n",
       "      <td>35</td>\n",
       "    </tr>\n",
       "    <tr>\n",
       "      <th>1296</th>\n",
       "      <td>LAND.L</td>\n",
       "      <td>Land Securities Group PLC</td>\n",
       "      <td>LAND.L</td>\n",
       "      <td>797000000</td>\n",
       "      <td>84.971811</td>\n",
       "      <td>59.0</td>\n",
       "      <td>52</td>\n",
       "      <td>36</td>\n",
       "      <td>48</td>\n",
       "    </tr>\n",
       "    <tr>\n",
       "      <th>1297</th>\n",
       "      <td>TPL.N</td>\n",
       "      <td>Texas Pacific Land Corp</td>\n",
       "      <td>TPL.N</td>\n",
       "      <td>705823000</td>\n",
       "      <td>47.194364</td>\n",
       "      <td>50.25</td>\n",
       "      <td>22</td>\n",
       "      <td>32</td>\n",
       "      <td>47</td>\n",
       "    </tr>\n",
       "    <tr>\n",
       "      <th>1298</th>\n",
       "      <td>GFCP.PA</td>\n",
       "      <td>Gecina SA</td>\n",
       "      <td>GFCP.PA</td>\n",
       "      <td>694500000</td>\n",
       "      <td>88.888377</td>\n",
       "      <td>59.0</td>\n",
       "      <td>44</td>\n",
       "      <td>42</td>\n",
       "      <td>50</td>\n",
       "    </tr>\n",
       "    <tr>\n",
       "      <th>1299</th>\n",
       "      <td>WTC.AX</td>\n",
       "      <td>WiseTech Global Ltd</td>\n",
       "      <td>WTC.AX</td>\n",
       "      <td>682646840</td>\n",
       "      <td>49.835685</td>\n",
       "      <td>54.75</td>\n",
       "      <td>34</td>\n",
       "      <td>54</td>\n",
       "      <td>31</td>\n",
       "    </tr>\n",
       "    <tr>\n",
       "      <th>1300</th>\n",
       "      <td>SPSN.S</td>\n",
       "      <td>Swiss Prime Site AG</td>\n",
       "      <td>SPSN.S</td>\n",
       "      <td>663421000</td>\n",
       "      <td>65.948039</td>\n",
       "      <td>49.75</td>\n",
       "      <td>32</td>\n",
       "      <td>50</td>\n",
       "      <td>17</td>\n",
       "    </tr>\n",
       "    <tr>\n",
       "      <th>1301</th>\n",
       "      <td>DSG.TO</td>\n",
       "      <td>Descartes Systems Group Inc</td>\n",
       "      <td>DSG.TO</td>\n",
       "      <td>651000000</td>\n",
       "      <td>53.639021</td>\n",
       "      <td>42.25</td>\n",
       "      <td>21</td>\n",
       "      <td>23</td>\n",
       "      <td>25</td>\n",
       "    </tr>\n",
       "    <tr>\n",
       "      <th>1302</th>\n",
       "      <td>SGRO.L</td>\n",
       "      <td>SEGRO PLC</td>\n",
       "      <td>SGRO.L</td>\n",
       "      <td>628000000</td>\n",
       "      <td>72.766448</td>\n",
       "      <td>53.0</td>\n",
       "      <td>27</td>\n",
       "      <td>58</td>\n",
       "      <td>27</td>\n",
       "    </tr>\n",
       "    <tr>\n",
       "      <th>1303</th>\n",
       "      <td>BESI.AS</td>\n",
       "      <td>BE Semiconductor Industries NV</td>\n",
       "      <td>BESI.AS</td>\n",
       "      <td>607473000</td>\n",
       "      <td>63.48096</td>\n",
       "      <td>57.5</td>\n",
       "      <td>39</td>\n",
       "      <td>53</td>\n",
       "      <td>38</td>\n",
       "    </tr>\n",
       "    <tr>\n",
       "      <th>1304</th>\n",
       "      <td>AUTOA.L</td>\n",
       "      <td>Auto Trader Group PLC</td>\n",
       "      <td>AUTOA.L</td>\n",
       "      <td>601100000</td>\n",
       "      <td>73.358944</td>\n",
       "      <td>59.5</td>\n",
       "      <td>44</td>\n",
       "      <td>63</td>\n",
       "      <td>31</td>\n",
       "    </tr>\n",
       "    <tr>\n",
       "      <th>1305</th>\n",
       "      <td>CVO.PA</td>\n",
       "      <td>Covivio SA</td>\n",
       "      <td>CVO.PA</td>\n",
       "      <td>585300000</td>\n",
       "      <td>85.791346</td>\n",
       "      <td>55.75</td>\n",
       "      <td>34</td>\n",
       "      <td>49</td>\n",
       "      <td>40</td>\n",
       "    </tr>\n",
       "    <tr>\n",
       "      <th>1306</th>\n",
       "      <td>G24n.F</td>\n",
       "      <td>Scout24 SE</td>\n",
       "      <td>G24n.F</td>\n",
       "      <td>566300000</td>\n",
       "      <td>68.500526</td>\n",
       "      <td>59.5</td>\n",
       "      <td>55</td>\n",
       "      <td>39</td>\n",
       "      <td>44</td>\n",
       "    </tr>\n",
       "    <tr>\n",
       "      <th>1307</th>\n",
       "      <td>SOL.AX</td>\n",
       "      <td>Washington H Soul Pattinson and Company Ltd</td>\n",
       "      <td>SOL.AX</td>\n",
       "      <td>557600000</td>\n",
       "      <td>40.960299</td>\n",
       "      <td>44.5</td>\n",
       "      <td>31</td>\n",
       "      <td>29</td>\n",
       "      <td>18</td>\n",
       "    </tr>\n",
       "    <tr>\n",
       "      <th>1308</th>\n",
       "      <td>MSTR.OQ</td>\n",
       "      <td>Microstrategy Inc</td>\n",
       "      <td>MSTR.OQ</td>\n",
       "      <td>463456000</td>\n",
       "      <td>22.026969</td>\n",
       "      <td>37.0</td>\n",
       "      <td>13</td>\n",
       "      <td>8</td>\n",
       "      <td>27</td>\n",
       "    </tr>\n",
       "    <tr>\n",
       "      <th>1309</th>\n",
       "      <td>EURA.PA</td>\n",
       "      <td>Eurazeo SE</td>\n",
       "      <td>EURA.PA</td>\n",
       "      <td>383306000</td>\n",
       "      <td>50.50236</td>\n",
       "      <td>58.75</td>\n",
       "      <td>44</td>\n",
       "      <td>54</td>\n",
       "      <td>37</td>\n",
       "    </tr>\n",
       "    <tr>\n",
       "      <th>1310</th>\n",
       "      <td>PME.AX</td>\n",
       "      <td>Pro Medicus Ltd</td>\n",
       "      <td>PME.AX</td>\n",
       "      <td>166333000</td>\n",
       "      <td>24.712306</td>\n",
       "      <td>46.25</td>\n",
       "      <td>42</td>\n",
       "      <td>25</td>\n",
       "      <td>18</td>\n",
       "    </tr>\n",
       "    <tr>\n",
       "      <th>1311</th>\n",
       "      <td>IVN.TO</td>\n",
       "      <td>Ivanhoe Mines Ltd</td>\n",
       "      <td>IVN.TO</td>\n",
       "      <td>40818000</td>\n",
       "      <td>71.570037</td>\n",
       "      <td>51.0</td>\n",
       "      <td>26</td>\n",
       "      <td>47</td>\n",
       "      <td>31</td>\n",
       "    </tr>\n",
       "    <tr>\n",
       "      <th>1312</th>\n",
       "      <td>PSHG_p.DE</td>\n",
       "      <td>Porsche Automobil Holding SE</td>\n",
       "      <td>PSHG_p.DE</td>\n",
       "      <td>0</td>\n",
       "      <td>16.167862</td>\n",
       "      <td>36.75</td>\n",
       "      <td>13</td>\n",
       "      <td>17</td>\n",
       "      <td>17</td>\n",
       "    </tr>\n",
       "  </tbody>\n",
       "</table>\n",
       "</div>"
      ],
      "text/plain": [
       "     Instrument                                 Company Name        RIC  \\\n",
       "1263    CAPD.SI                     CapitaLand Ascendas REIT    CAPD.SI   \n",
       "1264       X.TO                                TMX Group Ltd       X.TO   \n",
       "1265     REG.OQ                         Regency Centers Corp     REG.OQ   \n",
       "1266     REA.AX                                REA Group Ltd     REA.AX   \n",
       "1267     BSY.OQ                          Bentley Systems Inc     BSY.OQ   \n",
       "1268     AGI.TO                              Alamos Gold Inc     AGI.TO   \n",
       "1269     VCX.AX                             Vicinity Centres     VCX.AX   \n",
       "1270     FBK.MI                  FinecoBank Banca Fineco SpA     FBK.MI   \n",
       "1271     RDDT.N                                   Reddit Inc     RDDT.N   \n",
       "1272     WPM.TO                 Wheaton Precious Metals Corp     WPM.TO   \n",
       "1273      IOT.N                                  Samsara Inc      IOT.N   \n",
       "1274    LOIM.PA                                 Klepierre SA    LOIM.PA   \n",
       "1275    LOTB.BR                            Lotus Bakeries NV    LOTB.BR   \n",
       "1276    SGXL.SI                       Singapore Exchange Ltd    SGXL.SI   \n",
       "1277    RAAG.DE                                  Rational AG    RAAG.DE   \n",
       "1278     LUG.TO                              Lundin Gold Inc     LUG.TO   \n",
       "1279    DIAS.MI                                 DiaSorin SpA    DIAS.MI   \n",
       "1280     BCVN.S                    Banque Cantonale Vaudoise     BCVN.S   \n",
       "1281     FNV.TO                           Franco-Nevada Corp     FNV.TO   \n",
       "1282     CAR.AX                                CAR Group Ltd     CAR.AX   \n",
       "1283      MNG.L                                      M&G PLC      MNG.L   \n",
       "1284     EFN.TO                Element Fleet Management Corp     EFN.TO   \n",
       "1285     TEMN.S                                   Temenos AG     TEMN.S   \n",
       "1286     IAG.TO                 iA Financial Corporation Inc     IAG.TO   \n",
       "1287    INWT.MI         Infrastrutture Wireless Italiane SpA    INWT.MI   \n",
       "1288     ASX.AX                                      ASX Ltd     ASX.AX   \n",
       "1289    CYBR.OQ                        Cyberark Software Ltd    CYBR.OQ   \n",
       "1290    NEKG.DE                                Nemetschek SE    NEKG.DE   \n",
       "1291    MNDY.OQ                               monday.com Ltd    MNDY.OQ   \n",
       "1292     VACN.S                                 VAT Group AG     VACN.S   \n",
       "1293    0006.HK                    Power Assets Holdings Ltd    0006.HK   \n",
       "1294     AIA.NZ           Auckland International Airport Ltd     AIA.NZ   \n",
       "1295    LEGn.DE                            LEG Immobilien SE    LEGn.DE   \n",
       "1296     LAND.L                    Land Securities Group PLC     LAND.L   \n",
       "1297      TPL.N                      Texas Pacific Land Corp      TPL.N   \n",
       "1298    GFCP.PA                                    Gecina SA    GFCP.PA   \n",
       "1299     WTC.AX                          WiseTech Global Ltd     WTC.AX   \n",
       "1300     SPSN.S                          Swiss Prime Site AG     SPSN.S   \n",
       "1301     DSG.TO                  Descartes Systems Group Inc     DSG.TO   \n",
       "1302     SGRO.L                                    SEGRO PLC     SGRO.L   \n",
       "1303    BESI.AS               BE Semiconductor Industries NV    BESI.AS   \n",
       "1304    AUTOA.L                        Auto Trader Group PLC    AUTOA.L   \n",
       "1305     CVO.PA                                   Covivio SA     CVO.PA   \n",
       "1306     G24n.F                                   Scout24 SE     G24n.F   \n",
       "1307     SOL.AX  Washington H Soul Pattinson and Company Ltd     SOL.AX   \n",
       "1308    MSTR.OQ                            Microstrategy Inc    MSTR.OQ   \n",
       "1309    EURA.PA                                   Eurazeo SE    EURA.PA   \n",
       "1310     PME.AX                              Pro Medicus Ltd     PME.AX   \n",
       "1311     IVN.TO                            Ivanhoe Mines Ltd     IVN.TO   \n",
       "1312  PSHG_p.DE                 Porsche Automobil Holding SE  PSHG_p.DE   \n",
       "\n",
       "      Revenue - Actual  ESG Score  DIR Score  DIR Diversity Score  \\\n",
       "1263        1523046000  67.365038       52.0                   45   \n",
       "1264        1460100000  51.313119       55.0                   37   \n",
       "1265        1453904000  77.600588      54.75                   34   \n",
       "1266        1452800000  41.107297      60.25                   38   \n",
       "1267        1353095000  37.025133       51.0                   24   \n",
       "1268        1346900000  73.706931      44.25                   28   \n",
       "1269        1326300000  67.577796      56.25                   46   \n",
       "1270        1316475000  76.011837      53.25                   38   \n",
       "1271        1300205000        0.0        0.0                    0   \n",
       "1272        1284639000   64.61038       47.0                   55   \n",
       "1273        1249199000        0.0        0.0                    0   \n",
       "1274        1233100000  74.454535      52.25                   52   \n",
       "1275        1231914000  57.571432       47.5                   25   \n",
       "1276        1231675000    72.3088      58.25                   49   \n",
       "1277        1193529000   49.75726      49.75                   25   \n",
       "1278        1193050000  64.683912       55.5                   53   \n",
       "1279        1185000000   48.02305        0.0                    0   \n",
       "1280        1155000000  66.672373      59.25                   42   \n",
       "1281        1113600000  68.837984      43.25                   45   \n",
       "1282        1098724000  58.171425      66.25                   51   \n",
       "1283        1096000000   77.82153      57.75                   54   \n",
       "1284        1087560000  50.124294       63.5                   46   \n",
       "1285        1044105000  73.205168       67.5                   70   \n",
       "1286        1040000000  68.078755       62.5                   55   \n",
       "1287        1036036000  64.624234       71.5                   62   \n",
       "1288        1034300000  56.417462       66.0                   48   \n",
       "1289        1000742000  63.548767      58.75                   29   \n",
       "1290         995565000  59.708129      51.25                   46   \n",
       "1291         971995000        0.0        0.0                    0   \n",
       "1292         942200000  48.810234        0.0                    0   \n",
       "1293         919000000  49.765826      51.75                   25   \n",
       "1294         895500000  64.414757        0.0                    0   \n",
       "1295         859400000  68.463403      56.25                   50   \n",
       "1296         797000000  84.971811       59.0                   52   \n",
       "1297         705823000  47.194364      50.25                   22   \n",
       "1298         694500000  88.888377       59.0                   44   \n",
       "1299         682646840  49.835685      54.75                   34   \n",
       "1300         663421000  65.948039      49.75                   32   \n",
       "1301         651000000  53.639021      42.25                   21   \n",
       "1302         628000000  72.766448       53.0                   27   \n",
       "1303         607473000   63.48096       57.5                   39   \n",
       "1304         601100000  73.358944       59.5                   44   \n",
       "1305         585300000  85.791346      55.75                   34   \n",
       "1306         566300000  68.500526       59.5                   55   \n",
       "1307         557600000  40.960299       44.5                   31   \n",
       "1308         463456000  22.026969       37.0                   13   \n",
       "1309         383306000   50.50236      58.75                   44   \n",
       "1310         166333000  24.712306      46.25                   42   \n",
       "1311          40818000  71.570037       51.0                   26   \n",
       "1312                 0  16.167862      36.75                   13   \n",
       "\n",
       "      DIR People Development Score  DIR Inclusion Score  \n",
       "1263                            30                   33  \n",
       "1264                            63                   20  \n",
       "1265                            58                   27  \n",
       "1266                            72                   31  \n",
       "1267                            53                   27  \n",
       "1268                            35                   14  \n",
       "1269                            48                   31  \n",
       "1270                            48                   27  \n",
       "1271                             0                    0  \n",
       "1272                            25                    8  \n",
       "1273                             0                    0  \n",
       "1274                            37                   20  \n",
       "1275                            45                   20  \n",
       "1276                            57                   27  \n",
       "1277                            62                   12  \n",
       "1278                            13                   56  \n",
       "1279                             0                    0  \n",
       "1280                            45                   50  \n",
       "1281                            20                    8  \n",
       "1282                            52                   62  \n",
       "1283                            50                   27  \n",
       "1284                            64                   44  \n",
       "1285                            71                   29  \n",
       "1286                            70                   25  \n",
       "1287                            58                   66  \n",
       "1288                            58                   58  \n",
       "1289                            56                   50  \n",
       "1290                            38                   21  \n",
       "1291                             0                    0  \n",
       "1292                             0                    0  \n",
       "1293                            46                   36  \n",
       "1294                             0                    0  \n",
       "1295                            40                   35  \n",
       "1296                            36                   48  \n",
       "1297                            32                   47  \n",
       "1298                            42                   50  \n",
       "1299                            54                   31  \n",
       "1300                            50                   17  \n",
       "1301                            23                   25  \n",
       "1302                            58                   27  \n",
       "1303                            53                   38  \n",
       "1304                            63                   31  \n",
       "1305                            49                   40  \n",
       "1306                            39                   44  \n",
       "1307                            29                   18  \n",
       "1308                             8                   27  \n",
       "1309                            54                   37  \n",
       "1310                            25                   18  \n",
       "1311                            47                   31  \n",
       "1312                            17                   17  "
      ]
     },
     "metadata": {},
     "output_type": "display_data"
    }
   ],
   "source": [
    "# get the top and bottom 50 by revenue\n",
    "top50 = df.iloc[:50]\n",
    "bot50 = df.iloc[-50:]\n",
    "display('Top 50 companies in the world index')\n",
    "display(top50)\n",
    "display('Lower 50 companies in the world index')\n",
    "display(bot50)"
   ]
  },
  {
   "cell_type": "markdown",
   "metadata": {},
   "source": [
    "### Plot compare the ESG metrices for these companies"
   ]
  },
  {
   "cell_type": "code",
   "execution_count": 7,
   "metadata": {},
   "outputs": [
    {
     "data": {
      "application/vnd.plotly.v1+json": {
       "config": {
        "plotlyServerURL": "https://plot.ly"
       },
       "data": [
        {
         "mode": "markers",
         "name": "Top 50",
         "type": "scatter",
         "x": [
          "7203.T",
          "7267.T",
          "8058.T",
          "8001.T",
          "8031.T",
          "9432.T",
          "8306.T",
          "6758.T",
          "7201.T",
          "5020.T",
          "3382.T",
          "6178.T",
          "8015.T",
          "8316.T",
          "8267.T",
          "6501.T",
          "5019.T",
          "8750.T",
          "5401.T",
          "6752.T",
          "8766.T",
          "8002.T",
          "8053.T",
          "9984.T",
          "6902.T",
          "9434.T",
          "8725.T",
          "9433.T",
          "7181.T",
          "7269.T",
          "6503.T",
          "1925.T",
          "8630.T",
          "7011.T",
          "7259.T",
          "5411.T",
          "6367.T",
          "8604.T",
          "7270.T",
          "5802.T",
          "9613.T",
          "4502.T",
          "7751.T",
          "5108.T",
          "4188.T",
          "9503.T",
          "6301.T",
          "6201.T",
          "1928.T",
          "9502.T"
         ],
         "y": {
          "bdata": "zB3xljq8U0DjULOQeihSQH3fqpZ3RVFAQaT96/2PUUD6IzkUhztQQM91IeDpu09Arg5p8x6DUkB/1MUTEr1VQCwqHgdZTVNAMsDJAljIUUD/2LpVz0tUQIBC3URmoVBAIEjTPklGU0DB5ESbNrRRQE9dqohL4FFA87I9LaX4VEC8oUuRG61SQOysPnAL+lBAG3sYdekaTkB8ldvfXhRRQH+wIJytIlFAiJ8nSg4gU0A38DnUOwJLQEssPQijRExA2Wn8aunQT0C4rn8TQMpSQHxDar0rUlFAulBsLBDwSkAghsGlwfxOQLkmTdM2y01AOPQpIWDjVEBLQutV/LtSQE39zx6RGVJADaARObXYU0CidNs+zwJQQFPAmKVVulFAKcmhdTiCUUCpgV8hBztWQNVlAyrTi1FAsVRxekxAUEA8ozSVYnBSQO22LJGh7FNAiyg1ukoPUkAPbouAhyVUQLV9MduR3UpARW/cah2TUkBevo8XqptVQJ0cBUH1d1FAv/nZ22o2UkBWRU4r/oFMQA==",
          "dtype": "f8"
         }
        },
        {
         "mode": "markers",
         "name": "Bottom 50",
         "type": "scatter",
         "x": [
          "CAPD.SI",
          "X.TO",
          "REG.OQ",
          "REA.AX",
          "BSY.OQ",
          "AGI.TO",
          "VCX.AX",
          "FBK.MI",
          "RDDT.N",
          "WPM.TO",
          "IOT.N",
          "LOIM.PA",
          "LOTB.BR",
          "SGXL.SI",
          "RAAG.DE",
          "LUG.TO",
          "DIAS.MI",
          "BCVN.S",
          "FNV.TO",
          "CAR.AX",
          "MNG.L",
          "EFN.TO",
          "TEMN.S",
          "IAG.TO",
          "INWT.MI",
          "ASX.AX",
          "CYBR.OQ",
          "NEKG.DE",
          "MNDY.OQ",
          "VACN.S",
          "0006.HK",
          "AIA.NZ",
          "LEGn.DE",
          "LAND.L",
          "TPL.N",
          "GFCP.PA",
          "WTC.AX",
          "SPSN.S",
          "DSG.TO",
          "SGRO.L",
          "BESI.AS",
          "AUTOA.L",
          "CVO.PA",
          "G24n.F",
          "SOL.AX",
          "MSTR.OQ",
          "EURA.PA",
          "PME.AX",
          "IVN.TO",
          "PSHG_p.DE"
         ],
         "y": {
          "bdata": "AOWkyVzXUEAaUmVGFKhJQDGJUwhwZlNAH+Sl6buNRECVSlGQN4NCQKYav1k+bVJAdEGVnfrkUECM6mvxwQBTQAAAAAAAAAAACNX8dxAnUEAAAAAAAAAAANemmBoXnVJA3DOpqyTJTEApvENfwxNSQF0kxubt4EhAa+iQNsUrUEBJo2xN8wJIQBmLKCgIq1BASY6Lh6E1UUBy83BE8RVNQLpGKfOTdFNAGAN83+gPSUCrOHN4IU1SQFKXslIKBVFAa9NzcvMnUEDlCQhmbzVMQKIZ0vs9xk9ApEJq+KPaTUAAAAAAAAAAAGTv6721Z0hAjolumQbiSEAd571gixpQQJOTX2WoHVFABNLUJzI+VUDuNfnr4JhHQIWckCzbOFZAdF19uPfqSEDa/KatrHxQQMr0B3DL0UpAevb5eg0xUkAEt8gZkL1PQKNb+e/4VlJAmRbIaKVyVUCvpvucCCBRQN34AxfrekRAIkZ6decGNkB+r2NXTUBJQFyUQbNZtjhAM5v0e3vkUUCcNRkH+SowQA==",
          "dtype": "f8"
         }
        }
       ],
       "layout": {
        "template": {
         "data": {
          "bar": [
           {
            "error_x": {
             "color": "#2a3f5f"
            },
            "error_y": {
             "color": "#2a3f5f"
            },
            "marker": {
             "line": {
              "color": "#E5ECF6",
              "width": 0.5
             },
             "pattern": {
              "fillmode": "overlay",
              "size": 10,
              "solidity": 0.2
             }
            },
            "type": "bar"
           }
          ],
          "barpolar": [
           {
            "marker": {
             "line": {
              "color": "#E5ECF6",
              "width": 0.5
             },
             "pattern": {
              "fillmode": "overlay",
              "size": 10,
              "solidity": 0.2
             }
            },
            "type": "barpolar"
           }
          ],
          "carpet": [
           {
            "aaxis": {
             "endlinecolor": "#2a3f5f",
             "gridcolor": "white",
             "linecolor": "white",
             "minorgridcolor": "white",
             "startlinecolor": "#2a3f5f"
            },
            "baxis": {
             "endlinecolor": "#2a3f5f",
             "gridcolor": "white",
             "linecolor": "white",
             "minorgridcolor": "white",
             "startlinecolor": "#2a3f5f"
            },
            "type": "carpet"
           }
          ],
          "choropleth": [
           {
            "colorbar": {
             "outlinewidth": 0,
             "ticks": ""
            },
            "type": "choropleth"
           }
          ],
          "contour": [
           {
            "colorbar": {
             "outlinewidth": 0,
             "ticks": ""
            },
            "colorscale": [
             [
              0,
              "#0d0887"
             ],
             [
              0.1111111111111111,
              "#46039f"
             ],
             [
              0.2222222222222222,
              "#7201a8"
             ],
             [
              0.3333333333333333,
              "#9c179e"
             ],
             [
              0.4444444444444444,
              "#bd3786"
             ],
             [
              0.5555555555555556,
              "#d8576b"
             ],
             [
              0.6666666666666666,
              "#ed7953"
             ],
             [
              0.7777777777777778,
              "#fb9f3a"
             ],
             [
              0.8888888888888888,
              "#fdca26"
             ],
             [
              1,
              "#f0f921"
             ]
            ],
            "type": "contour"
           }
          ],
          "contourcarpet": [
           {
            "colorbar": {
             "outlinewidth": 0,
             "ticks": ""
            },
            "type": "contourcarpet"
           }
          ],
          "heatmap": [
           {
            "colorbar": {
             "outlinewidth": 0,
             "ticks": ""
            },
            "colorscale": [
             [
              0,
              "#0d0887"
             ],
             [
              0.1111111111111111,
              "#46039f"
             ],
             [
              0.2222222222222222,
              "#7201a8"
             ],
             [
              0.3333333333333333,
              "#9c179e"
             ],
             [
              0.4444444444444444,
              "#bd3786"
             ],
             [
              0.5555555555555556,
              "#d8576b"
             ],
             [
              0.6666666666666666,
              "#ed7953"
             ],
             [
              0.7777777777777778,
              "#fb9f3a"
             ],
             [
              0.8888888888888888,
              "#fdca26"
             ],
             [
              1,
              "#f0f921"
             ]
            ],
            "type": "heatmap"
           }
          ],
          "histogram": [
           {
            "marker": {
             "pattern": {
              "fillmode": "overlay",
              "size": 10,
              "solidity": 0.2
             }
            },
            "type": "histogram"
           }
          ],
          "histogram2d": [
           {
            "colorbar": {
             "outlinewidth": 0,
             "ticks": ""
            },
            "colorscale": [
             [
              0,
              "#0d0887"
             ],
             [
              0.1111111111111111,
              "#46039f"
             ],
             [
              0.2222222222222222,
              "#7201a8"
             ],
             [
              0.3333333333333333,
              "#9c179e"
             ],
             [
              0.4444444444444444,
              "#bd3786"
             ],
             [
              0.5555555555555556,
              "#d8576b"
             ],
             [
              0.6666666666666666,
              "#ed7953"
             ],
             [
              0.7777777777777778,
              "#fb9f3a"
             ],
             [
              0.8888888888888888,
              "#fdca26"
             ],
             [
              1,
              "#f0f921"
             ]
            ],
            "type": "histogram2d"
           }
          ],
          "histogram2dcontour": [
           {
            "colorbar": {
             "outlinewidth": 0,
             "ticks": ""
            },
            "colorscale": [
             [
              0,
              "#0d0887"
             ],
             [
              0.1111111111111111,
              "#46039f"
             ],
             [
              0.2222222222222222,
              "#7201a8"
             ],
             [
              0.3333333333333333,
              "#9c179e"
             ],
             [
              0.4444444444444444,
              "#bd3786"
             ],
             [
              0.5555555555555556,
              "#d8576b"
             ],
             [
              0.6666666666666666,
              "#ed7953"
             ],
             [
              0.7777777777777778,
              "#fb9f3a"
             ],
             [
              0.8888888888888888,
              "#fdca26"
             ],
             [
              1,
              "#f0f921"
             ]
            ],
            "type": "histogram2dcontour"
           }
          ],
          "mesh3d": [
           {
            "colorbar": {
             "outlinewidth": 0,
             "ticks": ""
            },
            "type": "mesh3d"
           }
          ],
          "parcoords": [
           {
            "line": {
             "colorbar": {
              "outlinewidth": 0,
              "ticks": ""
             }
            },
            "type": "parcoords"
           }
          ],
          "pie": [
           {
            "automargin": true,
            "type": "pie"
           }
          ],
          "scatter": [
           {
            "fillpattern": {
             "fillmode": "overlay",
             "size": 10,
             "solidity": 0.2
            },
            "type": "scatter"
           }
          ],
          "scatter3d": [
           {
            "line": {
             "colorbar": {
              "outlinewidth": 0,
              "ticks": ""
             }
            },
            "marker": {
             "colorbar": {
              "outlinewidth": 0,
              "ticks": ""
             }
            },
            "type": "scatter3d"
           }
          ],
          "scattercarpet": [
           {
            "marker": {
             "colorbar": {
              "outlinewidth": 0,
              "ticks": ""
             }
            },
            "type": "scattercarpet"
           }
          ],
          "scattergeo": [
           {
            "marker": {
             "colorbar": {
              "outlinewidth": 0,
              "ticks": ""
             }
            },
            "type": "scattergeo"
           }
          ],
          "scattergl": [
           {
            "marker": {
             "colorbar": {
              "outlinewidth": 0,
              "ticks": ""
             }
            },
            "type": "scattergl"
           }
          ],
          "scattermap": [
           {
            "marker": {
             "colorbar": {
              "outlinewidth": 0,
              "ticks": ""
             }
            },
            "type": "scattermap"
           }
          ],
          "scattermapbox": [
           {
            "marker": {
             "colorbar": {
              "outlinewidth": 0,
              "ticks": ""
             }
            },
            "type": "scattermapbox"
           }
          ],
          "scatterpolar": [
           {
            "marker": {
             "colorbar": {
              "outlinewidth": 0,
              "ticks": ""
             }
            },
            "type": "scatterpolar"
           }
          ],
          "scatterpolargl": [
           {
            "marker": {
             "colorbar": {
              "outlinewidth": 0,
              "ticks": ""
             }
            },
            "type": "scatterpolargl"
           }
          ],
          "scatterternary": [
           {
            "marker": {
             "colorbar": {
              "outlinewidth": 0,
              "ticks": ""
             }
            },
            "type": "scatterternary"
           }
          ],
          "surface": [
           {
            "colorbar": {
             "outlinewidth": 0,
             "ticks": ""
            },
            "colorscale": [
             [
              0,
              "#0d0887"
             ],
             [
              0.1111111111111111,
              "#46039f"
             ],
             [
              0.2222222222222222,
              "#7201a8"
             ],
             [
              0.3333333333333333,
              "#9c179e"
             ],
             [
              0.4444444444444444,
              "#bd3786"
             ],
             [
              0.5555555555555556,
              "#d8576b"
             ],
             [
              0.6666666666666666,
              "#ed7953"
             ],
             [
              0.7777777777777778,
              "#fb9f3a"
             ],
             [
              0.8888888888888888,
              "#fdca26"
             ],
             [
              1,
              "#f0f921"
             ]
            ],
            "type": "surface"
           }
          ],
          "table": [
           {
            "cells": {
             "fill": {
              "color": "#EBF0F8"
             },
             "line": {
              "color": "white"
             }
            },
            "header": {
             "fill": {
              "color": "#C8D4E3"
             },
             "line": {
              "color": "white"
             }
            },
            "type": "table"
           }
          ]
         },
         "layout": {
          "annotationdefaults": {
           "arrowcolor": "#2a3f5f",
           "arrowhead": 0,
           "arrowwidth": 1
          },
          "autotypenumbers": "strict",
          "coloraxis": {
           "colorbar": {
            "outlinewidth": 0,
            "ticks": ""
           }
          },
          "colorscale": {
           "diverging": [
            [
             0,
             "#8e0152"
            ],
            [
             0.1,
             "#c51b7d"
            ],
            [
             0.2,
             "#de77ae"
            ],
            [
             0.3,
             "#f1b6da"
            ],
            [
             0.4,
             "#fde0ef"
            ],
            [
             0.5,
             "#f7f7f7"
            ],
            [
             0.6,
             "#e6f5d0"
            ],
            [
             0.7,
             "#b8e186"
            ],
            [
             0.8,
             "#7fbc41"
            ],
            [
             0.9,
             "#4d9221"
            ],
            [
             1,
             "#276419"
            ]
           ],
           "sequential": [
            [
             0,
             "#0d0887"
            ],
            [
             0.1111111111111111,
             "#46039f"
            ],
            [
             0.2222222222222222,
             "#7201a8"
            ],
            [
             0.3333333333333333,
             "#9c179e"
            ],
            [
             0.4444444444444444,
             "#bd3786"
            ],
            [
             0.5555555555555556,
             "#d8576b"
            ],
            [
             0.6666666666666666,
             "#ed7953"
            ],
            [
             0.7777777777777778,
             "#fb9f3a"
            ],
            [
             0.8888888888888888,
             "#fdca26"
            ],
            [
             1,
             "#f0f921"
            ]
           ],
           "sequentialminus": [
            [
             0,
             "#0d0887"
            ],
            [
             0.1111111111111111,
             "#46039f"
            ],
            [
             0.2222222222222222,
             "#7201a8"
            ],
            [
             0.3333333333333333,
             "#9c179e"
            ],
            [
             0.4444444444444444,
             "#bd3786"
            ],
            [
             0.5555555555555556,
             "#d8576b"
            ],
            [
             0.6666666666666666,
             "#ed7953"
            ],
            [
             0.7777777777777778,
             "#fb9f3a"
            ],
            [
             0.8888888888888888,
             "#fdca26"
            ],
            [
             1,
             "#f0f921"
            ]
           ]
          },
          "colorway": [
           "#636efa",
           "#EF553B",
           "#00cc96",
           "#ab63fa",
           "#FFA15A",
           "#19d3f3",
           "#FF6692",
           "#B6E880",
           "#FF97FF",
           "#FECB52"
          ],
          "font": {
           "color": "#2a3f5f"
          },
          "geo": {
           "bgcolor": "white",
           "lakecolor": "white",
           "landcolor": "#E5ECF6",
           "showlakes": true,
           "showland": true,
           "subunitcolor": "white"
          },
          "hoverlabel": {
           "align": "left"
          },
          "hovermode": "closest",
          "mapbox": {
           "style": "light"
          },
          "paper_bgcolor": "white",
          "plot_bgcolor": "#E5ECF6",
          "polar": {
           "angularaxis": {
            "gridcolor": "white",
            "linecolor": "white",
            "ticks": ""
           },
           "bgcolor": "#E5ECF6",
           "radialaxis": {
            "gridcolor": "white",
            "linecolor": "white",
            "ticks": ""
           }
          },
          "scene": {
           "xaxis": {
            "backgroundcolor": "#E5ECF6",
            "gridcolor": "white",
            "gridwidth": 2,
            "linecolor": "white",
            "showbackground": true,
            "ticks": "",
            "zerolinecolor": "white"
           },
           "yaxis": {
            "backgroundcolor": "#E5ECF6",
            "gridcolor": "white",
            "gridwidth": 2,
            "linecolor": "white",
            "showbackground": true,
            "ticks": "",
            "zerolinecolor": "white"
           },
           "zaxis": {
            "backgroundcolor": "#E5ECF6",
            "gridcolor": "white",
            "gridwidth": 2,
            "linecolor": "white",
            "showbackground": true,
            "ticks": "",
            "zerolinecolor": "white"
           }
          },
          "shapedefaults": {
           "line": {
            "color": "#2a3f5f"
           }
          },
          "ternary": {
           "aaxis": {
            "gridcolor": "white",
            "linecolor": "white",
            "ticks": ""
           },
           "baxis": {
            "gridcolor": "white",
            "linecolor": "white",
            "ticks": ""
           },
           "bgcolor": "#E5ECF6",
           "caxis": {
            "gridcolor": "white",
            "linecolor": "white",
            "ticks": ""
           }
          },
          "title": {
           "x": 0.05
          },
          "xaxis": {
           "automargin": true,
           "gridcolor": "white",
           "linecolor": "white",
           "ticks": "",
           "title": {
            "standoff": 15
           },
           "zerolinecolor": "white",
           "zerolinewidth": 2
          },
          "yaxis": {
           "automargin": true,
           "gridcolor": "white",
           "linecolor": "white",
           "ticks": "",
           "title": {
            "standoff": 15
           },
           "zerolinecolor": "white",
           "zerolinewidth": 2
          }
         }
        },
        "title": {
         "text": "Top companies tend to be environmentally and socially responsible"
        }
       }
      },
      "text/html": [
       "<div>            <script src=\"https://cdnjs.cloudflare.com/ajax/libs/mathjax/2.7.5/MathJax.js?config=TeX-AMS-MML_SVG\"></script><script type=\"text/javascript\">if (window.MathJax && window.MathJax.Hub && window.MathJax.Hub.Config) {window.MathJax.Hub.Config({SVG: {font: \"STIX-Web\"}});}</script>                <script type=\"text/javascript\">window.PlotlyConfig = {MathJaxConfig: 'local'};</script>\n",
       "        <script charset=\"utf-8\" src=\"https://cdn.plot.ly/plotly-3.0.1.min.js\"></script>                <div id=\"630cdf3b-9c3e-4280-aa11-7f2c345a3706\" class=\"plotly-graph-div\" style=\"height:525px; width:100%;\"></div>            <script type=\"text/javascript\">                window.PLOTLYENV=window.PLOTLYENV || {};                                if (document.getElementById(\"630cdf3b-9c3e-4280-aa11-7f2c345a3706\")) {                    Plotly.newPlot(                        \"630cdf3b-9c3e-4280-aa11-7f2c345a3706\",                        [{\"mode\":\"markers\",\"name\":\"Top 50\",\"x\":[\"7203.T\",\"7267.T\",\"8058.T\",\"8001.T\",\"8031.T\",\"9432.T\",\"8306.T\",\"6758.T\",\"7201.T\",\"5020.T\",\"3382.T\",\"6178.T\",\"8015.T\",\"8316.T\",\"8267.T\",\"6501.T\",\"5019.T\",\"8750.T\",\"5401.T\",\"6752.T\",\"8766.T\",\"8002.T\",\"8053.T\",\"9984.T\",\"6902.T\",\"9434.T\",\"8725.T\",\"9433.T\",\"7181.T\",\"7269.T\",\"6503.T\",\"1925.T\",\"8630.T\",\"7011.T\",\"7259.T\",\"5411.T\",\"6367.T\",\"8604.T\",\"7270.T\",\"5802.T\",\"9613.T\",\"4502.T\",\"7751.T\",\"5108.T\",\"4188.T\",\"9503.T\",\"6301.T\",\"6201.T\",\"1928.T\",\"9502.T\"],\"y\":{\"dtype\":\"f8\",\"bdata\":\"zB3xljq8U0DjULOQeihSQH3fqpZ3RVFAQaT96\\u002f2PUUD6IzkUhztQQM91IeDpu09Arg5p8x6DUkB\\u002f1MUTEr1VQCwqHgdZTVNAMsDJAljIUUD\\u002f2LpVz0tUQIBC3URmoVBAIEjTPklGU0DB5ESbNrRRQE9dqohL4FFA87I9LaX4VEC8oUuRG61SQOysPnAL+lBAG3sYdekaTkB8ldvfXhRRQH+wIJytIlFAiJ8nSg4gU0A38DnUOwJLQEssPQijRExA2Wn8aunQT0C4rn8TQMpSQHxDar0rUlFAulBsLBDwSkAghsGlwfxOQLkmTdM2y01AOPQpIWDjVEBLQutV\\u002fLtSQE39zx6RGVJADaARObXYU0CidNs+zwJQQFPAmKVVulFAKcmhdTiCUUCpgV8hBztWQNVlAyrTi1FAsVRxekxAUEA8ozSVYnBSQO22LJGh7FNAiyg1ukoPUkAPbouAhyVUQLV9MduR3UpARW\\u002fcah2TUkBevo8XqptVQJ0cBUH1d1FAv\\u002fnZ22o2UkBWRU4r\\u002foFMQA==\"},\"type\":\"scatter\"},{\"mode\":\"markers\",\"name\":\"Bottom 50\",\"x\":[\"CAPD.SI\",\"X.TO\",\"REG.OQ\",\"REA.AX\",\"BSY.OQ\",\"AGI.TO\",\"VCX.AX\",\"FBK.MI\",\"RDDT.N\",\"WPM.TO\",\"IOT.N\",\"LOIM.PA\",\"LOTB.BR\",\"SGXL.SI\",\"RAAG.DE\",\"LUG.TO\",\"DIAS.MI\",\"BCVN.S\",\"FNV.TO\",\"CAR.AX\",\"MNG.L\",\"EFN.TO\",\"TEMN.S\",\"IAG.TO\",\"INWT.MI\",\"ASX.AX\",\"CYBR.OQ\",\"NEKG.DE\",\"MNDY.OQ\",\"VACN.S\",\"0006.HK\",\"AIA.NZ\",\"LEGn.DE\",\"LAND.L\",\"TPL.N\",\"GFCP.PA\",\"WTC.AX\",\"SPSN.S\",\"DSG.TO\",\"SGRO.L\",\"BESI.AS\",\"AUTOA.L\",\"CVO.PA\",\"G24n.F\",\"SOL.AX\",\"MSTR.OQ\",\"EURA.PA\",\"PME.AX\",\"IVN.TO\",\"PSHG_p.DE\"],\"y\":{\"dtype\":\"f8\",\"bdata\":\"AOWkyVzXUEAaUmVGFKhJQDGJUwhwZlNAH+Sl6buNRECVSlGQN4NCQKYav1k+bVJAdEGVnfrkUECM6mvxwQBTQAAAAAAAAAAACNX8dxAnUEAAAAAAAAAAANemmBoXnVJA3DOpqyTJTEApvENfwxNSQF0kxubt4EhAa+iQNsUrUEBJo2xN8wJIQBmLKCgIq1BASY6Lh6E1UUBy83BE8RVNQLpGKfOTdFNAGAN83+gPSUCrOHN4IU1SQFKXslIKBVFAa9NzcvMnUEDlCQhmbzVMQKIZ0vs9xk9ApEJq+KPaTUAAAAAAAAAAAGTv6721Z0hAjolumQbiSEAd571gixpQQJOTX2WoHVFABNLUJzI+VUDuNfnr4JhHQIWckCzbOFZAdF19uPfqSEDa\\u002fKatrHxQQMr0B3DL0UpAevb5eg0xUkAEt8gZkL1PQKNb+e\\u002f4VlJAmRbIaKVyVUCvpvucCCBRQN34AxfrekRAIkZ6decGNkB+r2NXTUBJQFyUQbNZtjhAM5v0e3vkUUCcNRkH+SowQA==\"},\"type\":\"scatter\"}],                        {\"template\":{\"data\":{\"histogram2dcontour\":[{\"type\":\"histogram2dcontour\",\"colorbar\":{\"outlinewidth\":0,\"ticks\":\"\"},\"colorscale\":[[0.0,\"#0d0887\"],[0.1111111111111111,\"#46039f\"],[0.2222222222222222,\"#7201a8\"],[0.3333333333333333,\"#9c179e\"],[0.4444444444444444,\"#bd3786\"],[0.5555555555555556,\"#d8576b\"],[0.6666666666666666,\"#ed7953\"],[0.7777777777777778,\"#fb9f3a\"],[0.8888888888888888,\"#fdca26\"],[1.0,\"#f0f921\"]]}],\"choropleth\":[{\"type\":\"choropleth\",\"colorbar\":{\"outlinewidth\":0,\"ticks\":\"\"}}],\"histogram2d\":[{\"type\":\"histogram2d\",\"colorbar\":{\"outlinewidth\":0,\"ticks\":\"\"},\"colorscale\":[[0.0,\"#0d0887\"],[0.1111111111111111,\"#46039f\"],[0.2222222222222222,\"#7201a8\"],[0.3333333333333333,\"#9c179e\"],[0.4444444444444444,\"#bd3786\"],[0.5555555555555556,\"#d8576b\"],[0.6666666666666666,\"#ed7953\"],[0.7777777777777778,\"#fb9f3a\"],[0.8888888888888888,\"#fdca26\"],[1.0,\"#f0f921\"]]}],\"heatmap\":[{\"type\":\"heatmap\",\"colorbar\":{\"outlinewidth\":0,\"ticks\":\"\"},\"colorscale\":[[0.0,\"#0d0887\"],[0.1111111111111111,\"#46039f\"],[0.2222222222222222,\"#7201a8\"],[0.3333333333333333,\"#9c179e\"],[0.4444444444444444,\"#bd3786\"],[0.5555555555555556,\"#d8576b\"],[0.6666666666666666,\"#ed7953\"],[0.7777777777777778,\"#fb9f3a\"],[0.8888888888888888,\"#fdca26\"],[1.0,\"#f0f921\"]]}],\"contourcarpet\":[{\"type\":\"contourcarpet\",\"colorbar\":{\"outlinewidth\":0,\"ticks\":\"\"}}],\"contour\":[{\"type\":\"contour\",\"colorbar\":{\"outlinewidth\":0,\"ticks\":\"\"},\"colorscale\":[[0.0,\"#0d0887\"],[0.1111111111111111,\"#46039f\"],[0.2222222222222222,\"#7201a8\"],[0.3333333333333333,\"#9c179e\"],[0.4444444444444444,\"#bd3786\"],[0.5555555555555556,\"#d8576b\"],[0.6666666666666666,\"#ed7953\"],[0.7777777777777778,\"#fb9f3a\"],[0.8888888888888888,\"#fdca26\"],[1.0,\"#f0f921\"]]}],\"surface\":[{\"type\":\"surface\",\"colorbar\":{\"outlinewidth\":0,\"ticks\":\"\"},\"colorscale\":[[0.0,\"#0d0887\"],[0.1111111111111111,\"#46039f\"],[0.2222222222222222,\"#7201a8\"],[0.3333333333333333,\"#9c179e\"],[0.4444444444444444,\"#bd3786\"],[0.5555555555555556,\"#d8576b\"],[0.6666666666666666,\"#ed7953\"],[0.7777777777777778,\"#fb9f3a\"],[0.8888888888888888,\"#fdca26\"],[1.0,\"#f0f921\"]]}],\"mesh3d\":[{\"type\":\"mesh3d\",\"colorbar\":{\"outlinewidth\":0,\"ticks\":\"\"}}],\"scatter\":[{\"fillpattern\":{\"fillmode\":\"overlay\",\"size\":10,\"solidity\":0.2},\"type\":\"scatter\"}],\"parcoords\":[{\"type\":\"parcoords\",\"line\":{\"colorbar\":{\"outlinewidth\":0,\"ticks\":\"\"}}}],\"scatterpolargl\":[{\"type\":\"scatterpolargl\",\"marker\":{\"colorbar\":{\"outlinewidth\":0,\"ticks\":\"\"}}}],\"bar\":[{\"error_x\":{\"color\":\"#2a3f5f\"},\"error_y\":{\"color\":\"#2a3f5f\"},\"marker\":{\"line\":{\"color\":\"#E5ECF6\",\"width\":0.5},\"pattern\":{\"fillmode\":\"overlay\",\"size\":10,\"solidity\":0.2}},\"type\":\"bar\"}],\"scattergeo\":[{\"type\":\"scattergeo\",\"marker\":{\"colorbar\":{\"outlinewidth\":0,\"ticks\":\"\"}}}],\"scatterpolar\":[{\"type\":\"scatterpolar\",\"marker\":{\"colorbar\":{\"outlinewidth\":0,\"ticks\":\"\"}}}],\"histogram\":[{\"marker\":{\"pattern\":{\"fillmode\":\"overlay\",\"size\":10,\"solidity\":0.2}},\"type\":\"histogram\"}],\"scattergl\":[{\"type\":\"scattergl\",\"marker\":{\"colorbar\":{\"outlinewidth\":0,\"ticks\":\"\"}}}],\"scatter3d\":[{\"type\":\"scatter3d\",\"line\":{\"colorbar\":{\"outlinewidth\":0,\"ticks\":\"\"}},\"marker\":{\"colorbar\":{\"outlinewidth\":0,\"ticks\":\"\"}}}],\"scattermap\":[{\"type\":\"scattermap\",\"marker\":{\"colorbar\":{\"outlinewidth\":0,\"ticks\":\"\"}}}],\"scattermapbox\":[{\"type\":\"scattermapbox\",\"marker\":{\"colorbar\":{\"outlinewidth\":0,\"ticks\":\"\"}}}],\"scatterternary\":[{\"type\":\"scatterternary\",\"marker\":{\"colorbar\":{\"outlinewidth\":0,\"ticks\":\"\"}}}],\"scattercarpet\":[{\"type\":\"scattercarpet\",\"marker\":{\"colorbar\":{\"outlinewidth\":0,\"ticks\":\"\"}}}],\"carpet\":[{\"aaxis\":{\"endlinecolor\":\"#2a3f5f\",\"gridcolor\":\"white\",\"linecolor\":\"white\",\"minorgridcolor\":\"white\",\"startlinecolor\":\"#2a3f5f\"},\"baxis\":{\"endlinecolor\":\"#2a3f5f\",\"gridcolor\":\"white\",\"linecolor\":\"white\",\"minorgridcolor\":\"white\",\"startlinecolor\":\"#2a3f5f\"},\"type\":\"carpet\"}],\"table\":[{\"cells\":{\"fill\":{\"color\":\"#EBF0F8\"},\"line\":{\"color\":\"white\"}},\"header\":{\"fill\":{\"color\":\"#C8D4E3\"},\"line\":{\"color\":\"white\"}},\"type\":\"table\"}],\"barpolar\":[{\"marker\":{\"line\":{\"color\":\"#E5ECF6\",\"width\":0.5},\"pattern\":{\"fillmode\":\"overlay\",\"size\":10,\"solidity\":0.2}},\"type\":\"barpolar\"}],\"pie\":[{\"automargin\":true,\"type\":\"pie\"}]},\"layout\":{\"autotypenumbers\":\"strict\",\"colorway\":[\"#636efa\",\"#EF553B\",\"#00cc96\",\"#ab63fa\",\"#FFA15A\",\"#19d3f3\",\"#FF6692\",\"#B6E880\",\"#FF97FF\",\"#FECB52\"],\"font\":{\"color\":\"#2a3f5f\"},\"hovermode\":\"closest\",\"hoverlabel\":{\"align\":\"left\"},\"paper_bgcolor\":\"white\",\"plot_bgcolor\":\"#E5ECF6\",\"polar\":{\"bgcolor\":\"#E5ECF6\",\"angularaxis\":{\"gridcolor\":\"white\",\"linecolor\":\"white\",\"ticks\":\"\"},\"radialaxis\":{\"gridcolor\":\"white\",\"linecolor\":\"white\",\"ticks\":\"\"}},\"ternary\":{\"bgcolor\":\"#E5ECF6\",\"aaxis\":{\"gridcolor\":\"white\",\"linecolor\":\"white\",\"ticks\":\"\"},\"baxis\":{\"gridcolor\":\"white\",\"linecolor\":\"white\",\"ticks\":\"\"},\"caxis\":{\"gridcolor\":\"white\",\"linecolor\":\"white\",\"ticks\":\"\"}},\"coloraxis\":{\"colorbar\":{\"outlinewidth\":0,\"ticks\":\"\"}},\"colorscale\":{\"sequential\":[[0.0,\"#0d0887\"],[0.1111111111111111,\"#46039f\"],[0.2222222222222222,\"#7201a8\"],[0.3333333333333333,\"#9c179e\"],[0.4444444444444444,\"#bd3786\"],[0.5555555555555556,\"#d8576b\"],[0.6666666666666666,\"#ed7953\"],[0.7777777777777778,\"#fb9f3a\"],[0.8888888888888888,\"#fdca26\"],[1.0,\"#f0f921\"]],\"sequentialminus\":[[0.0,\"#0d0887\"],[0.1111111111111111,\"#46039f\"],[0.2222222222222222,\"#7201a8\"],[0.3333333333333333,\"#9c179e\"],[0.4444444444444444,\"#bd3786\"],[0.5555555555555556,\"#d8576b\"],[0.6666666666666666,\"#ed7953\"],[0.7777777777777778,\"#fb9f3a\"],[0.8888888888888888,\"#fdca26\"],[1.0,\"#f0f921\"]],\"diverging\":[[0,\"#8e0152\"],[0.1,\"#c51b7d\"],[0.2,\"#de77ae\"],[0.3,\"#f1b6da\"],[0.4,\"#fde0ef\"],[0.5,\"#f7f7f7\"],[0.6,\"#e6f5d0\"],[0.7,\"#b8e186\"],[0.8,\"#7fbc41\"],[0.9,\"#4d9221\"],[1,\"#276419\"]]},\"xaxis\":{\"gridcolor\":\"white\",\"linecolor\":\"white\",\"ticks\":\"\",\"title\":{\"standoff\":15},\"zerolinecolor\":\"white\",\"automargin\":true,\"zerolinewidth\":2},\"yaxis\":{\"gridcolor\":\"white\",\"linecolor\":\"white\",\"ticks\":\"\",\"title\":{\"standoff\":15},\"zerolinecolor\":\"white\",\"automargin\":true,\"zerolinewidth\":2},\"scene\":{\"xaxis\":{\"backgroundcolor\":\"#E5ECF6\",\"gridcolor\":\"white\",\"linecolor\":\"white\",\"showbackground\":true,\"ticks\":\"\",\"zerolinecolor\":\"white\",\"gridwidth\":2},\"yaxis\":{\"backgroundcolor\":\"#E5ECF6\",\"gridcolor\":\"white\",\"linecolor\":\"white\",\"showbackground\":true,\"ticks\":\"\",\"zerolinecolor\":\"white\",\"gridwidth\":2},\"zaxis\":{\"backgroundcolor\":\"#E5ECF6\",\"gridcolor\":\"white\",\"linecolor\":\"white\",\"showbackground\":true,\"ticks\":\"\",\"zerolinecolor\":\"white\",\"gridwidth\":2}},\"shapedefaults\":{\"line\":{\"color\":\"#2a3f5f\"}},\"annotationdefaults\":{\"arrowcolor\":\"#2a3f5f\",\"arrowhead\":0,\"arrowwidth\":1},\"geo\":{\"bgcolor\":\"white\",\"landcolor\":\"#E5ECF6\",\"subunitcolor\":\"white\",\"showland\":true,\"showlakes\":true,\"lakecolor\":\"white\"},\"title\":{\"x\":0.05},\"mapbox\":{\"style\":\"light\"}}},\"title\":{\"text\":\"Top companies tend to be environmentally and socially responsible\"}},                        {\"responsive\": true}                    ).then(function(){\n",
       "                            \n",
       "var gd = document.getElementById('630cdf3b-9c3e-4280-aa11-7f2c345a3706');\n",
       "var x = new MutationObserver(function (mutations, observer) {{\n",
       "        var display = window.getComputedStyle(gd).display;\n",
       "        if (!display || display === 'none') {{\n",
       "            console.log([gd, 'removed!']);\n",
       "            Plotly.purge(gd);\n",
       "            observer.disconnect();\n",
       "        }}\n",
       "}});\n",
       "\n",
       "// Listen for the removal of the full notebook cells\n",
       "var notebookContainer = gd.closest('#notebook-container');\n",
       "if (notebookContainer) {{\n",
       "    x.observe(notebookContainer, {childList: true});\n",
       "}}\n",
       "\n",
       "// Listen for the clearing of the current output cell\n",
       "var outputEl = gd.closest('.output');\n",
       "if (outputEl) {{\n",
       "    x.observe(outputEl, {childList: true});\n",
       "}}\n",
       "\n",
       "                        })                };            </script>        </div>"
      ]
     },
     "metadata": {},
     "output_type": "display_data"
    }
   ],
   "source": [
    "plots = [go.Scatter(x=top50['RIC'], y=top50['ESG Score'], mode='markers', name='Top 50'), \n",
    "         go.Scatter(x=bot50['RIC'], y=bot50['ESG Score'], mode='markers', name='Bottom 50')]\n",
    "fig = go.Figure(data=plots)\n",
    "fig.update_layout(title='Top companies tend to be environmentally and socially responsible')\n",
    "fig.show()"
   ]
  },
  {
   "cell_type": "code",
   "execution_count": 9,
   "metadata": {},
   "outputs": [
    {
     "data": {
      "application/vnd.plotly.v1+json": {
       "config": {
        "plotlyServerURL": "https://plot.ly"
       },
       "data": [
        {
         "mode": "markers",
         "name": "Top 50",
         "type": "scatter",
         "x": [
          "7203.T",
          "7267.T",
          "8058.T",
          "8001.T",
          "8031.T",
          "9432.T",
          "8306.T",
          "6758.T",
          "7201.T",
          "5020.T",
          "3382.T",
          "6178.T",
          "8015.T",
          "8316.T",
          "8267.T",
          "6501.T",
          "5019.T",
          "8750.T",
          "5401.T",
          "6752.T",
          "8766.T",
          "8002.T",
          "8053.T",
          "9984.T",
          "6902.T",
          "9434.T",
          "8725.T",
          "9433.T",
          "7181.T",
          "7269.T",
          "6503.T",
          "1925.T",
          "8630.T",
          "7011.T",
          "7259.T",
          "5411.T",
          "6367.T",
          "8604.T",
          "7270.T",
          "5802.T",
          "9613.T",
          "4502.T",
          "7751.T",
          "5108.T",
          "4188.T",
          "9503.T",
          "6301.T",
          "6201.T",
          "1928.T",
          "9502.T"
         ],
         "y": {
          "bdata": "AAAAAAAQUUAAAAAAAOBNQAAAAAAAoEtAAAAAAADgTUAAAAAAAABPQAAAAAAAIE5AAAAAAACgSkAAAAAAALBTQAAAAAAAwE1AAAAAAACAR0AAAAAAAABQQAAAAAAAIE1AAAAAAAAATkAAAAAAACBPQAAAAAAAAFBAAAAAAABgT0AAAAAAAIBKQAAAAAAAwE5AAAAAAACgSEAAAAAAACBKQAAAAAAA4ElAAAAAAABATEAAAAAAAEBNQAAAAAAAIE9AAAAAAACwUEAAAAAAAOBNQAAAAAAAwExAAAAAAAAAS0AAAAAAAMBMQAAAAAAAIE9AAAAAAACAT0AAAAAAAKBNQAAAAAAA0FBAAAAAAABAUEAAAAAAAEBMQAAAAAAAYE1AAAAAAABgTUAAAAAAAJBQQAAAAAAAoE1AAAAAAABAUEAAAAAAACBPQAAAAAAAAAAAAAAAAAAAAAAAAAAAAEBOQAAAAAAAAAAAAAAAAADATEAAAAAAAOBMQAAAAAAAYExAAAAAAAAgTkAAAAAAAGBJQA==",
          "dtype": "f8"
         }
        },
        {
         "mode": "markers",
         "name": "Bottom 50",
         "type": "scatter",
         "x": [
          "CAPD.SI",
          "X.TO",
          "REG.OQ",
          "REA.AX",
          "BSY.OQ",
          "AGI.TO",
          "VCX.AX",
          "FBK.MI",
          "RDDT.N",
          "WPM.TO",
          "IOT.N",
          "LOIM.PA",
          "LOTB.BR",
          "SGXL.SI",
          "RAAG.DE",
          "LUG.TO",
          "DIAS.MI",
          "BCVN.S",
          "FNV.TO",
          "CAR.AX",
          "MNG.L",
          "EFN.TO",
          "TEMN.S",
          "IAG.TO",
          "INWT.MI",
          "ASX.AX",
          "CYBR.OQ",
          "NEKG.DE",
          "MNDY.OQ",
          "VACN.S",
          "0006.HK",
          "AIA.NZ",
          "LEGn.DE",
          "LAND.L",
          "TPL.N",
          "GFCP.PA",
          "WTC.AX",
          "SPSN.S",
          "DSG.TO",
          "SGRO.L",
          "BESI.AS",
          "AUTOA.L",
          "CVO.PA",
          "G24n.F",
          "SOL.AX",
          "MSTR.OQ",
          "EURA.PA",
          "PME.AX",
          "IVN.TO",
          "PSHG_p.DE"
         ],
         "y": {
          "bdata": "AAAAAAAASkAAAAAAAIBLQAAAAAAAYEtAAAAAAAAgTkAAAAAAAIBJQAAAAAAAIEZAAAAAAAAgTEAAAAAAAKBKQAAAAAAAAAAAAAAAAACAR0AAAAAAAAAAAAAAAAAAIEpAAAAAAADAR0AAAAAAACBNQAAAAAAA4EhAAAAAAADAS0AAAAAAAAAAAAAAAAAAoE1AAAAAAACgRUAAAAAAAJBQQAAAAAAA4ExAAAAAAADAT0AAAAAAAOBQQAAAAAAAQE9AAAAAAADgUUAAAAAAAIBQQAAAAAAAYE1AAAAAAACgSUAAAAAAAAAAAAAAAAAAAAAAAAAAAADgSUAAAAAAAAAAAAAAAAAAIExAAAAAAACATUAAAAAAACBJQAAAAAAAgE1AAAAAAABgS0AAAAAAAOBIQAAAAAAAIEVAAAAAAACASkAAAAAAAMBMQAAAAAAAwE1AAAAAAADgS0AAAAAAAMBNQAAAAAAAQEZAAAAAAACAQkAAAAAAAGBNQAAAAAAAIEdAAAAAAACASUAAAAAAAGBCQA==",
          "dtype": "f8"
         }
        }
       ],
       "layout": {
        "template": {
         "data": {
          "bar": [
           {
            "error_x": {
             "color": "#2a3f5f"
            },
            "error_y": {
             "color": "#2a3f5f"
            },
            "marker": {
             "line": {
              "color": "#E5ECF6",
              "width": 0.5
             },
             "pattern": {
              "fillmode": "overlay",
              "size": 10,
              "solidity": 0.2
             }
            },
            "type": "bar"
           }
          ],
          "barpolar": [
           {
            "marker": {
             "line": {
              "color": "#E5ECF6",
              "width": 0.5
             },
             "pattern": {
              "fillmode": "overlay",
              "size": 10,
              "solidity": 0.2
             }
            },
            "type": "barpolar"
           }
          ],
          "carpet": [
           {
            "aaxis": {
             "endlinecolor": "#2a3f5f",
             "gridcolor": "white",
             "linecolor": "white",
             "minorgridcolor": "white",
             "startlinecolor": "#2a3f5f"
            },
            "baxis": {
             "endlinecolor": "#2a3f5f",
             "gridcolor": "white",
             "linecolor": "white",
             "minorgridcolor": "white",
             "startlinecolor": "#2a3f5f"
            },
            "type": "carpet"
           }
          ],
          "choropleth": [
           {
            "colorbar": {
             "outlinewidth": 0,
             "ticks": ""
            },
            "type": "choropleth"
           }
          ],
          "contour": [
           {
            "colorbar": {
             "outlinewidth": 0,
             "ticks": ""
            },
            "colorscale": [
             [
              0,
              "#0d0887"
             ],
             [
              0.1111111111111111,
              "#46039f"
             ],
             [
              0.2222222222222222,
              "#7201a8"
             ],
             [
              0.3333333333333333,
              "#9c179e"
             ],
             [
              0.4444444444444444,
              "#bd3786"
             ],
             [
              0.5555555555555556,
              "#d8576b"
             ],
             [
              0.6666666666666666,
              "#ed7953"
             ],
             [
              0.7777777777777778,
              "#fb9f3a"
             ],
             [
              0.8888888888888888,
              "#fdca26"
             ],
             [
              1,
              "#f0f921"
             ]
            ],
            "type": "contour"
           }
          ],
          "contourcarpet": [
           {
            "colorbar": {
             "outlinewidth": 0,
             "ticks": ""
            },
            "type": "contourcarpet"
           }
          ],
          "heatmap": [
           {
            "colorbar": {
             "outlinewidth": 0,
             "ticks": ""
            },
            "colorscale": [
             [
              0,
              "#0d0887"
             ],
             [
              0.1111111111111111,
              "#46039f"
             ],
             [
              0.2222222222222222,
              "#7201a8"
             ],
             [
              0.3333333333333333,
              "#9c179e"
             ],
             [
              0.4444444444444444,
              "#bd3786"
             ],
             [
              0.5555555555555556,
              "#d8576b"
             ],
             [
              0.6666666666666666,
              "#ed7953"
             ],
             [
              0.7777777777777778,
              "#fb9f3a"
             ],
             [
              0.8888888888888888,
              "#fdca26"
             ],
             [
              1,
              "#f0f921"
             ]
            ],
            "type": "heatmap"
           }
          ],
          "histogram": [
           {
            "marker": {
             "pattern": {
              "fillmode": "overlay",
              "size": 10,
              "solidity": 0.2
             }
            },
            "type": "histogram"
           }
          ],
          "histogram2d": [
           {
            "colorbar": {
             "outlinewidth": 0,
             "ticks": ""
            },
            "colorscale": [
             [
              0,
              "#0d0887"
             ],
             [
              0.1111111111111111,
              "#46039f"
             ],
             [
              0.2222222222222222,
              "#7201a8"
             ],
             [
              0.3333333333333333,
              "#9c179e"
             ],
             [
              0.4444444444444444,
              "#bd3786"
             ],
             [
              0.5555555555555556,
              "#d8576b"
             ],
             [
              0.6666666666666666,
              "#ed7953"
             ],
             [
              0.7777777777777778,
              "#fb9f3a"
             ],
             [
              0.8888888888888888,
              "#fdca26"
             ],
             [
              1,
              "#f0f921"
             ]
            ],
            "type": "histogram2d"
           }
          ],
          "histogram2dcontour": [
           {
            "colorbar": {
             "outlinewidth": 0,
             "ticks": ""
            },
            "colorscale": [
             [
              0,
              "#0d0887"
             ],
             [
              0.1111111111111111,
              "#46039f"
             ],
             [
              0.2222222222222222,
              "#7201a8"
             ],
             [
              0.3333333333333333,
              "#9c179e"
             ],
             [
              0.4444444444444444,
              "#bd3786"
             ],
             [
              0.5555555555555556,
              "#d8576b"
             ],
             [
              0.6666666666666666,
              "#ed7953"
             ],
             [
              0.7777777777777778,
              "#fb9f3a"
             ],
             [
              0.8888888888888888,
              "#fdca26"
             ],
             [
              1,
              "#f0f921"
             ]
            ],
            "type": "histogram2dcontour"
           }
          ],
          "mesh3d": [
           {
            "colorbar": {
             "outlinewidth": 0,
             "ticks": ""
            },
            "type": "mesh3d"
           }
          ],
          "parcoords": [
           {
            "line": {
             "colorbar": {
              "outlinewidth": 0,
              "ticks": ""
             }
            },
            "type": "parcoords"
           }
          ],
          "pie": [
           {
            "automargin": true,
            "type": "pie"
           }
          ],
          "scatter": [
           {
            "fillpattern": {
             "fillmode": "overlay",
             "size": 10,
             "solidity": 0.2
            },
            "type": "scatter"
           }
          ],
          "scatter3d": [
           {
            "line": {
             "colorbar": {
              "outlinewidth": 0,
              "ticks": ""
             }
            },
            "marker": {
             "colorbar": {
              "outlinewidth": 0,
              "ticks": ""
             }
            },
            "type": "scatter3d"
           }
          ],
          "scattercarpet": [
           {
            "marker": {
             "colorbar": {
              "outlinewidth": 0,
              "ticks": ""
             }
            },
            "type": "scattercarpet"
           }
          ],
          "scattergeo": [
           {
            "marker": {
             "colorbar": {
              "outlinewidth": 0,
              "ticks": ""
             }
            },
            "type": "scattergeo"
           }
          ],
          "scattergl": [
           {
            "marker": {
             "colorbar": {
              "outlinewidth": 0,
              "ticks": ""
             }
            },
            "type": "scattergl"
           }
          ],
          "scattermap": [
           {
            "marker": {
             "colorbar": {
              "outlinewidth": 0,
              "ticks": ""
             }
            },
            "type": "scattermap"
           }
          ],
          "scattermapbox": [
           {
            "marker": {
             "colorbar": {
              "outlinewidth": 0,
              "ticks": ""
             }
            },
            "type": "scattermapbox"
           }
          ],
          "scatterpolar": [
           {
            "marker": {
             "colorbar": {
              "outlinewidth": 0,
              "ticks": ""
             }
            },
            "type": "scatterpolar"
           }
          ],
          "scatterpolargl": [
           {
            "marker": {
             "colorbar": {
              "outlinewidth": 0,
              "ticks": ""
             }
            },
            "type": "scatterpolargl"
           }
          ],
          "scatterternary": [
           {
            "marker": {
             "colorbar": {
              "outlinewidth": 0,
              "ticks": ""
             }
            },
            "type": "scatterternary"
           }
          ],
          "surface": [
           {
            "colorbar": {
             "outlinewidth": 0,
             "ticks": ""
            },
            "colorscale": [
             [
              0,
              "#0d0887"
             ],
             [
              0.1111111111111111,
              "#46039f"
             ],
             [
              0.2222222222222222,
              "#7201a8"
             ],
             [
              0.3333333333333333,
              "#9c179e"
             ],
             [
              0.4444444444444444,
              "#bd3786"
             ],
             [
              0.5555555555555556,
              "#d8576b"
             ],
             [
              0.6666666666666666,
              "#ed7953"
             ],
             [
              0.7777777777777778,
              "#fb9f3a"
             ],
             [
              0.8888888888888888,
              "#fdca26"
             ],
             [
              1,
              "#f0f921"
             ]
            ],
            "type": "surface"
           }
          ],
          "table": [
           {
            "cells": {
             "fill": {
              "color": "#EBF0F8"
             },
             "line": {
              "color": "white"
             }
            },
            "header": {
             "fill": {
              "color": "#C8D4E3"
             },
             "line": {
              "color": "white"
             }
            },
            "type": "table"
           }
          ]
         },
         "layout": {
          "annotationdefaults": {
           "arrowcolor": "#2a3f5f",
           "arrowhead": 0,
           "arrowwidth": 1
          },
          "autotypenumbers": "strict",
          "coloraxis": {
           "colorbar": {
            "outlinewidth": 0,
            "ticks": ""
           }
          },
          "colorscale": {
           "diverging": [
            [
             0,
             "#8e0152"
            ],
            [
             0.1,
             "#c51b7d"
            ],
            [
             0.2,
             "#de77ae"
            ],
            [
             0.3,
             "#f1b6da"
            ],
            [
             0.4,
             "#fde0ef"
            ],
            [
             0.5,
             "#f7f7f7"
            ],
            [
             0.6,
             "#e6f5d0"
            ],
            [
             0.7,
             "#b8e186"
            ],
            [
             0.8,
             "#7fbc41"
            ],
            [
             0.9,
             "#4d9221"
            ],
            [
             1,
             "#276419"
            ]
           ],
           "sequential": [
            [
             0,
             "#0d0887"
            ],
            [
             0.1111111111111111,
             "#46039f"
            ],
            [
             0.2222222222222222,
             "#7201a8"
            ],
            [
             0.3333333333333333,
             "#9c179e"
            ],
            [
             0.4444444444444444,
             "#bd3786"
            ],
            [
             0.5555555555555556,
             "#d8576b"
            ],
            [
             0.6666666666666666,
             "#ed7953"
            ],
            [
             0.7777777777777778,
             "#fb9f3a"
            ],
            [
             0.8888888888888888,
             "#fdca26"
            ],
            [
             1,
             "#f0f921"
            ]
           ],
           "sequentialminus": [
            [
             0,
             "#0d0887"
            ],
            [
             0.1111111111111111,
             "#46039f"
            ],
            [
             0.2222222222222222,
             "#7201a8"
            ],
            [
             0.3333333333333333,
             "#9c179e"
            ],
            [
             0.4444444444444444,
             "#bd3786"
            ],
            [
             0.5555555555555556,
             "#d8576b"
            ],
            [
             0.6666666666666666,
             "#ed7953"
            ],
            [
             0.7777777777777778,
             "#fb9f3a"
            ],
            [
             0.8888888888888888,
             "#fdca26"
            ],
            [
             1,
             "#f0f921"
            ]
           ]
          },
          "colorway": [
           "#636efa",
           "#EF553B",
           "#00cc96",
           "#ab63fa",
           "#FFA15A",
           "#19d3f3",
           "#FF6692",
           "#B6E880",
           "#FF97FF",
           "#FECB52"
          ],
          "font": {
           "color": "#2a3f5f"
          },
          "geo": {
           "bgcolor": "white",
           "lakecolor": "white",
           "landcolor": "#E5ECF6",
           "showlakes": true,
           "showland": true,
           "subunitcolor": "white"
          },
          "hoverlabel": {
           "align": "left"
          },
          "hovermode": "closest",
          "mapbox": {
           "style": "light"
          },
          "paper_bgcolor": "white",
          "plot_bgcolor": "#E5ECF6",
          "polar": {
           "angularaxis": {
            "gridcolor": "white",
            "linecolor": "white",
            "ticks": ""
           },
           "bgcolor": "#E5ECF6",
           "radialaxis": {
            "gridcolor": "white",
            "linecolor": "white",
            "ticks": ""
           }
          },
          "scene": {
           "xaxis": {
            "backgroundcolor": "#E5ECF6",
            "gridcolor": "white",
            "gridwidth": 2,
            "linecolor": "white",
            "showbackground": true,
            "ticks": "",
            "zerolinecolor": "white"
           },
           "yaxis": {
            "backgroundcolor": "#E5ECF6",
            "gridcolor": "white",
            "gridwidth": 2,
            "linecolor": "white",
            "showbackground": true,
            "ticks": "",
            "zerolinecolor": "white"
           },
           "zaxis": {
            "backgroundcolor": "#E5ECF6",
            "gridcolor": "white",
            "gridwidth": 2,
            "linecolor": "white",
            "showbackground": true,
            "ticks": "",
            "zerolinecolor": "white"
           }
          },
          "shapedefaults": {
           "line": {
            "color": "#2a3f5f"
           }
          },
          "ternary": {
           "aaxis": {
            "gridcolor": "white",
            "linecolor": "white",
            "ticks": ""
           },
           "baxis": {
            "gridcolor": "white",
            "linecolor": "white",
            "ticks": ""
           },
           "bgcolor": "#E5ECF6",
           "caxis": {
            "gridcolor": "white",
            "linecolor": "white",
            "ticks": ""
           }
          },
          "title": {
           "x": 0.05
          },
          "xaxis": {
           "automargin": true,
           "gridcolor": "white",
           "linecolor": "white",
           "ticks": "",
           "title": {
            "standoff": 15
           },
           "zerolinecolor": "white",
           "zerolinewidth": 2
          },
          "yaxis": {
           "automargin": true,
           "gridcolor": "white",
           "linecolor": "white",
           "ticks": "",
           "title": {
            "standoff": 15
           },
           "zerolinecolor": "white",
           "zerolinewidth": 2
          }
         }
        },
        "title": {
         "text": "They are very focussed on diversity and inclusion"
        }
       }
      },
      "text/html": [
       "<div>            <script src=\"https://cdnjs.cloudflare.com/ajax/libs/mathjax/2.7.5/MathJax.js?config=TeX-AMS-MML_SVG\"></script><script type=\"text/javascript\">if (window.MathJax && window.MathJax.Hub && window.MathJax.Hub.Config) {window.MathJax.Hub.Config({SVG: {font: \"STIX-Web\"}});}</script>                <script type=\"text/javascript\">window.PlotlyConfig = {MathJaxConfig: 'local'};</script>\n",
       "        <script charset=\"utf-8\" src=\"https://cdn.plot.ly/plotly-3.0.1.min.js\"></script>                <div id=\"619eed9a-644f-43bc-9248-1e5d962f8dc0\" class=\"plotly-graph-div\" style=\"height:525px; width:100%;\"></div>            <script type=\"text/javascript\">                window.PLOTLYENV=window.PLOTLYENV || {};                                if (document.getElementById(\"619eed9a-644f-43bc-9248-1e5d962f8dc0\")) {                    Plotly.newPlot(                        \"619eed9a-644f-43bc-9248-1e5d962f8dc0\",                        [{\"mode\":\"markers\",\"name\":\"Top 50\",\"x\":[\"7203.T\",\"7267.T\",\"8058.T\",\"8001.T\",\"8031.T\",\"9432.T\",\"8306.T\",\"6758.T\",\"7201.T\",\"5020.T\",\"3382.T\",\"6178.T\",\"8015.T\",\"8316.T\",\"8267.T\",\"6501.T\",\"5019.T\",\"8750.T\",\"5401.T\",\"6752.T\",\"8766.T\",\"8002.T\",\"8053.T\",\"9984.T\",\"6902.T\",\"9434.T\",\"8725.T\",\"9433.T\",\"7181.T\",\"7269.T\",\"6503.T\",\"1925.T\",\"8630.T\",\"7011.T\",\"7259.T\",\"5411.T\",\"6367.T\",\"8604.T\",\"7270.T\",\"5802.T\",\"9613.T\",\"4502.T\",\"7751.T\",\"5108.T\",\"4188.T\",\"9503.T\",\"6301.T\",\"6201.T\",\"1928.T\",\"9502.T\"],\"y\":{\"dtype\":\"f8\",\"bdata\":\"AAAAAAAQUUAAAAAAAOBNQAAAAAAAoEtAAAAAAADgTUAAAAAAAABPQAAAAAAAIE5AAAAAAACgSkAAAAAAALBTQAAAAAAAwE1AAAAAAACAR0AAAAAAAABQQAAAAAAAIE1AAAAAAAAATkAAAAAAACBPQAAAAAAAAFBAAAAAAABgT0AAAAAAAIBKQAAAAAAAwE5AAAAAAACgSEAAAAAAACBKQAAAAAAA4ElAAAAAAABATEAAAAAAAEBNQAAAAAAAIE9AAAAAAACwUEAAAAAAAOBNQAAAAAAAwExAAAAAAAAAS0AAAAAAAMBMQAAAAAAAIE9AAAAAAACAT0AAAAAAAKBNQAAAAAAA0FBAAAAAAABAUEAAAAAAAEBMQAAAAAAAYE1AAAAAAABgTUAAAAAAAJBQQAAAAAAAoE1AAAAAAABAUEAAAAAAACBPQAAAAAAAAAAAAAAAAAAAAAAAAAAAAEBOQAAAAAAAAAAAAAAAAADATEAAAAAAAOBMQAAAAAAAYExAAAAAAAAgTkAAAAAAAGBJQA==\"},\"type\":\"scatter\"},{\"mode\":\"markers\",\"name\":\"Bottom 50\",\"x\":[\"CAPD.SI\",\"X.TO\",\"REG.OQ\",\"REA.AX\",\"BSY.OQ\",\"AGI.TO\",\"VCX.AX\",\"FBK.MI\",\"RDDT.N\",\"WPM.TO\",\"IOT.N\",\"LOIM.PA\",\"LOTB.BR\",\"SGXL.SI\",\"RAAG.DE\",\"LUG.TO\",\"DIAS.MI\",\"BCVN.S\",\"FNV.TO\",\"CAR.AX\",\"MNG.L\",\"EFN.TO\",\"TEMN.S\",\"IAG.TO\",\"INWT.MI\",\"ASX.AX\",\"CYBR.OQ\",\"NEKG.DE\",\"MNDY.OQ\",\"VACN.S\",\"0006.HK\",\"AIA.NZ\",\"LEGn.DE\",\"LAND.L\",\"TPL.N\",\"GFCP.PA\",\"WTC.AX\",\"SPSN.S\",\"DSG.TO\",\"SGRO.L\",\"BESI.AS\",\"AUTOA.L\",\"CVO.PA\",\"G24n.F\",\"SOL.AX\",\"MSTR.OQ\",\"EURA.PA\",\"PME.AX\",\"IVN.TO\",\"PSHG_p.DE\"],\"y\":{\"dtype\":\"f8\",\"bdata\":\"AAAAAAAASkAAAAAAAIBLQAAAAAAAYEtAAAAAAAAgTkAAAAAAAIBJQAAAAAAAIEZAAAAAAAAgTEAAAAAAAKBKQAAAAAAAAAAAAAAAAACAR0AAAAAAAAAAAAAAAAAAIEpAAAAAAADAR0AAAAAAACBNQAAAAAAA4EhAAAAAAADAS0AAAAAAAAAAAAAAAAAAoE1AAAAAAACgRUAAAAAAAJBQQAAAAAAA4ExAAAAAAADAT0AAAAAAAOBQQAAAAAAAQE9AAAAAAADgUUAAAAAAAIBQQAAAAAAAYE1AAAAAAACgSUAAAAAAAAAAAAAAAAAAAAAAAAAAAADgSUAAAAAAAAAAAAAAAAAAIExAAAAAAACATUAAAAAAACBJQAAAAAAAgE1AAAAAAABgS0AAAAAAAOBIQAAAAAAAIEVAAAAAAACASkAAAAAAAMBMQAAAAAAAwE1AAAAAAADgS0AAAAAAAMBNQAAAAAAAQEZAAAAAAACAQkAAAAAAAGBNQAAAAAAAIEdAAAAAAACASUAAAAAAAGBCQA==\"},\"type\":\"scatter\"}],                        {\"template\":{\"data\":{\"histogram2dcontour\":[{\"type\":\"histogram2dcontour\",\"colorbar\":{\"outlinewidth\":0,\"ticks\":\"\"},\"colorscale\":[[0.0,\"#0d0887\"],[0.1111111111111111,\"#46039f\"],[0.2222222222222222,\"#7201a8\"],[0.3333333333333333,\"#9c179e\"],[0.4444444444444444,\"#bd3786\"],[0.5555555555555556,\"#d8576b\"],[0.6666666666666666,\"#ed7953\"],[0.7777777777777778,\"#fb9f3a\"],[0.8888888888888888,\"#fdca26\"],[1.0,\"#f0f921\"]]}],\"choropleth\":[{\"type\":\"choropleth\",\"colorbar\":{\"outlinewidth\":0,\"ticks\":\"\"}}],\"histogram2d\":[{\"type\":\"histogram2d\",\"colorbar\":{\"outlinewidth\":0,\"ticks\":\"\"},\"colorscale\":[[0.0,\"#0d0887\"],[0.1111111111111111,\"#46039f\"],[0.2222222222222222,\"#7201a8\"],[0.3333333333333333,\"#9c179e\"],[0.4444444444444444,\"#bd3786\"],[0.5555555555555556,\"#d8576b\"],[0.6666666666666666,\"#ed7953\"],[0.7777777777777778,\"#fb9f3a\"],[0.8888888888888888,\"#fdca26\"],[1.0,\"#f0f921\"]]}],\"heatmap\":[{\"type\":\"heatmap\",\"colorbar\":{\"outlinewidth\":0,\"ticks\":\"\"},\"colorscale\":[[0.0,\"#0d0887\"],[0.1111111111111111,\"#46039f\"],[0.2222222222222222,\"#7201a8\"],[0.3333333333333333,\"#9c179e\"],[0.4444444444444444,\"#bd3786\"],[0.5555555555555556,\"#d8576b\"],[0.6666666666666666,\"#ed7953\"],[0.7777777777777778,\"#fb9f3a\"],[0.8888888888888888,\"#fdca26\"],[1.0,\"#f0f921\"]]}],\"contourcarpet\":[{\"type\":\"contourcarpet\",\"colorbar\":{\"outlinewidth\":0,\"ticks\":\"\"}}],\"contour\":[{\"type\":\"contour\",\"colorbar\":{\"outlinewidth\":0,\"ticks\":\"\"},\"colorscale\":[[0.0,\"#0d0887\"],[0.1111111111111111,\"#46039f\"],[0.2222222222222222,\"#7201a8\"],[0.3333333333333333,\"#9c179e\"],[0.4444444444444444,\"#bd3786\"],[0.5555555555555556,\"#d8576b\"],[0.6666666666666666,\"#ed7953\"],[0.7777777777777778,\"#fb9f3a\"],[0.8888888888888888,\"#fdca26\"],[1.0,\"#f0f921\"]]}],\"surface\":[{\"type\":\"surface\",\"colorbar\":{\"outlinewidth\":0,\"ticks\":\"\"},\"colorscale\":[[0.0,\"#0d0887\"],[0.1111111111111111,\"#46039f\"],[0.2222222222222222,\"#7201a8\"],[0.3333333333333333,\"#9c179e\"],[0.4444444444444444,\"#bd3786\"],[0.5555555555555556,\"#d8576b\"],[0.6666666666666666,\"#ed7953\"],[0.7777777777777778,\"#fb9f3a\"],[0.8888888888888888,\"#fdca26\"],[1.0,\"#f0f921\"]]}],\"mesh3d\":[{\"type\":\"mesh3d\",\"colorbar\":{\"outlinewidth\":0,\"ticks\":\"\"}}],\"scatter\":[{\"fillpattern\":{\"fillmode\":\"overlay\",\"size\":10,\"solidity\":0.2},\"type\":\"scatter\"}],\"parcoords\":[{\"type\":\"parcoords\",\"line\":{\"colorbar\":{\"outlinewidth\":0,\"ticks\":\"\"}}}],\"scatterpolargl\":[{\"type\":\"scatterpolargl\",\"marker\":{\"colorbar\":{\"outlinewidth\":0,\"ticks\":\"\"}}}],\"bar\":[{\"error_x\":{\"color\":\"#2a3f5f\"},\"error_y\":{\"color\":\"#2a3f5f\"},\"marker\":{\"line\":{\"color\":\"#E5ECF6\",\"width\":0.5},\"pattern\":{\"fillmode\":\"overlay\",\"size\":10,\"solidity\":0.2}},\"type\":\"bar\"}],\"scattergeo\":[{\"type\":\"scattergeo\",\"marker\":{\"colorbar\":{\"outlinewidth\":0,\"ticks\":\"\"}}}],\"scatterpolar\":[{\"type\":\"scatterpolar\",\"marker\":{\"colorbar\":{\"outlinewidth\":0,\"ticks\":\"\"}}}],\"histogram\":[{\"marker\":{\"pattern\":{\"fillmode\":\"overlay\",\"size\":10,\"solidity\":0.2}},\"type\":\"histogram\"}],\"scattergl\":[{\"type\":\"scattergl\",\"marker\":{\"colorbar\":{\"outlinewidth\":0,\"ticks\":\"\"}}}],\"scatter3d\":[{\"type\":\"scatter3d\",\"line\":{\"colorbar\":{\"outlinewidth\":0,\"ticks\":\"\"}},\"marker\":{\"colorbar\":{\"outlinewidth\":0,\"ticks\":\"\"}}}],\"scattermap\":[{\"type\":\"scattermap\",\"marker\":{\"colorbar\":{\"outlinewidth\":0,\"ticks\":\"\"}}}],\"scattermapbox\":[{\"type\":\"scattermapbox\",\"marker\":{\"colorbar\":{\"outlinewidth\":0,\"ticks\":\"\"}}}],\"scatterternary\":[{\"type\":\"scatterternary\",\"marker\":{\"colorbar\":{\"outlinewidth\":0,\"ticks\":\"\"}}}],\"scattercarpet\":[{\"type\":\"scattercarpet\",\"marker\":{\"colorbar\":{\"outlinewidth\":0,\"ticks\":\"\"}}}],\"carpet\":[{\"aaxis\":{\"endlinecolor\":\"#2a3f5f\",\"gridcolor\":\"white\",\"linecolor\":\"white\",\"minorgridcolor\":\"white\",\"startlinecolor\":\"#2a3f5f\"},\"baxis\":{\"endlinecolor\":\"#2a3f5f\",\"gridcolor\":\"white\",\"linecolor\":\"white\",\"minorgridcolor\":\"white\",\"startlinecolor\":\"#2a3f5f\"},\"type\":\"carpet\"}],\"table\":[{\"cells\":{\"fill\":{\"color\":\"#EBF0F8\"},\"line\":{\"color\":\"white\"}},\"header\":{\"fill\":{\"color\":\"#C8D4E3\"},\"line\":{\"color\":\"white\"}},\"type\":\"table\"}],\"barpolar\":[{\"marker\":{\"line\":{\"color\":\"#E5ECF6\",\"width\":0.5},\"pattern\":{\"fillmode\":\"overlay\",\"size\":10,\"solidity\":0.2}},\"type\":\"barpolar\"}],\"pie\":[{\"automargin\":true,\"type\":\"pie\"}]},\"layout\":{\"autotypenumbers\":\"strict\",\"colorway\":[\"#636efa\",\"#EF553B\",\"#00cc96\",\"#ab63fa\",\"#FFA15A\",\"#19d3f3\",\"#FF6692\",\"#B6E880\",\"#FF97FF\",\"#FECB52\"],\"font\":{\"color\":\"#2a3f5f\"},\"hovermode\":\"closest\",\"hoverlabel\":{\"align\":\"left\"},\"paper_bgcolor\":\"white\",\"plot_bgcolor\":\"#E5ECF6\",\"polar\":{\"bgcolor\":\"#E5ECF6\",\"angularaxis\":{\"gridcolor\":\"white\",\"linecolor\":\"white\",\"ticks\":\"\"},\"radialaxis\":{\"gridcolor\":\"white\",\"linecolor\":\"white\",\"ticks\":\"\"}},\"ternary\":{\"bgcolor\":\"#E5ECF6\",\"aaxis\":{\"gridcolor\":\"white\",\"linecolor\":\"white\",\"ticks\":\"\"},\"baxis\":{\"gridcolor\":\"white\",\"linecolor\":\"white\",\"ticks\":\"\"},\"caxis\":{\"gridcolor\":\"white\",\"linecolor\":\"white\",\"ticks\":\"\"}},\"coloraxis\":{\"colorbar\":{\"outlinewidth\":0,\"ticks\":\"\"}},\"colorscale\":{\"sequential\":[[0.0,\"#0d0887\"],[0.1111111111111111,\"#46039f\"],[0.2222222222222222,\"#7201a8\"],[0.3333333333333333,\"#9c179e\"],[0.4444444444444444,\"#bd3786\"],[0.5555555555555556,\"#d8576b\"],[0.6666666666666666,\"#ed7953\"],[0.7777777777777778,\"#fb9f3a\"],[0.8888888888888888,\"#fdca26\"],[1.0,\"#f0f921\"]],\"sequentialminus\":[[0.0,\"#0d0887\"],[0.1111111111111111,\"#46039f\"],[0.2222222222222222,\"#7201a8\"],[0.3333333333333333,\"#9c179e\"],[0.4444444444444444,\"#bd3786\"],[0.5555555555555556,\"#d8576b\"],[0.6666666666666666,\"#ed7953\"],[0.7777777777777778,\"#fb9f3a\"],[0.8888888888888888,\"#fdca26\"],[1.0,\"#f0f921\"]],\"diverging\":[[0,\"#8e0152\"],[0.1,\"#c51b7d\"],[0.2,\"#de77ae\"],[0.3,\"#f1b6da\"],[0.4,\"#fde0ef\"],[0.5,\"#f7f7f7\"],[0.6,\"#e6f5d0\"],[0.7,\"#b8e186\"],[0.8,\"#7fbc41\"],[0.9,\"#4d9221\"],[1,\"#276419\"]]},\"xaxis\":{\"gridcolor\":\"white\",\"linecolor\":\"white\",\"ticks\":\"\",\"title\":{\"standoff\":15},\"zerolinecolor\":\"white\",\"automargin\":true,\"zerolinewidth\":2},\"yaxis\":{\"gridcolor\":\"white\",\"linecolor\":\"white\",\"ticks\":\"\",\"title\":{\"standoff\":15},\"zerolinecolor\":\"white\",\"automargin\":true,\"zerolinewidth\":2},\"scene\":{\"xaxis\":{\"backgroundcolor\":\"#E5ECF6\",\"gridcolor\":\"white\",\"linecolor\":\"white\",\"showbackground\":true,\"ticks\":\"\",\"zerolinecolor\":\"white\",\"gridwidth\":2},\"yaxis\":{\"backgroundcolor\":\"#E5ECF6\",\"gridcolor\":\"white\",\"linecolor\":\"white\",\"showbackground\":true,\"ticks\":\"\",\"zerolinecolor\":\"white\",\"gridwidth\":2},\"zaxis\":{\"backgroundcolor\":\"#E5ECF6\",\"gridcolor\":\"white\",\"linecolor\":\"white\",\"showbackground\":true,\"ticks\":\"\",\"zerolinecolor\":\"white\",\"gridwidth\":2}},\"shapedefaults\":{\"line\":{\"color\":\"#2a3f5f\"}},\"annotationdefaults\":{\"arrowcolor\":\"#2a3f5f\",\"arrowhead\":0,\"arrowwidth\":1},\"geo\":{\"bgcolor\":\"white\",\"landcolor\":\"#E5ECF6\",\"subunitcolor\":\"white\",\"showland\":true,\"showlakes\":true,\"lakecolor\":\"white\"},\"title\":{\"x\":0.05},\"mapbox\":{\"style\":\"light\"}}},\"title\":{\"text\":\"They are very focussed on diversity and inclusion\"}},                        {\"responsive\": true}                    ).then(function(){\n",
       "                            \n",
       "var gd = document.getElementById('619eed9a-644f-43bc-9248-1e5d962f8dc0');\n",
       "var x = new MutationObserver(function (mutations, observer) {{\n",
       "        var display = window.getComputedStyle(gd).display;\n",
       "        if (!display || display === 'none') {{\n",
       "            console.log([gd, 'removed!']);\n",
       "            Plotly.purge(gd);\n",
       "            observer.disconnect();\n",
       "        }}\n",
       "}});\n",
       "\n",
       "// Listen for the removal of the full notebook cells\n",
       "var notebookContainer = gd.closest('#notebook-container');\n",
       "if (notebookContainer) {{\n",
       "    x.observe(notebookContainer, {childList: true});\n",
       "}}\n",
       "\n",
       "// Listen for the clearing of the current output cell\n",
       "var outputEl = gd.closest('.output');\n",
       "if (outputEl) {{\n",
       "    x.observe(outputEl, {childList: true});\n",
       "}}\n",
       "\n",
       "                        })                };            </script>        </div>"
      ]
     },
     "metadata": {},
     "output_type": "display_data"
    }
   ],
   "source": [
    "plots = [go.Scatter(x=top50['RIC'], y=top50['DIR Score'], mode='markers', name='Top 50'), \n",
    "         go.Scatter(x=bot50['RIC'], y=bot50['DIR Score'], mode='markers', name='Bottom 50')]\n",
    "fig = go.Figure(data=plots)\n",
    "fig.update_layout(title='They are very focussed on diversity and inclusion')\n",
    "fig.show()"
   ]
  },
  {
   "cell_type": "code",
   "execution_count": 10,
   "metadata": {},
   "outputs": [
    {
     "data": {
      "application/vnd.plotly.v1+json": {
       "config": {
        "plotlyServerURL": "https://plot.ly"
       },
       "data": [
        {
         "mode": "markers",
         "name": "Top 50",
         "type": "scatter",
         "x": [
          "7203.T",
          "7267.T",
          "8058.T",
          "8001.T",
          "8031.T",
          "9432.T",
          "8306.T",
          "6758.T",
          "7201.T",
          "5020.T",
          "3382.T",
          "6178.T",
          "8015.T",
          "8316.T",
          "8267.T",
          "6501.T",
          "5019.T",
          "8750.T",
          "5401.T",
          "6752.T",
          "8766.T",
          "8002.T",
          "8053.T",
          "9984.T",
          "6902.T",
          "9434.T",
          "8725.T",
          "9433.T",
          "7181.T",
          "7269.T",
          "6503.T",
          "1925.T",
          "8630.T",
          "7011.T",
          "7259.T",
          "5411.T",
          "6367.T",
          "8604.T",
          "7270.T",
          "5802.T",
          "9613.T",
          "4502.T",
          "7751.T",
          "5108.T",
          "4188.T",
          "9503.T",
          "6301.T",
          "6201.T",
          "1928.T",
          "9502.T"
         ],
         "y": {
          "bdata": "Sic/Qz8uKk4nKjAuPzwvJyouPicZPz8uPS8ZFS49PUIuPSc9Izw0LCoAAC0AGSMjLBo=",
          "dtype": "i1"
         }
        },
        {
         "mode": "markers",
         "name": "Bottom 50",
         "type": "scatter",
         "x": [
          "CAPD.SI",
          "X.TO",
          "REG.OQ",
          "REA.AX",
          "BSY.OQ",
          "AGI.TO",
          "VCX.AX",
          "FBK.MI",
          "RDDT.N",
          "WPM.TO",
          "IOT.N",
          "LOIM.PA",
          "LOTB.BR",
          "SGXL.SI",
          "RAAG.DE",
          "LUG.TO",
          "DIAS.MI",
          "BCVN.S",
          "FNV.TO",
          "CAR.AX",
          "MNG.L",
          "EFN.TO",
          "TEMN.S",
          "IAG.TO",
          "INWT.MI",
          "ASX.AX",
          "CYBR.OQ",
          "NEKG.DE",
          "MNDY.OQ",
          "VACN.S",
          "0006.HK",
          "AIA.NZ",
          "LEGn.DE",
          "LAND.L",
          "TPL.N",
          "GFCP.PA",
          "WTC.AX",
          "SPSN.S",
          "DSG.TO",
          "SGRO.L",
          "BESI.AS",
          "AUTOA.L",
          "CVO.PA",
          "G24n.F",
          "SOL.AX",
          "MSTR.OQ",
          "EURA.PA",
          "PME.AX",
          "IVN.TO",
          "PSHG_p.DE"
         ],
         "y": {
          "bdata": "IRQbHxsOHxsACAAUFBsMOAAyCD4bLB0ZQjoyFQAAJAAjMC8yHxEZGyYfKCwSGyUSHxE=",
          "dtype": "i1"
         }
        }
       ],
       "layout": {
        "template": {
         "data": {
          "bar": [
           {
            "error_x": {
             "color": "#2a3f5f"
            },
            "error_y": {
             "color": "#2a3f5f"
            },
            "marker": {
             "line": {
              "color": "#E5ECF6",
              "width": 0.5
             },
             "pattern": {
              "fillmode": "overlay",
              "size": 10,
              "solidity": 0.2
             }
            },
            "type": "bar"
           }
          ],
          "barpolar": [
           {
            "marker": {
             "line": {
              "color": "#E5ECF6",
              "width": 0.5
             },
             "pattern": {
              "fillmode": "overlay",
              "size": 10,
              "solidity": 0.2
             }
            },
            "type": "barpolar"
           }
          ],
          "carpet": [
           {
            "aaxis": {
             "endlinecolor": "#2a3f5f",
             "gridcolor": "white",
             "linecolor": "white",
             "minorgridcolor": "white",
             "startlinecolor": "#2a3f5f"
            },
            "baxis": {
             "endlinecolor": "#2a3f5f",
             "gridcolor": "white",
             "linecolor": "white",
             "minorgridcolor": "white",
             "startlinecolor": "#2a3f5f"
            },
            "type": "carpet"
           }
          ],
          "choropleth": [
           {
            "colorbar": {
             "outlinewidth": 0,
             "ticks": ""
            },
            "type": "choropleth"
           }
          ],
          "contour": [
           {
            "colorbar": {
             "outlinewidth": 0,
             "ticks": ""
            },
            "colorscale": [
             [
              0,
              "#0d0887"
             ],
             [
              0.1111111111111111,
              "#46039f"
             ],
             [
              0.2222222222222222,
              "#7201a8"
             ],
             [
              0.3333333333333333,
              "#9c179e"
             ],
             [
              0.4444444444444444,
              "#bd3786"
             ],
             [
              0.5555555555555556,
              "#d8576b"
             ],
             [
              0.6666666666666666,
              "#ed7953"
             ],
             [
              0.7777777777777778,
              "#fb9f3a"
             ],
             [
              0.8888888888888888,
              "#fdca26"
             ],
             [
              1,
              "#f0f921"
             ]
            ],
            "type": "contour"
           }
          ],
          "contourcarpet": [
           {
            "colorbar": {
             "outlinewidth": 0,
             "ticks": ""
            },
            "type": "contourcarpet"
           }
          ],
          "heatmap": [
           {
            "colorbar": {
             "outlinewidth": 0,
             "ticks": ""
            },
            "colorscale": [
             [
              0,
              "#0d0887"
             ],
             [
              0.1111111111111111,
              "#46039f"
             ],
             [
              0.2222222222222222,
              "#7201a8"
             ],
             [
              0.3333333333333333,
              "#9c179e"
             ],
             [
              0.4444444444444444,
              "#bd3786"
             ],
             [
              0.5555555555555556,
              "#d8576b"
             ],
             [
              0.6666666666666666,
              "#ed7953"
             ],
             [
              0.7777777777777778,
              "#fb9f3a"
             ],
             [
              0.8888888888888888,
              "#fdca26"
             ],
             [
              1,
              "#f0f921"
             ]
            ],
            "type": "heatmap"
           }
          ],
          "histogram": [
           {
            "marker": {
             "pattern": {
              "fillmode": "overlay",
              "size": 10,
              "solidity": 0.2
             }
            },
            "type": "histogram"
           }
          ],
          "histogram2d": [
           {
            "colorbar": {
             "outlinewidth": 0,
             "ticks": ""
            },
            "colorscale": [
             [
              0,
              "#0d0887"
             ],
             [
              0.1111111111111111,
              "#46039f"
             ],
             [
              0.2222222222222222,
              "#7201a8"
             ],
             [
              0.3333333333333333,
              "#9c179e"
             ],
             [
              0.4444444444444444,
              "#bd3786"
             ],
             [
              0.5555555555555556,
              "#d8576b"
             ],
             [
              0.6666666666666666,
              "#ed7953"
             ],
             [
              0.7777777777777778,
              "#fb9f3a"
             ],
             [
              0.8888888888888888,
              "#fdca26"
             ],
             [
              1,
              "#f0f921"
             ]
            ],
            "type": "histogram2d"
           }
          ],
          "histogram2dcontour": [
           {
            "colorbar": {
             "outlinewidth": 0,
             "ticks": ""
            },
            "colorscale": [
             [
              0,
              "#0d0887"
             ],
             [
              0.1111111111111111,
              "#46039f"
             ],
             [
              0.2222222222222222,
              "#7201a8"
             ],
             [
              0.3333333333333333,
              "#9c179e"
             ],
             [
              0.4444444444444444,
              "#bd3786"
             ],
             [
              0.5555555555555556,
              "#d8576b"
             ],
             [
              0.6666666666666666,
              "#ed7953"
             ],
             [
              0.7777777777777778,
              "#fb9f3a"
             ],
             [
              0.8888888888888888,
              "#fdca26"
             ],
             [
              1,
              "#f0f921"
             ]
            ],
            "type": "histogram2dcontour"
           }
          ],
          "mesh3d": [
           {
            "colorbar": {
             "outlinewidth": 0,
             "ticks": ""
            },
            "type": "mesh3d"
           }
          ],
          "parcoords": [
           {
            "line": {
             "colorbar": {
              "outlinewidth": 0,
              "ticks": ""
             }
            },
            "type": "parcoords"
           }
          ],
          "pie": [
           {
            "automargin": true,
            "type": "pie"
           }
          ],
          "scatter": [
           {
            "fillpattern": {
             "fillmode": "overlay",
             "size": 10,
             "solidity": 0.2
            },
            "type": "scatter"
           }
          ],
          "scatter3d": [
           {
            "line": {
             "colorbar": {
              "outlinewidth": 0,
              "ticks": ""
             }
            },
            "marker": {
             "colorbar": {
              "outlinewidth": 0,
              "ticks": ""
             }
            },
            "type": "scatter3d"
           }
          ],
          "scattercarpet": [
           {
            "marker": {
             "colorbar": {
              "outlinewidth": 0,
              "ticks": ""
             }
            },
            "type": "scattercarpet"
           }
          ],
          "scattergeo": [
           {
            "marker": {
             "colorbar": {
              "outlinewidth": 0,
              "ticks": ""
             }
            },
            "type": "scattergeo"
           }
          ],
          "scattergl": [
           {
            "marker": {
             "colorbar": {
              "outlinewidth": 0,
              "ticks": ""
             }
            },
            "type": "scattergl"
           }
          ],
          "scattermap": [
           {
            "marker": {
             "colorbar": {
              "outlinewidth": 0,
              "ticks": ""
             }
            },
            "type": "scattermap"
           }
          ],
          "scattermapbox": [
           {
            "marker": {
             "colorbar": {
              "outlinewidth": 0,
              "ticks": ""
             }
            },
            "type": "scattermapbox"
           }
          ],
          "scatterpolar": [
           {
            "marker": {
             "colorbar": {
              "outlinewidth": 0,
              "ticks": ""
             }
            },
            "type": "scatterpolar"
           }
          ],
          "scatterpolargl": [
           {
            "marker": {
             "colorbar": {
              "outlinewidth": 0,
              "ticks": ""
             }
            },
            "type": "scatterpolargl"
           }
          ],
          "scatterternary": [
           {
            "marker": {
             "colorbar": {
              "outlinewidth": 0,
              "ticks": ""
             }
            },
            "type": "scatterternary"
           }
          ],
          "surface": [
           {
            "colorbar": {
             "outlinewidth": 0,
             "ticks": ""
            },
            "colorscale": [
             [
              0,
              "#0d0887"
             ],
             [
              0.1111111111111111,
              "#46039f"
             ],
             [
              0.2222222222222222,
              "#7201a8"
             ],
             [
              0.3333333333333333,
              "#9c179e"
             ],
             [
              0.4444444444444444,
              "#bd3786"
             ],
             [
              0.5555555555555556,
              "#d8576b"
             ],
             [
              0.6666666666666666,
              "#ed7953"
             ],
             [
              0.7777777777777778,
              "#fb9f3a"
             ],
             [
              0.8888888888888888,
              "#fdca26"
             ],
             [
              1,
              "#f0f921"
             ]
            ],
            "type": "surface"
           }
          ],
          "table": [
           {
            "cells": {
             "fill": {
              "color": "#EBF0F8"
             },
             "line": {
              "color": "white"
             }
            },
            "header": {
             "fill": {
              "color": "#C8D4E3"
             },
             "line": {
              "color": "white"
             }
            },
            "type": "table"
           }
          ]
         },
         "layout": {
          "annotationdefaults": {
           "arrowcolor": "#2a3f5f",
           "arrowhead": 0,
           "arrowwidth": 1
          },
          "autotypenumbers": "strict",
          "coloraxis": {
           "colorbar": {
            "outlinewidth": 0,
            "ticks": ""
           }
          },
          "colorscale": {
           "diverging": [
            [
             0,
             "#8e0152"
            ],
            [
             0.1,
             "#c51b7d"
            ],
            [
             0.2,
             "#de77ae"
            ],
            [
             0.3,
             "#f1b6da"
            ],
            [
             0.4,
             "#fde0ef"
            ],
            [
             0.5,
             "#f7f7f7"
            ],
            [
             0.6,
             "#e6f5d0"
            ],
            [
             0.7,
             "#b8e186"
            ],
            [
             0.8,
             "#7fbc41"
            ],
            [
             0.9,
             "#4d9221"
            ],
            [
             1,
             "#276419"
            ]
           ],
           "sequential": [
            [
             0,
             "#0d0887"
            ],
            [
             0.1111111111111111,
             "#46039f"
            ],
            [
             0.2222222222222222,
             "#7201a8"
            ],
            [
             0.3333333333333333,
             "#9c179e"
            ],
            [
             0.4444444444444444,
             "#bd3786"
            ],
            [
             0.5555555555555556,
             "#d8576b"
            ],
            [
             0.6666666666666666,
             "#ed7953"
            ],
            [
             0.7777777777777778,
             "#fb9f3a"
            ],
            [
             0.8888888888888888,
             "#fdca26"
            ],
            [
             1,
             "#f0f921"
            ]
           ],
           "sequentialminus": [
            [
             0,
             "#0d0887"
            ],
            [
             0.1111111111111111,
             "#46039f"
            ],
            [
             0.2222222222222222,
             "#7201a8"
            ],
            [
             0.3333333333333333,
             "#9c179e"
            ],
            [
             0.4444444444444444,
             "#bd3786"
            ],
            [
             0.5555555555555556,
             "#d8576b"
            ],
            [
             0.6666666666666666,
             "#ed7953"
            ],
            [
             0.7777777777777778,
             "#fb9f3a"
            ],
            [
             0.8888888888888888,
             "#fdca26"
            ],
            [
             1,
             "#f0f921"
            ]
           ]
          },
          "colorway": [
           "#636efa",
           "#EF553B",
           "#00cc96",
           "#ab63fa",
           "#FFA15A",
           "#19d3f3",
           "#FF6692",
           "#B6E880",
           "#FF97FF",
           "#FECB52"
          ],
          "font": {
           "color": "#2a3f5f"
          },
          "geo": {
           "bgcolor": "white",
           "lakecolor": "white",
           "landcolor": "#E5ECF6",
           "showlakes": true,
           "showland": true,
           "subunitcolor": "white"
          },
          "hoverlabel": {
           "align": "left"
          },
          "hovermode": "closest",
          "mapbox": {
           "style": "light"
          },
          "paper_bgcolor": "white",
          "plot_bgcolor": "#E5ECF6",
          "polar": {
           "angularaxis": {
            "gridcolor": "white",
            "linecolor": "white",
            "ticks": ""
           },
           "bgcolor": "#E5ECF6",
           "radialaxis": {
            "gridcolor": "white",
            "linecolor": "white",
            "ticks": ""
           }
          },
          "scene": {
           "xaxis": {
            "backgroundcolor": "#E5ECF6",
            "gridcolor": "white",
            "gridwidth": 2,
            "linecolor": "white",
            "showbackground": true,
            "ticks": "",
            "zerolinecolor": "white"
           },
           "yaxis": {
            "backgroundcolor": "#E5ECF6",
            "gridcolor": "white",
            "gridwidth": 2,
            "linecolor": "white",
            "showbackground": true,
            "ticks": "",
            "zerolinecolor": "white"
           },
           "zaxis": {
            "backgroundcolor": "#E5ECF6",
            "gridcolor": "white",
            "gridwidth": 2,
            "linecolor": "white",
            "showbackground": true,
            "ticks": "",
            "zerolinecolor": "white"
           }
          },
          "shapedefaults": {
           "line": {
            "color": "#2a3f5f"
           }
          },
          "ternary": {
           "aaxis": {
            "gridcolor": "white",
            "linecolor": "white",
            "ticks": ""
           },
           "baxis": {
            "gridcolor": "white",
            "linecolor": "white",
            "ticks": ""
           },
           "bgcolor": "#E5ECF6",
           "caxis": {
            "gridcolor": "white",
            "linecolor": "white",
            "ticks": ""
           }
          },
          "title": {
           "x": 0.05
          },
          "xaxis": {
           "automargin": true,
           "gridcolor": "white",
           "linecolor": "white",
           "ticks": "",
           "title": {
            "standoff": 15
           },
           "zerolinecolor": "white",
           "zerolinewidth": 2
          },
          "yaxis": {
           "automargin": true,
           "gridcolor": "white",
           "linecolor": "white",
           "ticks": "",
           "title": {
            "standoff": 15
           },
           "zerolinecolor": "white",
           "zerolinewidth": 2
          }
         }
        },
        "title": {
         "text": "They are commited to effective disablity inclusion"
        }
       }
      },
      "text/html": [
       "<div>            <script src=\"https://cdnjs.cloudflare.com/ajax/libs/mathjax/2.7.5/MathJax.js?config=TeX-AMS-MML_SVG\"></script><script type=\"text/javascript\">if (window.MathJax && window.MathJax.Hub && window.MathJax.Hub.Config) {window.MathJax.Hub.Config({SVG: {font: \"STIX-Web\"}});}</script>                <script type=\"text/javascript\">window.PlotlyConfig = {MathJaxConfig: 'local'};</script>\n",
       "        <script charset=\"utf-8\" src=\"https://cdn.plot.ly/plotly-3.0.1.min.js\"></script>                <div id=\"8a7da8dd-4beb-44e3-9e23-b09e65883304\" class=\"plotly-graph-div\" style=\"height:525px; width:100%;\"></div>            <script type=\"text/javascript\">                window.PLOTLYENV=window.PLOTLYENV || {};                                if (document.getElementById(\"8a7da8dd-4beb-44e3-9e23-b09e65883304\")) {                    Plotly.newPlot(                        \"8a7da8dd-4beb-44e3-9e23-b09e65883304\",                        [{\"mode\":\"markers\",\"name\":\"Top 50\",\"x\":[\"7203.T\",\"7267.T\",\"8058.T\",\"8001.T\",\"8031.T\",\"9432.T\",\"8306.T\",\"6758.T\",\"7201.T\",\"5020.T\",\"3382.T\",\"6178.T\",\"8015.T\",\"8316.T\",\"8267.T\",\"6501.T\",\"5019.T\",\"8750.T\",\"5401.T\",\"6752.T\",\"8766.T\",\"8002.T\",\"8053.T\",\"9984.T\",\"6902.T\",\"9434.T\",\"8725.T\",\"9433.T\",\"7181.T\",\"7269.T\",\"6503.T\",\"1925.T\",\"8630.T\",\"7011.T\",\"7259.T\",\"5411.T\",\"6367.T\",\"8604.T\",\"7270.T\",\"5802.T\",\"9613.T\",\"4502.T\",\"7751.T\",\"5108.T\",\"4188.T\",\"9503.T\",\"6301.T\",\"6201.T\",\"1928.T\",\"9502.T\"],\"y\":{\"dtype\":\"i1\",\"bdata\":\"Sic\\u002fQz8uKk4nKjAuPzwvJyouPicZPz8uPS8ZFS49PUIuPSc9Izw0LCoAAC0AGSMjLBo=\"},\"type\":\"scatter\"},{\"mode\":\"markers\",\"name\":\"Bottom 50\",\"x\":[\"CAPD.SI\",\"X.TO\",\"REG.OQ\",\"REA.AX\",\"BSY.OQ\",\"AGI.TO\",\"VCX.AX\",\"FBK.MI\",\"RDDT.N\",\"WPM.TO\",\"IOT.N\",\"LOIM.PA\",\"LOTB.BR\",\"SGXL.SI\",\"RAAG.DE\",\"LUG.TO\",\"DIAS.MI\",\"BCVN.S\",\"FNV.TO\",\"CAR.AX\",\"MNG.L\",\"EFN.TO\",\"TEMN.S\",\"IAG.TO\",\"INWT.MI\",\"ASX.AX\",\"CYBR.OQ\",\"NEKG.DE\",\"MNDY.OQ\",\"VACN.S\",\"0006.HK\",\"AIA.NZ\",\"LEGn.DE\",\"LAND.L\",\"TPL.N\",\"GFCP.PA\",\"WTC.AX\",\"SPSN.S\",\"DSG.TO\",\"SGRO.L\",\"BESI.AS\",\"AUTOA.L\",\"CVO.PA\",\"G24n.F\",\"SOL.AX\",\"MSTR.OQ\",\"EURA.PA\",\"PME.AX\",\"IVN.TO\",\"PSHG_p.DE\"],\"y\":{\"dtype\":\"i1\",\"bdata\":\"IRQbHxsOHxsACAAUFBsMOAAyCD4bLB0ZQjoyFQAAJAAjMC8yHxEZGyYfKCwSGyUSHxE=\"},\"type\":\"scatter\"}],                        {\"template\":{\"data\":{\"histogram2dcontour\":[{\"type\":\"histogram2dcontour\",\"colorbar\":{\"outlinewidth\":0,\"ticks\":\"\"},\"colorscale\":[[0.0,\"#0d0887\"],[0.1111111111111111,\"#46039f\"],[0.2222222222222222,\"#7201a8\"],[0.3333333333333333,\"#9c179e\"],[0.4444444444444444,\"#bd3786\"],[0.5555555555555556,\"#d8576b\"],[0.6666666666666666,\"#ed7953\"],[0.7777777777777778,\"#fb9f3a\"],[0.8888888888888888,\"#fdca26\"],[1.0,\"#f0f921\"]]}],\"choropleth\":[{\"type\":\"choropleth\",\"colorbar\":{\"outlinewidth\":0,\"ticks\":\"\"}}],\"histogram2d\":[{\"type\":\"histogram2d\",\"colorbar\":{\"outlinewidth\":0,\"ticks\":\"\"},\"colorscale\":[[0.0,\"#0d0887\"],[0.1111111111111111,\"#46039f\"],[0.2222222222222222,\"#7201a8\"],[0.3333333333333333,\"#9c179e\"],[0.4444444444444444,\"#bd3786\"],[0.5555555555555556,\"#d8576b\"],[0.6666666666666666,\"#ed7953\"],[0.7777777777777778,\"#fb9f3a\"],[0.8888888888888888,\"#fdca26\"],[1.0,\"#f0f921\"]]}],\"heatmap\":[{\"type\":\"heatmap\",\"colorbar\":{\"outlinewidth\":0,\"ticks\":\"\"},\"colorscale\":[[0.0,\"#0d0887\"],[0.1111111111111111,\"#46039f\"],[0.2222222222222222,\"#7201a8\"],[0.3333333333333333,\"#9c179e\"],[0.4444444444444444,\"#bd3786\"],[0.5555555555555556,\"#d8576b\"],[0.6666666666666666,\"#ed7953\"],[0.7777777777777778,\"#fb9f3a\"],[0.8888888888888888,\"#fdca26\"],[1.0,\"#f0f921\"]]}],\"contourcarpet\":[{\"type\":\"contourcarpet\",\"colorbar\":{\"outlinewidth\":0,\"ticks\":\"\"}}],\"contour\":[{\"type\":\"contour\",\"colorbar\":{\"outlinewidth\":0,\"ticks\":\"\"},\"colorscale\":[[0.0,\"#0d0887\"],[0.1111111111111111,\"#46039f\"],[0.2222222222222222,\"#7201a8\"],[0.3333333333333333,\"#9c179e\"],[0.4444444444444444,\"#bd3786\"],[0.5555555555555556,\"#d8576b\"],[0.6666666666666666,\"#ed7953\"],[0.7777777777777778,\"#fb9f3a\"],[0.8888888888888888,\"#fdca26\"],[1.0,\"#f0f921\"]]}],\"surface\":[{\"type\":\"surface\",\"colorbar\":{\"outlinewidth\":0,\"ticks\":\"\"},\"colorscale\":[[0.0,\"#0d0887\"],[0.1111111111111111,\"#46039f\"],[0.2222222222222222,\"#7201a8\"],[0.3333333333333333,\"#9c179e\"],[0.4444444444444444,\"#bd3786\"],[0.5555555555555556,\"#d8576b\"],[0.6666666666666666,\"#ed7953\"],[0.7777777777777778,\"#fb9f3a\"],[0.8888888888888888,\"#fdca26\"],[1.0,\"#f0f921\"]]}],\"mesh3d\":[{\"type\":\"mesh3d\",\"colorbar\":{\"outlinewidth\":0,\"ticks\":\"\"}}],\"scatter\":[{\"fillpattern\":{\"fillmode\":\"overlay\",\"size\":10,\"solidity\":0.2},\"type\":\"scatter\"}],\"parcoords\":[{\"type\":\"parcoords\",\"line\":{\"colorbar\":{\"outlinewidth\":0,\"ticks\":\"\"}}}],\"scatterpolargl\":[{\"type\":\"scatterpolargl\",\"marker\":{\"colorbar\":{\"outlinewidth\":0,\"ticks\":\"\"}}}],\"bar\":[{\"error_x\":{\"color\":\"#2a3f5f\"},\"error_y\":{\"color\":\"#2a3f5f\"},\"marker\":{\"line\":{\"color\":\"#E5ECF6\",\"width\":0.5},\"pattern\":{\"fillmode\":\"overlay\",\"size\":10,\"solidity\":0.2}},\"type\":\"bar\"}],\"scattergeo\":[{\"type\":\"scattergeo\",\"marker\":{\"colorbar\":{\"outlinewidth\":0,\"ticks\":\"\"}}}],\"scatterpolar\":[{\"type\":\"scatterpolar\",\"marker\":{\"colorbar\":{\"outlinewidth\":0,\"ticks\":\"\"}}}],\"histogram\":[{\"marker\":{\"pattern\":{\"fillmode\":\"overlay\",\"size\":10,\"solidity\":0.2}},\"type\":\"histogram\"}],\"scattergl\":[{\"type\":\"scattergl\",\"marker\":{\"colorbar\":{\"outlinewidth\":0,\"ticks\":\"\"}}}],\"scatter3d\":[{\"type\":\"scatter3d\",\"line\":{\"colorbar\":{\"outlinewidth\":0,\"ticks\":\"\"}},\"marker\":{\"colorbar\":{\"outlinewidth\":0,\"ticks\":\"\"}}}],\"scattermap\":[{\"type\":\"scattermap\",\"marker\":{\"colorbar\":{\"outlinewidth\":0,\"ticks\":\"\"}}}],\"scattermapbox\":[{\"type\":\"scattermapbox\",\"marker\":{\"colorbar\":{\"outlinewidth\":0,\"ticks\":\"\"}}}],\"scatterternary\":[{\"type\":\"scatterternary\",\"marker\":{\"colorbar\":{\"outlinewidth\":0,\"ticks\":\"\"}}}],\"scattercarpet\":[{\"type\":\"scattercarpet\",\"marker\":{\"colorbar\":{\"outlinewidth\":0,\"ticks\":\"\"}}}],\"carpet\":[{\"aaxis\":{\"endlinecolor\":\"#2a3f5f\",\"gridcolor\":\"white\",\"linecolor\":\"white\",\"minorgridcolor\":\"white\",\"startlinecolor\":\"#2a3f5f\"},\"baxis\":{\"endlinecolor\":\"#2a3f5f\",\"gridcolor\":\"white\",\"linecolor\":\"white\",\"minorgridcolor\":\"white\",\"startlinecolor\":\"#2a3f5f\"},\"type\":\"carpet\"}],\"table\":[{\"cells\":{\"fill\":{\"color\":\"#EBF0F8\"},\"line\":{\"color\":\"white\"}},\"header\":{\"fill\":{\"color\":\"#C8D4E3\"},\"line\":{\"color\":\"white\"}},\"type\":\"table\"}],\"barpolar\":[{\"marker\":{\"line\":{\"color\":\"#E5ECF6\",\"width\":0.5},\"pattern\":{\"fillmode\":\"overlay\",\"size\":10,\"solidity\":0.2}},\"type\":\"barpolar\"}],\"pie\":[{\"automargin\":true,\"type\":\"pie\"}]},\"layout\":{\"autotypenumbers\":\"strict\",\"colorway\":[\"#636efa\",\"#EF553B\",\"#00cc96\",\"#ab63fa\",\"#FFA15A\",\"#19d3f3\",\"#FF6692\",\"#B6E880\",\"#FF97FF\",\"#FECB52\"],\"font\":{\"color\":\"#2a3f5f\"},\"hovermode\":\"closest\",\"hoverlabel\":{\"align\":\"left\"},\"paper_bgcolor\":\"white\",\"plot_bgcolor\":\"#E5ECF6\",\"polar\":{\"bgcolor\":\"#E5ECF6\",\"angularaxis\":{\"gridcolor\":\"white\",\"linecolor\":\"white\",\"ticks\":\"\"},\"radialaxis\":{\"gridcolor\":\"white\",\"linecolor\":\"white\",\"ticks\":\"\"}},\"ternary\":{\"bgcolor\":\"#E5ECF6\",\"aaxis\":{\"gridcolor\":\"white\",\"linecolor\":\"white\",\"ticks\":\"\"},\"baxis\":{\"gridcolor\":\"white\",\"linecolor\":\"white\",\"ticks\":\"\"},\"caxis\":{\"gridcolor\":\"white\",\"linecolor\":\"white\",\"ticks\":\"\"}},\"coloraxis\":{\"colorbar\":{\"outlinewidth\":0,\"ticks\":\"\"}},\"colorscale\":{\"sequential\":[[0.0,\"#0d0887\"],[0.1111111111111111,\"#46039f\"],[0.2222222222222222,\"#7201a8\"],[0.3333333333333333,\"#9c179e\"],[0.4444444444444444,\"#bd3786\"],[0.5555555555555556,\"#d8576b\"],[0.6666666666666666,\"#ed7953\"],[0.7777777777777778,\"#fb9f3a\"],[0.8888888888888888,\"#fdca26\"],[1.0,\"#f0f921\"]],\"sequentialminus\":[[0.0,\"#0d0887\"],[0.1111111111111111,\"#46039f\"],[0.2222222222222222,\"#7201a8\"],[0.3333333333333333,\"#9c179e\"],[0.4444444444444444,\"#bd3786\"],[0.5555555555555556,\"#d8576b\"],[0.6666666666666666,\"#ed7953\"],[0.7777777777777778,\"#fb9f3a\"],[0.8888888888888888,\"#fdca26\"],[1.0,\"#f0f921\"]],\"diverging\":[[0,\"#8e0152\"],[0.1,\"#c51b7d\"],[0.2,\"#de77ae\"],[0.3,\"#f1b6da\"],[0.4,\"#fde0ef\"],[0.5,\"#f7f7f7\"],[0.6,\"#e6f5d0\"],[0.7,\"#b8e186\"],[0.8,\"#7fbc41\"],[0.9,\"#4d9221\"],[1,\"#276419\"]]},\"xaxis\":{\"gridcolor\":\"white\",\"linecolor\":\"white\",\"ticks\":\"\",\"title\":{\"standoff\":15},\"zerolinecolor\":\"white\",\"automargin\":true,\"zerolinewidth\":2},\"yaxis\":{\"gridcolor\":\"white\",\"linecolor\":\"white\",\"ticks\":\"\",\"title\":{\"standoff\":15},\"zerolinecolor\":\"white\",\"automargin\":true,\"zerolinewidth\":2},\"scene\":{\"xaxis\":{\"backgroundcolor\":\"#E5ECF6\",\"gridcolor\":\"white\",\"linecolor\":\"white\",\"showbackground\":true,\"ticks\":\"\",\"zerolinecolor\":\"white\",\"gridwidth\":2},\"yaxis\":{\"backgroundcolor\":\"#E5ECF6\",\"gridcolor\":\"white\",\"linecolor\":\"white\",\"showbackground\":true,\"ticks\":\"\",\"zerolinecolor\":\"white\",\"gridwidth\":2},\"zaxis\":{\"backgroundcolor\":\"#E5ECF6\",\"gridcolor\":\"white\",\"linecolor\":\"white\",\"showbackground\":true,\"ticks\":\"\",\"zerolinecolor\":\"white\",\"gridwidth\":2}},\"shapedefaults\":{\"line\":{\"color\":\"#2a3f5f\"}},\"annotationdefaults\":{\"arrowcolor\":\"#2a3f5f\",\"arrowhead\":0,\"arrowwidth\":1},\"geo\":{\"bgcolor\":\"white\",\"landcolor\":\"#E5ECF6\",\"subunitcolor\":\"white\",\"showland\":true,\"showlakes\":true,\"lakecolor\":\"white\"},\"title\":{\"x\":0.05},\"mapbox\":{\"style\":\"light\"}}},\"title\":{\"text\":\"They are commited to effective disablity inclusion\"}},                        {\"responsive\": true}                    ).then(function(){\n",
       "                            \n",
       "var gd = document.getElementById('8a7da8dd-4beb-44e3-9e23-b09e65883304');\n",
       "var x = new MutationObserver(function (mutations, observer) {{\n",
       "        var display = window.getComputedStyle(gd).display;\n",
       "        if (!display || display === 'none') {{\n",
       "            console.log([gd, 'removed!']);\n",
       "            Plotly.purge(gd);\n",
       "            observer.disconnect();\n",
       "        }}\n",
       "}});\n",
       "\n",
       "// Listen for the removal of the full notebook cells\n",
       "var notebookContainer = gd.closest('#notebook-container');\n",
       "if (notebookContainer) {{\n",
       "    x.observe(notebookContainer, {childList: true});\n",
       "}}\n",
       "\n",
       "// Listen for the clearing of the current output cell\n",
       "var outputEl = gd.closest('.output');\n",
       "if (outputEl) {{\n",
       "    x.observe(outputEl, {childList: true});\n",
       "}}\n",
       "\n",
       "                        })                };            </script>        </div>"
      ]
     },
     "metadata": {},
     "output_type": "display_data"
    }
   ],
   "source": [
    "plots = [go.Scatter(x=top50['RIC'], y=top50['DIR Inclusion Score'], mode='markers', name='Top 50'), \n",
    "         go.Scatter(x=bot50['RIC'], y=bot50['DIR Inclusion Score'], mode='markers', name='Bottom 50')]\n",
    "fig = go.Figure(data=plots)\n",
    "fig.update_layout(title='They are commited to effective disablity inclusion')\n",
    "fig.show()"
   ]
  },
  {
   "cell_type": "code",
   "execution_count": 11,
   "metadata": {},
   "outputs": [
    {
     "data": {
      "application/vnd.plotly.v1+json": {
       "config": {
        "plotlyServerURL": "https://plot.ly"
       },
       "data": [
        {
         "mode": "markers",
         "name": "Top 50",
         "type": "scatter",
         "x": [
          "7203.T",
          "7267.T",
          "8058.T",
          "8001.T",
          "8031.T",
          "9432.T",
          "8306.T",
          "6758.T",
          "7201.T",
          "5020.T",
          "3382.T",
          "6178.T",
          "8015.T",
          "8316.T",
          "8267.T",
          "6501.T",
          "5019.T",
          "8750.T",
          "5401.T",
          "6752.T",
          "8766.T",
          "8002.T",
          "8053.T",
          "9984.T",
          "6902.T",
          "9434.T",
          "8725.T",
          "9433.T",
          "7181.T",
          "7269.T",
          "6503.T",
          "1925.T",
          "8630.T",
          "7011.T",
          "7259.T",
          "5411.T",
          "6367.T",
          "8604.T",
          "7270.T",
          "5802.T",
          "9613.T",
          "4502.T",
          "7751.T",
          "5108.T",
          "4188.T",
          "9503.T",
          "6301.T",
          "6201.T",
          "1928.T",
          "9502.T"
         ],
         "y": {
          "bdata": "Q0QfLjM4LUdHH0MrLi44QCwpIjEpJi41SDU3JikyOC9CPjIiPDszSDoAADMAPjI8Mis=",
          "dtype": "i1"
         }
        },
        {
         "mode": "markers",
         "name": "Bottom 50",
         "type": "scatter",
         "x": [
          "CAPD.SI",
          "X.TO",
          "REG.OQ",
          "REA.AX",
          "BSY.OQ",
          "AGI.TO",
          "VCX.AX",
          "FBK.MI",
          "RDDT.N",
          "WPM.TO",
          "IOT.N",
          "LOIM.PA",
          "LOTB.BR",
          "SGXL.SI",
          "RAAG.DE",
          "LUG.TO",
          "DIAS.MI",
          "BCVN.S",
          "FNV.TO",
          "CAR.AX",
          "MNG.L",
          "EFN.TO",
          "TEMN.S",
          "IAG.TO",
          "INWT.MI",
          "ASX.AX",
          "CYBR.OQ",
          "NEKG.DE",
          "MNDY.OQ",
          "VACN.S",
          "0006.HK",
          "AIA.NZ",
          "LEGn.DE",
          "LAND.L",
          "TPL.N",
          "GFCP.PA",
          "WTC.AX",
          "SPSN.S",
          "DSG.TO",
          "SGRO.L",
          "BESI.AS",
          "AUTOA.L",
          "CVO.PA",
          "G24n.F",
          "SOL.AX",
          "MSTR.OQ",
          "EURA.PA",
          "PME.AX",
          "IVN.TO",
          "PSHG_p.DE"
         ],
         "y": {
          "bdata": "Hj86SDUjMDAAGQAlLTk+DQAtFDQyQEdGOjo4JgAALgAoJCAqNjIXOjU/MScdCDYZLxE=",
          "dtype": "i1"
         }
        }
       ],
       "layout": {
        "template": {
         "data": {
          "bar": [
           {
            "error_x": {
             "color": "#2a3f5f"
            },
            "error_y": {
             "color": "#2a3f5f"
            },
            "marker": {
             "line": {
              "color": "#E5ECF6",
              "width": 0.5
             },
             "pattern": {
              "fillmode": "overlay",
              "size": 10,
              "solidity": 0.2
             }
            },
            "type": "bar"
           }
          ],
          "barpolar": [
           {
            "marker": {
             "line": {
              "color": "#E5ECF6",
              "width": 0.5
             },
             "pattern": {
              "fillmode": "overlay",
              "size": 10,
              "solidity": 0.2
             }
            },
            "type": "barpolar"
           }
          ],
          "carpet": [
           {
            "aaxis": {
             "endlinecolor": "#2a3f5f",
             "gridcolor": "white",
             "linecolor": "white",
             "minorgridcolor": "white",
             "startlinecolor": "#2a3f5f"
            },
            "baxis": {
             "endlinecolor": "#2a3f5f",
             "gridcolor": "white",
             "linecolor": "white",
             "minorgridcolor": "white",
             "startlinecolor": "#2a3f5f"
            },
            "type": "carpet"
           }
          ],
          "choropleth": [
           {
            "colorbar": {
             "outlinewidth": 0,
             "ticks": ""
            },
            "type": "choropleth"
           }
          ],
          "contour": [
           {
            "colorbar": {
             "outlinewidth": 0,
             "ticks": ""
            },
            "colorscale": [
             [
              0,
              "#0d0887"
             ],
             [
              0.1111111111111111,
              "#46039f"
             ],
             [
              0.2222222222222222,
              "#7201a8"
             ],
             [
              0.3333333333333333,
              "#9c179e"
             ],
             [
              0.4444444444444444,
              "#bd3786"
             ],
             [
              0.5555555555555556,
              "#d8576b"
             ],
             [
              0.6666666666666666,
              "#ed7953"
             ],
             [
              0.7777777777777778,
              "#fb9f3a"
             ],
             [
              0.8888888888888888,
              "#fdca26"
             ],
             [
              1,
              "#f0f921"
             ]
            ],
            "type": "contour"
           }
          ],
          "contourcarpet": [
           {
            "colorbar": {
             "outlinewidth": 0,
             "ticks": ""
            },
            "type": "contourcarpet"
           }
          ],
          "heatmap": [
           {
            "colorbar": {
             "outlinewidth": 0,
             "ticks": ""
            },
            "colorscale": [
             [
              0,
              "#0d0887"
             ],
             [
              0.1111111111111111,
              "#46039f"
             ],
             [
              0.2222222222222222,
              "#7201a8"
             ],
             [
              0.3333333333333333,
              "#9c179e"
             ],
             [
              0.4444444444444444,
              "#bd3786"
             ],
             [
              0.5555555555555556,
              "#d8576b"
             ],
             [
              0.6666666666666666,
              "#ed7953"
             ],
             [
              0.7777777777777778,
              "#fb9f3a"
             ],
             [
              0.8888888888888888,
              "#fdca26"
             ],
             [
              1,
              "#f0f921"
             ]
            ],
            "type": "heatmap"
           }
          ],
          "histogram": [
           {
            "marker": {
             "pattern": {
              "fillmode": "overlay",
              "size": 10,
              "solidity": 0.2
             }
            },
            "type": "histogram"
           }
          ],
          "histogram2d": [
           {
            "colorbar": {
             "outlinewidth": 0,
             "ticks": ""
            },
            "colorscale": [
             [
              0,
              "#0d0887"
             ],
             [
              0.1111111111111111,
              "#46039f"
             ],
             [
              0.2222222222222222,
              "#7201a8"
             ],
             [
              0.3333333333333333,
              "#9c179e"
             ],
             [
              0.4444444444444444,
              "#bd3786"
             ],
             [
              0.5555555555555556,
              "#d8576b"
             ],
             [
              0.6666666666666666,
              "#ed7953"
             ],
             [
              0.7777777777777778,
              "#fb9f3a"
             ],
             [
              0.8888888888888888,
              "#fdca26"
             ],
             [
              1,
              "#f0f921"
             ]
            ],
            "type": "histogram2d"
           }
          ],
          "histogram2dcontour": [
           {
            "colorbar": {
             "outlinewidth": 0,
             "ticks": ""
            },
            "colorscale": [
             [
              0,
              "#0d0887"
             ],
             [
              0.1111111111111111,
              "#46039f"
             ],
             [
              0.2222222222222222,
              "#7201a8"
             ],
             [
              0.3333333333333333,
              "#9c179e"
             ],
             [
              0.4444444444444444,
              "#bd3786"
             ],
             [
              0.5555555555555556,
              "#d8576b"
             ],
             [
              0.6666666666666666,
              "#ed7953"
             ],
             [
              0.7777777777777778,
              "#fb9f3a"
             ],
             [
              0.8888888888888888,
              "#fdca26"
             ],
             [
              1,
              "#f0f921"
             ]
            ],
            "type": "histogram2dcontour"
           }
          ],
          "mesh3d": [
           {
            "colorbar": {
             "outlinewidth": 0,
             "ticks": ""
            },
            "type": "mesh3d"
           }
          ],
          "parcoords": [
           {
            "line": {
             "colorbar": {
              "outlinewidth": 0,
              "ticks": ""
             }
            },
            "type": "parcoords"
           }
          ],
          "pie": [
           {
            "automargin": true,
            "type": "pie"
           }
          ],
          "scatter": [
           {
            "fillpattern": {
             "fillmode": "overlay",
             "size": 10,
             "solidity": 0.2
            },
            "type": "scatter"
           }
          ],
          "scatter3d": [
           {
            "line": {
             "colorbar": {
              "outlinewidth": 0,
              "ticks": ""
             }
            },
            "marker": {
             "colorbar": {
              "outlinewidth": 0,
              "ticks": ""
             }
            },
            "type": "scatter3d"
           }
          ],
          "scattercarpet": [
           {
            "marker": {
             "colorbar": {
              "outlinewidth": 0,
              "ticks": ""
             }
            },
            "type": "scattercarpet"
           }
          ],
          "scattergeo": [
           {
            "marker": {
             "colorbar": {
              "outlinewidth": 0,
              "ticks": ""
             }
            },
            "type": "scattergeo"
           }
          ],
          "scattergl": [
           {
            "marker": {
             "colorbar": {
              "outlinewidth": 0,
              "ticks": ""
             }
            },
            "type": "scattergl"
           }
          ],
          "scattermap": [
           {
            "marker": {
             "colorbar": {
              "outlinewidth": 0,
              "ticks": ""
             }
            },
            "type": "scattermap"
           }
          ],
          "scattermapbox": [
           {
            "marker": {
             "colorbar": {
              "outlinewidth": 0,
              "ticks": ""
             }
            },
            "type": "scattermapbox"
           }
          ],
          "scatterpolar": [
           {
            "marker": {
             "colorbar": {
              "outlinewidth": 0,
              "ticks": ""
             }
            },
            "type": "scatterpolar"
           }
          ],
          "scatterpolargl": [
           {
            "marker": {
             "colorbar": {
              "outlinewidth": 0,
              "ticks": ""
             }
            },
            "type": "scatterpolargl"
           }
          ],
          "scatterternary": [
           {
            "marker": {
             "colorbar": {
              "outlinewidth": 0,
              "ticks": ""
             }
            },
            "type": "scatterternary"
           }
          ],
          "surface": [
           {
            "colorbar": {
             "outlinewidth": 0,
             "ticks": ""
            },
            "colorscale": [
             [
              0,
              "#0d0887"
             ],
             [
              0.1111111111111111,
              "#46039f"
             ],
             [
              0.2222222222222222,
              "#7201a8"
             ],
             [
              0.3333333333333333,
              "#9c179e"
             ],
             [
              0.4444444444444444,
              "#bd3786"
             ],
             [
              0.5555555555555556,
              "#d8576b"
             ],
             [
              0.6666666666666666,
              "#ed7953"
             ],
             [
              0.7777777777777778,
              "#fb9f3a"
             ],
             [
              0.8888888888888888,
              "#fdca26"
             ],
             [
              1,
              "#f0f921"
             ]
            ],
            "type": "surface"
           }
          ],
          "table": [
           {
            "cells": {
             "fill": {
              "color": "#EBF0F8"
             },
             "line": {
              "color": "white"
             }
            },
            "header": {
             "fill": {
              "color": "#C8D4E3"
             },
             "line": {
              "color": "white"
             }
            },
            "type": "table"
           }
          ]
         },
         "layout": {
          "annotationdefaults": {
           "arrowcolor": "#2a3f5f",
           "arrowhead": 0,
           "arrowwidth": 1
          },
          "autotypenumbers": "strict",
          "coloraxis": {
           "colorbar": {
            "outlinewidth": 0,
            "ticks": ""
           }
          },
          "colorscale": {
           "diverging": [
            [
             0,
             "#8e0152"
            ],
            [
             0.1,
             "#c51b7d"
            ],
            [
             0.2,
             "#de77ae"
            ],
            [
             0.3,
             "#f1b6da"
            ],
            [
             0.4,
             "#fde0ef"
            ],
            [
             0.5,
             "#f7f7f7"
            ],
            [
             0.6,
             "#e6f5d0"
            ],
            [
             0.7,
             "#b8e186"
            ],
            [
             0.8,
             "#7fbc41"
            ],
            [
             0.9,
             "#4d9221"
            ],
            [
             1,
             "#276419"
            ]
           ],
           "sequential": [
            [
             0,
             "#0d0887"
            ],
            [
             0.1111111111111111,
             "#46039f"
            ],
            [
             0.2222222222222222,
             "#7201a8"
            ],
            [
             0.3333333333333333,
             "#9c179e"
            ],
            [
             0.4444444444444444,
             "#bd3786"
            ],
            [
             0.5555555555555556,
             "#d8576b"
            ],
            [
             0.6666666666666666,
             "#ed7953"
            ],
            [
             0.7777777777777778,
             "#fb9f3a"
            ],
            [
             0.8888888888888888,
             "#fdca26"
            ],
            [
             1,
             "#f0f921"
            ]
           ],
           "sequentialminus": [
            [
             0,
             "#0d0887"
            ],
            [
             0.1111111111111111,
             "#46039f"
            ],
            [
             0.2222222222222222,
             "#7201a8"
            ],
            [
             0.3333333333333333,
             "#9c179e"
            ],
            [
             0.4444444444444444,
             "#bd3786"
            ],
            [
             0.5555555555555556,
             "#d8576b"
            ],
            [
             0.6666666666666666,
             "#ed7953"
            ],
            [
             0.7777777777777778,
             "#fb9f3a"
            ],
            [
             0.8888888888888888,
             "#fdca26"
            ],
            [
             1,
             "#f0f921"
            ]
           ]
          },
          "colorway": [
           "#636efa",
           "#EF553B",
           "#00cc96",
           "#ab63fa",
           "#FFA15A",
           "#19d3f3",
           "#FF6692",
           "#B6E880",
           "#FF97FF",
           "#FECB52"
          ],
          "font": {
           "color": "#2a3f5f"
          },
          "geo": {
           "bgcolor": "white",
           "lakecolor": "white",
           "landcolor": "#E5ECF6",
           "showlakes": true,
           "showland": true,
           "subunitcolor": "white"
          },
          "hoverlabel": {
           "align": "left"
          },
          "hovermode": "closest",
          "mapbox": {
           "style": "light"
          },
          "paper_bgcolor": "white",
          "plot_bgcolor": "#E5ECF6",
          "polar": {
           "angularaxis": {
            "gridcolor": "white",
            "linecolor": "white",
            "ticks": ""
           },
           "bgcolor": "#E5ECF6",
           "radialaxis": {
            "gridcolor": "white",
            "linecolor": "white",
            "ticks": ""
           }
          },
          "scene": {
           "xaxis": {
            "backgroundcolor": "#E5ECF6",
            "gridcolor": "white",
            "gridwidth": 2,
            "linecolor": "white",
            "showbackground": true,
            "ticks": "",
            "zerolinecolor": "white"
           },
           "yaxis": {
            "backgroundcolor": "#E5ECF6",
            "gridcolor": "white",
            "gridwidth": 2,
            "linecolor": "white",
            "showbackground": true,
            "ticks": "",
            "zerolinecolor": "white"
           },
           "zaxis": {
            "backgroundcolor": "#E5ECF6",
            "gridcolor": "white",
            "gridwidth": 2,
            "linecolor": "white",
            "showbackground": true,
            "ticks": "",
            "zerolinecolor": "white"
           }
          },
          "shapedefaults": {
           "line": {
            "color": "#2a3f5f"
           }
          },
          "ternary": {
           "aaxis": {
            "gridcolor": "white",
            "linecolor": "white",
            "ticks": ""
           },
           "baxis": {
            "gridcolor": "white",
            "linecolor": "white",
            "ticks": ""
           },
           "bgcolor": "#E5ECF6",
           "caxis": {
            "gridcolor": "white",
            "linecolor": "white",
            "ticks": ""
           }
          },
          "title": {
           "x": 0.05
          },
          "xaxis": {
           "automargin": true,
           "gridcolor": "white",
           "linecolor": "white",
           "ticks": "",
           "title": {
            "standoff": 15
           },
           "zerolinecolor": "white",
           "zerolinewidth": 2
          },
          "yaxis": {
           "automargin": true,
           "gridcolor": "white",
           "linecolor": "white",
           "ticks": "",
           "title": {
            "standoff": 15
           },
           "zerolinecolor": "white",
           "zerolinewidth": 2
          }
         }
        },
        "title": {
         "text": "With a focus on People Development"
        }
       }
      },
      "text/html": [
       "<div>            <script src=\"https://cdnjs.cloudflare.com/ajax/libs/mathjax/2.7.5/MathJax.js?config=TeX-AMS-MML_SVG\"></script><script type=\"text/javascript\">if (window.MathJax && window.MathJax.Hub && window.MathJax.Hub.Config) {window.MathJax.Hub.Config({SVG: {font: \"STIX-Web\"}});}</script>                <script type=\"text/javascript\">window.PlotlyConfig = {MathJaxConfig: 'local'};</script>\n",
       "        <script charset=\"utf-8\" src=\"https://cdn.plot.ly/plotly-3.0.1.min.js\"></script>                <div id=\"6dea4d07-5d3d-465b-8cf3-804573807218\" class=\"plotly-graph-div\" style=\"height:525px; width:100%;\"></div>            <script type=\"text/javascript\">                window.PLOTLYENV=window.PLOTLYENV || {};                                if (document.getElementById(\"6dea4d07-5d3d-465b-8cf3-804573807218\")) {                    Plotly.newPlot(                        \"6dea4d07-5d3d-465b-8cf3-804573807218\",                        [{\"mode\":\"markers\",\"name\":\"Top 50\",\"x\":[\"7203.T\",\"7267.T\",\"8058.T\",\"8001.T\",\"8031.T\",\"9432.T\",\"8306.T\",\"6758.T\",\"7201.T\",\"5020.T\",\"3382.T\",\"6178.T\",\"8015.T\",\"8316.T\",\"8267.T\",\"6501.T\",\"5019.T\",\"8750.T\",\"5401.T\",\"6752.T\",\"8766.T\",\"8002.T\",\"8053.T\",\"9984.T\",\"6902.T\",\"9434.T\",\"8725.T\",\"9433.T\",\"7181.T\",\"7269.T\",\"6503.T\",\"1925.T\",\"8630.T\",\"7011.T\",\"7259.T\",\"5411.T\",\"6367.T\",\"8604.T\",\"7270.T\",\"5802.T\",\"9613.T\",\"4502.T\",\"7751.T\",\"5108.T\",\"4188.T\",\"9503.T\",\"6301.T\",\"6201.T\",\"1928.T\",\"9502.T\"],\"y\":{\"dtype\":\"i1\",\"bdata\":\"Q0QfLjM4LUdHH0MrLi44QCwpIjEpJi41SDU3JikyOC9CPjIiPDszSDoAADMAPjI8Mis=\"},\"type\":\"scatter\"},{\"mode\":\"markers\",\"name\":\"Bottom 50\",\"x\":[\"CAPD.SI\",\"X.TO\",\"REG.OQ\",\"REA.AX\",\"BSY.OQ\",\"AGI.TO\",\"VCX.AX\",\"FBK.MI\",\"RDDT.N\",\"WPM.TO\",\"IOT.N\",\"LOIM.PA\",\"LOTB.BR\",\"SGXL.SI\",\"RAAG.DE\",\"LUG.TO\",\"DIAS.MI\",\"BCVN.S\",\"FNV.TO\",\"CAR.AX\",\"MNG.L\",\"EFN.TO\",\"TEMN.S\",\"IAG.TO\",\"INWT.MI\",\"ASX.AX\",\"CYBR.OQ\",\"NEKG.DE\",\"MNDY.OQ\",\"VACN.S\",\"0006.HK\",\"AIA.NZ\",\"LEGn.DE\",\"LAND.L\",\"TPL.N\",\"GFCP.PA\",\"WTC.AX\",\"SPSN.S\",\"DSG.TO\",\"SGRO.L\",\"BESI.AS\",\"AUTOA.L\",\"CVO.PA\",\"G24n.F\",\"SOL.AX\",\"MSTR.OQ\",\"EURA.PA\",\"PME.AX\",\"IVN.TO\",\"PSHG_p.DE\"],\"y\":{\"dtype\":\"i1\",\"bdata\":\"Hj86SDUjMDAAGQAlLTk+DQAtFDQyQEdGOjo4JgAALgAoJCAqNjIXOjU\\u002fMScdCDYZLxE=\"},\"type\":\"scatter\"}],                        {\"template\":{\"data\":{\"histogram2dcontour\":[{\"type\":\"histogram2dcontour\",\"colorbar\":{\"outlinewidth\":0,\"ticks\":\"\"},\"colorscale\":[[0.0,\"#0d0887\"],[0.1111111111111111,\"#46039f\"],[0.2222222222222222,\"#7201a8\"],[0.3333333333333333,\"#9c179e\"],[0.4444444444444444,\"#bd3786\"],[0.5555555555555556,\"#d8576b\"],[0.6666666666666666,\"#ed7953\"],[0.7777777777777778,\"#fb9f3a\"],[0.8888888888888888,\"#fdca26\"],[1.0,\"#f0f921\"]]}],\"choropleth\":[{\"type\":\"choropleth\",\"colorbar\":{\"outlinewidth\":0,\"ticks\":\"\"}}],\"histogram2d\":[{\"type\":\"histogram2d\",\"colorbar\":{\"outlinewidth\":0,\"ticks\":\"\"},\"colorscale\":[[0.0,\"#0d0887\"],[0.1111111111111111,\"#46039f\"],[0.2222222222222222,\"#7201a8\"],[0.3333333333333333,\"#9c179e\"],[0.4444444444444444,\"#bd3786\"],[0.5555555555555556,\"#d8576b\"],[0.6666666666666666,\"#ed7953\"],[0.7777777777777778,\"#fb9f3a\"],[0.8888888888888888,\"#fdca26\"],[1.0,\"#f0f921\"]]}],\"heatmap\":[{\"type\":\"heatmap\",\"colorbar\":{\"outlinewidth\":0,\"ticks\":\"\"},\"colorscale\":[[0.0,\"#0d0887\"],[0.1111111111111111,\"#46039f\"],[0.2222222222222222,\"#7201a8\"],[0.3333333333333333,\"#9c179e\"],[0.4444444444444444,\"#bd3786\"],[0.5555555555555556,\"#d8576b\"],[0.6666666666666666,\"#ed7953\"],[0.7777777777777778,\"#fb9f3a\"],[0.8888888888888888,\"#fdca26\"],[1.0,\"#f0f921\"]]}],\"contourcarpet\":[{\"type\":\"contourcarpet\",\"colorbar\":{\"outlinewidth\":0,\"ticks\":\"\"}}],\"contour\":[{\"type\":\"contour\",\"colorbar\":{\"outlinewidth\":0,\"ticks\":\"\"},\"colorscale\":[[0.0,\"#0d0887\"],[0.1111111111111111,\"#46039f\"],[0.2222222222222222,\"#7201a8\"],[0.3333333333333333,\"#9c179e\"],[0.4444444444444444,\"#bd3786\"],[0.5555555555555556,\"#d8576b\"],[0.6666666666666666,\"#ed7953\"],[0.7777777777777778,\"#fb9f3a\"],[0.8888888888888888,\"#fdca26\"],[1.0,\"#f0f921\"]]}],\"surface\":[{\"type\":\"surface\",\"colorbar\":{\"outlinewidth\":0,\"ticks\":\"\"},\"colorscale\":[[0.0,\"#0d0887\"],[0.1111111111111111,\"#46039f\"],[0.2222222222222222,\"#7201a8\"],[0.3333333333333333,\"#9c179e\"],[0.4444444444444444,\"#bd3786\"],[0.5555555555555556,\"#d8576b\"],[0.6666666666666666,\"#ed7953\"],[0.7777777777777778,\"#fb9f3a\"],[0.8888888888888888,\"#fdca26\"],[1.0,\"#f0f921\"]]}],\"mesh3d\":[{\"type\":\"mesh3d\",\"colorbar\":{\"outlinewidth\":0,\"ticks\":\"\"}}],\"scatter\":[{\"fillpattern\":{\"fillmode\":\"overlay\",\"size\":10,\"solidity\":0.2},\"type\":\"scatter\"}],\"parcoords\":[{\"type\":\"parcoords\",\"line\":{\"colorbar\":{\"outlinewidth\":0,\"ticks\":\"\"}}}],\"scatterpolargl\":[{\"type\":\"scatterpolargl\",\"marker\":{\"colorbar\":{\"outlinewidth\":0,\"ticks\":\"\"}}}],\"bar\":[{\"error_x\":{\"color\":\"#2a3f5f\"},\"error_y\":{\"color\":\"#2a3f5f\"},\"marker\":{\"line\":{\"color\":\"#E5ECF6\",\"width\":0.5},\"pattern\":{\"fillmode\":\"overlay\",\"size\":10,\"solidity\":0.2}},\"type\":\"bar\"}],\"scattergeo\":[{\"type\":\"scattergeo\",\"marker\":{\"colorbar\":{\"outlinewidth\":0,\"ticks\":\"\"}}}],\"scatterpolar\":[{\"type\":\"scatterpolar\",\"marker\":{\"colorbar\":{\"outlinewidth\":0,\"ticks\":\"\"}}}],\"histogram\":[{\"marker\":{\"pattern\":{\"fillmode\":\"overlay\",\"size\":10,\"solidity\":0.2}},\"type\":\"histogram\"}],\"scattergl\":[{\"type\":\"scattergl\",\"marker\":{\"colorbar\":{\"outlinewidth\":0,\"ticks\":\"\"}}}],\"scatter3d\":[{\"type\":\"scatter3d\",\"line\":{\"colorbar\":{\"outlinewidth\":0,\"ticks\":\"\"}},\"marker\":{\"colorbar\":{\"outlinewidth\":0,\"ticks\":\"\"}}}],\"scattermap\":[{\"type\":\"scattermap\",\"marker\":{\"colorbar\":{\"outlinewidth\":0,\"ticks\":\"\"}}}],\"scattermapbox\":[{\"type\":\"scattermapbox\",\"marker\":{\"colorbar\":{\"outlinewidth\":0,\"ticks\":\"\"}}}],\"scatterternary\":[{\"type\":\"scatterternary\",\"marker\":{\"colorbar\":{\"outlinewidth\":0,\"ticks\":\"\"}}}],\"scattercarpet\":[{\"type\":\"scattercarpet\",\"marker\":{\"colorbar\":{\"outlinewidth\":0,\"ticks\":\"\"}}}],\"carpet\":[{\"aaxis\":{\"endlinecolor\":\"#2a3f5f\",\"gridcolor\":\"white\",\"linecolor\":\"white\",\"minorgridcolor\":\"white\",\"startlinecolor\":\"#2a3f5f\"},\"baxis\":{\"endlinecolor\":\"#2a3f5f\",\"gridcolor\":\"white\",\"linecolor\":\"white\",\"minorgridcolor\":\"white\",\"startlinecolor\":\"#2a3f5f\"},\"type\":\"carpet\"}],\"table\":[{\"cells\":{\"fill\":{\"color\":\"#EBF0F8\"},\"line\":{\"color\":\"white\"}},\"header\":{\"fill\":{\"color\":\"#C8D4E3\"},\"line\":{\"color\":\"white\"}},\"type\":\"table\"}],\"barpolar\":[{\"marker\":{\"line\":{\"color\":\"#E5ECF6\",\"width\":0.5},\"pattern\":{\"fillmode\":\"overlay\",\"size\":10,\"solidity\":0.2}},\"type\":\"barpolar\"}],\"pie\":[{\"automargin\":true,\"type\":\"pie\"}]},\"layout\":{\"autotypenumbers\":\"strict\",\"colorway\":[\"#636efa\",\"#EF553B\",\"#00cc96\",\"#ab63fa\",\"#FFA15A\",\"#19d3f3\",\"#FF6692\",\"#B6E880\",\"#FF97FF\",\"#FECB52\"],\"font\":{\"color\":\"#2a3f5f\"},\"hovermode\":\"closest\",\"hoverlabel\":{\"align\":\"left\"},\"paper_bgcolor\":\"white\",\"plot_bgcolor\":\"#E5ECF6\",\"polar\":{\"bgcolor\":\"#E5ECF6\",\"angularaxis\":{\"gridcolor\":\"white\",\"linecolor\":\"white\",\"ticks\":\"\"},\"radialaxis\":{\"gridcolor\":\"white\",\"linecolor\":\"white\",\"ticks\":\"\"}},\"ternary\":{\"bgcolor\":\"#E5ECF6\",\"aaxis\":{\"gridcolor\":\"white\",\"linecolor\":\"white\",\"ticks\":\"\"},\"baxis\":{\"gridcolor\":\"white\",\"linecolor\":\"white\",\"ticks\":\"\"},\"caxis\":{\"gridcolor\":\"white\",\"linecolor\":\"white\",\"ticks\":\"\"}},\"coloraxis\":{\"colorbar\":{\"outlinewidth\":0,\"ticks\":\"\"}},\"colorscale\":{\"sequential\":[[0.0,\"#0d0887\"],[0.1111111111111111,\"#46039f\"],[0.2222222222222222,\"#7201a8\"],[0.3333333333333333,\"#9c179e\"],[0.4444444444444444,\"#bd3786\"],[0.5555555555555556,\"#d8576b\"],[0.6666666666666666,\"#ed7953\"],[0.7777777777777778,\"#fb9f3a\"],[0.8888888888888888,\"#fdca26\"],[1.0,\"#f0f921\"]],\"sequentialminus\":[[0.0,\"#0d0887\"],[0.1111111111111111,\"#46039f\"],[0.2222222222222222,\"#7201a8\"],[0.3333333333333333,\"#9c179e\"],[0.4444444444444444,\"#bd3786\"],[0.5555555555555556,\"#d8576b\"],[0.6666666666666666,\"#ed7953\"],[0.7777777777777778,\"#fb9f3a\"],[0.8888888888888888,\"#fdca26\"],[1.0,\"#f0f921\"]],\"diverging\":[[0,\"#8e0152\"],[0.1,\"#c51b7d\"],[0.2,\"#de77ae\"],[0.3,\"#f1b6da\"],[0.4,\"#fde0ef\"],[0.5,\"#f7f7f7\"],[0.6,\"#e6f5d0\"],[0.7,\"#b8e186\"],[0.8,\"#7fbc41\"],[0.9,\"#4d9221\"],[1,\"#276419\"]]},\"xaxis\":{\"gridcolor\":\"white\",\"linecolor\":\"white\",\"ticks\":\"\",\"title\":{\"standoff\":15},\"zerolinecolor\":\"white\",\"automargin\":true,\"zerolinewidth\":2},\"yaxis\":{\"gridcolor\":\"white\",\"linecolor\":\"white\",\"ticks\":\"\",\"title\":{\"standoff\":15},\"zerolinecolor\":\"white\",\"automargin\":true,\"zerolinewidth\":2},\"scene\":{\"xaxis\":{\"backgroundcolor\":\"#E5ECF6\",\"gridcolor\":\"white\",\"linecolor\":\"white\",\"showbackground\":true,\"ticks\":\"\",\"zerolinecolor\":\"white\",\"gridwidth\":2},\"yaxis\":{\"backgroundcolor\":\"#E5ECF6\",\"gridcolor\":\"white\",\"linecolor\":\"white\",\"showbackground\":true,\"ticks\":\"\",\"zerolinecolor\":\"white\",\"gridwidth\":2},\"zaxis\":{\"backgroundcolor\":\"#E5ECF6\",\"gridcolor\":\"white\",\"linecolor\":\"white\",\"showbackground\":true,\"ticks\":\"\",\"zerolinecolor\":\"white\",\"gridwidth\":2}},\"shapedefaults\":{\"line\":{\"color\":\"#2a3f5f\"}},\"annotationdefaults\":{\"arrowcolor\":\"#2a3f5f\",\"arrowhead\":0,\"arrowwidth\":1},\"geo\":{\"bgcolor\":\"white\",\"landcolor\":\"#E5ECF6\",\"subunitcolor\":\"white\",\"showland\":true,\"showlakes\":true,\"lakecolor\":\"white\"},\"title\":{\"x\":0.05},\"mapbox\":{\"style\":\"light\"}}},\"title\":{\"text\":\"With a focus on People Development\"}},                        {\"responsive\": true}                    ).then(function(){\n",
       "                            \n",
       "var gd = document.getElementById('6dea4d07-5d3d-465b-8cf3-804573807218');\n",
       "var x = new MutationObserver(function (mutations, observer) {{\n",
       "        var display = window.getComputedStyle(gd).display;\n",
       "        if (!display || display === 'none') {{\n",
       "            console.log([gd, 'removed!']);\n",
       "            Plotly.purge(gd);\n",
       "            observer.disconnect();\n",
       "        }}\n",
       "}});\n",
       "\n",
       "// Listen for the removal of the full notebook cells\n",
       "var notebookContainer = gd.closest('#notebook-container');\n",
       "if (notebookContainer) {{\n",
       "    x.observe(notebookContainer, {childList: true});\n",
       "}}\n",
       "\n",
       "// Listen for the clearing of the current output cell\n",
       "var outputEl = gd.closest('.output');\n",
       "if (outputEl) {{\n",
       "    x.observe(outputEl, {childList: true});\n",
       "}}\n",
       "\n",
       "                        })                };            </script>        </div>"
      ]
     },
     "metadata": {},
     "output_type": "display_data"
    }
   ],
   "source": [
    "plots = [go.Scatter(x=top50['RIC'], y=top50['DIR People Development Score'], mode='markers', name='Top 50'), \n",
    "         go.Scatter(x=bot50['RIC'], y=bot50['DIR People Development Score'], mode='markers', name='Bottom 50')]\n",
    "fig = go.Figure(data=plots)\n",
    "fig.update_layout(title='With a focus on People Development')\n",
    "fig.show()"
   ]
  },
  {
   "cell_type": "code",
   "execution_count": null,
   "metadata": {
    "collapsed": true
   },
   "outputs": [],
   "source": []
  }
 ],
 "metadata": {
  "kernelspec": {
   "display_name": "rdlib",
   "language": "python",
   "name": "python3"
  },
  "language_info": {
   "codemirror_mode": {
    "name": "ipython",
    "version": 3
   },
   "file_extension": ".py",
   "mimetype": "text/x-python",
   "name": "python",
   "nbconvert_exporter": "python",
   "pygments_lexer": "ipython3",
   "version": "3.9.6"
  }
 },
 "nbformat": 4,
 "nbformat_minor": 2
}
